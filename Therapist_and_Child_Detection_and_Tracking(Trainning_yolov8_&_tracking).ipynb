{
  "nbformat": 4,
  "nbformat_minor": 0,
  "metadata": {
    "colab": {
      "provenance": [],
      "gpuType": "T4",
      "include_colab_link": true
    },
    "kernelspec": {
      "name": "python3",
      "display_name": "Python 3"
    },
    "language_info": {
      "name": "python"
    },
    "accelerator": "GPU"
  },
  "cells": [
    {
      "cell_type": "markdown",
      "metadata": {
        "id": "view-in-github",
        "colab_type": "text"
      },
      "source": [
        "<a href=\"https://colab.research.google.com/github/kripanshsharma/Therapist-and-Child-Detection-and-Tracking/blob/main/Therapist_and_Child_Detection_and_Tracking(Trainning_yolov8_%26_tracking).ipynb\" target=\"_parent\"><img src=\"https://colab.research.google.com/assets/colab-badge.svg\" alt=\"Open In Colab\"/></a>"
      ]
    },
    {
      "cell_type": "code",
      "source": [
        "!pip install ultralytics\n",
        "!pip install roboflow\n",
        "!pip install deep-sort-realtime\n",
        "!pip install opencv-python-headless"
      ],
      "metadata": {
        "colab": {
          "base_uri": "https://localhost:8080/"
        },
        "id": "ATl_MzRVlD2r",
        "outputId": "368bee88-1614-4d37-a8de-ceb2ca3b8def"
      },
      "execution_count": 1,
      "outputs": [
        {
          "output_type": "stream",
          "name": "stdout",
          "text": [
            "Collecting ultralytics\n",
            "  Downloading ultralytics-8.2.85-py3-none-any.whl.metadata (41 kB)\n",
            "\u001b[?25l     \u001b[90m━━━━━━━━━━━━━━━━━━━━━━━━━━━━━━━━━━━━━━━━\u001b[0m \u001b[32m0.0/41.8 kB\u001b[0m \u001b[31m?\u001b[0m eta \u001b[36m-:--:--\u001b[0m\r\u001b[2K     \u001b[90m━━━━━━━━━━━━━━━━━━━━━━━━━━━━━━━━━━━━━━━━\u001b[0m \u001b[32m41.8/41.8 kB\u001b[0m \u001b[31m2.2 MB/s\u001b[0m eta \u001b[36m0:00:00\u001b[0m\n",
            "\u001b[?25hRequirement already satisfied: numpy<2.0.0,>=1.23.0 in /usr/local/lib/python3.10/dist-packages (from ultralytics) (1.26.4)\n",
            "Requirement already satisfied: matplotlib>=3.3.0 in /usr/local/lib/python3.10/dist-packages (from ultralytics) (3.7.1)\n",
            "Requirement already satisfied: opencv-python>=4.6.0 in /usr/local/lib/python3.10/dist-packages (from ultralytics) (4.10.0.84)\n",
            "Requirement already satisfied: pillow>=7.1.2 in /usr/local/lib/python3.10/dist-packages (from ultralytics) (9.4.0)\n",
            "Requirement already satisfied: pyyaml>=5.3.1 in /usr/local/lib/python3.10/dist-packages (from ultralytics) (6.0.2)\n",
            "Requirement already satisfied: requests>=2.23.0 in /usr/local/lib/python3.10/dist-packages (from ultralytics) (2.32.3)\n",
            "Requirement already satisfied: scipy>=1.4.1 in /usr/local/lib/python3.10/dist-packages (from ultralytics) (1.13.1)\n",
            "Requirement already satisfied: torch>=1.8.0 in /usr/local/lib/python3.10/dist-packages (from ultralytics) (2.4.0+cu121)\n",
            "Requirement already satisfied: torchvision>=0.9.0 in /usr/local/lib/python3.10/dist-packages (from ultralytics) (0.19.0+cu121)\n",
            "Requirement already satisfied: tqdm>=4.64.0 in /usr/local/lib/python3.10/dist-packages (from ultralytics) (4.66.5)\n",
            "Requirement already satisfied: psutil in /usr/local/lib/python3.10/dist-packages (from ultralytics) (5.9.5)\n",
            "Requirement already satisfied: py-cpuinfo in /usr/local/lib/python3.10/dist-packages (from ultralytics) (9.0.0)\n",
            "Requirement already satisfied: pandas>=1.1.4 in /usr/local/lib/python3.10/dist-packages (from ultralytics) (2.1.4)\n",
            "Requirement already satisfied: seaborn>=0.11.0 in /usr/local/lib/python3.10/dist-packages (from ultralytics) (0.13.1)\n",
            "Collecting ultralytics-thop>=2.0.0 (from ultralytics)\n",
            "  Downloading ultralytics_thop-2.0.6-py3-none-any.whl.metadata (9.1 kB)\n",
            "Requirement already satisfied: contourpy>=1.0.1 in /usr/local/lib/python3.10/dist-packages (from matplotlib>=3.3.0->ultralytics) (1.2.1)\n",
            "Requirement already satisfied: cycler>=0.10 in /usr/local/lib/python3.10/dist-packages (from matplotlib>=3.3.0->ultralytics) (0.12.1)\n",
            "Requirement already satisfied: fonttools>=4.22.0 in /usr/local/lib/python3.10/dist-packages (from matplotlib>=3.3.0->ultralytics) (4.53.1)\n",
            "Requirement already satisfied: kiwisolver>=1.0.1 in /usr/local/lib/python3.10/dist-packages (from matplotlib>=3.3.0->ultralytics) (1.4.5)\n",
            "Requirement already satisfied: packaging>=20.0 in /usr/local/lib/python3.10/dist-packages (from matplotlib>=3.3.0->ultralytics) (24.1)\n",
            "Requirement already satisfied: pyparsing>=2.3.1 in /usr/local/lib/python3.10/dist-packages (from matplotlib>=3.3.0->ultralytics) (3.1.4)\n",
            "Requirement already satisfied: python-dateutil>=2.7 in /usr/local/lib/python3.10/dist-packages (from matplotlib>=3.3.0->ultralytics) (2.8.2)\n",
            "Requirement already satisfied: pytz>=2020.1 in /usr/local/lib/python3.10/dist-packages (from pandas>=1.1.4->ultralytics) (2024.1)\n",
            "Requirement already satisfied: tzdata>=2022.1 in /usr/local/lib/python3.10/dist-packages (from pandas>=1.1.4->ultralytics) (2024.1)\n",
            "Requirement already satisfied: charset-normalizer<4,>=2 in /usr/local/lib/python3.10/dist-packages (from requests>=2.23.0->ultralytics) (3.3.2)\n",
            "Requirement already satisfied: idna<4,>=2.5 in /usr/local/lib/python3.10/dist-packages (from requests>=2.23.0->ultralytics) (3.8)\n",
            "Requirement already satisfied: urllib3<3,>=1.21.1 in /usr/local/lib/python3.10/dist-packages (from requests>=2.23.0->ultralytics) (2.0.7)\n",
            "Requirement already satisfied: certifi>=2017.4.17 in /usr/local/lib/python3.10/dist-packages (from requests>=2.23.0->ultralytics) (2024.7.4)\n",
            "Requirement already satisfied: filelock in /usr/local/lib/python3.10/dist-packages (from torch>=1.8.0->ultralytics) (3.15.4)\n",
            "Requirement already satisfied: typing-extensions>=4.8.0 in /usr/local/lib/python3.10/dist-packages (from torch>=1.8.0->ultralytics) (4.12.2)\n",
            "Requirement already satisfied: sympy in /usr/local/lib/python3.10/dist-packages (from torch>=1.8.0->ultralytics) (1.13.2)\n",
            "Requirement already satisfied: networkx in /usr/local/lib/python3.10/dist-packages (from torch>=1.8.0->ultralytics) (3.3)\n",
            "Requirement already satisfied: jinja2 in /usr/local/lib/python3.10/dist-packages (from torch>=1.8.0->ultralytics) (3.1.4)\n",
            "Requirement already satisfied: fsspec in /usr/local/lib/python3.10/dist-packages (from torch>=1.8.0->ultralytics) (2024.6.1)\n",
            "Requirement already satisfied: six>=1.5 in /usr/local/lib/python3.10/dist-packages (from python-dateutil>=2.7->matplotlib>=3.3.0->ultralytics) (1.16.0)\n",
            "Requirement already satisfied: MarkupSafe>=2.0 in /usr/local/lib/python3.10/dist-packages (from jinja2->torch>=1.8.0->ultralytics) (2.1.5)\n",
            "Requirement already satisfied: mpmath<1.4,>=1.1.0 in /usr/local/lib/python3.10/dist-packages (from sympy->torch>=1.8.0->ultralytics) (1.3.0)\n",
            "Downloading ultralytics-8.2.85-py3-none-any.whl (872 kB)\n",
            "\u001b[2K   \u001b[90m━━━━━━━━━━━━━━━━━━━━━━━━━━━━━━━━━━━━━━━━\u001b[0m \u001b[32m872.3/872.3 kB\u001b[0m \u001b[31m23.6 MB/s\u001b[0m eta \u001b[36m0:00:00\u001b[0m\n",
            "\u001b[?25hDownloading ultralytics_thop-2.0.6-py3-none-any.whl (26 kB)\n",
            "Installing collected packages: ultralytics-thop, ultralytics\n",
            "Successfully installed ultralytics-8.2.85 ultralytics-thop-2.0.6\n",
            "Collecting roboflow\n",
            "  Downloading roboflow-1.1.44-py3-none-any.whl.metadata (9.7 kB)\n",
            "Requirement already satisfied: certifi in /usr/local/lib/python3.10/dist-packages (from roboflow) (2024.7.4)\n",
            "Collecting idna==3.7 (from roboflow)\n",
            "  Downloading idna-3.7-py3-none-any.whl.metadata (9.9 kB)\n",
            "Requirement already satisfied: cycler in /usr/local/lib/python3.10/dist-packages (from roboflow) (0.12.1)\n",
            "Requirement already satisfied: kiwisolver>=1.3.1 in /usr/local/lib/python3.10/dist-packages (from roboflow) (1.4.5)\n",
            "Requirement already satisfied: matplotlib in /usr/local/lib/python3.10/dist-packages (from roboflow) (3.7.1)\n",
            "Requirement already satisfied: numpy>=1.18.5 in /usr/local/lib/python3.10/dist-packages (from roboflow) (1.26.4)\n",
            "Requirement already satisfied: opencv-python-headless==4.10.0.84 in /usr/local/lib/python3.10/dist-packages (from roboflow) (4.10.0.84)\n",
            "Requirement already satisfied: Pillow>=7.1.2 in /usr/local/lib/python3.10/dist-packages (from roboflow) (9.4.0)\n",
            "Requirement already satisfied: python-dateutil in /usr/local/lib/python3.10/dist-packages (from roboflow) (2.8.2)\n",
            "Collecting python-dotenv (from roboflow)\n",
            "  Downloading python_dotenv-1.0.1-py3-none-any.whl.metadata (23 kB)\n",
            "Requirement already satisfied: requests in /usr/local/lib/python3.10/dist-packages (from roboflow) (2.32.3)\n",
            "Requirement already satisfied: six in /usr/local/lib/python3.10/dist-packages (from roboflow) (1.16.0)\n",
            "Requirement already satisfied: urllib3>=1.26.6 in /usr/local/lib/python3.10/dist-packages (from roboflow) (2.0.7)\n",
            "Requirement already satisfied: tqdm>=4.41.0 in /usr/local/lib/python3.10/dist-packages (from roboflow) (4.66.5)\n",
            "Requirement already satisfied: PyYAML>=5.3.1 in /usr/local/lib/python3.10/dist-packages (from roboflow) (6.0.2)\n",
            "Collecting requests-toolbelt (from roboflow)\n",
            "  Downloading requests_toolbelt-1.0.0-py2.py3-none-any.whl.metadata (14 kB)\n",
            "Collecting filetype (from roboflow)\n",
            "  Downloading filetype-1.2.0-py2.py3-none-any.whl.metadata (6.5 kB)\n",
            "Requirement already satisfied: contourpy>=1.0.1 in /usr/local/lib/python3.10/dist-packages (from matplotlib->roboflow) (1.2.1)\n",
            "Requirement already satisfied: fonttools>=4.22.0 in /usr/local/lib/python3.10/dist-packages (from matplotlib->roboflow) (4.53.1)\n",
            "Requirement already satisfied: packaging>=20.0 in /usr/local/lib/python3.10/dist-packages (from matplotlib->roboflow) (24.1)\n",
            "Requirement already satisfied: pyparsing>=2.3.1 in /usr/local/lib/python3.10/dist-packages (from matplotlib->roboflow) (3.1.4)\n",
            "Requirement already satisfied: charset-normalizer<4,>=2 in /usr/local/lib/python3.10/dist-packages (from requests->roboflow) (3.3.2)\n",
            "Downloading roboflow-1.1.44-py3-none-any.whl (79 kB)\n",
            "\u001b[2K   \u001b[90m━━━━━━━━━━━━━━━━━━━━━━━━━━━━━━━━━━━━━━━━\u001b[0m \u001b[32m79.9/79.9 kB\u001b[0m \u001b[31m4.8 MB/s\u001b[0m eta \u001b[36m0:00:00\u001b[0m\n",
            "\u001b[?25hDownloading idna-3.7-py3-none-any.whl (66 kB)\n",
            "\u001b[2K   \u001b[90m━━━━━━━━━━━━━━━━━━━━━━━━━━━━━━━━━━━━━━━━\u001b[0m \u001b[32m66.8/66.8 kB\u001b[0m \u001b[31m6.5 MB/s\u001b[0m eta \u001b[36m0:00:00\u001b[0m\n",
            "\u001b[?25hDownloading filetype-1.2.0-py2.py3-none-any.whl (19 kB)\n",
            "Downloading python_dotenv-1.0.1-py3-none-any.whl (19 kB)\n",
            "Downloading requests_toolbelt-1.0.0-py2.py3-none-any.whl (54 kB)\n",
            "\u001b[2K   \u001b[90m━━━━━━━━━━━━━━━━━━━━━━━━━━━━━━━━━━━━━━━━\u001b[0m \u001b[32m54.5/54.5 kB\u001b[0m \u001b[31m5.8 MB/s\u001b[0m eta \u001b[36m0:00:00\u001b[0m\n",
            "\u001b[?25hInstalling collected packages: filetype, python-dotenv, idna, requests-toolbelt, roboflow\n",
            "  Attempting uninstall: idna\n",
            "    Found existing installation: idna 3.8\n",
            "    Uninstalling idna-3.8:\n",
            "      Successfully uninstalled idna-3.8\n",
            "Successfully installed filetype-1.2.0 idna-3.7 python-dotenv-1.0.1 requests-toolbelt-1.0.0 roboflow-1.1.44\n",
            "Collecting deep-sort-realtime\n",
            "  Downloading deep_sort_realtime-1.3.2-py3-none-any.whl.metadata (12 kB)\n",
            "Requirement already satisfied: numpy in /usr/local/lib/python3.10/dist-packages (from deep-sort-realtime) (1.26.4)\n",
            "Requirement already satisfied: scipy in /usr/local/lib/python3.10/dist-packages (from deep-sort-realtime) (1.13.1)\n",
            "Requirement already satisfied: opencv-python in /usr/local/lib/python3.10/dist-packages (from deep-sort-realtime) (4.10.0.84)\n",
            "Downloading deep_sort_realtime-1.3.2-py3-none-any.whl (8.4 MB)\n",
            "\u001b[2K   \u001b[90m━━━━━━━━━━━━━━━━━━━━━━━━━━━━━━━━━━━━━━━━\u001b[0m \u001b[32m8.4/8.4 MB\u001b[0m \u001b[31m75.2 MB/s\u001b[0m eta \u001b[36m0:00:00\u001b[0m\n",
            "\u001b[?25hInstalling collected packages: deep-sort-realtime\n",
            "Successfully installed deep-sort-realtime-1.3.2\n",
            "Requirement already satisfied: opencv-python-headless in /usr/local/lib/python3.10/dist-packages (4.10.0.84)\n",
            "Requirement already satisfied: numpy>=1.21.2 in /usr/local/lib/python3.10/dist-packages (from opencv-python-headless) (1.26.4)\n"
          ]
        }
      ]
    },
    {
      "cell_type": "code",
      "source": [
        "\n",
        "from roboflow import Roboflow\n",
        "rf = Roboflow(api_key=\"VEGI5dEYSe105cR8tUZ7\")\n",
        "project = rf.workspace(\"rizulv\").project(\"face_detection-vzryy\")\n",
        "version = project.version(4)\n",
        "dataset = version.download(\"yolov8\")\n"
      ],
      "metadata": {
        "colab": {
          "base_uri": "https://localhost:8080/"
        },
        "id": "1POleAuqh8uJ",
        "outputId": "e77490b9-20ef-4440-9f49-a9061641a486"
      },
      "execution_count": 2,
      "outputs": [
        {
          "output_type": "stream",
          "name": "stdout",
          "text": [
            "loading Roboflow workspace...\n",
            "loading Roboflow project...\n",
            "Dependency ultralytics==8.0.196 is required but found version=8.2.85, to fix: `pip install ultralytics==8.0.196`\n"
          ]
        },
        {
          "output_type": "stream",
          "name": "stderr",
          "text": [
            "Downloading Dataset Version Zip in Face_Detection-4 to yolov8:: 100%|██████████| 50983/50983 [00:01<00:00, 43756.97it/s]"
          ]
        },
        {
          "output_type": "stream",
          "name": "stdout",
          "text": [
            "\n"
          ]
        },
        {
          "output_type": "stream",
          "name": "stderr",
          "text": [
            "\n",
            "Extracting Dataset Version Zip to Face_Detection-4 in yolov8:: 100%|██████████| 3722/3722 [00:00<00:00, 6137.78it/s]\n"
          ]
        }
      ]
    },
    {
      "cell_type": "code",
      "source": [
        "from ultralytics import YOLO\n",
        "\n",
        "# Load a pre-trained YOLOv8 model\n",
        "model = YOLO('yolov8n.pt')  # Using YOLOv8n for faster training; you can choose other versions as needed\n"
      ],
      "metadata": {
        "id": "q8FDdQOqs77t",
        "colab": {
          "base_uri": "https://localhost:8080/"
        },
        "outputId": "1caa522d-22cb-4e5e-f921-9f391612d3c8"
      },
      "execution_count": 4,
      "outputs": [
        {
          "output_type": "stream",
          "name": "stdout",
          "text": [
            "Downloading https://github.com/ultralytics/assets/releases/download/v8.2.0/yolov8n.pt to 'yolov8n.pt'...\n"
          ]
        },
        {
          "output_type": "stream",
          "name": "stderr",
          "text": [
            "100%|██████████| 6.25M/6.25M [00:00<00:00, 122MB/s]\n"
          ]
        }
      ]
    },
    {
      "cell_type": "code",
      "source": [
        "# Train the model\n",
        "model.train(data=f'/content/Face_Detection-4/data.yaml', epochs=100, imgsz=640, batch=16, name='yolov8_face_detection')\n"
      ],
      "metadata": {
        "colab": {
          "base_uri": "https://localhost:8080/"
        },
        "id": "l4qk27JulWAU",
        "outputId": "2358d305-ae4e-4b94-b4de-6886ab1256c5"
      },
      "execution_count": 6,
      "outputs": [
        {
          "output_type": "stream",
          "name": "stdout",
          "text": [
            "Ultralytics YOLOv8.2.85 🚀 Python-3.10.12 torch-2.4.0+cu121 CUDA:0 (Tesla T4, 15102MiB)\n",
            "\u001b[34m\u001b[1mengine/trainer: \u001b[0mtask=detect, mode=train, model=yolov8n.pt, data=/content/Face_Detection-4/data.yaml, epochs=100, time=None, patience=100, batch=16, imgsz=640, save=True, save_period=-1, cache=False, device=None, workers=8, project=None, name=yolov8_face_detection2, exist_ok=False, pretrained=True, optimizer=auto, verbose=True, seed=0, deterministic=True, single_cls=False, rect=False, cos_lr=False, close_mosaic=10, resume=False, amp=True, fraction=1.0, profile=False, freeze=None, multi_scale=False, overlap_mask=True, mask_ratio=4, dropout=0.0, val=True, split=val, save_json=False, save_hybrid=False, conf=None, iou=0.7, max_det=300, half=False, dnn=False, plots=True, source=None, vid_stride=1, stream_buffer=False, visualize=False, augment=False, agnostic_nms=False, classes=None, retina_masks=False, embed=None, show=False, save_frames=False, save_txt=False, save_conf=False, save_crop=False, show_labels=True, show_conf=True, show_boxes=True, line_width=None, format=torchscript, keras=False, optimize=False, int8=False, dynamic=False, simplify=False, opset=None, workspace=4, nms=False, lr0=0.01, lrf=0.01, momentum=0.937, weight_decay=0.0005, warmup_epochs=3.0, warmup_momentum=0.8, warmup_bias_lr=0.1, box=7.5, cls=0.5, dfl=1.5, pose=12.0, kobj=1.0, label_smoothing=0.0, nbs=64, hsv_h=0.015, hsv_s=0.7, hsv_v=0.4, degrees=0.0, translate=0.1, scale=0.5, shear=0.0, perspective=0.0, flipud=0.0, fliplr=0.5, bgr=0.0, mosaic=1.0, mixup=0.0, copy_paste=0.0, auto_augment=randaugment, erasing=0.4, crop_fraction=1.0, cfg=None, tracker=botsort.yaml, save_dir=runs/detect/yolov8_face_detection2\n",
            "Downloading https://ultralytics.com/assets/Arial.ttf to '/root/.config/Ultralytics/Arial.ttf'...\n"
          ]
        },
        {
          "output_type": "stream",
          "name": "stderr",
          "text": [
            "100%|██████████| 755k/755k [00:00<00:00, 18.5MB/s]\n"
          ]
        },
        {
          "output_type": "stream",
          "name": "stdout",
          "text": [
            "Overriding model.yaml nc=80 with nc=2\n",
            "\n",
            "                   from  n    params  module                                       arguments                     \n",
            "  0                  -1  1       464  ultralytics.nn.modules.conv.Conv             [3, 16, 3, 2]                 \n",
            "  1                  -1  1      4672  ultralytics.nn.modules.conv.Conv             [16, 32, 3, 2]                \n",
            "  2                  -1  1      7360  ultralytics.nn.modules.block.C2f             [32, 32, 1, True]             \n",
            "  3                  -1  1     18560  ultralytics.nn.modules.conv.Conv             [32, 64, 3, 2]                \n",
            "  4                  -1  2     49664  ultralytics.nn.modules.block.C2f             [64, 64, 2, True]             \n",
            "  5                  -1  1     73984  ultralytics.nn.modules.conv.Conv             [64, 128, 3, 2]               \n",
            "  6                  -1  2    197632  ultralytics.nn.modules.block.C2f             [128, 128, 2, True]           \n",
            "  7                  -1  1    295424  ultralytics.nn.modules.conv.Conv             [128, 256, 3, 2]              \n",
            "  8                  -1  1    460288  ultralytics.nn.modules.block.C2f             [256, 256, 1, True]           \n",
            "  9                  -1  1    164608  ultralytics.nn.modules.block.SPPF            [256, 256, 5]                 \n",
            " 10                  -1  1         0  torch.nn.modules.upsampling.Upsample         [None, 2, 'nearest']          \n",
            " 11             [-1, 6]  1         0  ultralytics.nn.modules.conv.Concat           [1]                           \n",
            " 12                  -1  1    148224  ultralytics.nn.modules.block.C2f             [384, 128, 1]                 \n",
            " 13                  -1  1         0  torch.nn.modules.upsampling.Upsample         [None, 2, 'nearest']          \n",
            " 14             [-1, 4]  1         0  ultralytics.nn.modules.conv.Concat           [1]                           \n",
            " 15                  -1  1     37248  ultralytics.nn.modules.block.C2f             [192, 64, 1]                  \n",
            " 16                  -1  1     36992  ultralytics.nn.modules.conv.Conv             [64, 64, 3, 2]                \n",
            " 17            [-1, 12]  1         0  ultralytics.nn.modules.conv.Concat           [1]                           \n",
            " 18                  -1  1    123648  ultralytics.nn.modules.block.C2f             [192, 128, 1]                 \n",
            " 19                  -1  1    147712  ultralytics.nn.modules.conv.Conv             [128, 128, 3, 2]              \n",
            " 20             [-1, 9]  1         0  ultralytics.nn.modules.conv.Concat           [1]                           \n",
            " 21                  -1  1    493056  ultralytics.nn.modules.block.C2f             [384, 256, 1]                 \n",
            " 22        [15, 18, 21]  1    751702  ultralytics.nn.modules.head.Detect           [2, [64, 128, 256]]           \n",
            "Model summary: 225 layers, 3,011,238 parameters, 3,011,222 gradients, 8.2 GFLOPs\n",
            "\n",
            "Transferred 319/355 items from pretrained weights\n",
            "\u001b[34m\u001b[1mTensorBoard: \u001b[0mStart with 'tensorboard --logdir runs/detect/yolov8_face_detection2', view at http://localhost:6006/\n",
            "Freezing layer 'model.22.dfl.conv.weight'\n",
            "\u001b[34m\u001b[1mAMP: \u001b[0mrunning Automatic Mixed Precision (AMP) checks with YOLOv8n...\n",
            "\u001b[34m\u001b[1mAMP: \u001b[0mchecks passed ✅\n"
          ]
        },
        {
          "output_type": "stream",
          "name": "stderr",
          "text": [
            "`torch.cuda.amp.GradScaler(args...)` is deprecated. Please use `torch.amp.GradScaler('cuda', args...)` instead.\n",
            "\u001b[34m\u001b[1mtrain: \u001b[0mScanning /content/Face_Detection-4/train/labels... 1623 images, 123 backgrounds, 0 corrupt: 100%|██████████| 1623/1623 [00:00<00:00, 1999.87it/s]\n"
          ]
        },
        {
          "output_type": "stream",
          "name": "stdout",
          "text": [
            "\u001b[34m\u001b[1mtrain: \u001b[0mNew cache created: /content/Face_Detection-4/train/labels.cache\n",
            "\u001b[34m\u001b[1malbumentations: \u001b[0mBlur(p=0.01, blur_limit=(3, 7)), MedianBlur(p=0.01, blur_limit=(3, 7)), ToGray(p=0.01), CLAHE(p=0.01, clip_limit=(1, 4.0), tile_grid_size=(8, 8))\n"
          ]
        },
        {
          "output_type": "stream",
          "name": "stderr",
          "text": [
            "os.fork() was called. os.fork() is incompatible with multithreaded code, and JAX is multithreaded, so this will likely lead to a deadlock.\n",
            "\u001b[34m\u001b[1mval: \u001b[0mScanning /content/Face_Detection-4/valid/labels... 154 images, 13 backgrounds, 0 corrupt: 100%|██████████| 154/154 [00:00<00:00, 1026.95it/s]"
          ]
        },
        {
          "output_type": "stream",
          "name": "stdout",
          "text": [
            "\u001b[34m\u001b[1mval: \u001b[0mNew cache created: /content/Face_Detection-4/valid/labels.cache\n"
          ]
        },
        {
          "output_type": "stream",
          "name": "stderr",
          "text": [
            "\n"
          ]
        },
        {
          "output_type": "stream",
          "name": "stdout",
          "text": [
            "Plotting labels to runs/detect/yolov8_face_detection2/labels.jpg... \n",
            "\u001b[34m\u001b[1moptimizer:\u001b[0m 'optimizer=auto' found, ignoring 'lr0=0.01' and 'momentum=0.937' and determining best 'optimizer', 'lr0' and 'momentum' automatically... \n",
            "\u001b[34m\u001b[1moptimizer:\u001b[0m AdamW(lr=0.001667, momentum=0.9) with parameter groups 57 weight(decay=0.0), 64 weight(decay=0.0005), 63 bias(decay=0.0)\n",
            "\u001b[34m\u001b[1mTensorBoard: \u001b[0mmodel graph visualization added ✅\n",
            "Image sizes 640 train, 640 val\n",
            "Using 2 dataloader workers\n",
            "Logging results to \u001b[1mruns/detect/yolov8_face_detection2\u001b[0m\n",
            "Starting training for 100 epochs...\n",
            "\n",
            "      Epoch    GPU_mem   box_loss   cls_loss   dfl_loss  Instances       Size\n"
          ]
        },
        {
          "output_type": "stream",
          "name": "stderr",
          "text": [
            "      1/100      2.31G      1.272      1.882      1.388         29        640: 100%|██████████| 102/102 [00:34<00:00,  2.95it/s]\n",
            "                 Class     Images  Instances      Box(P          R      mAP50  mAP50-95): 100%|██████████| 5/5 [00:02<00:00,  2.20it/s]"
          ]
        },
        {
          "output_type": "stream",
          "name": "stdout",
          "text": [
            "                   all        154        257      0.626      0.688      0.769      0.421\n"
          ]
        },
        {
          "output_type": "stream",
          "name": "stderr",
          "text": [
            "\n"
          ]
        },
        {
          "output_type": "stream",
          "name": "stdout",
          "text": [
            "\n",
            "      Epoch    GPU_mem   box_loss   cls_loss   dfl_loss  Instances       Size\n"
          ]
        },
        {
          "output_type": "stream",
          "name": "stderr",
          "text": [
            "      2/100      2.27G      1.333      1.453      1.417         19        640: 100%|██████████| 102/102 [00:30<00:00,  3.37it/s]\n",
            "                 Class     Images  Instances      Box(P          R      mAP50  mAP50-95): 100%|██████████| 5/5 [00:00<00:00,  5.05it/s]"
          ]
        },
        {
          "output_type": "stream",
          "name": "stdout",
          "text": [
            "                   all        154        257      0.779      0.655      0.742       0.34\n"
          ]
        },
        {
          "output_type": "stream",
          "name": "stderr",
          "text": [
            "\n"
          ]
        },
        {
          "output_type": "stream",
          "name": "stdout",
          "text": [
            "\n",
            "      Epoch    GPU_mem   box_loss   cls_loss   dfl_loss  Instances       Size\n"
          ]
        },
        {
          "output_type": "stream",
          "name": "stderr",
          "text": [
            "      3/100      2.25G      1.343      1.371      1.421         25        640: 100%|██████████| 102/102 [00:29<00:00,  3.41it/s]\n",
            "                 Class     Images  Instances      Box(P          R      mAP50  mAP50-95): 100%|██████████| 5/5 [00:01<00:00,  4.52it/s]"
          ]
        },
        {
          "output_type": "stream",
          "name": "stdout",
          "text": [
            "                   all        154        257      0.593      0.668      0.685      0.363\n"
          ]
        },
        {
          "output_type": "stream",
          "name": "stderr",
          "text": [
            "\n"
          ]
        },
        {
          "output_type": "stream",
          "name": "stdout",
          "text": [
            "\n",
            "      Epoch    GPU_mem   box_loss   cls_loss   dfl_loss  Instances       Size\n"
          ]
        },
        {
          "output_type": "stream",
          "name": "stderr",
          "text": [
            "      4/100      2.27G      1.328      1.259      1.404         28        640: 100%|██████████| 102/102 [00:30<00:00,  3.37it/s]\n",
            "                 Class     Images  Instances      Box(P          R      mAP50  mAP50-95): 100%|██████████| 5/5 [00:01<00:00,  4.43it/s]"
          ]
        },
        {
          "output_type": "stream",
          "name": "stdout",
          "text": [
            "                   all        154        257      0.592      0.703      0.665      0.367\n"
          ]
        },
        {
          "output_type": "stream",
          "name": "stderr",
          "text": [
            "\n"
          ]
        },
        {
          "output_type": "stream",
          "name": "stdout",
          "text": [
            "\n",
            "      Epoch    GPU_mem   box_loss   cls_loss   dfl_loss  Instances       Size\n"
          ]
        },
        {
          "output_type": "stream",
          "name": "stderr",
          "text": [
            "      5/100      2.27G      1.315      1.169      1.396         21        640: 100%|██████████| 102/102 [00:36<00:00,  2.82it/s]\n",
            "                 Class     Images  Instances      Box(P          R      mAP50  mAP50-95): 100%|██████████| 5/5 [00:01<00:00,  4.40it/s]"
          ]
        },
        {
          "output_type": "stream",
          "name": "stdout",
          "text": [
            "                   all        154        257       0.69      0.752      0.747      0.403\n"
          ]
        },
        {
          "output_type": "stream",
          "name": "stderr",
          "text": [
            "\n"
          ]
        },
        {
          "output_type": "stream",
          "name": "stdout",
          "text": [
            "\n",
            "      Epoch    GPU_mem   box_loss   cls_loss   dfl_loss  Instances       Size\n"
          ]
        },
        {
          "output_type": "stream",
          "name": "stderr",
          "text": [
            "      6/100      2.24G      1.285      1.108      1.363         22        640: 100%|██████████| 102/102 [00:30<00:00,  3.37it/s]\n",
            "                 Class     Images  Instances      Box(P          R      mAP50  mAP50-95): 100%|██████████| 5/5 [00:01<00:00,  4.61it/s]"
          ]
        },
        {
          "output_type": "stream",
          "name": "stdout",
          "text": [
            "                   all        154        257      0.824      0.781      0.828      0.367\n"
          ]
        },
        {
          "output_type": "stream",
          "name": "stderr",
          "text": [
            "\n"
          ]
        },
        {
          "output_type": "stream",
          "name": "stdout",
          "text": [
            "\n",
            "      Epoch    GPU_mem   box_loss   cls_loss   dfl_loss  Instances       Size\n"
          ]
        },
        {
          "output_type": "stream",
          "name": "stderr",
          "text": [
            "      7/100      2.27G       1.24      1.016      1.336         31        640: 100%|██████████| 102/102 [00:30<00:00,  3.36it/s]\n",
            "                 Class     Images  Instances      Box(P          R      mAP50  mAP50-95): 100%|██████████| 5/5 [00:01<00:00,  4.69it/s]"
          ]
        },
        {
          "output_type": "stream",
          "name": "stdout",
          "text": [
            "                   all        154        257      0.819      0.821      0.875      0.546\n"
          ]
        },
        {
          "output_type": "stream",
          "name": "stderr",
          "text": [
            "\n"
          ]
        },
        {
          "output_type": "stream",
          "name": "stdout",
          "text": [
            "\n",
            "      Epoch    GPU_mem   box_loss   cls_loss   dfl_loss  Instances       Size\n"
          ]
        },
        {
          "output_type": "stream",
          "name": "stderr",
          "text": [
            "      8/100      2.27G      1.249      1.021      1.334         30        640: 100%|██████████| 102/102 [00:30<00:00,  3.34it/s]\n",
            "                 Class     Images  Instances      Box(P          R      mAP50  mAP50-95): 100%|██████████| 5/5 [00:01<00:00,  4.29it/s]"
          ]
        },
        {
          "output_type": "stream",
          "name": "stdout",
          "text": [
            "                   all        154        257      0.788      0.806      0.848      0.543\n"
          ]
        },
        {
          "output_type": "stream",
          "name": "stderr",
          "text": [
            "\n"
          ]
        },
        {
          "output_type": "stream",
          "name": "stdout",
          "text": [
            "\n",
            "      Epoch    GPU_mem   box_loss   cls_loss   dfl_loss  Instances       Size\n"
          ]
        },
        {
          "output_type": "stream",
          "name": "stderr",
          "text": [
            "      9/100      2.24G      1.231     0.9728      1.327         35        640: 100%|██████████| 102/102 [00:30<00:00,  3.37it/s]\n",
            "                 Class     Images  Instances      Box(P          R      mAP50  mAP50-95): 100%|██████████| 5/5 [00:02<00:00,  2.28it/s]\n"
          ]
        },
        {
          "output_type": "stream",
          "name": "stdout",
          "text": [
            "                   all        154        257      0.873      0.841       0.89      0.556\n",
            "\n",
            "      Epoch    GPU_mem   box_loss   cls_loss   dfl_loss  Instances       Size\n"
          ]
        },
        {
          "output_type": "stream",
          "name": "stderr",
          "text": [
            "     10/100      2.24G      1.174     0.9201      1.301         25        640: 100%|██████████| 102/102 [00:28<00:00,  3.59it/s]\n",
            "                 Class     Images  Instances      Box(P          R      mAP50  mAP50-95): 100%|██████████| 5/5 [00:01<00:00,  2.64it/s]"
          ]
        },
        {
          "output_type": "stream",
          "name": "stdout",
          "text": [
            "                   all        154        257      0.776      0.747      0.815      0.501\n"
          ]
        },
        {
          "output_type": "stream",
          "name": "stderr",
          "text": [
            "\n"
          ]
        },
        {
          "output_type": "stream",
          "name": "stdout",
          "text": [
            "\n",
            "      Epoch    GPU_mem   box_loss   cls_loss   dfl_loss  Instances       Size\n"
          ]
        },
        {
          "output_type": "stream",
          "name": "stderr",
          "text": [
            "     11/100      2.24G      1.172      0.899      1.284         20        640: 100%|██████████| 102/102 [00:27<00:00,  3.69it/s]\n",
            "                 Class     Images  Instances      Box(P          R      mAP50  mAP50-95): 100%|██████████| 5/5 [00:01<00:00,  3.63it/s]"
          ]
        },
        {
          "output_type": "stream",
          "name": "stdout",
          "text": [
            "                   all        154        257      0.868      0.825      0.885       0.56\n"
          ]
        },
        {
          "output_type": "stream",
          "name": "stderr",
          "text": [
            "\n"
          ]
        },
        {
          "output_type": "stream",
          "name": "stdout",
          "text": [
            "\n",
            "      Epoch    GPU_mem   box_loss   cls_loss   dfl_loss  Instances       Size\n"
          ]
        },
        {
          "output_type": "stream",
          "name": "stderr",
          "text": [
            "     12/100      2.24G      1.147     0.8774       1.27         26        640: 100%|██████████| 102/102 [00:30<00:00,  3.39it/s]\n",
            "                 Class     Images  Instances      Box(P          R      mAP50  mAP50-95): 100%|██████████| 5/5 [00:01<00:00,  4.13it/s]"
          ]
        },
        {
          "output_type": "stream",
          "name": "stdout",
          "text": [
            "                   all        154        257       0.83       0.84      0.882      0.559\n"
          ]
        },
        {
          "output_type": "stream",
          "name": "stderr",
          "text": [
            "\n"
          ]
        },
        {
          "output_type": "stream",
          "name": "stdout",
          "text": [
            "\n",
            "      Epoch    GPU_mem   box_loss   cls_loss   dfl_loss  Instances       Size\n"
          ]
        },
        {
          "output_type": "stream",
          "name": "stderr",
          "text": [
            "     13/100      2.24G      1.116     0.8391      1.252         35        640: 100%|██████████| 102/102 [00:30<00:00,  3.31it/s]\n",
            "                 Class     Images  Instances      Box(P          R      mAP50  mAP50-95): 100%|██████████| 5/5 [00:01<00:00,  4.69it/s]"
          ]
        },
        {
          "output_type": "stream",
          "name": "stdout",
          "text": [
            "                   all        154        257      0.879       0.87      0.903      0.597\n"
          ]
        },
        {
          "output_type": "stream",
          "name": "stderr",
          "text": [
            "\n"
          ]
        },
        {
          "output_type": "stream",
          "name": "stdout",
          "text": [
            "\n",
            "      Epoch    GPU_mem   box_loss   cls_loss   dfl_loss  Instances       Size\n"
          ]
        },
        {
          "output_type": "stream",
          "name": "stderr",
          "text": [
            "     14/100      2.27G      1.122     0.8352      1.258         28        640: 100%|██████████| 102/102 [00:30<00:00,  3.38it/s]\n",
            "                 Class     Images  Instances      Box(P          R      mAP50  mAP50-95): 100%|██████████| 5/5 [00:01<00:00,  4.80it/s]"
          ]
        },
        {
          "output_type": "stream",
          "name": "stdout",
          "text": [
            "                   all        154        257      0.827      0.848      0.871       0.56\n"
          ]
        },
        {
          "output_type": "stream",
          "name": "stderr",
          "text": [
            "\n"
          ]
        },
        {
          "output_type": "stream",
          "name": "stdout",
          "text": [
            "\n",
            "      Epoch    GPU_mem   box_loss   cls_loss   dfl_loss  Instances       Size\n"
          ]
        },
        {
          "output_type": "stream",
          "name": "stderr",
          "text": [
            "     15/100      2.24G      1.093     0.8282      1.253         23        640: 100%|██████████| 102/102 [00:30<00:00,  3.34it/s]\n",
            "                 Class     Images  Instances      Box(P          R      mAP50  mAP50-95): 100%|██████████| 5/5 [00:01<00:00,  3.81it/s]"
          ]
        },
        {
          "output_type": "stream",
          "name": "stdout",
          "text": [
            "                   all        154        257      0.885       0.88      0.909      0.611\n"
          ]
        },
        {
          "output_type": "stream",
          "name": "stderr",
          "text": [
            "\n"
          ]
        },
        {
          "output_type": "stream",
          "name": "stdout",
          "text": [
            "\n",
            "      Epoch    GPU_mem   box_loss   cls_loss   dfl_loss  Instances       Size\n"
          ]
        },
        {
          "output_type": "stream",
          "name": "stderr",
          "text": [
            "     16/100      2.24G      1.096     0.8071      1.241         24        640: 100%|██████████| 102/102 [00:28<00:00,  3.55it/s]\n",
            "                 Class     Images  Instances      Box(P          R      mAP50  mAP50-95): 100%|██████████| 5/5 [00:02<00:00,  2.38it/s]\n"
          ]
        },
        {
          "output_type": "stream",
          "name": "stdout",
          "text": [
            "                   all        154        257      0.871      0.886      0.895      0.603\n",
            "\n",
            "      Epoch    GPU_mem   box_loss   cls_loss   dfl_loss  Instances       Size\n"
          ]
        },
        {
          "output_type": "stream",
          "name": "stderr",
          "text": [
            "     17/100      2.27G      1.068     0.7776       1.23         35        640: 100%|██████████| 102/102 [00:27<00:00,  3.73it/s]\n",
            "                 Class     Images  Instances      Box(P          R      mAP50  mAP50-95): 100%|██████████| 5/5 [00:01<00:00,  3.30it/s]"
          ]
        },
        {
          "output_type": "stream",
          "name": "stdout",
          "text": [
            "                   all        154        257      0.879      0.888      0.905      0.602\n"
          ]
        },
        {
          "output_type": "stream",
          "name": "stderr",
          "text": [
            "\n"
          ]
        },
        {
          "output_type": "stream",
          "name": "stdout",
          "text": [
            "\n",
            "      Epoch    GPU_mem   box_loss   cls_loss   dfl_loss  Instances       Size\n"
          ]
        },
        {
          "output_type": "stream",
          "name": "stderr",
          "text": [
            "     18/100      2.24G      1.081     0.7598      1.237         33        640: 100%|██████████| 102/102 [00:30<00:00,  3.37it/s]\n",
            "                 Class     Images  Instances      Box(P          R      mAP50  mAP50-95): 100%|██████████| 5/5 [00:01<00:00,  4.65it/s]"
          ]
        },
        {
          "output_type": "stream",
          "name": "stdout",
          "text": [
            "                   all        154        257      0.853      0.819      0.876      0.585\n"
          ]
        },
        {
          "output_type": "stream",
          "name": "stderr",
          "text": [
            "\n"
          ]
        },
        {
          "output_type": "stream",
          "name": "stdout",
          "text": [
            "\n",
            "      Epoch    GPU_mem   box_loss   cls_loss   dfl_loss  Instances       Size\n"
          ]
        },
        {
          "output_type": "stream",
          "name": "stderr",
          "text": [
            "     19/100      2.24G      1.045     0.7398      1.221         24        640: 100%|██████████| 102/102 [00:30<00:00,  3.39it/s]\n",
            "                 Class     Images  Instances      Box(P          R      mAP50  mAP50-95): 100%|██████████| 5/5 [00:01<00:00,  4.09it/s]"
          ]
        },
        {
          "output_type": "stream",
          "name": "stdout",
          "text": [
            "                   all        154        257      0.901       0.85      0.901      0.606\n"
          ]
        },
        {
          "output_type": "stream",
          "name": "stderr",
          "text": [
            "\n"
          ]
        },
        {
          "output_type": "stream",
          "name": "stdout",
          "text": [
            "\n",
            "      Epoch    GPU_mem   box_loss   cls_loss   dfl_loss  Instances       Size\n"
          ]
        },
        {
          "output_type": "stream",
          "name": "stderr",
          "text": [
            "     20/100      2.24G       1.04     0.7452      1.215         23        640: 100%|██████████| 102/102 [00:29<00:00,  3.45it/s]\n",
            "                 Class     Images  Instances      Box(P          R      mAP50  mAP50-95): 100%|██████████| 5/5 [00:01<00:00,  4.68it/s]"
          ]
        },
        {
          "output_type": "stream",
          "name": "stdout",
          "text": [
            "                   all        154        257      0.871      0.864      0.893      0.613\n"
          ]
        },
        {
          "output_type": "stream",
          "name": "stderr",
          "text": [
            "\n"
          ]
        },
        {
          "output_type": "stream",
          "name": "stdout",
          "text": [
            "\n",
            "      Epoch    GPU_mem   box_loss   cls_loss   dfl_loss  Instances       Size\n"
          ]
        },
        {
          "output_type": "stream",
          "name": "stderr",
          "text": [
            "     21/100      2.26G      1.003     0.7183      1.192         33        640: 100%|██████████| 102/102 [00:30<00:00,  3.34it/s]\n",
            "                 Class     Images  Instances      Box(P          R      mAP50  mAP50-95): 100%|██████████| 5/5 [00:01<00:00,  4.06it/s]"
          ]
        },
        {
          "output_type": "stream",
          "name": "stdout",
          "text": [
            "                   all        154        257      0.882      0.851      0.885      0.597\n"
          ]
        },
        {
          "output_type": "stream",
          "name": "stderr",
          "text": [
            "\n"
          ]
        },
        {
          "output_type": "stream",
          "name": "stdout",
          "text": [
            "\n",
            "      Epoch    GPU_mem   box_loss   cls_loss   dfl_loss  Instances       Size\n"
          ]
        },
        {
          "output_type": "stream",
          "name": "stderr",
          "text": [
            "     22/100      2.24G      1.022     0.7264      1.201         25        640: 100%|██████████| 102/102 [00:28<00:00,  3.55it/s]\n",
            "                 Class     Images  Instances      Box(P          R      mAP50  mAP50-95): 100%|██████████| 5/5 [00:02<00:00,  2.41it/s]"
          ]
        },
        {
          "output_type": "stream",
          "name": "stdout",
          "text": [
            "                   all        154        257      0.893      0.854      0.922       0.63\n"
          ]
        },
        {
          "output_type": "stream",
          "name": "stderr",
          "text": [
            "\n"
          ]
        },
        {
          "output_type": "stream",
          "name": "stdout",
          "text": [
            "\n",
            "      Epoch    GPU_mem   box_loss   cls_loss   dfl_loss  Instances       Size\n"
          ]
        },
        {
          "output_type": "stream",
          "name": "stderr",
          "text": [
            "     23/100      2.24G      0.981     0.6891      1.177         37        640: 100%|██████████| 102/102 [00:27<00:00,  3.72it/s]\n",
            "                 Class     Images  Instances      Box(P          R      mAP50  mAP50-95): 100%|██████████| 5/5 [00:01<00:00,  2.84it/s]"
          ]
        },
        {
          "output_type": "stream",
          "name": "stdout",
          "text": [
            "                   all        154        257      0.865      0.856        0.9      0.629\n"
          ]
        },
        {
          "output_type": "stream",
          "name": "stderr",
          "text": [
            "\n"
          ]
        },
        {
          "output_type": "stream",
          "name": "stdout",
          "text": [
            "\n",
            "      Epoch    GPU_mem   box_loss   cls_loss   dfl_loss  Instances       Size\n"
          ]
        },
        {
          "output_type": "stream",
          "name": "stderr",
          "text": [
            "     24/100      2.26G     0.9994       0.68      1.189         28        640: 100%|██████████| 102/102 [00:28<00:00,  3.52it/s]\n",
            "                 Class     Images  Instances      Box(P          R      mAP50  mAP50-95): 100%|██████████| 5/5 [00:01<00:00,  4.48it/s]"
          ]
        },
        {
          "output_type": "stream",
          "name": "stdout",
          "text": [
            "                   all        154        257      0.886      0.879      0.884      0.583\n"
          ]
        },
        {
          "output_type": "stream",
          "name": "stderr",
          "text": [
            "\n"
          ]
        },
        {
          "output_type": "stream",
          "name": "stdout",
          "text": [
            "\n",
            "      Epoch    GPU_mem   box_loss   cls_loss   dfl_loss  Instances       Size\n"
          ]
        },
        {
          "output_type": "stream",
          "name": "stderr",
          "text": [
            "     25/100      2.24G     0.9746     0.6868      1.185         20        640: 100%|██████████| 102/102 [00:30<00:00,  3.34it/s]\n",
            "                 Class     Images  Instances      Box(P          R      mAP50  mAP50-95): 100%|██████████| 5/5 [00:01<00:00,  4.40it/s]"
          ]
        },
        {
          "output_type": "stream",
          "name": "stdout",
          "text": [
            "                   all        154        257      0.875      0.847      0.894      0.609\n"
          ]
        },
        {
          "output_type": "stream",
          "name": "stderr",
          "text": [
            "\n"
          ]
        },
        {
          "output_type": "stream",
          "name": "stdout",
          "text": [
            "\n",
            "      Epoch    GPU_mem   box_loss   cls_loss   dfl_loss  Instances       Size\n"
          ]
        },
        {
          "output_type": "stream",
          "name": "stderr",
          "text": [
            "     26/100      2.24G     0.9566     0.6463       1.16         22        640: 100%|██████████| 102/102 [00:30<00:00,  3.36it/s]\n",
            "                 Class     Images  Instances      Box(P          R      mAP50  mAP50-95): 100%|██████████| 5/5 [00:00<00:00,  5.03it/s]"
          ]
        },
        {
          "output_type": "stream",
          "name": "stdout",
          "text": [
            "                   all        154        257      0.865       0.87      0.919      0.621\n"
          ]
        },
        {
          "output_type": "stream",
          "name": "stderr",
          "text": [
            "\n"
          ]
        },
        {
          "output_type": "stream",
          "name": "stdout",
          "text": [
            "\n",
            "      Epoch    GPU_mem   box_loss   cls_loss   dfl_loss  Instances       Size\n"
          ]
        },
        {
          "output_type": "stream",
          "name": "stderr",
          "text": [
            "     27/100      2.24G     0.9503     0.6526      1.159         32        640: 100%|██████████| 102/102 [00:31<00:00,  3.28it/s]\n",
            "                 Class     Images  Instances      Box(P          R      mAP50  mAP50-95): 100%|██████████| 5/5 [00:01<00:00,  4.24it/s]"
          ]
        },
        {
          "output_type": "stream",
          "name": "stdout",
          "text": [
            "                   all        154        257      0.888       0.91      0.921      0.627\n"
          ]
        },
        {
          "output_type": "stream",
          "name": "stderr",
          "text": [
            "\n"
          ]
        },
        {
          "output_type": "stream",
          "name": "stdout",
          "text": [
            "\n",
            "      Epoch    GPU_mem   box_loss   cls_loss   dfl_loss  Instances       Size\n"
          ]
        },
        {
          "output_type": "stream",
          "name": "stderr",
          "text": [
            "     28/100      2.27G     0.9371     0.6277      1.153         34        640: 100%|██████████| 102/102 [00:29<00:00,  3.42it/s]\n",
            "                 Class     Images  Instances      Box(P          R      mAP50  mAP50-95): 100%|██████████| 5/5 [00:01<00:00,  3.55it/s]"
          ]
        },
        {
          "output_type": "stream",
          "name": "stdout",
          "text": [
            "                   all        154        257      0.915      0.858      0.903      0.627\n"
          ]
        },
        {
          "output_type": "stream",
          "name": "stderr",
          "text": [
            "\n"
          ]
        },
        {
          "output_type": "stream",
          "name": "stdout",
          "text": [
            "\n",
            "      Epoch    GPU_mem   box_loss   cls_loss   dfl_loss  Instances       Size\n"
          ]
        },
        {
          "output_type": "stream",
          "name": "stderr",
          "text": [
            "     29/100      2.23G     0.9239     0.6276      1.153         30        640: 100%|██████████| 102/102 [00:28<00:00,  3.61it/s]\n",
            "                 Class     Images  Instances      Box(P          R      mAP50  mAP50-95): 100%|██████████| 5/5 [00:02<00:00,  2.10it/s]"
          ]
        },
        {
          "output_type": "stream",
          "name": "stdout",
          "text": [
            "                   all        154        257       0.87      0.871      0.902      0.613\n"
          ]
        },
        {
          "output_type": "stream",
          "name": "stderr",
          "text": [
            "\n"
          ]
        },
        {
          "output_type": "stream",
          "name": "stdout",
          "text": [
            "\n",
            "      Epoch    GPU_mem   box_loss   cls_loss   dfl_loss  Instances       Size\n"
          ]
        },
        {
          "output_type": "stream",
          "name": "stderr",
          "text": [
            "     30/100      2.27G     0.9268     0.6335      1.149         33        640: 100%|██████████| 102/102 [00:27<00:00,  3.73it/s]\n",
            "                 Class     Images  Instances      Box(P          R      mAP50  mAP50-95): 100%|██████████| 5/5 [00:01<00:00,  3.55it/s]"
          ]
        },
        {
          "output_type": "stream",
          "name": "stdout",
          "text": [
            "                   all        154        257      0.841      0.872      0.911      0.611\n"
          ]
        },
        {
          "output_type": "stream",
          "name": "stderr",
          "text": [
            "\n"
          ]
        },
        {
          "output_type": "stream",
          "name": "stdout",
          "text": [
            "\n",
            "      Epoch    GPU_mem   box_loss   cls_loss   dfl_loss  Instances       Size\n"
          ]
        },
        {
          "output_type": "stream",
          "name": "stderr",
          "text": [
            "     31/100      2.24G     0.9057     0.6097      1.134         30        640: 100%|██████████| 102/102 [00:29<00:00,  3.46it/s]\n",
            "                 Class     Images  Instances      Box(P          R      mAP50  mAP50-95): 100%|██████████| 5/5 [00:01<00:00,  4.35it/s]"
          ]
        },
        {
          "output_type": "stream",
          "name": "stdout",
          "text": [
            "                   all        154        257      0.896      0.901       0.91      0.603\n"
          ]
        },
        {
          "output_type": "stream",
          "name": "stderr",
          "text": [
            "\n"
          ]
        },
        {
          "output_type": "stream",
          "name": "stdout",
          "text": [
            "\n",
            "      Epoch    GPU_mem   box_loss   cls_loss   dfl_loss  Instances       Size\n"
          ]
        },
        {
          "output_type": "stream",
          "name": "stderr",
          "text": [
            "     32/100      2.22G     0.8989      0.589      1.122         32        640: 100%|██████████| 102/102 [00:29<00:00,  3.47it/s]\n",
            "                 Class     Images  Instances      Box(P          R      mAP50  mAP50-95): 100%|██████████| 5/5 [00:01<00:00,  4.64it/s]"
          ]
        },
        {
          "output_type": "stream",
          "name": "stdout",
          "text": [
            "                   all        154        257      0.871      0.918      0.912       0.62\n"
          ]
        },
        {
          "output_type": "stream",
          "name": "stderr",
          "text": [
            "\n"
          ]
        },
        {
          "output_type": "stream",
          "name": "stdout",
          "text": [
            "\n",
            "      Epoch    GPU_mem   box_loss   cls_loss   dfl_loss  Instances       Size\n"
          ]
        },
        {
          "output_type": "stream",
          "name": "stderr",
          "text": [
            "     33/100      2.26G     0.8977     0.5956      1.133         23        640: 100%|██████████| 102/102 [00:30<00:00,  3.35it/s]\n",
            "                 Class     Images  Instances      Box(P          R      mAP50  mAP50-95): 100%|██████████| 5/5 [00:01<00:00,  4.16it/s]"
          ]
        },
        {
          "output_type": "stream",
          "name": "stdout",
          "text": [
            "                   all        154        257      0.901       0.87      0.932      0.639\n"
          ]
        },
        {
          "output_type": "stream",
          "name": "stderr",
          "text": [
            "\n"
          ]
        },
        {
          "output_type": "stream",
          "name": "stdout",
          "text": [
            "\n",
            "      Epoch    GPU_mem   box_loss   cls_loss   dfl_loss  Instances       Size\n"
          ]
        },
        {
          "output_type": "stream",
          "name": "stderr",
          "text": [
            "     34/100      2.24G     0.9003     0.5932      1.136         26        640: 100%|██████████| 102/102 [00:29<00:00,  3.47it/s]\n",
            "                 Class     Images  Instances      Box(P          R      mAP50  mAP50-95): 100%|██████████| 5/5 [00:01<00:00,  4.48it/s]"
          ]
        },
        {
          "output_type": "stream",
          "name": "stdout",
          "text": [
            "                   all        154        257      0.896      0.879       0.91      0.633\n"
          ]
        },
        {
          "output_type": "stream",
          "name": "stderr",
          "text": [
            "\n"
          ]
        },
        {
          "output_type": "stream",
          "name": "stdout",
          "text": [
            "\n",
            "      Epoch    GPU_mem   box_loss   cls_loss   dfl_loss  Instances       Size\n"
          ]
        },
        {
          "output_type": "stream",
          "name": "stderr",
          "text": [
            "     35/100      2.24G     0.8712     0.5817      1.117         27        640: 100%|██████████| 102/102 [00:28<00:00,  3.56it/s]\n",
            "                 Class     Images  Instances      Box(P          R      mAP50  mAP50-95): 100%|██████████| 5/5 [00:02<00:00,  2.22it/s]"
          ]
        },
        {
          "output_type": "stream",
          "name": "stdout",
          "text": [
            "                   all        154        257      0.849      0.834       0.88      0.586\n"
          ]
        },
        {
          "output_type": "stream",
          "name": "stderr",
          "text": [
            "\n"
          ]
        },
        {
          "output_type": "stream",
          "name": "stdout",
          "text": [
            "\n",
            "      Epoch    GPU_mem   box_loss   cls_loss   dfl_loss  Instances       Size\n"
          ]
        },
        {
          "output_type": "stream",
          "name": "stderr",
          "text": [
            "     36/100      2.24G      0.866     0.5721       1.11         38        640: 100%|██████████| 102/102 [00:27<00:00,  3.72it/s]\n",
            "                 Class     Images  Instances      Box(P          R      mAP50  mAP50-95): 100%|██████████| 5/5 [00:01<00:00,  2.66it/s]"
          ]
        },
        {
          "output_type": "stream",
          "name": "stdout",
          "text": [
            "                   all        154        257      0.899      0.873      0.915      0.618\n"
          ]
        },
        {
          "output_type": "stream",
          "name": "stderr",
          "text": [
            "\n"
          ]
        },
        {
          "output_type": "stream",
          "name": "stdout",
          "text": [
            "\n",
            "      Epoch    GPU_mem   box_loss   cls_loss   dfl_loss  Instances       Size\n"
          ]
        },
        {
          "output_type": "stream",
          "name": "stderr",
          "text": [
            "     37/100      2.26G     0.8475     0.5601      1.103         27        640: 100%|██████████| 102/102 [00:28<00:00,  3.55it/s]\n",
            "                 Class     Images  Instances      Box(P          R      mAP50  mAP50-95): 100%|██████████| 5/5 [00:01<00:00,  4.37it/s]"
          ]
        },
        {
          "output_type": "stream",
          "name": "stdout",
          "text": [
            "                   all        154        257      0.894      0.892      0.918      0.611\n"
          ]
        },
        {
          "output_type": "stream",
          "name": "stderr",
          "text": [
            "\n"
          ]
        },
        {
          "output_type": "stream",
          "name": "stdout",
          "text": [
            "\n",
            "      Epoch    GPU_mem   box_loss   cls_loss   dfl_loss  Instances       Size\n"
          ]
        },
        {
          "output_type": "stream",
          "name": "stderr",
          "text": [
            "     38/100      2.23G     0.8531      0.567      1.108         27        640: 100%|██████████| 102/102 [00:30<00:00,  3.38it/s]\n",
            "                 Class     Images  Instances      Box(P          R      mAP50  mAP50-95): 100%|██████████| 5/5 [00:01<00:00,  4.87it/s]"
          ]
        },
        {
          "output_type": "stream",
          "name": "stdout",
          "text": [
            "                   all        154        257      0.909      0.883      0.912      0.636\n"
          ]
        },
        {
          "output_type": "stream",
          "name": "stderr",
          "text": [
            "\n"
          ]
        },
        {
          "output_type": "stream",
          "name": "stdout",
          "text": [
            "\n",
            "      Epoch    GPU_mem   box_loss   cls_loss   dfl_loss  Instances       Size\n"
          ]
        },
        {
          "output_type": "stream",
          "name": "stderr",
          "text": [
            "     39/100      2.24G      0.858     0.5667      1.113         27        640: 100%|██████████| 102/102 [00:29<00:00,  3.41it/s]\n",
            "                 Class     Images  Instances      Box(P          R      mAP50  mAP50-95): 100%|██████████| 5/5 [00:01<00:00,  4.50it/s]"
          ]
        },
        {
          "output_type": "stream",
          "name": "stdout",
          "text": [
            "                   all        154        257      0.899      0.855      0.891      0.602\n"
          ]
        },
        {
          "output_type": "stream",
          "name": "stderr",
          "text": [
            "\n"
          ]
        },
        {
          "output_type": "stream",
          "name": "stdout",
          "text": [
            "\n",
            "      Epoch    GPU_mem   box_loss   cls_loss   dfl_loss  Instances       Size\n"
          ]
        },
        {
          "output_type": "stream",
          "name": "stderr",
          "text": [
            "     40/100      2.27G     0.8363     0.5463      1.106         33        640: 100%|██████████| 102/102 [00:30<00:00,  3.35it/s]\n",
            "                 Class     Images  Instances      Box(P          R      mAP50  mAP50-95): 100%|██████████| 5/5 [00:01<00:00,  4.60it/s]"
          ]
        },
        {
          "output_type": "stream",
          "name": "stdout",
          "text": [
            "                   all        154        257      0.914      0.888       0.91      0.607\n"
          ]
        },
        {
          "output_type": "stream",
          "name": "stderr",
          "text": [
            "\n"
          ]
        },
        {
          "output_type": "stream",
          "name": "stdout",
          "text": [
            "\n",
            "      Epoch    GPU_mem   box_loss   cls_loss   dfl_loss  Instances       Size\n"
          ]
        },
        {
          "output_type": "stream",
          "name": "stderr",
          "text": [
            "     41/100      2.24G     0.8503     0.5524      1.106         24        640: 100%|██████████| 102/102 [00:28<00:00,  3.61it/s]\n",
            "                 Class     Images  Instances      Box(P          R      mAP50  mAP50-95): 100%|██████████| 5/5 [00:01<00:00,  2.50it/s]"
          ]
        },
        {
          "output_type": "stream",
          "name": "stdout",
          "text": [
            "                   all        154        257      0.903      0.898      0.912      0.618\n"
          ]
        },
        {
          "output_type": "stream",
          "name": "stderr",
          "text": [
            "\n"
          ]
        },
        {
          "output_type": "stream",
          "name": "stdout",
          "text": [
            "\n",
            "      Epoch    GPU_mem   box_loss   cls_loss   dfl_loss  Instances       Size\n"
          ]
        },
        {
          "output_type": "stream",
          "name": "stderr",
          "text": [
            "     42/100      2.24G     0.8498      0.548      1.106         23        640: 100%|██████████| 102/102 [00:27<00:00,  3.77it/s]\n",
            "                 Class     Images  Instances      Box(P          R      mAP50  mAP50-95): 100%|██████████| 5/5 [00:01<00:00,  2.70it/s]"
          ]
        },
        {
          "output_type": "stream",
          "name": "stdout",
          "text": [
            "                   all        154        257      0.858      0.899      0.913      0.628\n"
          ]
        },
        {
          "output_type": "stream",
          "name": "stderr",
          "text": [
            "\n"
          ]
        },
        {
          "output_type": "stream",
          "name": "stdout",
          "text": [
            "\n",
            "      Epoch    GPU_mem   box_loss   cls_loss   dfl_loss  Instances       Size\n"
          ]
        },
        {
          "output_type": "stream",
          "name": "stderr",
          "text": [
            "     43/100      2.24G     0.8115     0.5157      1.082         24        640: 100%|██████████| 102/102 [00:28<00:00,  3.59it/s]\n",
            "                 Class     Images  Instances      Box(P          R      mAP50  mAP50-95): 100%|██████████| 5/5 [00:01<00:00,  4.45it/s]"
          ]
        },
        {
          "output_type": "stream",
          "name": "stdout",
          "text": [
            "                   all        154        257      0.901       0.89      0.926      0.641\n"
          ]
        },
        {
          "output_type": "stream",
          "name": "stderr",
          "text": [
            "\n"
          ]
        },
        {
          "output_type": "stream",
          "name": "stdout",
          "text": [
            "\n",
            "      Epoch    GPU_mem   box_loss   cls_loss   dfl_loss  Instances       Size\n"
          ]
        },
        {
          "output_type": "stream",
          "name": "stderr",
          "text": [
            "     44/100      2.22G     0.8211     0.5285      1.097         17        640: 100%|██████████| 102/102 [00:29<00:00,  3.52it/s]\n",
            "                 Class     Images  Instances      Box(P          R      mAP50  mAP50-95): 100%|██████████| 5/5 [00:01<00:00,  4.70it/s]"
          ]
        },
        {
          "output_type": "stream",
          "name": "stdout",
          "text": [
            "                   all        154        257      0.896      0.886      0.896      0.605\n"
          ]
        },
        {
          "output_type": "stream",
          "name": "stderr",
          "text": [
            "\n"
          ]
        },
        {
          "output_type": "stream",
          "name": "stdout",
          "text": [
            "\n",
            "      Epoch    GPU_mem   box_loss   cls_loss   dfl_loss  Instances       Size\n"
          ]
        },
        {
          "output_type": "stream",
          "name": "stderr",
          "text": [
            "     45/100      2.26G     0.8102     0.5246      1.079         24        640: 100%|██████████| 102/102 [00:30<00:00,  3.37it/s]\n",
            "                 Class     Images  Instances      Box(P          R      mAP50  mAP50-95): 100%|██████████| 5/5 [00:01<00:00,  4.45it/s]"
          ]
        },
        {
          "output_type": "stream",
          "name": "stdout",
          "text": [
            "                   all        154        257      0.904      0.875      0.911      0.622\n"
          ]
        },
        {
          "output_type": "stream",
          "name": "stderr",
          "text": [
            "\n"
          ]
        },
        {
          "output_type": "stream",
          "name": "stdout",
          "text": [
            "\n",
            "      Epoch    GPU_mem   box_loss   cls_loss   dfl_loss  Instances       Size\n"
          ]
        },
        {
          "output_type": "stream",
          "name": "stderr",
          "text": [
            "     46/100      2.26G     0.8041     0.5242      1.077         31        640: 100%|██████████| 102/102 [00:30<00:00,  3.36it/s]\n",
            "                 Class     Images  Instances      Box(P          R      mAP50  mAP50-95): 100%|██████████| 5/5 [00:01<00:00,  4.41it/s]"
          ]
        },
        {
          "output_type": "stream",
          "name": "stdout",
          "text": [
            "                   all        154        257      0.925      0.869      0.925      0.638\n"
          ]
        },
        {
          "output_type": "stream",
          "name": "stderr",
          "text": [
            "\n"
          ]
        },
        {
          "output_type": "stream",
          "name": "stdout",
          "text": [
            "\n",
            "      Epoch    GPU_mem   box_loss   cls_loss   dfl_loss  Instances       Size\n"
          ]
        },
        {
          "output_type": "stream",
          "name": "stderr",
          "text": [
            "     47/100      2.27G     0.7925     0.5213      1.082         33        640: 100%|██████████| 102/102 [00:30<00:00,  3.38it/s]\n",
            "                 Class     Images  Instances      Box(P          R      mAP50  mAP50-95): 100%|██████████| 5/5 [00:01<00:00,  2.68it/s]"
          ]
        },
        {
          "output_type": "stream",
          "name": "stdout",
          "text": [
            "                   all        154        257      0.899      0.865      0.901      0.622\n"
          ]
        },
        {
          "output_type": "stream",
          "name": "stderr",
          "text": [
            "\n"
          ]
        },
        {
          "output_type": "stream",
          "name": "stdout",
          "text": [
            "\n",
            "      Epoch    GPU_mem   box_loss   cls_loss   dfl_loss  Instances       Size\n"
          ]
        },
        {
          "output_type": "stream",
          "name": "stderr",
          "text": [
            "     48/100      2.24G     0.7886     0.5154      1.073         22        640: 100%|██████████| 102/102 [00:27<00:00,  3.71it/s]\n",
            "                 Class     Images  Instances      Box(P          R      mAP50  mAP50-95): 100%|██████████| 5/5 [00:01<00:00,  2.59it/s]"
          ]
        },
        {
          "output_type": "stream",
          "name": "stdout",
          "text": [
            "                   all        154        257      0.879      0.895      0.923       0.64\n"
          ]
        },
        {
          "output_type": "stream",
          "name": "stderr",
          "text": [
            "\n"
          ]
        },
        {
          "output_type": "stream",
          "name": "stdout",
          "text": [
            "\n",
            "      Epoch    GPU_mem   box_loss   cls_loss   dfl_loss  Instances       Size\n"
          ]
        },
        {
          "output_type": "stream",
          "name": "stderr",
          "text": [
            "     49/100      2.26G       0.77      0.496      1.064         27        640: 100%|██████████| 102/102 [00:28<00:00,  3.53it/s]\n",
            "                 Class     Images  Instances      Box(P          R      mAP50  mAP50-95): 100%|██████████| 5/5 [00:01<00:00,  4.47it/s]"
          ]
        },
        {
          "output_type": "stream",
          "name": "stdout",
          "text": [
            "                   all        154        257      0.865      0.876      0.906      0.641\n"
          ]
        },
        {
          "output_type": "stream",
          "name": "stderr",
          "text": [
            "\n"
          ]
        },
        {
          "output_type": "stream",
          "name": "stdout",
          "text": [
            "\n",
            "      Epoch    GPU_mem   box_loss   cls_loss   dfl_loss  Instances       Size\n"
          ]
        },
        {
          "output_type": "stream",
          "name": "stderr",
          "text": [
            "     50/100      2.27G     0.7674     0.5018      1.066         20        640: 100%|██████████| 102/102 [00:30<00:00,  3.35it/s]\n",
            "                 Class     Images  Instances      Box(P          R      mAP50  mAP50-95): 100%|██████████| 5/5 [00:01<00:00,  4.48it/s]"
          ]
        },
        {
          "output_type": "stream",
          "name": "stdout",
          "text": [
            "                   all        154        257      0.848      0.925      0.928      0.607\n"
          ]
        },
        {
          "output_type": "stream",
          "name": "stderr",
          "text": [
            "\n"
          ]
        },
        {
          "output_type": "stream",
          "name": "stdout",
          "text": [
            "\n",
            "      Epoch    GPU_mem   box_loss   cls_loss   dfl_loss  Instances       Size\n"
          ]
        },
        {
          "output_type": "stream",
          "name": "stderr",
          "text": [
            "     51/100      2.24G     0.7715     0.5012      1.069         26        640: 100%|██████████| 102/102 [00:29<00:00,  3.42it/s]\n",
            "                 Class     Images  Instances      Box(P          R      mAP50  mAP50-95): 100%|██████████| 5/5 [00:01<00:00,  4.34it/s]"
          ]
        },
        {
          "output_type": "stream",
          "name": "stdout",
          "text": [
            "                   all        154        257      0.899       0.86      0.917      0.652\n"
          ]
        },
        {
          "output_type": "stream",
          "name": "stderr",
          "text": [
            "\n"
          ]
        },
        {
          "output_type": "stream",
          "name": "stdout",
          "text": [
            "\n",
            "      Epoch    GPU_mem   box_loss   cls_loss   dfl_loss  Instances       Size\n"
          ]
        },
        {
          "output_type": "stream",
          "name": "stderr",
          "text": [
            "     52/100      2.24G     0.7668     0.5043      1.066         27        640: 100%|██████████| 102/102 [00:30<00:00,  3.36it/s]\n",
            "                 Class     Images  Instances      Box(P          R      mAP50  mAP50-95): 100%|██████████| 5/5 [00:01<00:00,  4.50it/s]"
          ]
        },
        {
          "output_type": "stream",
          "name": "stdout",
          "text": [
            "                   all        154        257      0.919      0.897      0.928      0.643\n"
          ]
        },
        {
          "output_type": "stream",
          "name": "stderr",
          "text": [
            "\n"
          ]
        },
        {
          "output_type": "stream",
          "name": "stdout",
          "text": [
            "\n",
            "      Epoch    GPU_mem   box_loss   cls_loss   dfl_loss  Instances       Size\n"
          ]
        },
        {
          "output_type": "stream",
          "name": "stderr",
          "text": [
            "     53/100      2.24G     0.7637     0.4938      1.066         23        640: 100%|██████████| 102/102 [00:29<00:00,  3.50it/s]\n",
            "                 Class     Images  Instances      Box(P          R      mAP50  mAP50-95): 100%|██████████| 5/5 [00:02<00:00,  2.13it/s]"
          ]
        },
        {
          "output_type": "stream",
          "name": "stdout",
          "text": [
            "                   all        154        257      0.907      0.901      0.919      0.638\n"
          ]
        },
        {
          "output_type": "stream",
          "name": "stderr",
          "text": [
            "\n"
          ]
        },
        {
          "output_type": "stream",
          "name": "stdout",
          "text": [
            "\n",
            "      Epoch    GPU_mem   box_loss   cls_loss   dfl_loss  Instances       Size\n"
          ]
        },
        {
          "output_type": "stream",
          "name": "stderr",
          "text": [
            "     54/100      2.24G     0.7543     0.4913      1.057         22        640: 100%|██████████| 102/102 [00:27<00:00,  3.74it/s]\n",
            "                 Class     Images  Instances      Box(P          R      mAP50  mAP50-95): 100%|██████████| 5/5 [00:01<00:00,  2.61it/s]"
          ]
        },
        {
          "output_type": "stream",
          "name": "stdout",
          "text": [
            "                   all        154        257      0.902      0.906      0.918      0.643\n"
          ]
        },
        {
          "output_type": "stream",
          "name": "stderr",
          "text": [
            "\n"
          ]
        },
        {
          "output_type": "stream",
          "name": "stdout",
          "text": [
            "\n",
            "      Epoch    GPU_mem   box_loss   cls_loss   dfl_loss  Instances       Size\n"
          ]
        },
        {
          "output_type": "stream",
          "name": "stderr",
          "text": [
            "     55/100      2.24G     0.7501     0.4804      1.058         25        640: 100%|██████████| 102/102 [00:29<00:00,  3.50it/s]\n",
            "                 Class     Images  Instances      Box(P          R      mAP50  mAP50-95): 100%|██████████| 5/5 [00:01<00:00,  4.75it/s]"
          ]
        },
        {
          "output_type": "stream",
          "name": "stdout",
          "text": [
            "                   all        154        257      0.925      0.916      0.921       0.64\n"
          ]
        },
        {
          "output_type": "stream",
          "name": "stderr",
          "text": [
            "\n"
          ]
        },
        {
          "output_type": "stream",
          "name": "stdout",
          "text": [
            "\n",
            "      Epoch    GPU_mem   box_loss   cls_loss   dfl_loss  Instances       Size\n"
          ]
        },
        {
          "output_type": "stream",
          "name": "stderr",
          "text": [
            "     56/100      2.27G     0.7397     0.4883      1.053         18        640: 100%|██████████| 102/102 [00:30<00:00,  3.38it/s]\n",
            "                 Class     Images  Instances      Box(P          R      mAP50  mAP50-95): 100%|██████████| 5/5 [00:00<00:00,  5.15it/s]"
          ]
        },
        {
          "output_type": "stream",
          "name": "stdout",
          "text": [
            "                   all        154        257      0.904      0.864      0.911      0.625\n"
          ]
        },
        {
          "output_type": "stream",
          "name": "stderr",
          "text": [
            "\n"
          ]
        },
        {
          "output_type": "stream",
          "name": "stdout",
          "text": [
            "\n",
            "      Epoch    GPU_mem   box_loss   cls_loss   dfl_loss  Instances       Size\n"
          ]
        },
        {
          "output_type": "stream",
          "name": "stderr",
          "text": [
            "     57/100      2.26G     0.7328     0.4685      1.045         30        640: 100%|██████████| 102/102 [00:30<00:00,  3.38it/s]\n",
            "                 Class     Images  Instances      Box(P          R      mAP50  mAP50-95): 100%|██████████| 5/5 [00:01<00:00,  4.77it/s]"
          ]
        },
        {
          "output_type": "stream",
          "name": "stdout",
          "text": [
            "                   all        154        257      0.929      0.882      0.917      0.636\n"
          ]
        },
        {
          "output_type": "stream",
          "name": "stderr",
          "text": [
            "\n"
          ]
        },
        {
          "output_type": "stream",
          "name": "stdout",
          "text": [
            "\n",
            "      Epoch    GPU_mem   box_loss   cls_loss   dfl_loss  Instances       Size\n"
          ]
        },
        {
          "output_type": "stream",
          "name": "stderr",
          "text": [
            "     58/100      2.23G     0.7257     0.4645      1.044         25        640: 100%|██████████| 102/102 [00:30<00:00,  3.32it/s]\n",
            "                 Class     Images  Instances      Box(P          R      mAP50  mAP50-95): 100%|██████████| 5/5 [00:01<00:00,  4.48it/s]"
          ]
        },
        {
          "output_type": "stream",
          "name": "stdout",
          "text": [
            "                   all        154        257       0.89      0.882      0.897      0.631\n"
          ]
        },
        {
          "output_type": "stream",
          "name": "stderr",
          "text": [
            "\n"
          ]
        },
        {
          "output_type": "stream",
          "name": "stdout",
          "text": [
            "\n",
            "      Epoch    GPU_mem   box_loss   cls_loss   dfl_loss  Instances       Size\n"
          ]
        },
        {
          "output_type": "stream",
          "name": "stderr",
          "text": [
            "     59/100      2.24G     0.7205     0.4524      1.037         23        640: 100%|██████████| 102/102 [00:28<00:00,  3.62it/s]\n",
            "                 Class     Images  Instances      Box(P          R      mAP50  mAP50-95): 100%|██████████| 5/5 [00:02<00:00,  2.15it/s]"
          ]
        },
        {
          "output_type": "stream",
          "name": "stdout",
          "text": [
            "                   all        154        257      0.908      0.876      0.915      0.636\n"
          ]
        },
        {
          "output_type": "stream",
          "name": "stderr",
          "text": [
            "\n"
          ]
        },
        {
          "output_type": "stream",
          "name": "stdout",
          "text": [
            "\n",
            "      Epoch    GPU_mem   box_loss   cls_loss   dfl_loss  Instances       Size\n"
          ]
        },
        {
          "output_type": "stream",
          "name": "stderr",
          "text": [
            "     60/100      2.24G     0.7098     0.4613      1.037         28        640: 100%|██████████| 102/102 [00:27<00:00,  3.68it/s]\n",
            "                 Class     Images  Instances      Box(P          R      mAP50  mAP50-95): 100%|██████████| 5/5 [00:01<00:00,  2.92it/s]"
          ]
        },
        {
          "output_type": "stream",
          "name": "stdout",
          "text": [
            "                   all        154        257      0.899       0.89      0.915      0.647\n"
          ]
        },
        {
          "output_type": "stream",
          "name": "stderr",
          "text": [
            "\n"
          ]
        },
        {
          "output_type": "stream",
          "name": "stdout",
          "text": [
            "\n",
            "      Epoch    GPU_mem   box_loss   cls_loss   dfl_loss  Instances       Size\n"
          ]
        },
        {
          "output_type": "stream",
          "name": "stderr",
          "text": [
            "     61/100      2.26G     0.7159     0.4504      1.039         29        640: 100%|██████████| 102/102 [00:28<00:00,  3.54it/s]\n",
            "                 Class     Images  Instances      Box(P          R      mAP50  mAP50-95): 100%|██████████| 5/5 [00:01<00:00,  4.83it/s]"
          ]
        },
        {
          "output_type": "stream",
          "name": "stdout",
          "text": [
            "                   all        154        257        0.9       0.91       0.92      0.634\n"
          ]
        },
        {
          "output_type": "stream",
          "name": "stderr",
          "text": [
            "\n"
          ]
        },
        {
          "output_type": "stream",
          "name": "stdout",
          "text": [
            "\n",
            "      Epoch    GPU_mem   box_loss   cls_loss   dfl_loss  Instances       Size\n"
          ]
        },
        {
          "output_type": "stream",
          "name": "stderr",
          "text": [
            "     62/100      2.27G     0.7115     0.4594       1.04         19        640: 100%|██████████| 102/102 [00:30<00:00,  3.35it/s]\n",
            "                 Class     Images  Instances      Box(P          R      mAP50  mAP50-95): 100%|██████████| 5/5 [00:01<00:00,  4.51it/s]"
          ]
        },
        {
          "output_type": "stream",
          "name": "stdout",
          "text": [
            "                   all        154        257      0.903      0.905      0.912      0.644\n"
          ]
        },
        {
          "output_type": "stream",
          "name": "stderr",
          "text": [
            "\n"
          ]
        },
        {
          "output_type": "stream",
          "name": "stdout",
          "text": [
            "\n",
            "      Epoch    GPU_mem   box_loss   cls_loss   dfl_loss  Instances       Size\n"
          ]
        },
        {
          "output_type": "stream",
          "name": "stderr",
          "text": [
            "     63/100      2.26G     0.6897      0.443      1.022         26        640: 100%|██████████| 102/102 [00:30<00:00,  3.37it/s]\n",
            "                 Class     Images  Instances      Box(P          R      mAP50  mAP50-95): 100%|██████████| 5/5 [00:01<00:00,  4.88it/s]"
          ]
        },
        {
          "output_type": "stream",
          "name": "stdout",
          "text": [
            "                   all        154        257      0.906      0.864      0.906      0.641\n"
          ]
        },
        {
          "output_type": "stream",
          "name": "stderr",
          "text": [
            "\n"
          ]
        },
        {
          "output_type": "stream",
          "name": "stdout",
          "text": [
            "\n",
            "      Epoch    GPU_mem   box_loss   cls_loss   dfl_loss  Instances       Size\n"
          ]
        },
        {
          "output_type": "stream",
          "name": "stderr",
          "text": [
            "     64/100      2.24G     0.6846     0.4378      1.026         31        640: 100%|██████████| 102/102 [00:30<00:00,  3.32it/s]\n",
            "                 Class     Images  Instances      Box(P          R      mAP50  mAP50-95): 100%|██████████| 5/5 [00:01<00:00,  4.39it/s]"
          ]
        },
        {
          "output_type": "stream",
          "name": "stdout",
          "text": [
            "                   all        154        257       0.93       0.87      0.921      0.636\n"
          ]
        },
        {
          "output_type": "stream",
          "name": "stderr",
          "text": [
            "\n"
          ]
        },
        {
          "output_type": "stream",
          "name": "stdout",
          "text": [
            "\n",
            "      Epoch    GPU_mem   box_loss   cls_loss   dfl_loss  Instances       Size\n"
          ]
        },
        {
          "output_type": "stream",
          "name": "stderr",
          "text": [
            "     65/100      2.24G     0.6879     0.4469      1.024         24        640: 100%|██████████| 102/102 [00:29<00:00,  3.43it/s]\n",
            "                 Class     Images  Instances      Box(P          R      mAP50  mAP50-95): 100%|██████████| 5/5 [00:01<00:00,  2.74it/s]"
          ]
        },
        {
          "output_type": "stream",
          "name": "stdout",
          "text": [
            "                   all        154        257      0.902      0.889      0.908      0.633\n"
          ]
        },
        {
          "output_type": "stream",
          "name": "stderr",
          "text": [
            "\n"
          ]
        },
        {
          "output_type": "stream",
          "name": "stdout",
          "text": [
            "\n",
            "      Epoch    GPU_mem   box_loss   cls_loss   dfl_loss  Instances       Size\n"
          ]
        },
        {
          "output_type": "stream",
          "name": "stderr",
          "text": [
            "     66/100      2.24G     0.6934      0.435      1.027         27        640: 100%|██████████| 102/102 [00:27<00:00,  3.72it/s]\n",
            "                 Class     Images  Instances      Box(P          R      mAP50  mAP50-95): 100%|██████████| 5/5 [00:01<00:00,  2.65it/s]"
          ]
        },
        {
          "output_type": "stream",
          "name": "stdout",
          "text": [
            "                   all        154        257       0.91      0.878      0.911      0.643\n"
          ]
        },
        {
          "output_type": "stream",
          "name": "stderr",
          "text": [
            "\n"
          ]
        },
        {
          "output_type": "stream",
          "name": "stdout",
          "text": [
            "\n",
            "      Epoch    GPU_mem   box_loss   cls_loss   dfl_loss  Instances       Size\n"
          ]
        },
        {
          "output_type": "stream",
          "name": "stderr",
          "text": [
            "     67/100      2.24G      0.674     0.4286      1.019         30        640: 100%|██████████| 102/102 [00:28<00:00,  3.61it/s]\n",
            "                 Class     Images  Instances      Box(P          R      mAP50  mAP50-95): 100%|██████████| 5/5 [00:01<00:00,  4.31it/s]"
          ]
        },
        {
          "output_type": "stream",
          "name": "stdout",
          "text": [
            "                   all        154        257      0.916      0.894      0.918      0.642\n"
          ]
        },
        {
          "output_type": "stream",
          "name": "stderr",
          "text": [
            "\n"
          ]
        },
        {
          "output_type": "stream",
          "name": "stdout",
          "text": [
            "\n",
            "      Epoch    GPU_mem   box_loss   cls_loss   dfl_loss  Instances       Size\n"
          ]
        },
        {
          "output_type": "stream",
          "name": "stderr",
          "text": [
            "     68/100      2.24G     0.6756     0.4332      1.014         26        640: 100%|██████████| 102/102 [00:29<00:00,  3.40it/s]\n",
            "                 Class     Images  Instances      Box(P          R      mAP50  mAP50-95): 100%|██████████| 5/5 [00:01<00:00,  4.83it/s]"
          ]
        },
        {
          "output_type": "stream",
          "name": "stdout",
          "text": [
            "                   all        154        257      0.899      0.904      0.911       0.63\n"
          ]
        },
        {
          "output_type": "stream",
          "name": "stderr",
          "text": [
            "\n"
          ]
        },
        {
          "output_type": "stream",
          "name": "stdout",
          "text": [
            "\n",
            "      Epoch    GPU_mem   box_loss   cls_loss   dfl_loss  Instances       Size\n"
          ]
        },
        {
          "output_type": "stream",
          "name": "stderr",
          "text": [
            "     69/100      2.27G     0.6833     0.4363      1.021         35        640: 100%|██████████| 102/102 [00:29<00:00,  3.40it/s]\n",
            "                 Class     Images  Instances      Box(P          R      mAP50  mAP50-95): 100%|██████████| 5/5 [00:01<00:00,  4.57it/s]"
          ]
        },
        {
          "output_type": "stream",
          "name": "stdout",
          "text": [
            "                   all        154        257      0.924      0.889      0.915      0.648\n"
          ]
        },
        {
          "output_type": "stream",
          "name": "stderr",
          "text": [
            "\n"
          ]
        },
        {
          "output_type": "stream",
          "name": "stdout",
          "text": [
            "\n",
            "      Epoch    GPU_mem   box_loss   cls_loss   dfl_loss  Instances       Size\n"
          ]
        },
        {
          "output_type": "stream",
          "name": "stderr",
          "text": [
            "     70/100      2.27G     0.6708     0.4272       1.02         24        640: 100%|██████████| 102/102 [00:30<00:00,  3.37it/s]\n",
            "                 Class     Images  Instances      Box(P          R      mAP50  mAP50-95): 100%|██████████| 5/5 [00:01<00:00,  4.71it/s]"
          ]
        },
        {
          "output_type": "stream",
          "name": "stdout",
          "text": [
            "                   all        154        257      0.927      0.905      0.921      0.639\n"
          ]
        },
        {
          "output_type": "stream",
          "name": "stderr",
          "text": [
            "\n"
          ]
        },
        {
          "output_type": "stream",
          "name": "stdout",
          "text": [
            "\n",
            "      Epoch    GPU_mem   box_loss   cls_loss   dfl_loss  Instances       Size\n"
          ]
        },
        {
          "output_type": "stream",
          "name": "stderr",
          "text": [
            "     71/100      2.27G     0.6579     0.4327      1.013         25        640: 100%|██████████| 102/102 [00:28<00:00,  3.60it/s]\n",
            "                 Class     Images  Instances      Box(P          R      mAP50  mAP50-95): 100%|██████████| 5/5 [00:02<00:00,  2.35it/s]"
          ]
        },
        {
          "output_type": "stream",
          "name": "stdout",
          "text": [
            "                   all        154        257      0.945      0.905       0.93      0.649\n"
          ]
        },
        {
          "output_type": "stream",
          "name": "stderr",
          "text": [
            "\n"
          ]
        },
        {
          "output_type": "stream",
          "name": "stdout",
          "text": [
            "\n",
            "      Epoch    GPU_mem   box_loss   cls_loss   dfl_loss  Instances       Size\n"
          ]
        },
        {
          "output_type": "stream",
          "name": "stderr",
          "text": [
            "     72/100      2.24G     0.6553     0.4207      1.004         42        640: 100%|██████████| 102/102 [00:27<00:00,  3.69it/s]\n",
            "                 Class     Images  Instances      Box(P          R      mAP50  mAP50-95): 100%|██████████| 5/5 [00:01<00:00,  2.75it/s]"
          ]
        },
        {
          "output_type": "stream",
          "name": "stdout",
          "text": [
            "                   all        154        257      0.933      0.889       0.93       0.64\n"
          ]
        },
        {
          "output_type": "stream",
          "name": "stderr",
          "text": [
            "\n"
          ]
        },
        {
          "output_type": "stream",
          "name": "stdout",
          "text": [
            "\n",
            "      Epoch    GPU_mem   box_loss   cls_loss   dfl_loss  Instances       Size\n"
          ]
        },
        {
          "output_type": "stream",
          "name": "stderr",
          "text": [
            "     73/100      2.27G     0.6574     0.4106       1.01         46        640: 100%|██████████| 102/102 [00:30<00:00,  3.37it/s]\n",
            "                 Class     Images  Instances      Box(P          R      mAP50  mAP50-95): 100%|██████████| 5/5 [00:01<00:00,  4.39it/s]"
          ]
        },
        {
          "output_type": "stream",
          "name": "stdout",
          "text": [
            "                   all        154        257      0.924      0.898       0.93      0.646\n"
          ]
        },
        {
          "output_type": "stream",
          "name": "stderr",
          "text": [
            "\n"
          ]
        },
        {
          "output_type": "stream",
          "name": "stdout",
          "text": [
            "\n",
            "      Epoch    GPU_mem   box_loss   cls_loss   dfl_loss  Instances       Size\n"
          ]
        },
        {
          "output_type": "stream",
          "name": "stderr",
          "text": [
            "     74/100      2.24G     0.6338     0.3969     0.9969         35        640: 100%|██████████| 102/102 [00:29<00:00,  3.42it/s]\n",
            "                 Class     Images  Instances      Box(P          R      mAP50  mAP50-95): 100%|██████████| 5/5 [00:01<00:00,  4.25it/s]"
          ]
        },
        {
          "output_type": "stream",
          "name": "stdout",
          "text": [
            "                   all        154        257       0.93      0.902      0.925      0.651\n"
          ]
        },
        {
          "output_type": "stream",
          "name": "stderr",
          "text": [
            "\n"
          ]
        },
        {
          "output_type": "stream",
          "name": "stdout",
          "text": [
            "\n",
            "      Epoch    GPU_mem   box_loss   cls_loss   dfl_loss  Instances       Size\n"
          ]
        },
        {
          "output_type": "stream",
          "name": "stderr",
          "text": [
            "     75/100      2.24G     0.6399      0.402      1.004         29        640: 100%|██████████| 102/102 [00:31<00:00,  3.28it/s]\n",
            "                 Class     Images  Instances      Box(P          R      mAP50  mAP50-95): 100%|██████████| 5/5 [00:01<00:00,  4.56it/s]"
          ]
        },
        {
          "output_type": "stream",
          "name": "stdout",
          "text": [
            "                   all        154        257      0.929      0.901      0.927      0.653\n"
          ]
        },
        {
          "output_type": "stream",
          "name": "stderr",
          "text": [
            "\n"
          ]
        },
        {
          "output_type": "stream",
          "name": "stdout",
          "text": [
            "\n",
            "      Epoch    GPU_mem   box_loss   cls_loss   dfl_loss  Instances       Size\n"
          ]
        },
        {
          "output_type": "stream",
          "name": "stderr",
          "text": [
            "     76/100      2.26G     0.6263     0.3949     0.9961         27        640: 100%|██████████| 102/102 [00:30<00:00,  3.34it/s]\n",
            "                 Class     Images  Instances      Box(P          R      mAP50  mAP50-95): 100%|██████████| 5/5 [00:01<00:00,  4.58it/s]"
          ]
        },
        {
          "output_type": "stream",
          "name": "stdout",
          "text": [
            "                   all        154        257      0.924      0.875      0.921      0.645\n"
          ]
        },
        {
          "output_type": "stream",
          "name": "stderr",
          "text": [
            "\n"
          ]
        },
        {
          "output_type": "stream",
          "name": "stdout",
          "text": [
            "\n",
            "      Epoch    GPU_mem   box_loss   cls_loss   dfl_loss  Instances       Size\n"
          ]
        },
        {
          "output_type": "stream",
          "name": "stderr",
          "text": [
            "     77/100      2.24G     0.6255     0.3938     0.9932         37        640: 100%|██████████| 102/102 [00:28<00:00,  3.53it/s]\n",
            "                 Class     Images  Instances      Box(P          R      mAP50  mAP50-95): 100%|██████████| 5/5 [00:02<00:00,  2.42it/s]"
          ]
        },
        {
          "output_type": "stream",
          "name": "stdout",
          "text": [
            "                   all        154        257      0.923      0.899      0.926      0.641\n"
          ]
        },
        {
          "output_type": "stream",
          "name": "stderr",
          "text": [
            "\n"
          ]
        },
        {
          "output_type": "stream",
          "name": "stdout",
          "text": [
            "\n",
            "      Epoch    GPU_mem   box_loss   cls_loss   dfl_loss  Instances       Size\n"
          ]
        },
        {
          "output_type": "stream",
          "name": "stderr",
          "text": [
            "     78/100      2.22G     0.6187     0.3936     0.9947         35        640: 100%|██████████| 102/102 [00:28<00:00,  3.59it/s]\n",
            "                 Class     Images  Instances      Box(P          R      mAP50  mAP50-95): 100%|██████████| 5/5 [00:01<00:00,  3.20it/s]"
          ]
        },
        {
          "output_type": "stream",
          "name": "stdout",
          "text": [
            "                   all        154        257      0.916      0.904      0.925       0.65\n"
          ]
        },
        {
          "output_type": "stream",
          "name": "stderr",
          "text": [
            "\n"
          ]
        },
        {
          "output_type": "stream",
          "name": "stdout",
          "text": [
            "\n",
            "      Epoch    GPU_mem   box_loss   cls_loss   dfl_loss  Instances       Size\n"
          ]
        },
        {
          "output_type": "stream",
          "name": "stderr",
          "text": [
            "     79/100      2.24G      0.621     0.3982     0.9989         28        640: 100%|██████████| 102/102 [00:30<00:00,  3.36it/s]\n",
            "                 Class     Images  Instances      Box(P          R      mAP50  mAP50-95): 100%|██████████| 5/5 [00:01<00:00,  4.34it/s]"
          ]
        },
        {
          "output_type": "stream",
          "name": "stdout",
          "text": [
            "                   all        154        257      0.938       0.89      0.925       0.64\n"
          ]
        },
        {
          "output_type": "stream",
          "name": "stderr",
          "text": [
            "\n"
          ]
        },
        {
          "output_type": "stream",
          "name": "stdout",
          "text": [
            "\n",
            "      Epoch    GPU_mem   box_loss   cls_loss   dfl_loss  Instances       Size\n"
          ]
        },
        {
          "output_type": "stream",
          "name": "stderr",
          "text": [
            "     80/100      2.24G     0.6136     0.3891     0.9921         30        640: 100%|██████████| 102/102 [00:30<00:00,  3.39it/s]\n",
            "                 Class     Images  Instances      Box(P          R      mAP50  mAP50-95): 100%|██████████| 5/5 [00:01<00:00,  4.41it/s]"
          ]
        },
        {
          "output_type": "stream",
          "name": "stdout",
          "text": [
            "                   all        154        257      0.946      0.893      0.936      0.643\n"
          ]
        },
        {
          "output_type": "stream",
          "name": "stderr",
          "text": [
            "\n"
          ]
        },
        {
          "output_type": "stream",
          "name": "stdout",
          "text": [
            "\n",
            "      Epoch    GPU_mem   box_loss   cls_loss   dfl_loss  Instances       Size\n"
          ]
        },
        {
          "output_type": "stream",
          "name": "stderr",
          "text": [
            "     81/100      2.24G     0.6117     0.3875     0.9904         21        640: 100%|██████████| 102/102 [00:30<00:00,  3.38it/s]\n",
            "                 Class     Images  Instances      Box(P          R      mAP50  mAP50-95): 100%|██████████| 5/5 [00:00<00:00,  5.05it/s]"
          ]
        },
        {
          "output_type": "stream",
          "name": "stdout",
          "text": [
            "                   all        154        257      0.916      0.898      0.934      0.647\n"
          ]
        },
        {
          "output_type": "stream",
          "name": "stderr",
          "text": [
            "\n"
          ]
        },
        {
          "output_type": "stream",
          "name": "stdout",
          "text": [
            "\n",
            "      Epoch    GPU_mem   box_loss   cls_loss   dfl_loss  Instances       Size\n"
          ]
        },
        {
          "output_type": "stream",
          "name": "stderr",
          "text": [
            "     82/100      2.24G     0.6078     0.3845     0.9892         40        640: 100%|██████████| 102/102 [00:31<00:00,  3.29it/s]\n",
            "                 Class     Images  Instances      Box(P          R      mAP50  mAP50-95): 100%|██████████| 5/5 [00:01<00:00,  4.52it/s]"
          ]
        },
        {
          "output_type": "stream",
          "name": "stdout",
          "text": [
            "                   all        154        257      0.931      0.861      0.914      0.649\n"
          ]
        },
        {
          "output_type": "stream",
          "name": "stderr",
          "text": [
            "\n"
          ]
        },
        {
          "output_type": "stream",
          "name": "stdout",
          "text": [
            "\n",
            "      Epoch    GPU_mem   box_loss   cls_loss   dfl_loss  Instances       Size\n"
          ]
        },
        {
          "output_type": "stream",
          "name": "stderr",
          "text": [
            "     83/100      2.24G     0.6016     0.3763     0.9871         33        640: 100%|██████████| 102/102 [00:29<00:00,  3.40it/s]\n",
            "                 Class     Images  Instances      Box(P          R      mAP50  mAP50-95): 100%|██████████| 5/5 [00:02<00:00,  2.27it/s]"
          ]
        },
        {
          "output_type": "stream",
          "name": "stdout",
          "text": [
            "                   all        154        257      0.902      0.902      0.921      0.646\n"
          ]
        },
        {
          "output_type": "stream",
          "name": "stderr",
          "text": [
            "\n"
          ]
        },
        {
          "output_type": "stream",
          "name": "stdout",
          "text": [
            "\n",
            "      Epoch    GPU_mem   box_loss   cls_loss   dfl_loss  Instances       Size\n"
          ]
        },
        {
          "output_type": "stream",
          "name": "stderr",
          "text": [
            "     84/100      2.26G     0.5989     0.3791     0.9846         15        640: 100%|██████████| 102/102 [00:28<00:00,  3.56it/s]\n",
            "                 Class     Images  Instances      Box(P          R      mAP50  mAP50-95): 100%|██████████| 5/5 [00:01<00:00,  2.63it/s]"
          ]
        },
        {
          "output_type": "stream",
          "name": "stdout",
          "text": [
            "                   all        154        257      0.931      0.888       0.93      0.652\n"
          ]
        },
        {
          "output_type": "stream",
          "name": "stderr",
          "text": [
            "\n"
          ]
        },
        {
          "output_type": "stream",
          "name": "stdout",
          "text": [
            "\n",
            "      Epoch    GPU_mem   box_loss   cls_loss   dfl_loss  Instances       Size\n"
          ]
        },
        {
          "output_type": "stream",
          "name": "stderr",
          "text": [
            "     85/100      2.27G     0.5866     0.3792     0.9785         30        640: 100%|██████████| 102/102 [00:29<00:00,  3.50it/s]\n",
            "                 Class     Images  Instances      Box(P          R      mAP50  mAP50-95): 100%|██████████| 5/5 [00:00<00:00,  5.15it/s]"
          ]
        },
        {
          "output_type": "stream",
          "name": "stdout",
          "text": [
            "                   all        154        257       0.93        0.9      0.929      0.653\n"
          ]
        },
        {
          "output_type": "stream",
          "name": "stderr",
          "text": [
            "\n"
          ]
        },
        {
          "output_type": "stream",
          "name": "stdout",
          "text": [
            "\n",
            "      Epoch    GPU_mem   box_loss   cls_loss   dfl_loss  Instances       Size\n"
          ]
        },
        {
          "output_type": "stream",
          "name": "stderr",
          "text": [
            "     86/100      2.24G     0.5796     0.3726      0.976         23        640: 100%|██████████| 102/102 [00:30<00:00,  3.35it/s]\n",
            "                 Class     Images  Instances      Box(P          R      mAP50  mAP50-95): 100%|██████████| 5/5 [00:01<00:00,  4.59it/s]"
          ]
        },
        {
          "output_type": "stream",
          "name": "stdout",
          "text": [
            "                   all        154        257      0.929      0.903      0.937      0.665\n"
          ]
        },
        {
          "output_type": "stream",
          "name": "stderr",
          "text": [
            "\n"
          ]
        },
        {
          "output_type": "stream",
          "name": "stdout",
          "text": [
            "\n",
            "      Epoch    GPU_mem   box_loss   cls_loss   dfl_loss  Instances       Size\n"
          ]
        },
        {
          "output_type": "stream",
          "name": "stderr",
          "text": [
            "     87/100      2.24G     0.5814     0.3754      0.977         38        640: 100%|██████████| 102/102 [00:30<00:00,  3.36it/s]\n",
            "                 Class     Images  Instances      Box(P          R      mAP50  mAP50-95): 100%|██████████| 5/5 [00:01<00:00,  4.33it/s]"
          ]
        },
        {
          "output_type": "stream",
          "name": "stdout",
          "text": [
            "                   all        154        257      0.922      0.894      0.932      0.655\n"
          ]
        },
        {
          "output_type": "stream",
          "name": "stderr",
          "text": [
            "\n"
          ]
        },
        {
          "output_type": "stream",
          "name": "stdout",
          "text": [
            "\n",
            "      Epoch    GPU_mem   box_loss   cls_loss   dfl_loss  Instances       Size\n"
          ]
        },
        {
          "output_type": "stream",
          "name": "stderr",
          "text": [
            "     88/100      2.27G     0.5781     0.3748     0.9743         36        640: 100%|██████████| 102/102 [00:31<00:00,  3.24it/s]\n",
            "                 Class     Images  Instances      Box(P          R      mAP50  mAP50-95): 100%|██████████| 5/5 [00:01<00:00,  4.25it/s]"
          ]
        },
        {
          "output_type": "stream",
          "name": "stdout",
          "text": [
            "                   all        154        257      0.917      0.896      0.933      0.644\n"
          ]
        },
        {
          "output_type": "stream",
          "name": "stderr",
          "text": [
            "\n"
          ]
        },
        {
          "output_type": "stream",
          "name": "stdout",
          "text": [
            "\n",
            "      Epoch    GPU_mem   box_loss   cls_loss   dfl_loss  Instances       Size\n"
          ]
        },
        {
          "output_type": "stream",
          "name": "stderr",
          "text": [
            "     89/100      2.24G       0.56     0.3578     0.9676         25        640: 100%|██████████| 102/102 [00:31<00:00,  3.27it/s]\n",
            "                 Class     Images  Instances      Box(P          R      mAP50  mAP50-95): 100%|██████████| 5/5 [00:01<00:00,  4.41it/s]"
          ]
        },
        {
          "output_type": "stream",
          "name": "stdout",
          "text": [
            "                   all        154        257      0.937      0.877      0.932      0.656\n"
          ]
        },
        {
          "output_type": "stream",
          "name": "stderr",
          "text": [
            "\n"
          ]
        },
        {
          "output_type": "stream",
          "name": "stdout",
          "text": [
            "\n",
            "      Epoch    GPU_mem   box_loss   cls_loss   dfl_loss  Instances       Size\n"
          ]
        },
        {
          "output_type": "stream",
          "name": "stderr",
          "text": [
            "     90/100      2.24G     0.5673     0.3623     0.9698         28        640: 100%|██████████| 102/102 [00:30<00:00,  3.39it/s]\n",
            "                 Class     Images  Instances      Box(P          R      mAP50  mAP50-95): 100%|██████████| 5/5 [00:02<00:00,  2.28it/s]"
          ]
        },
        {
          "output_type": "stream",
          "name": "stdout",
          "text": [
            "                   all        154        257      0.922       0.91      0.936      0.666\n"
          ]
        },
        {
          "output_type": "stream",
          "name": "stderr",
          "text": [
            "\n"
          ]
        },
        {
          "output_type": "stream",
          "name": "stdout",
          "text": [
            "Closing dataloader mosaic\n",
            "\u001b[34m\u001b[1malbumentations: \u001b[0mBlur(p=0.01, blur_limit=(3, 7)), MedianBlur(p=0.01, blur_limit=(3, 7)), ToGray(p=0.01), CLAHE(p=0.01, clip_limit=(1, 4.0), tile_grid_size=(8, 8))\n"
          ]
        },
        {
          "output_type": "stream",
          "name": "stderr",
          "text": [
            "os.fork() was called. os.fork() is incompatible with multithreaded code, and JAX is multithreaded, so this will likely lead to a deadlock.\n",
            "os.fork() was called. os.fork() is incompatible with multithreaded code, and JAX is multithreaded, so this will likely lead to a deadlock.\n"
          ]
        },
        {
          "output_type": "stream",
          "name": "stdout",
          "text": [
            "\n",
            "      Epoch    GPU_mem   box_loss   cls_loss   dfl_loss  Instances       Size\n"
          ]
        },
        {
          "output_type": "stream",
          "name": "stderr",
          "text": [
            "     91/100      2.24G     0.5034     0.2794     0.9166         13        640: 100%|██████████| 102/102 [00:30<00:00,  3.39it/s]\n",
            "                 Class     Images  Instances      Box(P          R      mAP50  mAP50-95): 100%|██████████| 5/5 [00:02<00:00,  2.33it/s]"
          ]
        },
        {
          "output_type": "stream",
          "name": "stdout",
          "text": [
            "                   all        154        257      0.914      0.892      0.931      0.649\n"
          ]
        },
        {
          "output_type": "stream",
          "name": "stderr",
          "text": [
            "\n"
          ]
        },
        {
          "output_type": "stream",
          "name": "stdout",
          "text": [
            "\n",
            "      Epoch    GPU_mem   box_loss   cls_loss   dfl_loss  Instances       Size\n"
          ]
        },
        {
          "output_type": "stream",
          "name": "stderr",
          "text": [
            "     92/100      2.22G     0.4704     0.2583     0.8963         13        640: 100%|██████████| 102/102 [00:27<00:00,  3.76it/s]\n",
            "                 Class     Images  Instances      Box(P          R      mAP50  mAP50-95): 100%|██████████| 5/5 [00:01<00:00,  3.08it/s]"
          ]
        },
        {
          "output_type": "stream",
          "name": "stdout",
          "text": [
            "                   all        154        257      0.913      0.898      0.936      0.655\n"
          ]
        },
        {
          "output_type": "stream",
          "name": "stderr",
          "text": [
            "\n"
          ]
        },
        {
          "output_type": "stream",
          "name": "stdout",
          "text": [
            "\n",
            "      Epoch    GPU_mem   box_loss   cls_loss   dfl_loss  Instances       Size\n"
          ]
        },
        {
          "output_type": "stream",
          "name": "stderr",
          "text": [
            "     93/100      2.23G     0.4511      0.246     0.8965         13        640: 100%|██████████| 102/102 [00:28<00:00,  3.63it/s]\n",
            "                 Class     Images  Instances      Box(P          R      mAP50  mAP50-95): 100%|██████████| 5/5 [00:01<00:00,  4.82it/s]"
          ]
        },
        {
          "output_type": "stream",
          "name": "stdout",
          "text": [
            "                   all        154        257      0.917      0.912      0.938       0.66\n"
          ]
        },
        {
          "output_type": "stream",
          "name": "stderr",
          "text": [
            "\n"
          ]
        },
        {
          "output_type": "stream",
          "name": "stdout",
          "text": [
            "\n",
            "      Epoch    GPU_mem   box_loss   cls_loss   dfl_loss  Instances       Size\n"
          ]
        },
        {
          "output_type": "stream",
          "name": "stderr",
          "text": [
            "     94/100      2.22G     0.4405     0.2386     0.8933          9        640: 100%|██████████| 102/102 [00:30<00:00,  3.36it/s]\n",
            "                 Class     Images  Instances      Box(P          R      mAP50  mAP50-95): 100%|██████████| 5/5 [00:01<00:00,  4.63it/s]"
          ]
        },
        {
          "output_type": "stream",
          "name": "stdout",
          "text": [
            "                   all        154        257      0.935      0.887      0.934       0.66\n"
          ]
        },
        {
          "output_type": "stream",
          "name": "stderr",
          "text": [
            "\n"
          ]
        },
        {
          "output_type": "stream",
          "name": "stdout",
          "text": [
            "\n",
            "      Epoch    GPU_mem   box_loss   cls_loss   dfl_loss  Instances       Size\n"
          ]
        },
        {
          "output_type": "stream",
          "name": "stderr",
          "text": [
            "     95/100      2.23G      0.431     0.2348     0.8844         14        640: 100%|██████████| 102/102 [00:29<00:00,  3.44it/s]\n",
            "                 Class     Images  Instances      Box(P          R      mAP50  mAP50-95): 100%|██████████| 5/5 [00:01<00:00,  4.59it/s]"
          ]
        },
        {
          "output_type": "stream",
          "name": "stdout",
          "text": [
            "                   all        154        257      0.942      0.902       0.94      0.673\n"
          ]
        },
        {
          "output_type": "stream",
          "name": "stderr",
          "text": [
            "\n"
          ]
        },
        {
          "output_type": "stream",
          "name": "stdout",
          "text": [
            "\n",
            "      Epoch    GPU_mem   box_loss   cls_loss   dfl_loss  Instances       Size\n"
          ]
        },
        {
          "output_type": "stream",
          "name": "stderr",
          "text": [
            "     96/100      2.23G     0.4253     0.2317     0.8794         14        640: 100%|██████████| 102/102 [00:27<00:00,  3.75it/s]\n",
            "                 Class     Images  Instances      Box(P          R      mAP50  mAP50-95): 100%|██████████| 5/5 [00:01<00:00,  2.65it/s]"
          ]
        },
        {
          "output_type": "stream",
          "name": "stdout",
          "text": [
            "                   all        154        257      0.939      0.914      0.936      0.662\n"
          ]
        },
        {
          "output_type": "stream",
          "name": "stderr",
          "text": [
            "\n"
          ]
        },
        {
          "output_type": "stream",
          "name": "stdout",
          "text": [
            "\n",
            "      Epoch    GPU_mem   box_loss   cls_loss   dfl_loss  Instances       Size\n"
          ]
        },
        {
          "output_type": "stream",
          "name": "stderr",
          "text": [
            "     97/100      2.23G     0.4233     0.2297     0.8789         11        640: 100%|██████████| 102/102 [00:27<00:00,  3.68it/s]\n",
            "                 Class     Images  Instances      Box(P          R      mAP50  mAP50-95): 100%|██████████| 5/5 [00:01<00:00,  4.49it/s]"
          ]
        },
        {
          "output_type": "stream",
          "name": "stdout",
          "text": [
            "                   all        154        257      0.947      0.913      0.942      0.664\n"
          ]
        },
        {
          "output_type": "stream",
          "name": "stderr",
          "text": [
            "\n"
          ]
        },
        {
          "output_type": "stream",
          "name": "stdout",
          "text": [
            "\n",
            "      Epoch    GPU_mem   box_loss   cls_loss   dfl_loss  Instances       Size\n"
          ]
        },
        {
          "output_type": "stream",
          "name": "stderr",
          "text": [
            "     98/100      2.22G     0.4148     0.2301     0.8776         16        640: 100%|██████████| 102/102 [00:30<00:00,  3.39it/s]\n",
            "                 Class     Images  Instances      Box(P          R      mAP50  mAP50-95): 100%|██████████| 5/5 [00:01<00:00,  4.93it/s]"
          ]
        },
        {
          "output_type": "stream",
          "name": "stdout",
          "text": [
            "                   all        154        257      0.947       0.91      0.938      0.663\n"
          ]
        },
        {
          "output_type": "stream",
          "name": "stderr",
          "text": [
            "\n"
          ]
        },
        {
          "output_type": "stream",
          "name": "stdout",
          "text": [
            "\n",
            "      Epoch    GPU_mem   box_loss   cls_loss   dfl_loss  Instances       Size\n"
          ]
        },
        {
          "output_type": "stream",
          "name": "stderr",
          "text": [
            "     99/100      2.23G     0.4092     0.2271     0.8778         11        640: 100%|██████████| 102/102 [00:30<00:00,  3.36it/s]\n",
            "                 Class     Images  Instances      Box(P          R      mAP50  mAP50-95): 100%|██████████| 5/5 [00:01<00:00,  4.86it/s]"
          ]
        },
        {
          "output_type": "stream",
          "name": "stdout",
          "text": [
            "                   all        154        257      0.945      0.913      0.938      0.665\n"
          ]
        },
        {
          "output_type": "stream",
          "name": "stderr",
          "text": [
            "\n"
          ]
        },
        {
          "output_type": "stream",
          "name": "stdout",
          "text": [
            "\n",
            "      Epoch    GPU_mem   box_loss   cls_loss   dfl_loss  Instances       Size\n"
          ]
        },
        {
          "output_type": "stream",
          "name": "stderr",
          "text": [
            "    100/100      2.22G     0.4072     0.2226     0.8706         10        640: 100%|██████████| 102/102 [00:29<00:00,  3.42it/s]\n",
            "                 Class     Images  Instances      Box(P          R      mAP50  mAP50-95): 100%|██████████| 5/5 [00:01<00:00,  2.98it/s]"
          ]
        },
        {
          "output_type": "stream",
          "name": "stdout",
          "text": [
            "                   all        154        257      0.936      0.915      0.936      0.664\n"
          ]
        },
        {
          "output_type": "stream",
          "name": "stderr",
          "text": [
            "\n"
          ]
        },
        {
          "output_type": "stream",
          "name": "stdout",
          "text": [
            "\n",
            "100 epochs completed in 0.882 hours.\n",
            "Optimizer stripped from runs/detect/yolov8_face_detection2/weights/last.pt, 6.2MB\n",
            "Optimizer stripped from runs/detect/yolov8_face_detection2/weights/best.pt, 6.2MB\n",
            "\n",
            "Validating runs/detect/yolov8_face_detection2/weights/best.pt...\n",
            "Ultralytics YOLOv8.2.85 🚀 Python-3.10.12 torch-2.4.0+cu121 CUDA:0 (Tesla T4, 15102MiB)\n",
            "Model summary (fused): 168 layers, 3,006,038 parameters, 0 gradients, 8.1 GFLOPs\n"
          ]
        },
        {
          "output_type": "stream",
          "name": "stderr",
          "text": [
            "                 Class     Images  Instances      Box(P          R      mAP50  mAP50-95): 100%|██████████| 5/5 [00:03<00:00,  1.56it/s]\n"
          ]
        },
        {
          "output_type": "stream",
          "name": "stdout",
          "text": [
            "                   all        154        257      0.942      0.902       0.94      0.674\n",
            "                 Child        128        143      0.931      0.909       0.95       0.68\n",
            "             Therapist        104        114      0.952      0.895       0.93      0.667\n",
            "Speed: 0.6ms preprocess, 2.0ms inference, 0.0ms loss, 5.4ms postprocess per image\n",
            "Results saved to \u001b[1mruns/detect/yolov8_face_detection2\u001b[0m\n"
          ]
        },
        {
          "output_type": "execute_result",
          "data": {
            "text/plain": [
              "ultralytics.utils.metrics.DetMetrics object with attributes:\n",
              "\n",
              "ap_class_index: array([0, 1])\n",
              "box: ultralytics.utils.metrics.Metric object\n",
              "confusion_matrix: <ultralytics.utils.metrics.ConfusionMatrix object at 0x7f039019e3b0>\n",
              "curves: ['Precision-Recall(B)', 'F1-Confidence(B)', 'Precision-Confidence(B)', 'Recall-Confidence(B)']\n",
              "curves_results: [[array([          0,    0.001001,    0.002002,    0.003003,    0.004004,    0.005005,    0.006006,    0.007007,    0.008008,    0.009009,     0.01001,    0.011011,    0.012012,    0.013013,    0.014014,    0.015015,    0.016016,    0.017017,    0.018018,    0.019019,     0.02002,    0.021021,    0.022022,    0.023023,\n",
              "          0.024024,    0.025025,    0.026026,    0.027027,    0.028028,    0.029029,     0.03003,    0.031031,    0.032032,    0.033033,    0.034034,    0.035035,    0.036036,    0.037037,    0.038038,    0.039039,     0.04004,    0.041041,    0.042042,    0.043043,    0.044044,    0.045045,    0.046046,    0.047047,\n",
              "          0.048048,    0.049049,     0.05005,    0.051051,    0.052052,    0.053053,    0.054054,    0.055055,    0.056056,    0.057057,    0.058058,    0.059059,     0.06006,    0.061061,    0.062062,    0.063063,    0.064064,    0.065065,    0.066066,    0.067067,    0.068068,    0.069069,     0.07007,    0.071071,\n",
              "          0.072072,    0.073073,    0.074074,    0.075075,    0.076076,    0.077077,    0.078078,    0.079079,     0.08008,    0.081081,    0.082082,    0.083083,    0.084084,    0.085085,    0.086086,    0.087087,    0.088088,    0.089089,     0.09009,    0.091091,    0.092092,    0.093093,    0.094094,    0.095095,\n",
              "          0.096096,    0.097097,    0.098098,    0.099099,      0.1001,      0.1011,      0.1021,      0.1031,      0.1041,     0.10511,     0.10611,     0.10711,     0.10811,     0.10911,     0.11011,     0.11111,     0.11211,     0.11311,     0.11411,     0.11512,     0.11612,     0.11712,     0.11812,     0.11912,\n",
              "           0.12012,     0.12112,     0.12212,     0.12312,     0.12412,     0.12513,     0.12613,     0.12713,     0.12813,     0.12913,     0.13013,     0.13113,     0.13213,     0.13313,     0.13413,     0.13514,     0.13614,     0.13714,     0.13814,     0.13914,     0.14014,     0.14114,     0.14214,     0.14314,\n",
              "           0.14414,     0.14515,     0.14615,     0.14715,     0.14815,     0.14915,     0.15015,     0.15115,     0.15215,     0.15315,     0.15415,     0.15516,     0.15616,     0.15716,     0.15816,     0.15916,     0.16016,     0.16116,     0.16216,     0.16316,     0.16416,     0.16517,     0.16617,     0.16717,\n",
              "           0.16817,     0.16917,     0.17017,     0.17117,     0.17217,     0.17317,     0.17417,     0.17518,     0.17618,     0.17718,     0.17818,     0.17918,     0.18018,     0.18118,     0.18218,     0.18318,     0.18418,     0.18519,     0.18619,     0.18719,     0.18819,     0.18919,     0.19019,     0.19119,\n",
              "           0.19219,     0.19319,     0.19419,      0.1952,      0.1962,      0.1972,      0.1982,      0.1992,      0.2002,      0.2012,      0.2022,      0.2032,      0.2042,     0.20521,     0.20621,     0.20721,     0.20821,     0.20921,     0.21021,     0.21121,     0.21221,     0.21321,     0.21421,     0.21522,\n",
              "           0.21622,     0.21722,     0.21822,     0.21922,     0.22022,     0.22122,     0.22222,     0.22322,     0.22422,     0.22523,     0.22623,     0.22723,     0.22823,     0.22923,     0.23023,     0.23123,     0.23223,     0.23323,     0.23423,     0.23524,     0.23624,     0.23724,     0.23824,     0.23924,\n",
              "           0.24024,     0.24124,     0.24224,     0.24324,     0.24424,     0.24525,     0.24625,     0.24725,     0.24825,     0.24925,     0.25025,     0.25125,     0.25225,     0.25325,     0.25425,     0.25526,     0.25626,     0.25726,     0.25826,     0.25926,     0.26026,     0.26126,     0.26226,     0.26326,\n",
              "           0.26426,     0.26527,     0.26627,     0.26727,     0.26827,     0.26927,     0.27027,     0.27127,     0.27227,     0.27327,     0.27427,     0.27528,     0.27628,     0.27728,     0.27828,     0.27928,     0.28028,     0.28128,     0.28228,     0.28328,     0.28428,     0.28529,     0.28629,     0.28729,\n",
              "           0.28829,     0.28929,     0.29029,     0.29129,     0.29229,     0.29329,     0.29429,      0.2953,      0.2963,      0.2973,      0.2983,      0.2993,      0.3003,      0.3013,      0.3023,      0.3033,      0.3043,     0.30531,     0.30631,     0.30731,     0.30831,     0.30931,     0.31031,     0.31131,\n",
              "           0.31231,     0.31331,     0.31431,     0.31532,     0.31632,     0.31732,     0.31832,     0.31932,     0.32032,     0.32132,     0.32232,     0.32332,     0.32432,     0.32533,     0.32633,     0.32733,     0.32833,     0.32933,     0.33033,     0.33133,     0.33233,     0.33333,     0.33433,     0.33534,\n",
              "           0.33634,     0.33734,     0.33834,     0.33934,     0.34034,     0.34134,     0.34234,     0.34334,     0.34434,     0.34535,     0.34635,     0.34735,     0.34835,     0.34935,     0.35035,     0.35135,     0.35235,     0.35335,     0.35435,     0.35536,     0.35636,     0.35736,     0.35836,     0.35936,\n",
              "           0.36036,     0.36136,     0.36236,     0.36336,     0.36436,     0.36537,     0.36637,     0.36737,     0.36837,     0.36937,     0.37037,     0.37137,     0.37237,     0.37337,     0.37437,     0.37538,     0.37638,     0.37738,     0.37838,     0.37938,     0.38038,     0.38138,     0.38238,     0.38338,\n",
              "           0.38438,     0.38539,     0.38639,     0.38739,     0.38839,     0.38939,     0.39039,     0.39139,     0.39239,     0.39339,     0.39439,      0.3954,      0.3964,      0.3974,      0.3984,      0.3994,      0.4004,      0.4014,      0.4024,      0.4034,      0.4044,     0.40541,     0.40641,     0.40741,\n",
              "           0.40841,     0.40941,     0.41041,     0.41141,     0.41241,     0.41341,     0.41441,     0.41542,     0.41642,     0.41742,     0.41842,     0.41942,     0.42042,     0.42142,     0.42242,     0.42342,     0.42442,     0.42543,     0.42643,     0.42743,     0.42843,     0.42943,     0.43043,     0.43143,\n",
              "           0.43243,     0.43343,     0.43443,     0.43544,     0.43644,     0.43744,     0.43844,     0.43944,     0.44044,     0.44144,     0.44244,     0.44344,     0.44444,     0.44545,     0.44645,     0.44745,     0.44845,     0.44945,     0.45045,     0.45145,     0.45245,     0.45345,     0.45445,     0.45546,\n",
              "           0.45646,     0.45746,     0.45846,     0.45946,     0.46046,     0.46146,     0.46246,     0.46346,     0.46446,     0.46547,     0.46647,     0.46747,     0.46847,     0.46947,     0.47047,     0.47147,     0.47247,     0.47347,     0.47447,     0.47548,     0.47648,     0.47748,     0.47848,     0.47948,\n",
              "           0.48048,     0.48148,     0.48248,     0.48348,     0.48448,     0.48549,     0.48649,     0.48749,     0.48849,     0.48949,     0.49049,     0.49149,     0.49249,     0.49349,     0.49449,      0.4955,      0.4965,      0.4975,      0.4985,      0.4995,      0.5005,      0.5015,      0.5025,      0.5035,\n",
              "            0.5045,     0.50551,     0.50651,     0.50751,     0.50851,     0.50951,     0.51051,     0.51151,     0.51251,     0.51351,     0.51451,     0.51552,     0.51652,     0.51752,     0.51852,     0.51952,     0.52052,     0.52152,     0.52252,     0.52352,     0.52452,     0.52553,     0.52653,     0.52753,\n",
              "           0.52853,     0.52953,     0.53053,     0.53153,     0.53253,     0.53353,     0.53453,     0.53554,     0.53654,     0.53754,     0.53854,     0.53954,     0.54054,     0.54154,     0.54254,     0.54354,     0.54454,     0.54555,     0.54655,     0.54755,     0.54855,     0.54955,     0.55055,     0.55155,\n",
              "           0.55255,     0.55355,     0.55455,     0.55556,     0.55656,     0.55756,     0.55856,     0.55956,     0.56056,     0.56156,     0.56256,     0.56356,     0.56456,     0.56557,     0.56657,     0.56757,     0.56857,     0.56957,     0.57057,     0.57157,     0.57257,     0.57357,     0.57457,     0.57558,\n",
              "           0.57658,     0.57758,     0.57858,     0.57958,     0.58058,     0.58158,     0.58258,     0.58358,     0.58458,     0.58559,     0.58659,     0.58759,     0.58859,     0.58959,     0.59059,     0.59159,     0.59259,     0.59359,     0.59459,      0.5956,      0.5966,      0.5976,      0.5986,      0.5996,\n",
              "            0.6006,      0.6016,      0.6026,      0.6036,      0.6046,     0.60561,     0.60661,     0.60761,     0.60861,     0.60961,     0.61061,     0.61161,     0.61261,     0.61361,     0.61461,     0.61562,     0.61662,     0.61762,     0.61862,     0.61962,     0.62062,     0.62162,     0.62262,     0.62362,\n",
              "           0.62462,     0.62563,     0.62663,     0.62763,     0.62863,     0.62963,     0.63063,     0.63163,     0.63263,     0.63363,     0.63463,     0.63564,     0.63664,     0.63764,     0.63864,     0.63964,     0.64064,     0.64164,     0.64264,     0.64364,     0.64464,     0.64565,     0.64665,     0.64765,\n",
              "           0.64865,     0.64965,     0.65065,     0.65165,     0.65265,     0.65365,     0.65465,     0.65566,     0.65666,     0.65766,     0.65866,     0.65966,     0.66066,     0.66166,     0.66266,     0.66366,     0.66466,     0.66567,     0.66667,     0.66767,     0.66867,     0.66967,     0.67067,     0.67167,\n",
              "           0.67267,     0.67367,     0.67467,     0.67568,     0.67668,     0.67768,     0.67868,     0.67968,     0.68068,     0.68168,     0.68268,     0.68368,     0.68468,     0.68569,     0.68669,     0.68769,     0.68869,     0.68969,     0.69069,     0.69169,     0.69269,     0.69369,     0.69469,      0.6957,\n",
              "            0.6967,      0.6977,      0.6987,      0.6997,      0.7007,      0.7017,      0.7027,      0.7037,      0.7047,     0.70571,     0.70671,     0.70771,     0.70871,     0.70971,     0.71071,     0.71171,     0.71271,     0.71371,     0.71471,     0.71572,     0.71672,     0.71772,     0.71872,     0.71972,\n",
              "           0.72072,     0.72172,     0.72272,     0.72372,     0.72472,     0.72573,     0.72673,     0.72773,     0.72873,     0.72973,     0.73073,     0.73173,     0.73273,     0.73373,     0.73473,     0.73574,     0.73674,     0.73774,     0.73874,     0.73974,     0.74074,     0.74174,     0.74274,     0.74374,\n",
              "           0.74474,     0.74575,     0.74675,     0.74775,     0.74875,     0.74975,     0.75075,     0.75175,     0.75275,     0.75375,     0.75475,     0.75576,     0.75676,     0.75776,     0.75876,     0.75976,     0.76076,     0.76176,     0.76276,     0.76376,     0.76476,     0.76577,     0.76677,     0.76777,\n",
              "           0.76877,     0.76977,     0.77077,     0.77177,     0.77277,     0.77377,     0.77477,     0.77578,     0.77678,     0.77778,     0.77878,     0.77978,     0.78078,     0.78178,     0.78278,     0.78378,     0.78478,     0.78579,     0.78679,     0.78779,     0.78879,     0.78979,     0.79079,     0.79179,\n",
              "           0.79279,     0.79379,     0.79479,      0.7958,      0.7968,      0.7978,      0.7988,      0.7998,      0.8008,      0.8018,      0.8028,      0.8038,      0.8048,     0.80581,     0.80681,     0.80781,     0.80881,     0.80981,     0.81081,     0.81181,     0.81281,     0.81381,     0.81481,     0.81582,\n",
              "           0.81682,     0.81782,     0.81882,     0.81982,     0.82082,     0.82182,     0.82282,     0.82382,     0.82482,     0.82583,     0.82683,     0.82783,     0.82883,     0.82983,     0.83083,     0.83183,     0.83283,     0.83383,     0.83483,     0.83584,     0.83684,     0.83784,     0.83884,     0.83984,\n",
              "           0.84084,     0.84184,     0.84284,     0.84384,     0.84484,     0.84585,     0.84685,     0.84785,     0.84885,     0.84985,     0.85085,     0.85185,     0.85285,     0.85385,     0.85485,     0.85586,     0.85686,     0.85786,     0.85886,     0.85986,     0.86086,     0.86186,     0.86286,     0.86386,\n",
              "           0.86486,     0.86587,     0.86687,     0.86787,     0.86887,     0.86987,     0.87087,     0.87187,     0.87287,     0.87387,     0.87487,     0.87588,     0.87688,     0.87788,     0.87888,     0.87988,     0.88088,     0.88188,     0.88288,     0.88388,     0.88488,     0.88589,     0.88689,     0.88789,\n",
              "           0.88889,     0.88989,     0.89089,     0.89189,     0.89289,     0.89389,     0.89489,      0.8959,      0.8969,      0.8979,      0.8989,      0.8999,      0.9009,      0.9019,      0.9029,      0.9039,      0.9049,     0.90591,     0.90691,     0.90791,     0.90891,     0.90991,     0.91091,     0.91191,\n",
              "           0.91291,     0.91391,     0.91491,     0.91592,     0.91692,     0.91792,     0.91892,     0.91992,     0.92092,     0.92192,     0.92292,     0.92392,     0.92492,     0.92593,     0.92693,     0.92793,     0.92893,     0.92993,     0.93093,     0.93193,     0.93293,     0.93393,     0.93493,     0.93594,\n",
              "           0.93694,     0.93794,     0.93894,     0.93994,     0.94094,     0.94194,     0.94294,     0.94394,     0.94494,     0.94595,     0.94695,     0.94795,     0.94895,     0.94995,     0.95095,     0.95195,     0.95295,     0.95395,     0.95495,     0.95596,     0.95696,     0.95796,     0.95896,     0.95996,\n",
              "           0.96096,     0.96196,     0.96296,     0.96396,     0.96496,     0.96597,     0.96697,     0.96797,     0.96897,     0.96997,     0.97097,     0.97197,     0.97297,     0.97397,     0.97497,     0.97598,     0.97698,     0.97798,     0.97898,     0.97998,     0.98098,     0.98198,     0.98298,     0.98398,\n",
              "           0.98498,     0.98599,     0.98699,     0.98799,     0.98899,     0.98999,     0.99099,     0.99199,     0.99299,     0.99399,     0.99499,       0.996,       0.997,       0.998,       0.999,           1]), array([[          1,           1,           1, ...,    0.025738,    0.012869,           0],\n",
              "       [          1,           1,           1, ...,    0.029321,     0.01466,           0]]), 'Recall', 'Precision'], [array([          0,    0.001001,    0.002002,    0.003003,    0.004004,    0.005005,    0.006006,    0.007007,    0.008008,    0.009009,     0.01001,    0.011011,    0.012012,    0.013013,    0.014014,    0.015015,    0.016016,    0.017017,    0.018018,    0.019019,     0.02002,    0.021021,    0.022022,    0.023023,\n",
              "          0.024024,    0.025025,    0.026026,    0.027027,    0.028028,    0.029029,     0.03003,    0.031031,    0.032032,    0.033033,    0.034034,    0.035035,    0.036036,    0.037037,    0.038038,    0.039039,     0.04004,    0.041041,    0.042042,    0.043043,    0.044044,    0.045045,    0.046046,    0.047047,\n",
              "          0.048048,    0.049049,     0.05005,    0.051051,    0.052052,    0.053053,    0.054054,    0.055055,    0.056056,    0.057057,    0.058058,    0.059059,     0.06006,    0.061061,    0.062062,    0.063063,    0.064064,    0.065065,    0.066066,    0.067067,    0.068068,    0.069069,     0.07007,    0.071071,\n",
              "          0.072072,    0.073073,    0.074074,    0.075075,    0.076076,    0.077077,    0.078078,    0.079079,     0.08008,    0.081081,    0.082082,    0.083083,    0.084084,    0.085085,    0.086086,    0.087087,    0.088088,    0.089089,     0.09009,    0.091091,    0.092092,    0.093093,    0.094094,    0.095095,\n",
              "          0.096096,    0.097097,    0.098098,    0.099099,      0.1001,      0.1011,      0.1021,      0.1031,      0.1041,     0.10511,     0.10611,     0.10711,     0.10811,     0.10911,     0.11011,     0.11111,     0.11211,     0.11311,     0.11411,     0.11512,     0.11612,     0.11712,     0.11812,     0.11912,\n",
              "           0.12012,     0.12112,     0.12212,     0.12312,     0.12412,     0.12513,     0.12613,     0.12713,     0.12813,     0.12913,     0.13013,     0.13113,     0.13213,     0.13313,     0.13413,     0.13514,     0.13614,     0.13714,     0.13814,     0.13914,     0.14014,     0.14114,     0.14214,     0.14314,\n",
              "           0.14414,     0.14515,     0.14615,     0.14715,     0.14815,     0.14915,     0.15015,     0.15115,     0.15215,     0.15315,     0.15415,     0.15516,     0.15616,     0.15716,     0.15816,     0.15916,     0.16016,     0.16116,     0.16216,     0.16316,     0.16416,     0.16517,     0.16617,     0.16717,\n",
              "           0.16817,     0.16917,     0.17017,     0.17117,     0.17217,     0.17317,     0.17417,     0.17518,     0.17618,     0.17718,     0.17818,     0.17918,     0.18018,     0.18118,     0.18218,     0.18318,     0.18418,     0.18519,     0.18619,     0.18719,     0.18819,     0.18919,     0.19019,     0.19119,\n",
              "           0.19219,     0.19319,     0.19419,      0.1952,      0.1962,      0.1972,      0.1982,      0.1992,      0.2002,      0.2012,      0.2022,      0.2032,      0.2042,     0.20521,     0.20621,     0.20721,     0.20821,     0.20921,     0.21021,     0.21121,     0.21221,     0.21321,     0.21421,     0.21522,\n",
              "           0.21622,     0.21722,     0.21822,     0.21922,     0.22022,     0.22122,     0.22222,     0.22322,     0.22422,     0.22523,     0.22623,     0.22723,     0.22823,     0.22923,     0.23023,     0.23123,     0.23223,     0.23323,     0.23423,     0.23524,     0.23624,     0.23724,     0.23824,     0.23924,\n",
              "           0.24024,     0.24124,     0.24224,     0.24324,     0.24424,     0.24525,     0.24625,     0.24725,     0.24825,     0.24925,     0.25025,     0.25125,     0.25225,     0.25325,     0.25425,     0.25526,     0.25626,     0.25726,     0.25826,     0.25926,     0.26026,     0.26126,     0.26226,     0.26326,\n",
              "           0.26426,     0.26527,     0.26627,     0.26727,     0.26827,     0.26927,     0.27027,     0.27127,     0.27227,     0.27327,     0.27427,     0.27528,     0.27628,     0.27728,     0.27828,     0.27928,     0.28028,     0.28128,     0.28228,     0.28328,     0.28428,     0.28529,     0.28629,     0.28729,\n",
              "           0.28829,     0.28929,     0.29029,     0.29129,     0.29229,     0.29329,     0.29429,      0.2953,      0.2963,      0.2973,      0.2983,      0.2993,      0.3003,      0.3013,      0.3023,      0.3033,      0.3043,     0.30531,     0.30631,     0.30731,     0.30831,     0.30931,     0.31031,     0.31131,\n",
              "           0.31231,     0.31331,     0.31431,     0.31532,     0.31632,     0.31732,     0.31832,     0.31932,     0.32032,     0.32132,     0.32232,     0.32332,     0.32432,     0.32533,     0.32633,     0.32733,     0.32833,     0.32933,     0.33033,     0.33133,     0.33233,     0.33333,     0.33433,     0.33534,\n",
              "           0.33634,     0.33734,     0.33834,     0.33934,     0.34034,     0.34134,     0.34234,     0.34334,     0.34434,     0.34535,     0.34635,     0.34735,     0.34835,     0.34935,     0.35035,     0.35135,     0.35235,     0.35335,     0.35435,     0.35536,     0.35636,     0.35736,     0.35836,     0.35936,\n",
              "           0.36036,     0.36136,     0.36236,     0.36336,     0.36436,     0.36537,     0.36637,     0.36737,     0.36837,     0.36937,     0.37037,     0.37137,     0.37237,     0.37337,     0.37437,     0.37538,     0.37638,     0.37738,     0.37838,     0.37938,     0.38038,     0.38138,     0.38238,     0.38338,\n",
              "           0.38438,     0.38539,     0.38639,     0.38739,     0.38839,     0.38939,     0.39039,     0.39139,     0.39239,     0.39339,     0.39439,      0.3954,      0.3964,      0.3974,      0.3984,      0.3994,      0.4004,      0.4014,      0.4024,      0.4034,      0.4044,     0.40541,     0.40641,     0.40741,\n",
              "           0.40841,     0.40941,     0.41041,     0.41141,     0.41241,     0.41341,     0.41441,     0.41542,     0.41642,     0.41742,     0.41842,     0.41942,     0.42042,     0.42142,     0.42242,     0.42342,     0.42442,     0.42543,     0.42643,     0.42743,     0.42843,     0.42943,     0.43043,     0.43143,\n",
              "           0.43243,     0.43343,     0.43443,     0.43544,     0.43644,     0.43744,     0.43844,     0.43944,     0.44044,     0.44144,     0.44244,     0.44344,     0.44444,     0.44545,     0.44645,     0.44745,     0.44845,     0.44945,     0.45045,     0.45145,     0.45245,     0.45345,     0.45445,     0.45546,\n",
              "           0.45646,     0.45746,     0.45846,     0.45946,     0.46046,     0.46146,     0.46246,     0.46346,     0.46446,     0.46547,     0.46647,     0.46747,     0.46847,     0.46947,     0.47047,     0.47147,     0.47247,     0.47347,     0.47447,     0.47548,     0.47648,     0.47748,     0.47848,     0.47948,\n",
              "           0.48048,     0.48148,     0.48248,     0.48348,     0.48448,     0.48549,     0.48649,     0.48749,     0.48849,     0.48949,     0.49049,     0.49149,     0.49249,     0.49349,     0.49449,      0.4955,      0.4965,      0.4975,      0.4985,      0.4995,      0.5005,      0.5015,      0.5025,      0.5035,\n",
              "            0.5045,     0.50551,     0.50651,     0.50751,     0.50851,     0.50951,     0.51051,     0.51151,     0.51251,     0.51351,     0.51451,     0.51552,     0.51652,     0.51752,     0.51852,     0.51952,     0.52052,     0.52152,     0.52252,     0.52352,     0.52452,     0.52553,     0.52653,     0.52753,\n",
              "           0.52853,     0.52953,     0.53053,     0.53153,     0.53253,     0.53353,     0.53453,     0.53554,     0.53654,     0.53754,     0.53854,     0.53954,     0.54054,     0.54154,     0.54254,     0.54354,     0.54454,     0.54555,     0.54655,     0.54755,     0.54855,     0.54955,     0.55055,     0.55155,\n",
              "           0.55255,     0.55355,     0.55455,     0.55556,     0.55656,     0.55756,     0.55856,     0.55956,     0.56056,     0.56156,     0.56256,     0.56356,     0.56456,     0.56557,     0.56657,     0.56757,     0.56857,     0.56957,     0.57057,     0.57157,     0.57257,     0.57357,     0.57457,     0.57558,\n",
              "           0.57658,     0.57758,     0.57858,     0.57958,     0.58058,     0.58158,     0.58258,     0.58358,     0.58458,     0.58559,     0.58659,     0.58759,     0.58859,     0.58959,     0.59059,     0.59159,     0.59259,     0.59359,     0.59459,      0.5956,      0.5966,      0.5976,      0.5986,      0.5996,\n",
              "            0.6006,      0.6016,      0.6026,      0.6036,      0.6046,     0.60561,     0.60661,     0.60761,     0.60861,     0.60961,     0.61061,     0.61161,     0.61261,     0.61361,     0.61461,     0.61562,     0.61662,     0.61762,     0.61862,     0.61962,     0.62062,     0.62162,     0.62262,     0.62362,\n",
              "           0.62462,     0.62563,     0.62663,     0.62763,     0.62863,     0.62963,     0.63063,     0.63163,     0.63263,     0.63363,     0.63463,     0.63564,     0.63664,     0.63764,     0.63864,     0.63964,     0.64064,     0.64164,     0.64264,     0.64364,     0.64464,     0.64565,     0.64665,     0.64765,\n",
              "           0.64865,     0.64965,     0.65065,     0.65165,     0.65265,     0.65365,     0.65465,     0.65566,     0.65666,     0.65766,     0.65866,     0.65966,     0.66066,     0.66166,     0.66266,     0.66366,     0.66466,     0.66567,     0.66667,     0.66767,     0.66867,     0.66967,     0.67067,     0.67167,\n",
              "           0.67267,     0.67367,     0.67467,     0.67568,     0.67668,     0.67768,     0.67868,     0.67968,     0.68068,     0.68168,     0.68268,     0.68368,     0.68468,     0.68569,     0.68669,     0.68769,     0.68869,     0.68969,     0.69069,     0.69169,     0.69269,     0.69369,     0.69469,      0.6957,\n",
              "            0.6967,      0.6977,      0.6987,      0.6997,      0.7007,      0.7017,      0.7027,      0.7037,      0.7047,     0.70571,     0.70671,     0.70771,     0.70871,     0.70971,     0.71071,     0.71171,     0.71271,     0.71371,     0.71471,     0.71572,     0.71672,     0.71772,     0.71872,     0.71972,\n",
              "           0.72072,     0.72172,     0.72272,     0.72372,     0.72472,     0.72573,     0.72673,     0.72773,     0.72873,     0.72973,     0.73073,     0.73173,     0.73273,     0.73373,     0.73473,     0.73574,     0.73674,     0.73774,     0.73874,     0.73974,     0.74074,     0.74174,     0.74274,     0.74374,\n",
              "           0.74474,     0.74575,     0.74675,     0.74775,     0.74875,     0.74975,     0.75075,     0.75175,     0.75275,     0.75375,     0.75475,     0.75576,     0.75676,     0.75776,     0.75876,     0.75976,     0.76076,     0.76176,     0.76276,     0.76376,     0.76476,     0.76577,     0.76677,     0.76777,\n",
              "           0.76877,     0.76977,     0.77077,     0.77177,     0.77277,     0.77377,     0.77477,     0.77578,     0.77678,     0.77778,     0.77878,     0.77978,     0.78078,     0.78178,     0.78278,     0.78378,     0.78478,     0.78579,     0.78679,     0.78779,     0.78879,     0.78979,     0.79079,     0.79179,\n",
              "           0.79279,     0.79379,     0.79479,      0.7958,      0.7968,      0.7978,      0.7988,      0.7998,      0.8008,      0.8018,      0.8028,      0.8038,      0.8048,     0.80581,     0.80681,     0.80781,     0.80881,     0.80981,     0.81081,     0.81181,     0.81281,     0.81381,     0.81481,     0.81582,\n",
              "           0.81682,     0.81782,     0.81882,     0.81982,     0.82082,     0.82182,     0.82282,     0.82382,     0.82482,     0.82583,     0.82683,     0.82783,     0.82883,     0.82983,     0.83083,     0.83183,     0.83283,     0.83383,     0.83483,     0.83584,     0.83684,     0.83784,     0.83884,     0.83984,\n",
              "           0.84084,     0.84184,     0.84284,     0.84384,     0.84484,     0.84585,     0.84685,     0.84785,     0.84885,     0.84985,     0.85085,     0.85185,     0.85285,     0.85385,     0.85485,     0.85586,     0.85686,     0.85786,     0.85886,     0.85986,     0.86086,     0.86186,     0.86286,     0.86386,\n",
              "           0.86486,     0.86587,     0.86687,     0.86787,     0.86887,     0.86987,     0.87087,     0.87187,     0.87287,     0.87387,     0.87487,     0.87588,     0.87688,     0.87788,     0.87888,     0.87988,     0.88088,     0.88188,     0.88288,     0.88388,     0.88488,     0.88589,     0.88689,     0.88789,\n",
              "           0.88889,     0.88989,     0.89089,     0.89189,     0.89289,     0.89389,     0.89489,      0.8959,      0.8969,      0.8979,      0.8989,      0.8999,      0.9009,      0.9019,      0.9029,      0.9039,      0.9049,     0.90591,     0.90691,     0.90791,     0.90891,     0.90991,     0.91091,     0.91191,\n",
              "           0.91291,     0.91391,     0.91491,     0.91592,     0.91692,     0.91792,     0.91892,     0.91992,     0.92092,     0.92192,     0.92292,     0.92392,     0.92492,     0.92593,     0.92693,     0.92793,     0.92893,     0.92993,     0.93093,     0.93193,     0.93293,     0.93393,     0.93493,     0.93594,\n",
              "           0.93694,     0.93794,     0.93894,     0.93994,     0.94094,     0.94194,     0.94294,     0.94394,     0.94494,     0.94595,     0.94695,     0.94795,     0.94895,     0.94995,     0.95095,     0.95195,     0.95295,     0.95395,     0.95495,     0.95596,     0.95696,     0.95796,     0.95896,     0.95996,\n",
              "           0.96096,     0.96196,     0.96296,     0.96396,     0.96496,     0.96597,     0.96697,     0.96797,     0.96897,     0.96997,     0.97097,     0.97197,     0.97297,     0.97397,     0.97497,     0.97598,     0.97698,     0.97798,     0.97898,     0.97998,     0.98098,     0.98198,     0.98298,     0.98398,\n",
              "           0.98498,     0.98599,     0.98699,     0.98799,     0.98899,     0.98999,     0.99099,     0.99199,     0.99299,     0.99399,     0.99499,       0.996,       0.997,       0.998,       0.999,           1]), array([[    0.61333,     0.61333,     0.71039, ...,           0,           0,           0],\n",
              "       [    0.55224,     0.55224,      0.6739, ...,           0,           0,           0]]), 'Confidence', 'F1'], [array([          0,    0.001001,    0.002002,    0.003003,    0.004004,    0.005005,    0.006006,    0.007007,    0.008008,    0.009009,     0.01001,    0.011011,    0.012012,    0.013013,    0.014014,    0.015015,    0.016016,    0.017017,    0.018018,    0.019019,     0.02002,    0.021021,    0.022022,    0.023023,\n",
              "          0.024024,    0.025025,    0.026026,    0.027027,    0.028028,    0.029029,     0.03003,    0.031031,    0.032032,    0.033033,    0.034034,    0.035035,    0.036036,    0.037037,    0.038038,    0.039039,     0.04004,    0.041041,    0.042042,    0.043043,    0.044044,    0.045045,    0.046046,    0.047047,\n",
              "          0.048048,    0.049049,     0.05005,    0.051051,    0.052052,    0.053053,    0.054054,    0.055055,    0.056056,    0.057057,    0.058058,    0.059059,     0.06006,    0.061061,    0.062062,    0.063063,    0.064064,    0.065065,    0.066066,    0.067067,    0.068068,    0.069069,     0.07007,    0.071071,\n",
              "          0.072072,    0.073073,    0.074074,    0.075075,    0.076076,    0.077077,    0.078078,    0.079079,     0.08008,    0.081081,    0.082082,    0.083083,    0.084084,    0.085085,    0.086086,    0.087087,    0.088088,    0.089089,     0.09009,    0.091091,    0.092092,    0.093093,    0.094094,    0.095095,\n",
              "          0.096096,    0.097097,    0.098098,    0.099099,      0.1001,      0.1011,      0.1021,      0.1031,      0.1041,     0.10511,     0.10611,     0.10711,     0.10811,     0.10911,     0.11011,     0.11111,     0.11211,     0.11311,     0.11411,     0.11512,     0.11612,     0.11712,     0.11812,     0.11912,\n",
              "           0.12012,     0.12112,     0.12212,     0.12312,     0.12412,     0.12513,     0.12613,     0.12713,     0.12813,     0.12913,     0.13013,     0.13113,     0.13213,     0.13313,     0.13413,     0.13514,     0.13614,     0.13714,     0.13814,     0.13914,     0.14014,     0.14114,     0.14214,     0.14314,\n",
              "           0.14414,     0.14515,     0.14615,     0.14715,     0.14815,     0.14915,     0.15015,     0.15115,     0.15215,     0.15315,     0.15415,     0.15516,     0.15616,     0.15716,     0.15816,     0.15916,     0.16016,     0.16116,     0.16216,     0.16316,     0.16416,     0.16517,     0.16617,     0.16717,\n",
              "           0.16817,     0.16917,     0.17017,     0.17117,     0.17217,     0.17317,     0.17417,     0.17518,     0.17618,     0.17718,     0.17818,     0.17918,     0.18018,     0.18118,     0.18218,     0.18318,     0.18418,     0.18519,     0.18619,     0.18719,     0.18819,     0.18919,     0.19019,     0.19119,\n",
              "           0.19219,     0.19319,     0.19419,      0.1952,      0.1962,      0.1972,      0.1982,      0.1992,      0.2002,      0.2012,      0.2022,      0.2032,      0.2042,     0.20521,     0.20621,     0.20721,     0.20821,     0.20921,     0.21021,     0.21121,     0.21221,     0.21321,     0.21421,     0.21522,\n",
              "           0.21622,     0.21722,     0.21822,     0.21922,     0.22022,     0.22122,     0.22222,     0.22322,     0.22422,     0.22523,     0.22623,     0.22723,     0.22823,     0.22923,     0.23023,     0.23123,     0.23223,     0.23323,     0.23423,     0.23524,     0.23624,     0.23724,     0.23824,     0.23924,\n",
              "           0.24024,     0.24124,     0.24224,     0.24324,     0.24424,     0.24525,     0.24625,     0.24725,     0.24825,     0.24925,     0.25025,     0.25125,     0.25225,     0.25325,     0.25425,     0.25526,     0.25626,     0.25726,     0.25826,     0.25926,     0.26026,     0.26126,     0.26226,     0.26326,\n",
              "           0.26426,     0.26527,     0.26627,     0.26727,     0.26827,     0.26927,     0.27027,     0.27127,     0.27227,     0.27327,     0.27427,     0.27528,     0.27628,     0.27728,     0.27828,     0.27928,     0.28028,     0.28128,     0.28228,     0.28328,     0.28428,     0.28529,     0.28629,     0.28729,\n",
              "           0.28829,     0.28929,     0.29029,     0.29129,     0.29229,     0.29329,     0.29429,      0.2953,      0.2963,      0.2973,      0.2983,      0.2993,      0.3003,      0.3013,      0.3023,      0.3033,      0.3043,     0.30531,     0.30631,     0.30731,     0.30831,     0.30931,     0.31031,     0.31131,\n",
              "           0.31231,     0.31331,     0.31431,     0.31532,     0.31632,     0.31732,     0.31832,     0.31932,     0.32032,     0.32132,     0.32232,     0.32332,     0.32432,     0.32533,     0.32633,     0.32733,     0.32833,     0.32933,     0.33033,     0.33133,     0.33233,     0.33333,     0.33433,     0.33534,\n",
              "           0.33634,     0.33734,     0.33834,     0.33934,     0.34034,     0.34134,     0.34234,     0.34334,     0.34434,     0.34535,     0.34635,     0.34735,     0.34835,     0.34935,     0.35035,     0.35135,     0.35235,     0.35335,     0.35435,     0.35536,     0.35636,     0.35736,     0.35836,     0.35936,\n",
              "           0.36036,     0.36136,     0.36236,     0.36336,     0.36436,     0.36537,     0.36637,     0.36737,     0.36837,     0.36937,     0.37037,     0.37137,     0.37237,     0.37337,     0.37437,     0.37538,     0.37638,     0.37738,     0.37838,     0.37938,     0.38038,     0.38138,     0.38238,     0.38338,\n",
              "           0.38438,     0.38539,     0.38639,     0.38739,     0.38839,     0.38939,     0.39039,     0.39139,     0.39239,     0.39339,     0.39439,      0.3954,      0.3964,      0.3974,      0.3984,      0.3994,      0.4004,      0.4014,      0.4024,      0.4034,      0.4044,     0.40541,     0.40641,     0.40741,\n",
              "           0.40841,     0.40941,     0.41041,     0.41141,     0.41241,     0.41341,     0.41441,     0.41542,     0.41642,     0.41742,     0.41842,     0.41942,     0.42042,     0.42142,     0.42242,     0.42342,     0.42442,     0.42543,     0.42643,     0.42743,     0.42843,     0.42943,     0.43043,     0.43143,\n",
              "           0.43243,     0.43343,     0.43443,     0.43544,     0.43644,     0.43744,     0.43844,     0.43944,     0.44044,     0.44144,     0.44244,     0.44344,     0.44444,     0.44545,     0.44645,     0.44745,     0.44845,     0.44945,     0.45045,     0.45145,     0.45245,     0.45345,     0.45445,     0.45546,\n",
              "           0.45646,     0.45746,     0.45846,     0.45946,     0.46046,     0.46146,     0.46246,     0.46346,     0.46446,     0.46547,     0.46647,     0.46747,     0.46847,     0.46947,     0.47047,     0.47147,     0.47247,     0.47347,     0.47447,     0.47548,     0.47648,     0.47748,     0.47848,     0.47948,\n",
              "           0.48048,     0.48148,     0.48248,     0.48348,     0.48448,     0.48549,     0.48649,     0.48749,     0.48849,     0.48949,     0.49049,     0.49149,     0.49249,     0.49349,     0.49449,      0.4955,      0.4965,      0.4975,      0.4985,      0.4995,      0.5005,      0.5015,      0.5025,      0.5035,\n",
              "            0.5045,     0.50551,     0.50651,     0.50751,     0.50851,     0.50951,     0.51051,     0.51151,     0.51251,     0.51351,     0.51451,     0.51552,     0.51652,     0.51752,     0.51852,     0.51952,     0.52052,     0.52152,     0.52252,     0.52352,     0.52452,     0.52553,     0.52653,     0.52753,\n",
              "           0.52853,     0.52953,     0.53053,     0.53153,     0.53253,     0.53353,     0.53453,     0.53554,     0.53654,     0.53754,     0.53854,     0.53954,     0.54054,     0.54154,     0.54254,     0.54354,     0.54454,     0.54555,     0.54655,     0.54755,     0.54855,     0.54955,     0.55055,     0.55155,\n",
              "           0.55255,     0.55355,     0.55455,     0.55556,     0.55656,     0.55756,     0.55856,     0.55956,     0.56056,     0.56156,     0.56256,     0.56356,     0.56456,     0.56557,     0.56657,     0.56757,     0.56857,     0.56957,     0.57057,     0.57157,     0.57257,     0.57357,     0.57457,     0.57558,\n",
              "           0.57658,     0.57758,     0.57858,     0.57958,     0.58058,     0.58158,     0.58258,     0.58358,     0.58458,     0.58559,     0.58659,     0.58759,     0.58859,     0.58959,     0.59059,     0.59159,     0.59259,     0.59359,     0.59459,      0.5956,      0.5966,      0.5976,      0.5986,      0.5996,\n",
              "            0.6006,      0.6016,      0.6026,      0.6036,      0.6046,     0.60561,     0.60661,     0.60761,     0.60861,     0.60961,     0.61061,     0.61161,     0.61261,     0.61361,     0.61461,     0.61562,     0.61662,     0.61762,     0.61862,     0.61962,     0.62062,     0.62162,     0.62262,     0.62362,\n",
              "           0.62462,     0.62563,     0.62663,     0.62763,     0.62863,     0.62963,     0.63063,     0.63163,     0.63263,     0.63363,     0.63463,     0.63564,     0.63664,     0.63764,     0.63864,     0.63964,     0.64064,     0.64164,     0.64264,     0.64364,     0.64464,     0.64565,     0.64665,     0.64765,\n",
              "           0.64865,     0.64965,     0.65065,     0.65165,     0.65265,     0.65365,     0.65465,     0.65566,     0.65666,     0.65766,     0.65866,     0.65966,     0.66066,     0.66166,     0.66266,     0.66366,     0.66466,     0.66567,     0.66667,     0.66767,     0.66867,     0.66967,     0.67067,     0.67167,\n",
              "           0.67267,     0.67367,     0.67467,     0.67568,     0.67668,     0.67768,     0.67868,     0.67968,     0.68068,     0.68168,     0.68268,     0.68368,     0.68468,     0.68569,     0.68669,     0.68769,     0.68869,     0.68969,     0.69069,     0.69169,     0.69269,     0.69369,     0.69469,      0.6957,\n",
              "            0.6967,      0.6977,      0.6987,      0.6997,      0.7007,      0.7017,      0.7027,      0.7037,      0.7047,     0.70571,     0.70671,     0.70771,     0.70871,     0.70971,     0.71071,     0.71171,     0.71271,     0.71371,     0.71471,     0.71572,     0.71672,     0.71772,     0.71872,     0.71972,\n",
              "           0.72072,     0.72172,     0.72272,     0.72372,     0.72472,     0.72573,     0.72673,     0.72773,     0.72873,     0.72973,     0.73073,     0.73173,     0.73273,     0.73373,     0.73473,     0.73574,     0.73674,     0.73774,     0.73874,     0.73974,     0.74074,     0.74174,     0.74274,     0.74374,\n",
              "           0.74474,     0.74575,     0.74675,     0.74775,     0.74875,     0.74975,     0.75075,     0.75175,     0.75275,     0.75375,     0.75475,     0.75576,     0.75676,     0.75776,     0.75876,     0.75976,     0.76076,     0.76176,     0.76276,     0.76376,     0.76476,     0.76577,     0.76677,     0.76777,\n",
              "           0.76877,     0.76977,     0.77077,     0.77177,     0.77277,     0.77377,     0.77477,     0.77578,     0.77678,     0.77778,     0.77878,     0.77978,     0.78078,     0.78178,     0.78278,     0.78378,     0.78478,     0.78579,     0.78679,     0.78779,     0.78879,     0.78979,     0.79079,     0.79179,\n",
              "           0.79279,     0.79379,     0.79479,      0.7958,      0.7968,      0.7978,      0.7988,      0.7998,      0.8008,      0.8018,      0.8028,      0.8038,      0.8048,     0.80581,     0.80681,     0.80781,     0.80881,     0.80981,     0.81081,     0.81181,     0.81281,     0.81381,     0.81481,     0.81582,\n",
              "           0.81682,     0.81782,     0.81882,     0.81982,     0.82082,     0.82182,     0.82282,     0.82382,     0.82482,     0.82583,     0.82683,     0.82783,     0.82883,     0.82983,     0.83083,     0.83183,     0.83283,     0.83383,     0.83483,     0.83584,     0.83684,     0.83784,     0.83884,     0.83984,\n",
              "           0.84084,     0.84184,     0.84284,     0.84384,     0.84484,     0.84585,     0.84685,     0.84785,     0.84885,     0.84985,     0.85085,     0.85185,     0.85285,     0.85385,     0.85485,     0.85586,     0.85686,     0.85786,     0.85886,     0.85986,     0.86086,     0.86186,     0.86286,     0.86386,\n",
              "           0.86486,     0.86587,     0.86687,     0.86787,     0.86887,     0.86987,     0.87087,     0.87187,     0.87287,     0.87387,     0.87487,     0.87588,     0.87688,     0.87788,     0.87888,     0.87988,     0.88088,     0.88188,     0.88288,     0.88388,     0.88488,     0.88589,     0.88689,     0.88789,\n",
              "           0.88889,     0.88989,     0.89089,     0.89189,     0.89289,     0.89389,     0.89489,      0.8959,      0.8969,      0.8979,      0.8989,      0.8999,      0.9009,      0.9019,      0.9029,      0.9039,      0.9049,     0.90591,     0.90691,     0.90791,     0.90891,     0.90991,     0.91091,     0.91191,\n",
              "           0.91291,     0.91391,     0.91491,     0.91592,     0.91692,     0.91792,     0.91892,     0.91992,     0.92092,     0.92192,     0.92292,     0.92392,     0.92492,     0.92593,     0.92693,     0.92793,     0.92893,     0.92993,     0.93093,     0.93193,     0.93293,     0.93393,     0.93493,     0.93594,\n",
              "           0.93694,     0.93794,     0.93894,     0.93994,     0.94094,     0.94194,     0.94294,     0.94394,     0.94494,     0.94595,     0.94695,     0.94795,     0.94895,     0.94995,     0.95095,     0.95195,     0.95295,     0.95395,     0.95495,     0.95596,     0.95696,     0.95796,     0.95896,     0.95996,\n",
              "           0.96096,     0.96196,     0.96296,     0.96396,     0.96496,     0.96597,     0.96697,     0.96797,     0.96897,     0.96997,     0.97097,     0.97197,     0.97297,     0.97397,     0.97497,     0.97598,     0.97698,     0.97798,     0.97898,     0.97998,     0.98098,     0.98198,     0.98298,     0.98398,\n",
              "           0.98498,     0.98599,     0.98699,     0.98799,     0.98899,     0.98999,     0.99099,     0.99199,     0.99299,     0.99399,     0.99499,       0.996,       0.997,       0.998,       0.999,           1]), array([[    0.44951,     0.44951,     0.56207, ...,           1,           1,           1],\n",
              "       [    0.38542,     0.38542,     0.51774, ...,           1,           1,           1]]), 'Confidence', 'Precision'], [array([          0,    0.001001,    0.002002,    0.003003,    0.004004,    0.005005,    0.006006,    0.007007,    0.008008,    0.009009,     0.01001,    0.011011,    0.012012,    0.013013,    0.014014,    0.015015,    0.016016,    0.017017,    0.018018,    0.019019,     0.02002,    0.021021,    0.022022,    0.023023,\n",
              "          0.024024,    0.025025,    0.026026,    0.027027,    0.028028,    0.029029,     0.03003,    0.031031,    0.032032,    0.033033,    0.034034,    0.035035,    0.036036,    0.037037,    0.038038,    0.039039,     0.04004,    0.041041,    0.042042,    0.043043,    0.044044,    0.045045,    0.046046,    0.047047,\n",
              "          0.048048,    0.049049,     0.05005,    0.051051,    0.052052,    0.053053,    0.054054,    0.055055,    0.056056,    0.057057,    0.058058,    0.059059,     0.06006,    0.061061,    0.062062,    0.063063,    0.064064,    0.065065,    0.066066,    0.067067,    0.068068,    0.069069,     0.07007,    0.071071,\n",
              "          0.072072,    0.073073,    0.074074,    0.075075,    0.076076,    0.077077,    0.078078,    0.079079,     0.08008,    0.081081,    0.082082,    0.083083,    0.084084,    0.085085,    0.086086,    0.087087,    0.088088,    0.089089,     0.09009,    0.091091,    0.092092,    0.093093,    0.094094,    0.095095,\n",
              "          0.096096,    0.097097,    0.098098,    0.099099,      0.1001,      0.1011,      0.1021,      0.1031,      0.1041,     0.10511,     0.10611,     0.10711,     0.10811,     0.10911,     0.11011,     0.11111,     0.11211,     0.11311,     0.11411,     0.11512,     0.11612,     0.11712,     0.11812,     0.11912,\n",
              "           0.12012,     0.12112,     0.12212,     0.12312,     0.12412,     0.12513,     0.12613,     0.12713,     0.12813,     0.12913,     0.13013,     0.13113,     0.13213,     0.13313,     0.13413,     0.13514,     0.13614,     0.13714,     0.13814,     0.13914,     0.14014,     0.14114,     0.14214,     0.14314,\n",
              "           0.14414,     0.14515,     0.14615,     0.14715,     0.14815,     0.14915,     0.15015,     0.15115,     0.15215,     0.15315,     0.15415,     0.15516,     0.15616,     0.15716,     0.15816,     0.15916,     0.16016,     0.16116,     0.16216,     0.16316,     0.16416,     0.16517,     0.16617,     0.16717,\n",
              "           0.16817,     0.16917,     0.17017,     0.17117,     0.17217,     0.17317,     0.17417,     0.17518,     0.17618,     0.17718,     0.17818,     0.17918,     0.18018,     0.18118,     0.18218,     0.18318,     0.18418,     0.18519,     0.18619,     0.18719,     0.18819,     0.18919,     0.19019,     0.19119,\n",
              "           0.19219,     0.19319,     0.19419,      0.1952,      0.1962,      0.1972,      0.1982,      0.1992,      0.2002,      0.2012,      0.2022,      0.2032,      0.2042,     0.20521,     0.20621,     0.20721,     0.20821,     0.20921,     0.21021,     0.21121,     0.21221,     0.21321,     0.21421,     0.21522,\n",
              "           0.21622,     0.21722,     0.21822,     0.21922,     0.22022,     0.22122,     0.22222,     0.22322,     0.22422,     0.22523,     0.22623,     0.22723,     0.22823,     0.22923,     0.23023,     0.23123,     0.23223,     0.23323,     0.23423,     0.23524,     0.23624,     0.23724,     0.23824,     0.23924,\n",
              "           0.24024,     0.24124,     0.24224,     0.24324,     0.24424,     0.24525,     0.24625,     0.24725,     0.24825,     0.24925,     0.25025,     0.25125,     0.25225,     0.25325,     0.25425,     0.25526,     0.25626,     0.25726,     0.25826,     0.25926,     0.26026,     0.26126,     0.26226,     0.26326,\n",
              "           0.26426,     0.26527,     0.26627,     0.26727,     0.26827,     0.26927,     0.27027,     0.27127,     0.27227,     0.27327,     0.27427,     0.27528,     0.27628,     0.27728,     0.27828,     0.27928,     0.28028,     0.28128,     0.28228,     0.28328,     0.28428,     0.28529,     0.28629,     0.28729,\n",
              "           0.28829,     0.28929,     0.29029,     0.29129,     0.29229,     0.29329,     0.29429,      0.2953,      0.2963,      0.2973,      0.2983,      0.2993,      0.3003,      0.3013,      0.3023,      0.3033,      0.3043,     0.30531,     0.30631,     0.30731,     0.30831,     0.30931,     0.31031,     0.31131,\n",
              "           0.31231,     0.31331,     0.31431,     0.31532,     0.31632,     0.31732,     0.31832,     0.31932,     0.32032,     0.32132,     0.32232,     0.32332,     0.32432,     0.32533,     0.32633,     0.32733,     0.32833,     0.32933,     0.33033,     0.33133,     0.33233,     0.33333,     0.33433,     0.33534,\n",
              "           0.33634,     0.33734,     0.33834,     0.33934,     0.34034,     0.34134,     0.34234,     0.34334,     0.34434,     0.34535,     0.34635,     0.34735,     0.34835,     0.34935,     0.35035,     0.35135,     0.35235,     0.35335,     0.35435,     0.35536,     0.35636,     0.35736,     0.35836,     0.35936,\n",
              "           0.36036,     0.36136,     0.36236,     0.36336,     0.36436,     0.36537,     0.36637,     0.36737,     0.36837,     0.36937,     0.37037,     0.37137,     0.37237,     0.37337,     0.37437,     0.37538,     0.37638,     0.37738,     0.37838,     0.37938,     0.38038,     0.38138,     0.38238,     0.38338,\n",
              "           0.38438,     0.38539,     0.38639,     0.38739,     0.38839,     0.38939,     0.39039,     0.39139,     0.39239,     0.39339,     0.39439,      0.3954,      0.3964,      0.3974,      0.3984,      0.3994,      0.4004,      0.4014,      0.4024,      0.4034,      0.4044,     0.40541,     0.40641,     0.40741,\n",
              "           0.40841,     0.40941,     0.41041,     0.41141,     0.41241,     0.41341,     0.41441,     0.41542,     0.41642,     0.41742,     0.41842,     0.41942,     0.42042,     0.42142,     0.42242,     0.42342,     0.42442,     0.42543,     0.42643,     0.42743,     0.42843,     0.42943,     0.43043,     0.43143,\n",
              "           0.43243,     0.43343,     0.43443,     0.43544,     0.43644,     0.43744,     0.43844,     0.43944,     0.44044,     0.44144,     0.44244,     0.44344,     0.44444,     0.44545,     0.44645,     0.44745,     0.44845,     0.44945,     0.45045,     0.45145,     0.45245,     0.45345,     0.45445,     0.45546,\n",
              "           0.45646,     0.45746,     0.45846,     0.45946,     0.46046,     0.46146,     0.46246,     0.46346,     0.46446,     0.46547,     0.46647,     0.46747,     0.46847,     0.46947,     0.47047,     0.47147,     0.47247,     0.47347,     0.47447,     0.47548,     0.47648,     0.47748,     0.47848,     0.47948,\n",
              "           0.48048,     0.48148,     0.48248,     0.48348,     0.48448,     0.48549,     0.48649,     0.48749,     0.48849,     0.48949,     0.49049,     0.49149,     0.49249,     0.49349,     0.49449,      0.4955,      0.4965,      0.4975,      0.4985,      0.4995,      0.5005,      0.5015,      0.5025,      0.5035,\n",
              "            0.5045,     0.50551,     0.50651,     0.50751,     0.50851,     0.50951,     0.51051,     0.51151,     0.51251,     0.51351,     0.51451,     0.51552,     0.51652,     0.51752,     0.51852,     0.51952,     0.52052,     0.52152,     0.52252,     0.52352,     0.52452,     0.52553,     0.52653,     0.52753,\n",
              "           0.52853,     0.52953,     0.53053,     0.53153,     0.53253,     0.53353,     0.53453,     0.53554,     0.53654,     0.53754,     0.53854,     0.53954,     0.54054,     0.54154,     0.54254,     0.54354,     0.54454,     0.54555,     0.54655,     0.54755,     0.54855,     0.54955,     0.55055,     0.55155,\n",
              "           0.55255,     0.55355,     0.55455,     0.55556,     0.55656,     0.55756,     0.55856,     0.55956,     0.56056,     0.56156,     0.56256,     0.56356,     0.56456,     0.56557,     0.56657,     0.56757,     0.56857,     0.56957,     0.57057,     0.57157,     0.57257,     0.57357,     0.57457,     0.57558,\n",
              "           0.57658,     0.57758,     0.57858,     0.57958,     0.58058,     0.58158,     0.58258,     0.58358,     0.58458,     0.58559,     0.58659,     0.58759,     0.58859,     0.58959,     0.59059,     0.59159,     0.59259,     0.59359,     0.59459,      0.5956,      0.5966,      0.5976,      0.5986,      0.5996,\n",
              "            0.6006,      0.6016,      0.6026,      0.6036,      0.6046,     0.60561,     0.60661,     0.60761,     0.60861,     0.60961,     0.61061,     0.61161,     0.61261,     0.61361,     0.61461,     0.61562,     0.61662,     0.61762,     0.61862,     0.61962,     0.62062,     0.62162,     0.62262,     0.62362,\n",
              "           0.62462,     0.62563,     0.62663,     0.62763,     0.62863,     0.62963,     0.63063,     0.63163,     0.63263,     0.63363,     0.63463,     0.63564,     0.63664,     0.63764,     0.63864,     0.63964,     0.64064,     0.64164,     0.64264,     0.64364,     0.64464,     0.64565,     0.64665,     0.64765,\n",
              "           0.64865,     0.64965,     0.65065,     0.65165,     0.65265,     0.65365,     0.65465,     0.65566,     0.65666,     0.65766,     0.65866,     0.65966,     0.66066,     0.66166,     0.66266,     0.66366,     0.66466,     0.66567,     0.66667,     0.66767,     0.66867,     0.66967,     0.67067,     0.67167,\n",
              "           0.67267,     0.67367,     0.67467,     0.67568,     0.67668,     0.67768,     0.67868,     0.67968,     0.68068,     0.68168,     0.68268,     0.68368,     0.68468,     0.68569,     0.68669,     0.68769,     0.68869,     0.68969,     0.69069,     0.69169,     0.69269,     0.69369,     0.69469,      0.6957,\n",
              "            0.6967,      0.6977,      0.6987,      0.6997,      0.7007,      0.7017,      0.7027,      0.7037,      0.7047,     0.70571,     0.70671,     0.70771,     0.70871,     0.70971,     0.71071,     0.71171,     0.71271,     0.71371,     0.71471,     0.71572,     0.71672,     0.71772,     0.71872,     0.71972,\n",
              "           0.72072,     0.72172,     0.72272,     0.72372,     0.72472,     0.72573,     0.72673,     0.72773,     0.72873,     0.72973,     0.73073,     0.73173,     0.73273,     0.73373,     0.73473,     0.73574,     0.73674,     0.73774,     0.73874,     0.73974,     0.74074,     0.74174,     0.74274,     0.74374,\n",
              "           0.74474,     0.74575,     0.74675,     0.74775,     0.74875,     0.74975,     0.75075,     0.75175,     0.75275,     0.75375,     0.75475,     0.75576,     0.75676,     0.75776,     0.75876,     0.75976,     0.76076,     0.76176,     0.76276,     0.76376,     0.76476,     0.76577,     0.76677,     0.76777,\n",
              "           0.76877,     0.76977,     0.77077,     0.77177,     0.77277,     0.77377,     0.77477,     0.77578,     0.77678,     0.77778,     0.77878,     0.77978,     0.78078,     0.78178,     0.78278,     0.78378,     0.78478,     0.78579,     0.78679,     0.78779,     0.78879,     0.78979,     0.79079,     0.79179,\n",
              "           0.79279,     0.79379,     0.79479,      0.7958,      0.7968,      0.7978,      0.7988,      0.7998,      0.8008,      0.8018,      0.8028,      0.8038,      0.8048,     0.80581,     0.80681,     0.80781,     0.80881,     0.80981,     0.81081,     0.81181,     0.81281,     0.81381,     0.81481,     0.81582,\n",
              "           0.81682,     0.81782,     0.81882,     0.81982,     0.82082,     0.82182,     0.82282,     0.82382,     0.82482,     0.82583,     0.82683,     0.82783,     0.82883,     0.82983,     0.83083,     0.83183,     0.83283,     0.83383,     0.83483,     0.83584,     0.83684,     0.83784,     0.83884,     0.83984,\n",
              "           0.84084,     0.84184,     0.84284,     0.84384,     0.84484,     0.84585,     0.84685,     0.84785,     0.84885,     0.84985,     0.85085,     0.85185,     0.85285,     0.85385,     0.85485,     0.85586,     0.85686,     0.85786,     0.85886,     0.85986,     0.86086,     0.86186,     0.86286,     0.86386,\n",
              "           0.86486,     0.86587,     0.86687,     0.86787,     0.86887,     0.86987,     0.87087,     0.87187,     0.87287,     0.87387,     0.87487,     0.87588,     0.87688,     0.87788,     0.87888,     0.87988,     0.88088,     0.88188,     0.88288,     0.88388,     0.88488,     0.88589,     0.88689,     0.88789,\n",
              "           0.88889,     0.88989,     0.89089,     0.89189,     0.89289,     0.89389,     0.89489,      0.8959,      0.8969,      0.8979,      0.8989,      0.8999,      0.9009,      0.9019,      0.9029,      0.9039,      0.9049,     0.90591,     0.90691,     0.90791,     0.90891,     0.90991,     0.91091,     0.91191,\n",
              "           0.91291,     0.91391,     0.91491,     0.91592,     0.91692,     0.91792,     0.91892,     0.91992,     0.92092,     0.92192,     0.92292,     0.92392,     0.92492,     0.92593,     0.92693,     0.92793,     0.92893,     0.92993,     0.93093,     0.93193,     0.93293,     0.93393,     0.93493,     0.93594,\n",
              "           0.93694,     0.93794,     0.93894,     0.93994,     0.94094,     0.94194,     0.94294,     0.94394,     0.94494,     0.94595,     0.94695,     0.94795,     0.94895,     0.94995,     0.95095,     0.95195,     0.95295,     0.95395,     0.95495,     0.95596,     0.95696,     0.95796,     0.95896,     0.95996,\n",
              "           0.96096,     0.96196,     0.96296,     0.96396,     0.96496,     0.96597,     0.96697,     0.96797,     0.96897,     0.96997,     0.97097,     0.97197,     0.97297,     0.97397,     0.97497,     0.97598,     0.97698,     0.97798,     0.97898,     0.97998,     0.98098,     0.98198,     0.98298,     0.98398,\n",
              "           0.98498,     0.98599,     0.98699,     0.98799,     0.98899,     0.98999,     0.99099,     0.99199,     0.99299,     0.99399,     0.99499,       0.996,       0.997,       0.998,       0.999,           1]), array([[    0.96503,     0.96503,     0.96503, ...,           0,           0,           0],\n",
              "       [    0.97368,     0.97368,     0.96491, ...,           0,           0,           0]]), 'Confidence', 'Recall']]\n",
              "fitness: 0.700348600075214\n",
              "keys: ['metrics/precision(B)', 'metrics/recall(B)', 'metrics/mAP50(B)', 'metrics/mAP50-95(B)']\n",
              "maps: array([    0.68031,     0.66721])\n",
              "names: {0: 'Child', 1: 'Therapist'}\n",
              "plot: True\n",
              "results_dict: {'metrics/precision(B)': 0.9415559439516126, 'metrics/recall(B)': 0.9019138755980861, 'metrics/mAP50(B)': 0.9396502005873767, 'metrics/mAP50-95(B)': 0.6737595333516404, 'fitness': 0.700348600075214}\n",
              "save_dir: PosixPath('runs/detect/yolov8_face_detection2')\n",
              "speed: {'preprocess': 0.5517609707720869, 'inference': 2.0022221973964145, 'loss': 0.0006703587321491985, 'postprocess': 5.417794376224666}\n",
              "task: 'detect'"
            ]
          },
          "metadata": {},
          "execution_count": 6
        }
      ]
    },
    {
      "cell_type": "code",
      "source": [
        "import cv2\n",
        "import pandas as pd\n",
        "import math\n",
        "\n",
        "class Tracker:\n",
        "    def __init__(self): # Fixed typo here\n",
        "        # Store the center positions of the objects\n",
        "        self.center_points = {}\n",
        "        # Keep the count of the IDs\n",
        "        self.id_count = 0\n",
        "        # Store the mapping of object ID to class name\n",
        "        self.id_to_class = {}\n",
        "        # Store the assigned IDs for objects across frames\n",
        "        self.tracked_objects = {}\n",
        "\n",
        "    def update(self, objects_rect, class_names):\n",
        "        # Objects boxes and ids\n",
        "        objects_bbs_ids = []\n",
        "\n",
        "        # Get center point of new object\n",
        "        for rect, class_name in zip(objects_rect, class_names):\n",
        "            x, y, w, h = rect\n",
        "            cx = (x + x + w) // 2\n",
        "            cy = (y + y + h) // 2\n",
        "\n",
        "            # Check if the object is already tracked\n",
        "            same_object_detected = False\n",
        "            for id, pt in self.center_points.items():\n",
        "                dist = math.hypot(cx - pt[0], cy - pt[1])\n",
        "\n",
        "                if dist < 50:  # Adjust the threshold as needed\n",
        "                    self.center_points[id] = (cx, cy)\n",
        "                    objects_bbs_ids.append([x, y, w, h, id, self.id_to_class[id]])\n",
        "                    same_object_detected = True\n",
        "                    break\n",
        "\n",
        "            # New object detected, assign a new ID\n",
        "            if not same_object_detected:\n",
        "                self.center_points[self.id_count] = (cx, cy)\n",
        "                self.id_to_class[self.id_count] = class_name\n",
        "                objects_bbs_ids.append([x, y, w, h, self.id_count, class_name])\n",
        "                self.id_count += 1\n",
        "\n",
        "        # Clean the dictionary by center points to remove IDs not used anymore\n",
        "        new_center_points = {}\n",
        "        for obj_bb_id in objects_bbs_ids:\n",
        "            _, _, _, _, object_id, _ = obj_bb_id\n",
        "            center = self.center_points[object_id]\n",
        "            new_center_points[object_id] = center\n",
        "\n",
        "        # Update dictionary with IDs not used removed\n",
        "        self.center_points = new_center_points.copy()\n",
        "\n",
        "        # Update tracked objects with the consistent IDs\n",
        "        for obj_bb_id in objects_bbs_ids:\n",
        "            _, _, _, _, object_id, class_name = obj_bb_id\n",
        "            self.tracked_objects[object_id] = (class_name, (cx, cy))\n",
        "\n",
        "        return objects_bbs_ids\n",
        "\n",
        "# Load your custom-trained YOLO model\n",
        "#model = YOLO('/content/model.pt')  # Replace with your custom model path\n",
        "\n",
        "# Define the classes as per your custom model\n",
        "class_list = ['child', 'therapist']\n",
        "\n",
        "# Initialize the tracker\n",
        "tracker = Tracker()\n",
        "\n",
        "# Open the video file\n",
        "cap = cv2.VideoCapture('/content/Preference Assessment with Toys_ Multiple Stimulus without Replacement (MSWO).mp4')  # Replace with your video file path\n",
        "\n",
        "# Define the codec and create a VideoWriter object to save the output video\n",
        "fourcc = cv2.VideoWriter_fourcc(*'mp4v')\n",
        "out = cv2.VideoWriter('output_video2.mp4', fourcc, 20.0, (1020, 500))\n",
        "\n",
        "while True:\n",
        "    ret, frame = cap.read()\n",
        "    if not ret:\n",
        "        break\n",
        "\n",
        "    frame = cv2.resize(frame, (1020, 500))\n",
        "\n",
        "    results = model.predict(frame)\n",
        "    predictions = results[0].boxes.data.detach().cpu().numpy()\n",
        "    px = pd.DataFrame(predictions).astype(\"float\")\n",
        "\n",
        "    object_list = []\n",
        "    class_names = []\n",
        "\n",
        "    # Iterate through detections and filter by class (child and therapist)\n",
        "    for index, row in px.iterrows():\n",
        "        x1 = int(row[0])\n",
        "        y1 = int(row[1])\n",
        "        x2 = int(row[2])\n",
        "        y2 = int(row[3])\n",
        "        class_id = int(row[5])\n",
        "        detected_class = class_list[class_id]\n",
        "\n",
        "        if detected_class in ['child', 'therapist']:\n",
        "            object_list.append([x1, y1, x2, y2])\n",
        "            class_names.append(detected_class)\n",
        "\n",
        "    # Update tracker with detected objects and their class names\n",
        "    bbox_id = tracker.update(object_list, class_names)\n",
        "\n",
        "    # Draw bounding boxes and IDs on the frame\n",
        "    for bbox in bbox_id:\n",
        "        x3, y3, x4, y4, obj_id, class_name = bbox\n",
        "        cx = int(x3 + x4) // 2\n",
        "        cy = int(y3 + y4) // 2\n",
        "\n",
        "        label = f'ID {obj_id + 1} {class_name.capitalize()}'  # +1 to start ID from 1\n",
        "        cv2.rectangle(frame, (x3, y3), (x4, y4), (0, 255, 0), 2)\n",
        "        cv2.putText(frame, label, (x3, y3 - 10), cv2.FONT_HERSHEY_SIMPLEX, 0.5, (255, 0, 0), 2)\n",
        "\n",
        "    # Write the frame to the output video\n",
        "    out.write(frame)\n",
        "\n",
        "cap.release()\n",
        "out.release()\n",
        "cv2.destroyAllWindows()"
      ],
      "metadata": {
        "id": "l2abSn1PCvi1",
        "outputId": "60b06a26-a061-4f6c-c629-4a587b04b609",
        "colab": {
          "base_uri": "https://localhost:8080/"
        }
      },
      "execution_count": 8,
      "outputs": [
        {
          "output_type": "stream",
          "name": "stdout",
          "text": [
            "\u001b[1;30;43mStreaming output truncated to the last 5000 lines.\u001b[0m\n",
            "0: 320x640 1 Child, 1 Therapist, 13.2ms\n",
            "Speed: 2.5ms preprocess, 13.2ms inference, 3.6ms postprocess per image at shape (1, 3, 320, 640)\n",
            "\n",
            "0: 320x640 1 Child, 1 Therapist, 14.6ms\n",
            "Speed: 2.2ms preprocess, 14.6ms inference, 1.5ms postprocess per image at shape (1, 3, 320, 640)\n",
            "\n",
            "0: 320x640 1 Child, 1 Therapist, 14.5ms\n",
            "Speed: 2.6ms preprocess, 14.5ms inference, 1.6ms postprocess per image at shape (1, 3, 320, 640)\n",
            "\n",
            "0: 320x640 1 Child, 2 Therapists, 15.5ms\n",
            "Speed: 2.3ms preprocess, 15.5ms inference, 1.7ms postprocess per image at shape (1, 3, 320, 640)\n",
            "\n",
            "0: 320x640 1 Child, 1 Therapist, 12.2ms\n",
            "Speed: 2.4ms preprocess, 12.2ms inference, 4.2ms postprocess per image at shape (1, 3, 320, 640)\n",
            "\n",
            "0: 320x640 1 Child, 1 Therapist, 9.1ms\n",
            "Speed: 2.4ms preprocess, 9.1ms inference, 4.5ms postprocess per image at shape (1, 3, 320, 640)\n",
            "\n",
            "0: 320x640 1 Child, 1 Therapist, 9.6ms\n",
            "Speed: 2.5ms preprocess, 9.6ms inference, 1.4ms postprocess per image at shape (1, 3, 320, 640)\n",
            "\n",
            "0: 320x640 1 Child, 1 Therapist, 10.7ms\n",
            "Speed: 2.2ms preprocess, 10.7ms inference, 1.7ms postprocess per image at shape (1, 3, 320, 640)\n",
            "\n",
            "0: 320x640 1 Child, 1 Therapist, 12.8ms\n",
            "Speed: 2.3ms preprocess, 12.8ms inference, 1.6ms postprocess per image at shape (1, 3, 320, 640)\n",
            "\n",
            "0: 320x640 1 Child, 2 Therapists, 8.6ms\n",
            "Speed: 2.4ms preprocess, 8.6ms inference, 1.7ms postprocess per image at shape (1, 3, 320, 640)\n",
            "\n",
            "0: 320x640 1 Child, 2 Therapists, 8.7ms\n",
            "Speed: 2.3ms preprocess, 8.7ms inference, 1.5ms postprocess per image at shape (1, 3, 320, 640)\n",
            "\n",
            "0: 320x640 1 Child, 2 Therapists, 8.8ms\n",
            "Speed: 2.4ms preprocess, 8.8ms inference, 1.5ms postprocess per image at shape (1, 3, 320, 640)\n",
            "\n",
            "0: 320x640 1 Child, 1 Therapist, 8.1ms\n",
            "Speed: 2.3ms preprocess, 8.1ms inference, 1.5ms postprocess per image at shape (1, 3, 320, 640)\n",
            "\n",
            "0: 320x640 1 Child, 1 Therapist, 12.3ms\n",
            "Speed: 2.3ms preprocess, 12.3ms inference, 1.5ms postprocess per image at shape (1, 3, 320, 640)\n",
            "\n",
            "0: 320x640 1 Child, 1 Therapist, 9.0ms\n",
            "Speed: 2.4ms preprocess, 9.0ms inference, 1.6ms postprocess per image at shape (1, 3, 320, 640)\n",
            "\n",
            "0: 320x640 1 Child, 1 Therapist, 9.1ms\n",
            "Speed: 2.5ms preprocess, 9.1ms inference, 1.7ms postprocess per image at shape (1, 3, 320, 640)\n",
            "\n",
            "0: 320x640 1 Child, 1 Therapist, 8.9ms\n",
            "Speed: 2.3ms preprocess, 8.9ms inference, 1.4ms postprocess per image at shape (1, 3, 320, 640)\n",
            "\n",
            "0: 320x640 1 Child, 1 Therapist, 7.3ms\n",
            "Speed: 2.2ms preprocess, 7.3ms inference, 1.4ms postprocess per image at shape (1, 3, 320, 640)\n",
            "\n",
            "0: 320x640 1 Child, 1 Therapist, 8.1ms\n",
            "Speed: 2.3ms preprocess, 8.1ms inference, 1.4ms postprocess per image at shape (1, 3, 320, 640)\n",
            "\n",
            "0: 320x640 1 Child, 1 Therapist, 10.9ms\n",
            "Speed: 5.3ms preprocess, 10.9ms inference, 3.8ms postprocess per image at shape (1, 3, 320, 640)\n",
            "\n",
            "0: 320x640 1 Child, 1 Therapist, 14.4ms\n",
            "Speed: 2.3ms preprocess, 14.4ms inference, 4.8ms postprocess per image at shape (1, 3, 320, 640)\n",
            "\n",
            "0: 320x640 1 Child, 1 Therapist, 9.1ms\n",
            "Speed: 2.3ms preprocess, 9.1ms inference, 1.5ms postprocess per image at shape (1, 3, 320, 640)\n",
            "\n",
            "0: 320x640 1 Child, 1 Therapist, 9.2ms\n",
            "Speed: 2.3ms preprocess, 9.2ms inference, 1.5ms postprocess per image at shape (1, 3, 320, 640)\n",
            "\n",
            "0: 320x640 1 Child, 1 Therapist, 9.1ms\n",
            "Speed: 2.3ms preprocess, 9.1ms inference, 1.5ms postprocess per image at shape (1, 3, 320, 640)\n",
            "\n",
            "0: 320x640 1 Child, 1 Therapist, 11.2ms\n",
            "Speed: 2.4ms preprocess, 11.2ms inference, 1.8ms postprocess per image at shape (1, 3, 320, 640)\n",
            "\n",
            "0: 320x640 1 Child, 1 Therapist, 9.0ms\n",
            "Speed: 2.4ms preprocess, 9.0ms inference, 1.4ms postprocess per image at shape (1, 3, 320, 640)\n",
            "\n",
            "0: 320x640 1 Child, 1 Therapist, 10.1ms\n",
            "Speed: 2.3ms preprocess, 10.1ms inference, 1.6ms postprocess per image at shape (1, 3, 320, 640)\n",
            "\n",
            "0: 320x640 1 Child, 1 Therapist, 9.9ms\n",
            "Speed: 2.4ms preprocess, 9.9ms inference, 1.6ms postprocess per image at shape (1, 3, 320, 640)\n",
            "\n",
            "0: 320x640 1 Child, 1 Therapist, 14.5ms\n",
            "Speed: 2.1ms preprocess, 14.5ms inference, 1.4ms postprocess per image at shape (1, 3, 320, 640)\n",
            "\n",
            "0: 320x640 1 Child, 1 Therapist, 13.1ms\n",
            "Speed: 2.4ms preprocess, 13.1ms inference, 1.9ms postprocess per image at shape (1, 3, 320, 640)\n",
            "\n",
            "0: 320x640 1 Child, 1 Therapist, 14.0ms\n",
            "Speed: 4.2ms preprocess, 14.0ms inference, 1.6ms postprocess per image at shape (1, 3, 320, 640)\n",
            "\n",
            "0: 320x640 1 Child, 1 Therapist, 19.4ms\n",
            "Speed: 4.0ms preprocess, 19.4ms inference, 4.9ms postprocess per image at shape (1, 3, 320, 640)\n",
            "\n",
            "0: 320x640 1 Child, 1 Therapist, 13.7ms\n",
            "Speed: 3.5ms preprocess, 13.7ms inference, 1.7ms postprocess per image at shape (1, 3, 320, 640)\n",
            "\n",
            "0: 320x640 1 Child, 1 Therapist, 15.9ms\n",
            "Speed: 2.5ms preprocess, 15.9ms inference, 1.4ms postprocess per image at shape (1, 3, 320, 640)\n",
            "\n",
            "0: 320x640 1 Child, 2 Therapists, 17.6ms\n",
            "Speed: 2.3ms preprocess, 17.6ms inference, 6.8ms postprocess per image at shape (1, 3, 320, 640)\n",
            "\n",
            "0: 320x640 1 Child, 1 Therapist, 17.4ms\n",
            "Speed: 5.3ms preprocess, 17.4ms inference, 1.6ms postprocess per image at shape (1, 3, 320, 640)\n",
            "\n",
            "0: 320x640 1 Child, 1 Therapist, 14.7ms\n",
            "Speed: 2.3ms preprocess, 14.7ms inference, 1.7ms postprocess per image at shape (1, 3, 320, 640)\n",
            "\n",
            "0: 320x640 1 Child, 1 Therapist, 13.8ms\n",
            "Speed: 2.4ms preprocess, 13.8ms inference, 1.5ms postprocess per image at shape (1, 3, 320, 640)\n",
            "\n",
            "0: 320x640 1 Child, 1 Therapist, 8.5ms\n",
            "Speed: 3.2ms preprocess, 8.5ms inference, 1.5ms postprocess per image at shape (1, 3, 320, 640)\n",
            "\n",
            "0: 320x640 1 Child, 1 Therapist, 8.8ms\n",
            "Speed: 2.4ms preprocess, 8.8ms inference, 1.5ms postprocess per image at shape (1, 3, 320, 640)\n",
            "\n",
            "0: 320x640 1 Child, 1 Therapist, 9.6ms\n",
            "Speed: 2.3ms preprocess, 9.6ms inference, 1.5ms postprocess per image at shape (1, 3, 320, 640)\n",
            "\n",
            "0: 320x640 1 Child, 1 Therapist, 9.1ms\n",
            "Speed: 2.3ms preprocess, 9.1ms inference, 1.4ms postprocess per image at shape (1, 3, 320, 640)\n",
            "\n",
            "0: 320x640 1 Child, 1 Therapist, 10.9ms\n",
            "Speed: 2.2ms preprocess, 10.9ms inference, 1.7ms postprocess per image at shape (1, 3, 320, 640)\n",
            "\n",
            "0: 320x640 1 Child, 1 Therapist, 10.2ms\n",
            "Speed: 2.3ms preprocess, 10.2ms inference, 1.5ms postprocess per image at shape (1, 3, 320, 640)\n",
            "\n",
            "0: 320x640 1 Child, 1 Therapist, 8.5ms\n",
            "Speed: 2.3ms preprocess, 8.5ms inference, 1.7ms postprocess per image at shape (1, 3, 320, 640)\n",
            "\n",
            "0: 320x640 1 Child, 1 Therapist, 14.8ms\n",
            "Speed: 2.4ms preprocess, 14.8ms inference, 1.6ms postprocess per image at shape (1, 3, 320, 640)\n",
            "\n",
            "0: 320x640 1 Child, 1 Therapist, 12.6ms\n",
            "Speed: 2.5ms preprocess, 12.6ms inference, 1.7ms postprocess per image at shape (1, 3, 320, 640)\n",
            "\n",
            "0: 320x640 1 Child, 1 Therapist, 8.8ms\n",
            "Speed: 2.3ms preprocess, 8.8ms inference, 1.8ms postprocess per image at shape (1, 3, 320, 640)\n",
            "\n",
            "0: 320x640 1 Child, 1 Therapist, 7.7ms\n",
            "Speed: 3.5ms preprocess, 7.7ms inference, 1.4ms postprocess per image at shape (1, 3, 320, 640)\n",
            "\n",
            "0: 320x640 1 Child, 1 Therapist, 8.8ms\n",
            "Speed: 2.3ms preprocess, 8.8ms inference, 1.8ms postprocess per image at shape (1, 3, 320, 640)\n",
            "\n",
            "0: 320x640 1 Child, 1 Therapist, 9.3ms\n",
            "Speed: 2.2ms preprocess, 9.3ms inference, 1.4ms postprocess per image at shape (1, 3, 320, 640)\n",
            "\n",
            "0: 320x640 1 Child, 1 Therapist, 8.7ms\n",
            "Speed: 2.3ms preprocess, 8.7ms inference, 1.5ms postprocess per image at shape (1, 3, 320, 640)\n",
            "\n",
            "0: 320x640 1 Child, 1 Therapist, 10.1ms\n",
            "Speed: 3.2ms preprocess, 10.1ms inference, 1.7ms postprocess per image at shape (1, 3, 320, 640)\n",
            "\n",
            "0: 320x640 1 Child, 1 Therapist, 10.7ms\n",
            "Speed: 2.3ms preprocess, 10.7ms inference, 1.5ms postprocess per image at shape (1, 3, 320, 640)\n",
            "\n",
            "0: 320x640 1 Child, 1 Therapist, 13.8ms\n",
            "Speed: 2.3ms preprocess, 13.8ms inference, 1.6ms postprocess per image at shape (1, 3, 320, 640)\n",
            "\n",
            "0: 320x640 1 Child, 1 Therapist, 13.5ms\n",
            "Speed: 4.3ms preprocess, 13.5ms inference, 5.4ms postprocess per image at shape (1, 3, 320, 640)\n",
            "\n",
            "0: 320x640 1 Child, 1 Therapist, 18.4ms\n",
            "Speed: 2.3ms preprocess, 18.4ms inference, 2.6ms postprocess per image at shape (1, 3, 320, 640)\n",
            "\n",
            "0: 320x640 1 Child, 1 Therapist, 13.7ms\n",
            "Speed: 2.2ms preprocess, 13.7ms inference, 3.7ms postprocess per image at shape (1, 3, 320, 640)\n",
            "\n",
            "0: 320x640 1 Child, 1 Therapist, 12.1ms\n",
            "Speed: 2.4ms preprocess, 12.1ms inference, 2.1ms postprocess per image at shape (1, 3, 320, 640)\n",
            "\n",
            "0: 320x640 1 Child, 1 Therapist, 12.6ms\n",
            "Speed: 4.3ms preprocess, 12.6ms inference, 1.7ms postprocess per image at shape (1, 3, 320, 640)\n",
            "\n",
            "0: 320x640 1 Child, 1 Therapist, 15.8ms\n",
            "Speed: 2.5ms preprocess, 15.8ms inference, 1.6ms postprocess per image at shape (1, 3, 320, 640)\n",
            "\n",
            "0: 320x640 1 Child, 1 Therapist, 15.5ms\n",
            "Speed: 2.4ms preprocess, 15.5ms inference, 1.9ms postprocess per image at shape (1, 3, 320, 640)\n",
            "\n",
            "0: 320x640 1 Child, 1 Therapist, 14.2ms\n",
            "Speed: 2.3ms preprocess, 14.2ms inference, 1.9ms postprocess per image at shape (1, 3, 320, 640)\n",
            "\n",
            "0: 320x640 1 Child, 1 Therapist, 15.1ms\n",
            "Speed: 2.4ms preprocess, 15.1ms inference, 1.6ms postprocess per image at shape (1, 3, 320, 640)\n",
            "\n",
            "0: 320x640 1 Child, 1 Therapist, 13.2ms\n",
            "Speed: 4.3ms preprocess, 13.2ms inference, 2.5ms postprocess per image at shape (1, 3, 320, 640)\n",
            "\n",
            "0: 320x640 1 Child, 1 Therapist, 20.1ms\n",
            "Speed: 2.3ms preprocess, 20.1ms inference, 1.7ms postprocess per image at shape (1, 3, 320, 640)\n",
            "\n",
            "0: 320x640 1 Child, 1 Therapist, 11.3ms\n",
            "Speed: 2.4ms preprocess, 11.3ms inference, 4.0ms postprocess per image at shape (1, 3, 320, 640)\n",
            "\n",
            "0: 320x640 1 Child, 1 Therapist, 17.2ms\n",
            "Speed: 2.4ms preprocess, 17.2ms inference, 3.8ms postprocess per image at shape (1, 3, 320, 640)\n",
            "\n",
            "0: 320x640 1 Child, 1 Therapist, 14.8ms\n",
            "Speed: 2.3ms preprocess, 14.8ms inference, 6.1ms postprocess per image at shape (1, 3, 320, 640)\n",
            "\n",
            "0: 320x640 1 Child, 1 Therapist, 11.8ms\n",
            "Speed: 2.4ms preprocess, 11.8ms inference, 1.8ms postprocess per image at shape (1, 3, 320, 640)\n",
            "\n",
            "0: 320x640 1 Child, 1 Therapist, 12.3ms\n",
            "Speed: 2.4ms preprocess, 12.3ms inference, 6.4ms postprocess per image at shape (1, 3, 320, 640)\n",
            "\n",
            "0: 320x640 1 Child, 1 Therapist, 18.4ms\n",
            "Speed: 2.4ms preprocess, 18.4ms inference, 2.1ms postprocess per image at shape (1, 3, 320, 640)\n",
            "\n",
            "0: 320x640 1 Child, 1 Therapist, 12.9ms\n",
            "Speed: 2.6ms preprocess, 12.9ms inference, 2.7ms postprocess per image at shape (1, 3, 320, 640)\n",
            "\n",
            "0: 320x640 1 Child, 1 Therapist, 17.3ms\n",
            "Speed: 2.9ms preprocess, 17.3ms inference, 1.7ms postprocess per image at shape (1, 3, 320, 640)\n",
            "\n",
            "0: 320x640 1 Child, 1 Therapist, 14.1ms\n",
            "Speed: 2.4ms preprocess, 14.1ms inference, 1.7ms postprocess per image at shape (1, 3, 320, 640)\n",
            "\n",
            "0: 320x640 1 Child, 1 Therapist, 10.8ms\n",
            "Speed: 2.5ms preprocess, 10.8ms inference, 6.1ms postprocess per image at shape (1, 3, 320, 640)\n",
            "\n",
            "0: 320x640 1 Child, 1 Therapist, 9.0ms\n",
            "Speed: 3.4ms preprocess, 9.0ms inference, 1.7ms postprocess per image at shape (1, 3, 320, 640)\n",
            "\n",
            "0: 320x640 1 Child, 1 Therapist, 10.9ms\n",
            "Speed: 2.2ms preprocess, 10.9ms inference, 1.6ms postprocess per image at shape (1, 3, 320, 640)\n",
            "\n",
            "0: 320x640 1 Child, 1 Therapist, 16.3ms\n",
            "Speed: 3.5ms preprocess, 16.3ms inference, 3.9ms postprocess per image at shape (1, 3, 320, 640)\n",
            "\n",
            "0: 320x640 1 Child, 1 Therapist, 13.9ms\n",
            "Speed: 4.4ms preprocess, 13.9ms inference, 3.8ms postprocess per image at shape (1, 3, 320, 640)\n",
            "\n",
            "0: 320x640 1 Child, 1 Therapist, 11.8ms\n",
            "Speed: 6.2ms preprocess, 11.8ms inference, 2.7ms postprocess per image at shape (1, 3, 320, 640)\n",
            "\n",
            "0: 320x640 1 Child, 1 Therapist, 13.1ms\n",
            "Speed: 2.7ms preprocess, 13.1ms inference, 3.3ms postprocess per image at shape (1, 3, 320, 640)\n",
            "\n",
            "0: 320x640 1 Child, 1 Therapist, 15.6ms\n",
            "Speed: 3.2ms preprocess, 15.6ms inference, 1.9ms postprocess per image at shape (1, 3, 320, 640)\n",
            "\n",
            "0: 320x640 1 Child, 1 Therapist, 15.3ms\n",
            "Speed: 2.4ms preprocess, 15.3ms inference, 3.8ms postprocess per image at shape (1, 3, 320, 640)\n",
            "\n",
            "0: 320x640 1 Child, 1 Therapist, 12.2ms\n",
            "Speed: 2.4ms preprocess, 12.2ms inference, 1.8ms postprocess per image at shape (1, 3, 320, 640)\n",
            "\n",
            "0: 320x640 1 Child, 1 Therapist, 15.3ms\n",
            "Speed: 2.3ms preprocess, 15.3ms inference, 1.8ms postprocess per image at shape (1, 3, 320, 640)\n",
            "\n",
            "0: 320x640 1 Child, 1 Therapist, 12.4ms\n",
            "Speed: 2.3ms preprocess, 12.4ms inference, 1.8ms postprocess per image at shape (1, 3, 320, 640)\n",
            "\n",
            "0: 320x640 1 Child, 1 Therapist, 16.6ms\n",
            "Speed: 2.2ms preprocess, 16.6ms inference, 1.8ms postprocess per image at shape (1, 3, 320, 640)\n",
            "\n",
            "0: 320x640 1 Child, 1 Therapist, 8.4ms\n",
            "Speed: 2.4ms preprocess, 8.4ms inference, 1.5ms postprocess per image at shape (1, 3, 320, 640)\n",
            "\n",
            "0: 320x640 1 Child, 1 Therapist, 15.0ms\n",
            "Speed: 2.3ms preprocess, 15.0ms inference, 1.8ms postprocess per image at shape (1, 3, 320, 640)\n",
            "\n",
            "0: 320x640 1 Child, 1 Therapist, 12.5ms\n",
            "Speed: 2.3ms preprocess, 12.5ms inference, 2.8ms postprocess per image at shape (1, 3, 320, 640)\n",
            "\n",
            "0: 320x640 1 Child, 1 Therapist, 12.3ms\n",
            "Speed: 2.5ms preprocess, 12.3ms inference, 2.0ms postprocess per image at shape (1, 3, 320, 640)\n",
            "\n",
            "0: 320x640 1 Child, 1 Therapist, 11.0ms\n",
            "Speed: 2.1ms preprocess, 11.0ms inference, 1.7ms postprocess per image at shape (1, 3, 320, 640)\n",
            "\n",
            "0: 320x640 1 Child, 1 Therapist, 15.2ms\n",
            "Speed: 2.4ms preprocess, 15.2ms inference, 1.6ms postprocess per image at shape (1, 3, 320, 640)\n",
            "\n",
            "0: 320x640 1 Child, 1 Therapist, 12.8ms\n",
            "Speed: 2.3ms preprocess, 12.8ms inference, 1.8ms postprocess per image at shape (1, 3, 320, 640)\n",
            "\n",
            "0: 320x640 1 Child, 1 Therapist, 14.3ms\n",
            "Speed: 2.3ms preprocess, 14.3ms inference, 1.7ms postprocess per image at shape (1, 3, 320, 640)\n",
            "\n",
            "0: 320x640 1 Child, 1 Therapist, 9.7ms\n",
            "Speed: 2.3ms preprocess, 9.7ms inference, 1.5ms postprocess per image at shape (1, 3, 320, 640)\n",
            "\n",
            "0: 320x640 1 Child, 1 Therapist, 10.0ms\n",
            "Speed: 2.2ms preprocess, 10.0ms inference, 1.4ms postprocess per image at shape (1, 3, 320, 640)\n",
            "\n",
            "0: 320x640 1 Child, 1 Therapist, 9.1ms\n",
            "Speed: 3.0ms preprocess, 9.1ms inference, 1.6ms postprocess per image at shape (1, 3, 320, 640)\n",
            "\n",
            "0: 320x640 1 Child, 1 Therapist, 9.0ms\n",
            "Speed: 2.2ms preprocess, 9.0ms inference, 1.5ms postprocess per image at shape (1, 3, 320, 640)\n",
            "\n",
            "0: 320x640 1 Child, 1 Therapist, 9.2ms\n",
            "Speed: 2.2ms preprocess, 9.2ms inference, 1.4ms postprocess per image at shape (1, 3, 320, 640)\n",
            "\n",
            "0: 320x640 1 Child, 1 Therapist, 9.6ms\n",
            "Speed: 2.3ms preprocess, 9.6ms inference, 1.4ms postprocess per image at shape (1, 3, 320, 640)\n",
            "\n",
            "0: 320x640 1 Child, 1 Therapist, 9.7ms\n",
            "Speed: 2.3ms preprocess, 9.7ms inference, 1.5ms postprocess per image at shape (1, 3, 320, 640)\n",
            "\n",
            "0: 320x640 1 Child, 1 Therapist, 12.6ms\n",
            "Speed: 6.4ms preprocess, 12.6ms inference, 1.7ms postprocess per image at shape (1, 3, 320, 640)\n",
            "\n",
            "0: 320x640 1 Child, 1 Therapist, 13.4ms\n",
            "Speed: 2.2ms preprocess, 13.4ms inference, 1.6ms postprocess per image at shape (1, 3, 320, 640)\n",
            "\n",
            "0: 320x640 1 Child, 1 Therapist, 14.7ms\n",
            "Speed: 2.3ms preprocess, 14.7ms inference, 1.8ms postprocess per image at shape (1, 3, 320, 640)\n",
            "\n",
            "0: 320x640 1 Child, 1 Therapist, 14.2ms\n",
            "Speed: 2.2ms preprocess, 14.2ms inference, 2.2ms postprocess per image at shape (1, 3, 320, 640)\n",
            "\n",
            "0: 320x640 1 Child, 1 Therapist, 14.5ms\n",
            "Speed: 2.2ms preprocess, 14.5ms inference, 3.9ms postprocess per image at shape (1, 3, 320, 640)\n",
            "\n",
            "0: 320x640 1 Child, 1 Therapist, 15.2ms\n",
            "Speed: 2.3ms preprocess, 15.2ms inference, 2.7ms postprocess per image at shape (1, 3, 320, 640)\n",
            "\n",
            "0: 320x640 1 Child, 1 Therapist, 15.8ms\n",
            "Speed: 2.4ms preprocess, 15.8ms inference, 2.0ms postprocess per image at shape (1, 3, 320, 640)\n",
            "\n",
            "0: 320x640 1 Child, 1 Therapist, 13.6ms\n",
            "Speed: 2.2ms preprocess, 13.6ms inference, 2.6ms postprocess per image at shape (1, 3, 320, 640)\n",
            "\n",
            "0: 320x640 1 Child, 1 Therapist, 14.7ms\n",
            "Speed: 2.9ms preprocess, 14.7ms inference, 2.3ms postprocess per image at shape (1, 3, 320, 640)\n",
            "\n",
            "0: 320x640 1 Child, 1 Therapist, 15.1ms\n",
            "Speed: 2.4ms preprocess, 15.1ms inference, 1.6ms postprocess per image at shape (1, 3, 320, 640)\n",
            "\n",
            "0: 320x640 1 Child, 1 Therapist, 11.0ms\n",
            "Speed: 2.3ms preprocess, 11.0ms inference, 2.4ms postprocess per image at shape (1, 3, 320, 640)\n",
            "\n",
            "0: 320x640 1 Child, 1 Therapist, 15.5ms\n",
            "Speed: 2.3ms preprocess, 15.5ms inference, 2.1ms postprocess per image at shape (1, 3, 320, 640)\n",
            "\n",
            "0: 320x640 1 Child, 1 Therapist, 12.3ms\n",
            "Speed: 2.4ms preprocess, 12.3ms inference, 1.6ms postprocess per image at shape (1, 3, 320, 640)\n",
            "\n",
            "0: 320x640 1 Child, 1 Therapist, 10.7ms\n",
            "Speed: 2.2ms preprocess, 10.7ms inference, 3.5ms postprocess per image at shape (1, 3, 320, 640)\n",
            "\n",
            "0: 320x640 1 Child, 1 Therapist, 10.9ms\n",
            "Speed: 2.3ms preprocess, 10.9ms inference, 1.5ms postprocess per image at shape (1, 3, 320, 640)\n",
            "\n",
            "0: 320x640 1 Child, 1 Therapist, 9.8ms\n",
            "Speed: 2.3ms preprocess, 9.8ms inference, 1.5ms postprocess per image at shape (1, 3, 320, 640)\n",
            "\n",
            "0: 320x640 1 Child, 1 Therapist, 8.9ms\n",
            "Speed: 2.2ms preprocess, 8.9ms inference, 1.6ms postprocess per image at shape (1, 3, 320, 640)\n",
            "\n",
            "0: 320x640 1 Child, 1 Therapist, 10.5ms\n",
            "Speed: 2.2ms preprocess, 10.5ms inference, 2.1ms postprocess per image at shape (1, 3, 320, 640)\n",
            "\n",
            "0: 320x640 1 Child, 1 Therapist, 11.6ms\n",
            "Speed: 2.3ms preprocess, 11.6ms inference, 1.8ms postprocess per image at shape (1, 3, 320, 640)\n",
            "\n",
            "0: 320x640 1 Child, 1 Therapist, 14.2ms\n",
            "Speed: 2.4ms preprocess, 14.2ms inference, 1.7ms postprocess per image at shape (1, 3, 320, 640)\n",
            "\n",
            "0: 320x640 1 Child, 1 Therapist, 13.4ms\n",
            "Speed: 2.4ms preprocess, 13.4ms inference, 1.6ms postprocess per image at shape (1, 3, 320, 640)\n",
            "\n",
            "0: 320x640 1 Child, 1 Therapist, 9.1ms\n",
            "Speed: 2.3ms preprocess, 9.1ms inference, 1.7ms postprocess per image at shape (1, 3, 320, 640)\n",
            "\n",
            "0: 320x640 1 Child, 1 Therapist, 9.9ms\n",
            "Speed: 2.2ms preprocess, 9.9ms inference, 1.7ms postprocess per image at shape (1, 3, 320, 640)\n",
            "\n",
            "0: 320x640 1 Child, 1 Therapist, 11.1ms\n",
            "Speed: 2.2ms preprocess, 11.1ms inference, 1.8ms postprocess per image at shape (1, 3, 320, 640)\n",
            "\n",
            "0: 320x640 1 Child, 1 Therapist, 9.5ms\n",
            "Speed: 2.3ms preprocess, 9.5ms inference, 1.7ms postprocess per image at shape (1, 3, 320, 640)\n",
            "\n",
            "0: 320x640 1 Child, 1 Therapist, 9.0ms\n",
            "Speed: 2.5ms preprocess, 9.0ms inference, 1.7ms postprocess per image at shape (1, 3, 320, 640)\n",
            "\n",
            "0: 320x640 1 Child, 1 Therapist, 9.4ms\n",
            "Speed: 2.3ms preprocess, 9.4ms inference, 1.6ms postprocess per image at shape (1, 3, 320, 640)\n",
            "\n",
            "0: 320x640 1 Child, 1 Therapist, 8.5ms\n",
            "Speed: 2.1ms preprocess, 8.5ms inference, 1.6ms postprocess per image at shape (1, 3, 320, 640)\n",
            "\n",
            "0: 320x640 1 Child, 1 Therapist, 9.2ms\n",
            "Speed: 2.2ms preprocess, 9.2ms inference, 4.1ms postprocess per image at shape (1, 3, 320, 640)\n",
            "\n",
            "0: 320x640 1 Child, 1 Therapist, 8.9ms\n",
            "Speed: 2.2ms preprocess, 8.9ms inference, 1.6ms postprocess per image at shape (1, 3, 320, 640)\n",
            "\n",
            "0: 320x640 1 Child, 1 Therapist, 9.2ms\n",
            "Speed: 2.4ms preprocess, 9.2ms inference, 1.5ms postprocess per image at shape (1, 3, 320, 640)\n",
            "\n",
            "0: 320x640 1 Child, 1 Therapist, 9.0ms\n",
            "Speed: 2.2ms preprocess, 9.0ms inference, 1.6ms postprocess per image at shape (1, 3, 320, 640)\n",
            "\n",
            "0: 320x640 1 Child, 1 Therapist, 8.8ms\n",
            "Speed: 2.2ms preprocess, 8.8ms inference, 1.8ms postprocess per image at shape (1, 3, 320, 640)\n",
            "\n",
            "0: 320x640 1 Child, 1 Therapist, 9.3ms\n",
            "Speed: 2.3ms preprocess, 9.3ms inference, 1.5ms postprocess per image at shape (1, 3, 320, 640)\n",
            "\n",
            "0: 320x640 1 Child, 1 Therapist, 11.0ms\n",
            "Speed: 2.3ms preprocess, 11.0ms inference, 1.5ms postprocess per image at shape (1, 3, 320, 640)\n",
            "\n",
            "0: 320x640 1 Child, 1 Therapist, 9.6ms\n",
            "Speed: 2.3ms preprocess, 9.6ms inference, 1.5ms postprocess per image at shape (1, 3, 320, 640)\n",
            "\n",
            "0: 320x640 1 Child, 1 Therapist, 11.2ms\n",
            "Speed: 2.4ms preprocess, 11.2ms inference, 1.8ms postprocess per image at shape (1, 3, 320, 640)\n",
            "\n",
            "0: 320x640 1 Child, 1 Therapist, 11.2ms\n",
            "Speed: 2.4ms preprocess, 11.2ms inference, 2.2ms postprocess per image at shape (1, 3, 320, 640)\n",
            "\n",
            "0: 320x640 1 Child, 1 Therapist, 20.9ms\n",
            "Speed: 3.8ms preprocess, 20.9ms inference, 2.7ms postprocess per image at shape (1, 3, 320, 640)\n",
            "\n",
            "0: 320x640 1 Child, 1 Therapist, 12.9ms\n",
            "Speed: 2.8ms preprocess, 12.9ms inference, 2.5ms postprocess per image at shape (1, 3, 320, 640)\n",
            "\n",
            "0: 320x640 1 Child, 1 Therapist, 12.7ms\n",
            "Speed: 2.5ms preprocess, 12.7ms inference, 2.1ms postprocess per image at shape (1, 3, 320, 640)\n",
            "\n",
            "0: 320x640 1 Child, 1 Therapist, 13.3ms\n",
            "Speed: 3.3ms preprocess, 13.3ms inference, 1.7ms postprocess per image at shape (1, 3, 320, 640)\n",
            "\n",
            "0: 320x640 1 Child, 1 Therapist, 23.5ms\n",
            "Speed: 2.4ms preprocess, 23.5ms inference, 2.4ms postprocess per image at shape (1, 3, 320, 640)\n",
            "\n",
            "0: 320x640 1 Child, 1 Therapist, 12.9ms\n",
            "Speed: 2.4ms preprocess, 12.9ms inference, 5.4ms postprocess per image at shape (1, 3, 320, 640)\n",
            "\n",
            "0: 320x640 1 Child, 1 Therapist, 13.1ms\n",
            "Speed: 2.4ms preprocess, 13.1ms inference, 1.7ms postprocess per image at shape (1, 3, 320, 640)\n",
            "\n",
            "0: 320x640 1 Child, 1 Therapist, 15.3ms\n",
            "Speed: 2.2ms preprocess, 15.3ms inference, 1.6ms postprocess per image at shape (1, 3, 320, 640)\n",
            "\n",
            "0: 320x640 1 Child, 1 Therapist, 10.9ms\n",
            "Speed: 3.7ms preprocess, 10.9ms inference, 1.6ms postprocess per image at shape (1, 3, 320, 640)\n",
            "\n",
            "0: 320x640 1 Child, 1 Therapist, 9.8ms\n",
            "Speed: 2.5ms preprocess, 9.8ms inference, 1.7ms postprocess per image at shape (1, 3, 320, 640)\n",
            "\n",
            "0: 320x640 1 Child, 1 Therapist, 9.8ms\n",
            "Speed: 2.7ms preprocess, 9.8ms inference, 1.6ms postprocess per image at shape (1, 3, 320, 640)\n",
            "\n",
            "0: 320x640 1 Child, 1 Therapist, 9.8ms\n",
            "Speed: 2.8ms preprocess, 9.8ms inference, 1.6ms postprocess per image at shape (1, 3, 320, 640)\n",
            "\n",
            "0: 320x640 1 Child, 1 Therapist, 12.2ms\n",
            "Speed: 3.9ms preprocess, 12.2ms inference, 1.6ms postprocess per image at shape (1, 3, 320, 640)\n",
            "\n",
            "0: 320x640 1 Child, 1 Therapist, 11.9ms\n",
            "Speed: 2.3ms preprocess, 11.9ms inference, 3.3ms postprocess per image at shape (1, 3, 320, 640)\n",
            "\n",
            "0: 320x640 1 Child, 1 Therapist, 13.4ms\n",
            "Speed: 2.3ms preprocess, 13.4ms inference, 1.5ms postprocess per image at shape (1, 3, 320, 640)\n",
            "\n",
            "0: 320x640 1 Child, 1 Therapist, 12.0ms\n",
            "Speed: 2.3ms preprocess, 12.0ms inference, 1.9ms postprocess per image at shape (1, 3, 320, 640)\n",
            "\n",
            "0: 320x640 1 Child, 1 Therapist, 9.8ms\n",
            "Speed: 2.5ms preprocess, 9.8ms inference, 1.7ms postprocess per image at shape (1, 3, 320, 640)\n",
            "\n",
            "0: 320x640 1 Child, 1 Therapist, 11.9ms\n",
            "Speed: 2.4ms preprocess, 11.9ms inference, 4.8ms postprocess per image at shape (1, 3, 320, 640)\n",
            "\n",
            "0: 320x640 1 Child, 1 Therapist, 9.3ms\n",
            "Speed: 2.6ms preprocess, 9.3ms inference, 1.6ms postprocess per image at shape (1, 3, 320, 640)\n",
            "\n",
            "0: 320x640 1 Child, 1 Therapist, 9.1ms\n",
            "Speed: 2.1ms preprocess, 9.1ms inference, 1.8ms postprocess per image at shape (1, 3, 320, 640)\n",
            "\n",
            "0: 320x640 1 Child, 1 Therapist, 8.5ms\n",
            "Speed: 2.5ms preprocess, 8.5ms inference, 1.5ms postprocess per image at shape (1, 3, 320, 640)\n",
            "\n",
            "0: 320x640 1 Child, 1 Therapist, 8.7ms\n",
            "Speed: 2.2ms preprocess, 8.7ms inference, 1.7ms postprocess per image at shape (1, 3, 320, 640)\n",
            "\n",
            "0: 320x640 1 Child, 1 Therapist, 9.0ms\n",
            "Speed: 2.5ms preprocess, 9.0ms inference, 1.6ms postprocess per image at shape (1, 3, 320, 640)\n",
            "\n",
            "0: 320x640 1 Child, 1 Therapist, 9.0ms\n",
            "Speed: 2.2ms preprocess, 9.0ms inference, 1.6ms postprocess per image at shape (1, 3, 320, 640)\n",
            "\n",
            "0: 320x640 1 Child, 1 Therapist, 8.9ms\n",
            "Speed: 2.4ms preprocess, 8.9ms inference, 1.5ms postprocess per image at shape (1, 3, 320, 640)\n",
            "\n",
            "0: 320x640 1 Child, 1 Therapist, 10.4ms\n",
            "Speed: 2.3ms preprocess, 10.4ms inference, 1.6ms postprocess per image at shape (1, 3, 320, 640)\n",
            "\n",
            "0: 320x640 1 Child, 1 Therapist, 10.2ms\n",
            "Speed: 2.2ms preprocess, 10.2ms inference, 1.8ms postprocess per image at shape (1, 3, 320, 640)\n",
            "\n",
            "0: 320x640 1 Child, 1 Therapist, 11.6ms\n",
            "Speed: 2.4ms preprocess, 11.6ms inference, 1.8ms postprocess per image at shape (1, 3, 320, 640)\n",
            "\n",
            "0: 320x640 1 Child, 1 Therapist, 14.1ms\n",
            "Speed: 2.3ms preprocess, 14.1ms inference, 2.2ms postprocess per image at shape (1, 3, 320, 640)\n",
            "\n",
            "0: 320x640 1 Child, 1 Therapist, 13.6ms\n",
            "Speed: 5.2ms preprocess, 13.6ms inference, 2.9ms postprocess per image at shape (1, 3, 320, 640)\n",
            "\n",
            "0: 320x640 1 Child, 1 Therapist, 16.4ms\n",
            "Speed: 4.3ms preprocess, 16.4ms inference, 3.8ms postprocess per image at shape (1, 3, 320, 640)\n",
            "\n",
            "0: 320x640 1 Child, 1 Therapist, 13.9ms\n",
            "Speed: 2.3ms preprocess, 13.9ms inference, 4.3ms postprocess per image at shape (1, 3, 320, 640)\n",
            "\n",
            "0: 320x640 1 Child, 1 Therapist, 18.0ms\n",
            "Speed: 3.1ms preprocess, 18.0ms inference, 1.4ms postprocess per image at shape (1, 3, 320, 640)\n",
            "\n",
            "0: 320x640 1 Child, 1 Therapist, 16.8ms\n",
            "Speed: 2.4ms preprocess, 16.8ms inference, 1.9ms postprocess per image at shape (1, 3, 320, 640)\n",
            "\n",
            "0: 320x640 1 Child, 1 Therapist, 11.2ms\n",
            "Speed: 2.5ms preprocess, 11.2ms inference, 1.9ms postprocess per image at shape (1, 3, 320, 640)\n",
            "\n",
            "0: 320x640 1 Child, 1 Therapist, 15.9ms\n",
            "Speed: 2.4ms preprocess, 15.9ms inference, 1.9ms postprocess per image at shape (1, 3, 320, 640)\n",
            "\n",
            "0: 320x640 1 Child, 1 Therapist, 12.6ms\n",
            "Speed: 2.3ms preprocess, 12.6ms inference, 1.6ms postprocess per image at shape (1, 3, 320, 640)\n",
            "\n",
            "0: 320x640 1 Child, 1 Therapist, 12.7ms\n",
            "Speed: 2.3ms preprocess, 12.7ms inference, 1.9ms postprocess per image at shape (1, 3, 320, 640)\n",
            "\n",
            "0: 320x640 1 Child, 1 Therapist, 14.0ms\n",
            "Speed: 2.6ms preprocess, 14.0ms inference, 1.5ms postprocess per image at shape (1, 3, 320, 640)\n",
            "\n",
            "0: 320x640 1 Child, 1 Therapist, 16.0ms\n",
            "Speed: 2.2ms preprocess, 16.0ms inference, 1.6ms postprocess per image at shape (1, 3, 320, 640)\n",
            "\n",
            "0: 320x640 1 Child, 1 Therapist, 16.6ms\n",
            "Speed: 2.3ms preprocess, 16.6ms inference, 1.7ms postprocess per image at shape (1, 3, 320, 640)\n",
            "\n",
            "0: 320x640 1 Child, 1 Therapist, 14.5ms\n",
            "Speed: 2.5ms preprocess, 14.5ms inference, 1.9ms postprocess per image at shape (1, 3, 320, 640)\n",
            "\n",
            "0: 320x640 1 Child, 1 Therapist, 15.8ms\n",
            "Speed: 2.5ms preprocess, 15.8ms inference, 2.2ms postprocess per image at shape (1, 3, 320, 640)\n",
            "\n",
            "0: 320x640 1 Child, 1 Therapist, 13.2ms\n",
            "Speed: 2.3ms preprocess, 13.2ms inference, 1.5ms postprocess per image at shape (1, 3, 320, 640)\n",
            "\n",
            "0: 320x640 1 Child, 1 Therapist, 15.1ms\n",
            "Speed: 2.3ms preprocess, 15.1ms inference, 1.9ms postprocess per image at shape (1, 3, 320, 640)\n",
            "\n",
            "0: 320x640 1 Child, 1 Therapist, 12.4ms\n",
            "Speed: 2.2ms preprocess, 12.4ms inference, 1.8ms postprocess per image at shape (1, 3, 320, 640)\n",
            "\n",
            "0: 320x640 1 Child, 1 Therapist, 14.4ms\n",
            "Speed: 2.2ms preprocess, 14.4ms inference, 1.7ms postprocess per image at shape (1, 3, 320, 640)\n",
            "\n",
            "0: 320x640 1 Child, 1 Therapist, 14.1ms\n",
            "Speed: 2.3ms preprocess, 14.1ms inference, 1.7ms postprocess per image at shape (1, 3, 320, 640)\n",
            "\n",
            "0: 320x640 1 Child, 1 Therapist, 9.5ms\n",
            "Speed: 2.5ms preprocess, 9.5ms inference, 1.4ms postprocess per image at shape (1, 3, 320, 640)\n",
            "\n",
            "0: 320x640 1 Child, 1 Therapist, 8.9ms\n",
            "Speed: 2.3ms preprocess, 8.9ms inference, 1.6ms postprocess per image at shape (1, 3, 320, 640)\n",
            "\n",
            "0: 320x640 1 Child, 1 Therapist, 13.1ms\n",
            "Speed: 2.3ms preprocess, 13.1ms inference, 1.6ms postprocess per image at shape (1, 3, 320, 640)\n",
            "\n",
            "0: 320x640 1 Child, 1 Therapist, 14.4ms\n",
            "Speed: 2.3ms preprocess, 14.4ms inference, 1.6ms postprocess per image at shape (1, 3, 320, 640)\n",
            "\n",
            "0: 320x640 1 Child, 1 Therapist, 11.0ms\n",
            "Speed: 2.5ms preprocess, 11.0ms inference, 2.2ms postprocess per image at shape (1, 3, 320, 640)\n",
            "\n",
            "0: 320x640 1 Child, 1 Therapist, 11.6ms\n",
            "Speed: 2.4ms preprocess, 11.6ms inference, 1.9ms postprocess per image at shape (1, 3, 320, 640)\n",
            "\n",
            "0: 320x640 1 Child, 1 Therapist, 10.5ms\n",
            "Speed: 2.4ms preprocess, 10.5ms inference, 1.5ms postprocess per image at shape (1, 3, 320, 640)\n",
            "\n",
            "0: 320x640 1 Child, 1 Therapist, 9.2ms\n",
            "Speed: 2.2ms preprocess, 9.2ms inference, 1.4ms postprocess per image at shape (1, 3, 320, 640)\n",
            "\n",
            "0: 320x640 1 Child, 1 Therapist, 11.0ms\n",
            "Speed: 2.3ms preprocess, 11.0ms inference, 1.8ms postprocess per image at shape (1, 3, 320, 640)\n",
            "\n",
            "0: 320x640 1 Child, 1 Therapist, 11.2ms\n",
            "Speed: 2.3ms preprocess, 11.2ms inference, 1.8ms postprocess per image at shape (1, 3, 320, 640)\n",
            "\n",
            "0: 320x640 1 Child, 1 Therapist, 10.8ms\n",
            "Speed: 2.5ms preprocess, 10.8ms inference, 1.8ms postprocess per image at shape (1, 3, 320, 640)\n",
            "\n",
            "0: 320x640 1 Child, 1 Therapist, 14.0ms\n",
            "Speed: 2.5ms preprocess, 14.0ms inference, 3.9ms postprocess per image at shape (1, 3, 320, 640)\n",
            "\n",
            "0: 320x640 1 Child, 1 Therapist, 12.2ms\n",
            "Speed: 4.3ms preprocess, 12.2ms inference, 2.5ms postprocess per image at shape (1, 3, 320, 640)\n",
            "\n",
            "0: 320x640 1 Child, 1 Therapist, 9.3ms\n",
            "Speed: 2.2ms preprocess, 9.3ms inference, 2.0ms postprocess per image at shape (1, 3, 320, 640)\n",
            "\n",
            "0: 320x640 1 Child, 1 Therapist, 9.8ms\n",
            "Speed: 2.3ms preprocess, 9.8ms inference, 1.5ms postprocess per image at shape (1, 3, 320, 640)\n",
            "\n",
            "0: 320x640 1 Child, 1 Therapist, 9.4ms\n",
            "Speed: 2.3ms preprocess, 9.4ms inference, 1.6ms postprocess per image at shape (1, 3, 320, 640)\n",
            "\n",
            "0: 320x640 1 Child, 1 Therapist, 9.3ms\n",
            "Speed: 2.4ms preprocess, 9.3ms inference, 1.9ms postprocess per image at shape (1, 3, 320, 640)\n",
            "\n",
            "0: 320x640 1 Child, 1 Therapist, 8.7ms\n",
            "Speed: 2.4ms preprocess, 8.7ms inference, 1.4ms postprocess per image at shape (1, 3, 320, 640)\n",
            "\n",
            "0: 320x640 1 Child, 1 Therapist, 9.3ms\n",
            "Speed: 2.2ms preprocess, 9.3ms inference, 1.5ms postprocess per image at shape (1, 3, 320, 640)\n",
            "\n",
            "0: 320x640 1 Child, 1 Therapist, 8.5ms\n",
            "Speed: 2.1ms preprocess, 8.5ms inference, 1.5ms postprocess per image at shape (1, 3, 320, 640)\n",
            "\n",
            "0: 320x640 1 Child, 1 Therapist, 9.2ms\n",
            "Speed: 2.3ms preprocess, 9.2ms inference, 1.6ms postprocess per image at shape (1, 3, 320, 640)\n",
            "\n",
            "0: 320x640 1 Child, 1 Therapist, 9.4ms\n",
            "Speed: 2.1ms preprocess, 9.4ms inference, 1.5ms postprocess per image at shape (1, 3, 320, 640)\n",
            "\n",
            "0: 320x640 1 Child, 1 Therapist, 17.5ms\n",
            "Speed: 2.3ms preprocess, 17.5ms inference, 1.9ms postprocess per image at shape (1, 3, 320, 640)\n",
            "\n",
            "0: 320x640 1 Child, 1 Therapist, 9.7ms\n",
            "Speed: 2.2ms preprocess, 9.7ms inference, 1.8ms postprocess per image at shape (1, 3, 320, 640)\n",
            "\n",
            "0: 320x640 1 Child, 1 Therapist, 9.4ms\n",
            "Speed: 2.2ms preprocess, 9.4ms inference, 1.6ms postprocess per image at shape (1, 3, 320, 640)\n",
            "\n",
            "0: 320x640 1 Child, 1 Therapist, 10.3ms\n",
            "Speed: 2.2ms preprocess, 10.3ms inference, 2.3ms postprocess per image at shape (1, 3, 320, 640)\n",
            "\n",
            "0: 320x640 1 Child, 1 Therapist, 10.0ms\n",
            "Speed: 2.6ms preprocess, 10.0ms inference, 1.8ms postprocess per image at shape (1, 3, 320, 640)\n",
            "\n",
            "0: 320x640 1 Child, 1 Therapist, 10.1ms\n",
            "Speed: 2.4ms preprocess, 10.1ms inference, 2.0ms postprocess per image at shape (1, 3, 320, 640)\n",
            "\n",
            "0: 320x640 1 Child, 1 Therapist, 10.0ms\n",
            "Speed: 2.7ms preprocess, 10.0ms inference, 1.7ms postprocess per image at shape (1, 3, 320, 640)\n",
            "\n",
            "0: 320x640 1 Child, 1 Therapist, 13.6ms\n",
            "Speed: 2.5ms preprocess, 13.6ms inference, 4.9ms postprocess per image at shape (1, 3, 320, 640)\n",
            "\n",
            "0: 320x640 1 Child, 1 Therapist, 13.6ms\n",
            "Speed: 2.5ms preprocess, 13.6ms inference, 1.9ms postprocess per image at shape (1, 3, 320, 640)\n",
            "\n",
            "0: 320x640 1 Child, 1 Therapist, 13.2ms\n",
            "Speed: 2.4ms preprocess, 13.2ms inference, 1.9ms postprocess per image at shape (1, 3, 320, 640)\n",
            "\n",
            "0: 320x640 1 Child, 1 Therapist, 10.5ms\n",
            "Speed: 2.4ms preprocess, 10.5ms inference, 1.7ms postprocess per image at shape (1, 3, 320, 640)\n",
            "\n",
            "0: 320x640 1 Child, 1 Therapist, 10.5ms\n",
            "Speed: 2.5ms preprocess, 10.5ms inference, 1.7ms postprocess per image at shape (1, 3, 320, 640)\n",
            "\n",
            "0: 320x640 1 Child, 1 Therapist, 10.3ms\n",
            "Speed: 2.6ms preprocess, 10.3ms inference, 1.6ms postprocess per image at shape (1, 3, 320, 640)\n",
            "\n",
            "0: 320x640 1 Child, 1 Therapist, 10.3ms\n",
            "Speed: 2.6ms preprocess, 10.3ms inference, 1.9ms postprocess per image at shape (1, 3, 320, 640)\n",
            "\n",
            "0: 320x640 1 Child, 1 Therapist, 12.4ms\n",
            "Speed: 2.6ms preprocess, 12.4ms inference, 2.2ms postprocess per image at shape (1, 3, 320, 640)\n",
            "\n",
            "0: 320x640 1 Child, 1 Therapist, 12.2ms\n",
            "Speed: 2.7ms preprocess, 12.2ms inference, 2.1ms postprocess per image at shape (1, 3, 320, 640)\n",
            "\n",
            "0: 320x640 1 Child, 1 Therapist, 14.2ms\n",
            "Speed: 2.9ms preprocess, 14.2ms inference, 2.6ms postprocess per image at shape (1, 3, 320, 640)\n",
            "\n",
            "0: 320x640 1 Child, 1 Therapist, 12.1ms\n",
            "Speed: 3.0ms preprocess, 12.1ms inference, 2.3ms postprocess per image at shape (1, 3, 320, 640)\n",
            "\n",
            "0: 320x640 1 Child, 1 Therapist, 13.0ms\n",
            "Speed: 2.7ms preprocess, 13.0ms inference, 2.1ms postprocess per image at shape (1, 3, 320, 640)\n",
            "\n",
            "0: 320x640 1 Child, 1 Therapist, 12.8ms\n",
            "Speed: 2.6ms preprocess, 12.8ms inference, 2.0ms postprocess per image at shape (1, 3, 320, 640)\n",
            "\n",
            "0: 320x640 1 Child, 1 Therapist, 10.4ms\n",
            "Speed: 2.5ms preprocess, 10.4ms inference, 1.8ms postprocess per image at shape (1, 3, 320, 640)\n",
            "\n",
            "0: 320x640 1 Child, 1 Therapist, 10.3ms\n",
            "Speed: 2.4ms preprocess, 10.3ms inference, 2.2ms postprocess per image at shape (1, 3, 320, 640)\n",
            "\n",
            "0: 320x640 1 Child, 1 Therapist, 12.0ms\n",
            "Speed: 2.3ms preprocess, 12.0ms inference, 3.3ms postprocess per image at shape (1, 3, 320, 640)\n",
            "\n",
            "0: 320x640 1 Child, 2 Therapists, 11.3ms\n",
            "Speed: 2.4ms preprocess, 11.3ms inference, 2.0ms postprocess per image at shape (1, 3, 320, 640)\n",
            "\n",
            "0: 320x640 1 Child, 2 Therapists, 9.5ms\n",
            "Speed: 2.4ms preprocess, 9.5ms inference, 1.6ms postprocess per image at shape (1, 3, 320, 640)\n",
            "\n",
            "0: 320x640 1 Child, 2 Therapists, 9.2ms\n",
            "Speed: 2.3ms preprocess, 9.2ms inference, 1.7ms postprocess per image at shape (1, 3, 320, 640)\n",
            "\n",
            "0: 320x640 1 Child, 1 Therapist, 9.1ms\n",
            "Speed: 2.5ms preprocess, 9.1ms inference, 1.9ms postprocess per image at shape (1, 3, 320, 640)\n",
            "\n",
            "0: 320x640 1 Child, 1 Therapist, 12.9ms\n",
            "Speed: 2.6ms preprocess, 12.9ms inference, 1.8ms postprocess per image at shape (1, 3, 320, 640)\n",
            "\n",
            "0: 320x640 1 Child, 1 Therapist, 11.7ms\n",
            "Speed: 2.2ms preprocess, 11.7ms inference, 1.7ms postprocess per image at shape (1, 3, 320, 640)\n",
            "\n",
            "0: 320x640 1 Child, 2 Therapists, 10.3ms\n",
            "Speed: 2.3ms preprocess, 10.3ms inference, 1.7ms postprocess per image at shape (1, 3, 320, 640)\n",
            "\n",
            "0: 320x640 1 Child, 1 Therapist, 9.0ms\n",
            "Speed: 2.3ms preprocess, 9.0ms inference, 1.9ms postprocess per image at shape (1, 3, 320, 640)\n",
            "\n",
            "0: 320x640 1 Child, 1 Therapist, 10.1ms\n",
            "Speed: 4.2ms preprocess, 10.1ms inference, 1.6ms postprocess per image at shape (1, 3, 320, 640)\n",
            "\n",
            "0: 320x640 1 Child, 1 Therapist, 10.6ms\n",
            "Speed: 2.4ms preprocess, 10.6ms inference, 4.5ms postprocess per image at shape (1, 3, 320, 640)\n",
            "\n",
            "0: 320x640 1 Child, 1 Therapist, 9.4ms\n",
            "Speed: 2.3ms preprocess, 9.4ms inference, 1.6ms postprocess per image at shape (1, 3, 320, 640)\n",
            "\n",
            "0: 320x640 1 Child, 1 Therapist, 9.1ms\n",
            "Speed: 2.4ms preprocess, 9.1ms inference, 1.6ms postprocess per image at shape (1, 3, 320, 640)\n",
            "\n",
            "0: 320x640 1 Child, 1 Therapist, 12.5ms\n",
            "Speed: 2.3ms preprocess, 12.5ms inference, 1.4ms postprocess per image at shape (1, 3, 320, 640)\n",
            "\n",
            "0: 320x640 1 Child, 1 Therapist, 9.3ms\n",
            "Speed: 2.2ms preprocess, 9.3ms inference, 1.4ms postprocess per image at shape (1, 3, 320, 640)\n",
            "\n",
            "0: 320x640 1 Child, 1 Therapist, 16.2ms\n",
            "Speed: 2.5ms preprocess, 16.2ms inference, 1.9ms postprocess per image at shape (1, 3, 320, 640)\n",
            "\n",
            "0: 320x640 1 Child, 1 Therapist, 10.2ms\n",
            "Speed: 2.4ms preprocess, 10.2ms inference, 1.9ms postprocess per image at shape (1, 3, 320, 640)\n",
            "\n",
            "0: 320x640 1 Child, 1 Therapist, 10.6ms\n",
            "Speed: 2.4ms preprocess, 10.6ms inference, 1.9ms postprocess per image at shape (1, 3, 320, 640)\n",
            "\n",
            "0: 320x640 1 Child, 1 Therapist, 10.5ms\n",
            "Speed: 2.6ms preprocess, 10.5ms inference, 1.9ms postprocess per image at shape (1, 3, 320, 640)\n",
            "\n",
            "0: 320x640 1 Child, 2 Therapists, 13.9ms\n",
            "Speed: 2.8ms preprocess, 13.9ms inference, 1.9ms postprocess per image at shape (1, 3, 320, 640)\n",
            "\n",
            "0: 320x640 1 Child, 1 Therapist, 11.9ms\n",
            "Speed: 2.7ms preprocess, 11.9ms inference, 2.3ms postprocess per image at shape (1, 3, 320, 640)\n",
            "\n",
            "0: 320x640 1 Child, 1 Therapist, 10.0ms\n",
            "Speed: 2.5ms preprocess, 10.0ms inference, 2.1ms postprocess per image at shape (1, 3, 320, 640)\n",
            "\n",
            "0: 320x640 1 Child, 1 Therapist, 10.4ms\n",
            "Speed: 2.5ms preprocess, 10.4ms inference, 1.9ms postprocess per image at shape (1, 3, 320, 640)\n",
            "\n",
            "0: 320x640 1 Child, 1 Therapist, 12.4ms\n",
            "Speed: 2.6ms preprocess, 12.4ms inference, 2.2ms postprocess per image at shape (1, 3, 320, 640)\n",
            "\n",
            "0: 320x640 1 Child, 1 Therapist, 12.6ms\n",
            "Speed: 2.8ms preprocess, 12.6ms inference, 2.0ms postprocess per image at shape (1, 3, 320, 640)\n",
            "\n",
            "0: 320x640 1 Child, 1 Therapist, 12.1ms\n",
            "Speed: 2.7ms preprocess, 12.1ms inference, 2.4ms postprocess per image at shape (1, 3, 320, 640)\n",
            "\n",
            "0: 320x640 1 Child, 1 Therapist, 12.5ms\n",
            "Speed: 2.6ms preprocess, 12.5ms inference, 2.2ms postprocess per image at shape (1, 3, 320, 640)\n",
            "\n",
            "0: 320x640 1 Child, 1 Therapist, 13.3ms\n",
            "Speed: 2.6ms preprocess, 13.3ms inference, 2.1ms postprocess per image at shape (1, 3, 320, 640)\n",
            "\n",
            "0: 320x640 1 Child, 1 Therapist, 12.8ms\n",
            "Speed: 2.8ms preprocess, 12.8ms inference, 2.2ms postprocess per image at shape (1, 3, 320, 640)\n",
            "\n",
            "0: 320x640 1 Child, 1 Therapist, 12.8ms\n",
            "Speed: 2.7ms preprocess, 12.8ms inference, 2.1ms postprocess per image at shape (1, 3, 320, 640)\n",
            "\n",
            "0: 320x640 1 Child, 1 Therapist, 11.3ms\n",
            "Speed: 2.7ms preprocess, 11.3ms inference, 1.8ms postprocess per image at shape (1, 3, 320, 640)\n",
            "\n",
            "0: 320x640 1 Child, 1 Therapist, 9.9ms\n",
            "Speed: 2.5ms preprocess, 9.9ms inference, 1.9ms postprocess per image at shape (1, 3, 320, 640)\n",
            "\n",
            "0: 320x640 1 Child, 1 Therapist, 8.9ms\n",
            "Speed: 2.3ms preprocess, 8.9ms inference, 1.7ms postprocess per image at shape (1, 3, 320, 640)\n",
            "\n",
            "0: 320x640 1 Child, 1 Therapist, 12.7ms\n",
            "Speed: 2.3ms preprocess, 12.7ms inference, 1.7ms postprocess per image at shape (1, 3, 320, 640)\n",
            "\n",
            "0: 320x640 1 Child, 1 Therapist, 13.7ms\n",
            "Speed: 2.3ms preprocess, 13.7ms inference, 4.9ms postprocess per image at shape (1, 3, 320, 640)\n",
            "\n",
            "0: 320x640 1 Child, 1 Therapist, 8.4ms\n",
            "Speed: 5.2ms preprocess, 8.4ms inference, 5.7ms postprocess per image at shape (1, 3, 320, 640)\n",
            "\n",
            "0: 320x640 1 Child, 1 Therapist, 9.6ms\n",
            "Speed: 6.3ms preprocess, 9.6ms inference, 1.7ms postprocess per image at shape (1, 3, 320, 640)\n",
            "\n",
            "0: 320x640 1 Child, 1 Therapist, 9.7ms\n",
            "Speed: 2.4ms preprocess, 9.7ms inference, 1.7ms postprocess per image at shape (1, 3, 320, 640)\n",
            "\n",
            "0: 320x640 1 Child, 1 Therapist, 9.2ms\n",
            "Speed: 2.2ms preprocess, 9.2ms inference, 1.7ms postprocess per image at shape (1, 3, 320, 640)\n",
            "\n",
            "0: 320x640 1 Child, 1 Therapist, 15.8ms\n",
            "Speed: 2.3ms preprocess, 15.8ms inference, 1.6ms postprocess per image at shape (1, 3, 320, 640)\n",
            "\n",
            "0: 320x640 1 Child, 1 Therapist, 9.8ms\n",
            "Speed: 2.5ms preprocess, 9.8ms inference, 1.6ms postprocess per image at shape (1, 3, 320, 640)\n",
            "\n",
            "0: 320x640 1 Child, 1 Therapist, 9.0ms\n",
            "Speed: 2.3ms preprocess, 9.0ms inference, 1.8ms postprocess per image at shape (1, 3, 320, 640)\n",
            "\n",
            "0: 320x640 1 Child, 1 Therapist, 10.8ms\n",
            "Speed: 2.3ms preprocess, 10.8ms inference, 1.7ms postprocess per image at shape (1, 3, 320, 640)\n",
            "\n",
            "0: 320x640 1 Child, 1 Therapist, 14.0ms\n",
            "Speed: 2.5ms preprocess, 14.0ms inference, 1.7ms postprocess per image at shape (1, 3, 320, 640)\n",
            "\n",
            "0: 320x640 1 Child, 1 Therapist, 12.4ms\n",
            "Speed: 2.4ms preprocess, 12.4ms inference, 2.2ms postprocess per image at shape (1, 3, 320, 640)\n",
            "\n",
            "0: 320x640 1 Child, 1 Therapist, 9.9ms\n",
            "Speed: 2.4ms preprocess, 9.9ms inference, 2.1ms postprocess per image at shape (1, 3, 320, 640)\n",
            "\n",
            "0: 320x640 1 Child, 1 Therapist, 10.2ms\n",
            "Speed: 2.5ms preprocess, 10.2ms inference, 2.2ms postprocess per image at shape (1, 3, 320, 640)\n",
            "\n",
            "0: 320x640 1 Child, 1 Therapist, 10.6ms\n",
            "Speed: 2.4ms preprocess, 10.6ms inference, 2.0ms postprocess per image at shape (1, 3, 320, 640)\n",
            "\n",
            "0: 320x640 1 Child, 2 Therapists, 10.3ms\n",
            "Speed: 2.5ms preprocess, 10.3ms inference, 2.1ms postprocess per image at shape (1, 3, 320, 640)\n",
            "\n",
            "0: 320x640 1 Child, 2 Therapists, 10.2ms\n",
            "Speed: 2.5ms preprocess, 10.2ms inference, 1.8ms postprocess per image at shape (1, 3, 320, 640)\n",
            "\n",
            "0: 320x640 1 Child, 1 Therapist, 10.3ms\n",
            "Speed: 2.6ms preprocess, 10.3ms inference, 1.9ms postprocess per image at shape (1, 3, 320, 640)\n",
            "\n",
            "0: 320x640 1 Child, 1 Therapist, 14.6ms\n",
            "Speed: 2.6ms preprocess, 14.6ms inference, 1.9ms postprocess per image at shape (1, 3, 320, 640)\n",
            "\n",
            "0: 320x640 1 Child, 1 Therapist, 12.3ms\n",
            "Speed: 4.6ms preprocess, 12.3ms inference, 1.9ms postprocess per image at shape (1, 3, 320, 640)\n",
            "\n",
            "0: 320x640 1 Child, 1 Therapist, 15.5ms\n",
            "Speed: 3.2ms preprocess, 15.5ms inference, 1.7ms postprocess per image at shape (1, 3, 320, 640)\n",
            "\n",
            "0: 320x640 1 Child, 1 Therapist, 11.4ms\n",
            "Speed: 2.6ms preprocess, 11.4ms inference, 1.9ms postprocess per image at shape (1, 3, 320, 640)\n",
            "\n",
            "0: 320x640 1 Child, 1 Therapist, 12.7ms\n",
            "Speed: 2.6ms preprocess, 12.7ms inference, 2.3ms postprocess per image at shape (1, 3, 320, 640)\n",
            "\n",
            "0: 320x640 1 Child, 1 Therapist, 12.5ms\n",
            "Speed: 2.7ms preprocess, 12.5ms inference, 2.2ms postprocess per image at shape (1, 3, 320, 640)\n",
            "\n",
            "0: 320x640 1 Child, 1 Therapist, 13.5ms\n",
            "Speed: 2.7ms preprocess, 13.5ms inference, 2.1ms postprocess per image at shape (1, 3, 320, 640)\n",
            "\n",
            "0: 320x640 1 Child, 2 Therapists, 11.9ms\n",
            "Speed: 3.5ms preprocess, 11.9ms inference, 2.0ms postprocess per image at shape (1, 3, 320, 640)\n",
            "\n",
            "0: 320x640 1 Child, 2 Therapists, 16.8ms\n",
            "Speed: 2.5ms preprocess, 16.8ms inference, 2.0ms postprocess per image at shape (1, 3, 320, 640)\n",
            "\n",
            "0: 320x640 1 Child, 1 Therapist, 11.9ms\n",
            "Speed: 2.4ms preprocess, 11.9ms inference, 1.9ms postprocess per image at shape (1, 3, 320, 640)\n",
            "\n",
            "0: 320x640 1 Child, 1 Therapist, 14.3ms\n",
            "Speed: 2.4ms preprocess, 14.3ms inference, 1.9ms postprocess per image at shape (1, 3, 320, 640)\n",
            "\n",
            "0: 320x640 1 Child, 1 Therapist, 15.5ms\n",
            "Speed: 2.5ms preprocess, 15.5ms inference, 2.0ms postprocess per image at shape (1, 3, 320, 640)\n",
            "\n",
            "0: 320x640 1 Child, 1 Therapist, 16.1ms\n",
            "Speed: 3.1ms preprocess, 16.1ms inference, 1.6ms postprocess per image at shape (1, 3, 320, 640)\n",
            "\n",
            "0: 320x640 1 Child, 1 Therapist, 11.8ms\n",
            "Speed: 4.0ms preprocess, 11.8ms inference, 1.6ms postprocess per image at shape (1, 3, 320, 640)\n",
            "\n",
            "0: 320x640 1 Child, 1 Therapist, 11.4ms\n",
            "Speed: 2.3ms preprocess, 11.4ms inference, 1.6ms postprocess per image at shape (1, 3, 320, 640)\n",
            "\n",
            "0: 320x640 1 Child, 1 Therapist, 12.7ms\n",
            "Speed: 2.3ms preprocess, 12.7ms inference, 1.5ms postprocess per image at shape (1, 3, 320, 640)\n",
            "\n",
            "0: 320x640 1 Child, 1 Therapist, 12.2ms\n",
            "Speed: 2.2ms preprocess, 12.2ms inference, 4.1ms postprocess per image at shape (1, 3, 320, 640)\n",
            "\n",
            "0: 320x640 1 Child, 1 Therapist, 10.8ms\n",
            "Speed: 2.3ms preprocess, 10.8ms inference, 1.6ms postprocess per image at shape (1, 3, 320, 640)\n",
            "\n",
            "0: 320x640 1 Child, 1 Therapist, 11.3ms\n",
            "Speed: 2.2ms preprocess, 11.3ms inference, 1.5ms postprocess per image at shape (1, 3, 320, 640)\n",
            "\n",
            "0: 320x640 1 Child, 1 Therapist, 12.0ms\n",
            "Speed: 2.2ms preprocess, 12.0ms inference, 1.5ms postprocess per image at shape (1, 3, 320, 640)\n",
            "\n",
            "0: 320x640 1 Child, 1 Therapist, 11.1ms\n",
            "Speed: 2.2ms preprocess, 11.1ms inference, 1.6ms postprocess per image at shape (1, 3, 320, 640)\n",
            "\n",
            "0: 320x640 1 Child, 1 Therapist, 12.7ms\n",
            "Speed: 2.2ms preprocess, 12.7ms inference, 1.8ms postprocess per image at shape (1, 3, 320, 640)\n",
            "\n",
            "0: 320x640 1 Child, 1 Therapist, 13.4ms\n",
            "Speed: 2.2ms preprocess, 13.4ms inference, 1.6ms postprocess per image at shape (1, 3, 320, 640)\n",
            "\n",
            "0: 320x640 1 Child, 1 Therapist, 11.2ms\n",
            "Speed: 2.3ms preprocess, 11.2ms inference, 1.7ms postprocess per image at shape (1, 3, 320, 640)\n",
            "\n",
            "0: 320x640 1 Child, 1 Therapist, 13.1ms\n",
            "Speed: 2.3ms preprocess, 13.1ms inference, 1.7ms postprocess per image at shape (1, 3, 320, 640)\n",
            "\n",
            "0: 320x640 1 Child, 1 Therapist, 10.3ms\n",
            "Speed: 2.3ms preprocess, 10.3ms inference, 1.7ms postprocess per image at shape (1, 3, 320, 640)\n",
            "\n",
            "0: 320x640 1 Child, 1 Therapist, 15.3ms\n",
            "Speed: 2.3ms preprocess, 15.3ms inference, 1.7ms postprocess per image at shape (1, 3, 320, 640)\n",
            "\n",
            "0: 320x640 1 Child, 1 Therapist, 13.7ms\n",
            "Speed: 2.4ms preprocess, 13.7ms inference, 1.6ms postprocess per image at shape (1, 3, 320, 640)\n",
            "\n",
            "0: 320x640 1 Child, 1 Therapist, 15.0ms\n",
            "Speed: 2.8ms preprocess, 15.0ms inference, 1.9ms postprocess per image at shape (1, 3, 320, 640)\n",
            "\n",
            "0: 320x640 1 Child, 1 Therapist, 12.9ms\n",
            "Speed: 3.0ms preprocess, 12.9ms inference, 1.8ms postprocess per image at shape (1, 3, 320, 640)\n",
            "\n",
            "0: 320x640 1 Child, 1 Therapist, 18.4ms\n",
            "Speed: 2.5ms preprocess, 18.4ms inference, 1.8ms postprocess per image at shape (1, 3, 320, 640)\n",
            "\n",
            "0: 320x640 1 Child, 1 Therapist, 13.1ms\n",
            "Speed: 4.0ms preprocess, 13.1ms inference, 1.9ms postprocess per image at shape (1, 3, 320, 640)\n",
            "\n",
            "0: 320x640 1 Child, 1 Therapist, 10.2ms\n",
            "Speed: 3.1ms preprocess, 10.2ms inference, 1.9ms postprocess per image at shape (1, 3, 320, 640)\n",
            "\n",
            "0: 320x640 1 Child, 1 Therapist, 11.4ms\n",
            "Speed: 2.2ms preprocess, 11.4ms inference, 1.9ms postprocess per image at shape (1, 3, 320, 640)\n",
            "\n",
            "0: 320x640 1 Child, 1 Therapist, 19.0ms\n",
            "Speed: 2.3ms preprocess, 19.0ms inference, 2.0ms postprocess per image at shape (1, 3, 320, 640)\n",
            "\n",
            "0: 320x640 1 Child, 1 Therapist, 18.8ms\n",
            "Speed: 4.0ms preprocess, 18.8ms inference, 1.8ms postprocess per image at shape (1, 3, 320, 640)\n",
            "\n",
            "0: 320x640 1 Child, 1 Therapist, 14.3ms\n",
            "Speed: 2.2ms preprocess, 14.3ms inference, 1.7ms postprocess per image at shape (1, 3, 320, 640)\n",
            "\n",
            "0: 320x640 1 Child, 1 Therapist, 13.1ms\n",
            "Speed: 3.1ms preprocess, 13.1ms inference, 5.4ms postprocess per image at shape (1, 3, 320, 640)\n",
            "\n",
            "0: 320x640 1 Child, 1 Therapist, 16.2ms\n",
            "Speed: 4.3ms preprocess, 16.2ms inference, 5.7ms postprocess per image at shape (1, 3, 320, 640)\n",
            "\n",
            "0: 320x640 1 Child, 1 Therapist, 17.7ms\n",
            "Speed: 2.3ms preprocess, 17.7ms inference, 1.7ms postprocess per image at shape (1, 3, 320, 640)\n",
            "\n",
            "0: 320x640 1 Child, 1 Therapist, 18.3ms\n",
            "Speed: 2.4ms preprocess, 18.3ms inference, 1.8ms postprocess per image at shape (1, 3, 320, 640)\n",
            "\n",
            "0: 320x640 1 Child, 1 Therapist, 23.2ms\n",
            "Speed: 2.3ms preprocess, 23.2ms inference, 1.8ms postprocess per image at shape (1, 3, 320, 640)\n",
            "\n",
            "0: 320x640 1 Child, 1 Therapist, 11.1ms\n",
            "Speed: 2.3ms preprocess, 11.1ms inference, 2.1ms postprocess per image at shape (1, 3, 320, 640)\n",
            "\n",
            "0: 320x640 1 Child, 1 Therapist, 16.4ms\n",
            "Speed: 2.6ms preprocess, 16.4ms inference, 2.0ms postprocess per image at shape (1, 3, 320, 640)\n",
            "\n",
            "0: 320x640 1 Child, 1 Therapist, 13.2ms\n",
            "Speed: 2.3ms preprocess, 13.2ms inference, 4.9ms postprocess per image at shape (1, 3, 320, 640)\n",
            "\n",
            "0: 320x640 1 Child, 1 Therapist, 12.0ms\n",
            "Speed: 2.5ms preprocess, 12.0ms inference, 2.0ms postprocess per image at shape (1, 3, 320, 640)\n",
            "\n",
            "0: 320x640 1 Child, 1 Therapist, 10.9ms\n",
            "Speed: 2.4ms preprocess, 10.9ms inference, 1.6ms postprocess per image at shape (1, 3, 320, 640)\n",
            "\n",
            "0: 320x640 1 Child, 1 Therapist, 9.5ms\n",
            "Speed: 2.4ms preprocess, 9.5ms inference, 1.5ms postprocess per image at shape (1, 3, 320, 640)\n",
            "\n",
            "0: 320x640 1 Child, 1 Therapist, 8.3ms\n",
            "Speed: 2.2ms preprocess, 8.3ms inference, 1.7ms postprocess per image at shape (1, 3, 320, 640)\n",
            "\n",
            "0: 320x640 1 Child, 1 Therapist, 9.7ms\n",
            "Speed: 3.8ms preprocess, 9.7ms inference, 2.2ms postprocess per image at shape (1, 3, 320, 640)\n",
            "\n",
            "0: 320x640 1 Child, 1 Therapist, 9.6ms\n",
            "Speed: 2.5ms preprocess, 9.6ms inference, 1.7ms postprocess per image at shape (1, 3, 320, 640)\n",
            "\n",
            "0: 320x640 1 Child, 1 Therapist, 9.8ms\n",
            "Speed: 2.1ms preprocess, 9.8ms inference, 2.5ms postprocess per image at shape (1, 3, 320, 640)\n",
            "\n",
            "0: 320x640 1 Child, 1 Therapist, 9.0ms\n",
            "Speed: 2.7ms preprocess, 9.0ms inference, 1.6ms postprocess per image at shape (1, 3, 320, 640)\n",
            "\n",
            "0: 320x640 1 Child, 1 Therapist, 9.3ms\n",
            "Speed: 3.2ms preprocess, 9.3ms inference, 1.5ms postprocess per image at shape (1, 3, 320, 640)\n",
            "\n",
            "0: 320x640 1 Child, 1 Therapist, 8.8ms\n",
            "Speed: 2.2ms preprocess, 8.8ms inference, 1.4ms postprocess per image at shape (1, 3, 320, 640)\n",
            "\n",
            "0: 320x640 1 Child, 1 Therapist, 8.7ms\n",
            "Speed: 2.2ms preprocess, 8.7ms inference, 1.5ms postprocess per image at shape (1, 3, 320, 640)\n",
            "\n",
            "0: 320x640 1 Child, 1 Therapist, 9.7ms\n",
            "Speed: 2.3ms preprocess, 9.7ms inference, 1.4ms postprocess per image at shape (1, 3, 320, 640)\n",
            "\n",
            "0: 320x640 1 Child, 1 Therapist, 17.5ms\n",
            "Speed: 3.2ms preprocess, 17.5ms inference, 2.3ms postprocess per image at shape (1, 3, 320, 640)\n",
            "\n",
            "0: 320x640 1 Child, 1 Therapist, 13.0ms\n",
            "Speed: 3.6ms preprocess, 13.0ms inference, 5.1ms postprocess per image at shape (1, 3, 320, 640)\n",
            "\n",
            "0: 320x640 1 Child, 1 Therapist, 12.0ms\n",
            "Speed: 3.3ms preprocess, 12.0ms inference, 1.7ms postprocess per image at shape (1, 3, 320, 640)\n",
            "\n",
            "0: 320x640 1 Child, 1 Therapist, 13.6ms\n",
            "Speed: 2.4ms preprocess, 13.6ms inference, 2.8ms postprocess per image at shape (1, 3, 320, 640)\n",
            "\n",
            "0: 320x640 1 Child, 1 Therapist, 17.8ms\n",
            "Speed: 2.5ms preprocess, 17.8ms inference, 1.8ms postprocess per image at shape (1, 3, 320, 640)\n",
            "\n",
            "0: 320x640 1 Child, 1 Therapist, 11.4ms\n",
            "Speed: 3.5ms preprocess, 11.4ms inference, 1.5ms postprocess per image at shape (1, 3, 320, 640)\n",
            "\n",
            "0: 320x640 1 Child, 1 Therapist, 11.9ms\n",
            "Speed: 2.4ms preprocess, 11.9ms inference, 1.9ms postprocess per image at shape (1, 3, 320, 640)\n",
            "\n",
            "0: 320x640 1 Child, 1 Therapist, 11.5ms\n",
            "Speed: 2.4ms preprocess, 11.5ms inference, 2.0ms postprocess per image at shape (1, 3, 320, 640)\n",
            "\n",
            "0: 320x640 1 Child, 1 Therapist, 11.1ms\n",
            "Speed: 2.4ms preprocess, 11.1ms inference, 1.8ms postprocess per image at shape (1, 3, 320, 640)\n",
            "\n",
            "0: 320x640 1 Child, 1 Therapist, 15.5ms\n",
            "Speed: 2.3ms preprocess, 15.5ms inference, 1.9ms postprocess per image at shape (1, 3, 320, 640)\n",
            "\n",
            "0: 320x640 1 Child, 1 Therapist, 12.1ms\n",
            "Speed: 2.4ms preprocess, 12.1ms inference, 2.0ms postprocess per image at shape (1, 3, 320, 640)\n",
            "\n",
            "0: 320x640 1 Child, 1 Therapist, 10.0ms\n",
            "Speed: 2.5ms preprocess, 10.0ms inference, 1.4ms postprocess per image at shape (1, 3, 320, 640)\n",
            "\n",
            "0: 320x640 1 Child, 1 Therapist, 9.2ms\n",
            "Speed: 2.5ms preprocess, 9.2ms inference, 1.3ms postprocess per image at shape (1, 3, 320, 640)\n",
            "\n",
            "0: 320x640 1 Child, 1 Therapist, 8.5ms\n",
            "Speed: 2.2ms preprocess, 8.5ms inference, 1.5ms postprocess per image at shape (1, 3, 320, 640)\n",
            "\n",
            "0: 320x640 1 Child, 1 Therapist, 8.6ms\n",
            "Speed: 2.4ms preprocess, 8.6ms inference, 1.5ms postprocess per image at shape (1, 3, 320, 640)\n",
            "\n",
            "0: 320x640 1 Child, 1 Therapist, 9.1ms\n",
            "Speed: 2.1ms preprocess, 9.1ms inference, 1.6ms postprocess per image at shape (1, 3, 320, 640)\n",
            "\n",
            "0: 320x640 1 Child, 1 Therapist, 9.7ms\n",
            "Speed: 2.3ms preprocess, 9.7ms inference, 1.7ms postprocess per image at shape (1, 3, 320, 640)\n",
            "\n",
            "0: 320x640 1 Child, 1 Therapist, 11.4ms\n",
            "Speed: 2.3ms preprocess, 11.4ms inference, 1.8ms postprocess per image at shape (1, 3, 320, 640)\n",
            "\n",
            "0: 320x640 1 Child, 1 Therapist, 9.1ms\n",
            "Speed: 2.2ms preprocess, 9.1ms inference, 1.5ms postprocess per image at shape (1, 3, 320, 640)\n",
            "\n",
            "0: 320x640 1 Child, 1 Therapist, 8.9ms\n",
            "Speed: 2.4ms preprocess, 8.9ms inference, 1.7ms postprocess per image at shape (1, 3, 320, 640)\n",
            "\n",
            "0: 320x640 1 Child, 1 Therapist, 8.9ms\n",
            "Speed: 2.3ms preprocess, 8.9ms inference, 1.4ms postprocess per image at shape (1, 3, 320, 640)\n",
            "\n",
            "0: 320x640 1 Child, 1 Therapist, 8.6ms\n",
            "Speed: 2.2ms preprocess, 8.6ms inference, 1.5ms postprocess per image at shape (1, 3, 320, 640)\n",
            "\n",
            "0: 320x640 1 Child, 1 Therapist, 8.0ms\n",
            "Speed: 2.4ms preprocess, 8.0ms inference, 1.4ms postprocess per image at shape (1, 3, 320, 640)\n",
            "\n",
            "0: 320x640 1 Child, 1 Therapist, 8.7ms\n",
            "Speed: 2.2ms preprocess, 8.7ms inference, 1.6ms postprocess per image at shape (1, 3, 320, 640)\n",
            "\n",
            "0: 320x640 1 Child, 1 Therapist, 9.4ms\n",
            "Speed: 2.2ms preprocess, 9.4ms inference, 1.5ms postprocess per image at shape (1, 3, 320, 640)\n",
            "\n",
            "0: 320x640 1 Child, 1 Therapist, 8.9ms\n",
            "Speed: 2.3ms preprocess, 8.9ms inference, 1.5ms postprocess per image at shape (1, 3, 320, 640)\n",
            "\n",
            "0: 320x640 1 Child, 1 Therapist, 8.4ms\n",
            "Speed: 2.2ms preprocess, 8.4ms inference, 1.5ms postprocess per image at shape (1, 3, 320, 640)\n",
            "\n",
            "0: 320x640 1 Child, 1 Therapist, 10.5ms\n",
            "Speed: 2.4ms preprocess, 10.5ms inference, 1.7ms postprocess per image at shape (1, 3, 320, 640)\n",
            "\n",
            "0: 320x640 1 Child, 1 Therapist, 9.4ms\n",
            "Speed: 2.6ms preprocess, 9.4ms inference, 1.4ms postprocess per image at shape (1, 3, 320, 640)\n",
            "\n",
            "0: 320x640 1 Child, 1 Therapist, 8.7ms\n",
            "Speed: 3.4ms preprocess, 8.7ms inference, 1.5ms postprocess per image at shape (1, 3, 320, 640)\n",
            "\n",
            "0: 320x640 1 Child, 1 Therapist, 8.8ms\n",
            "Speed: 2.3ms preprocess, 8.8ms inference, 1.4ms postprocess per image at shape (1, 3, 320, 640)\n",
            "\n",
            "0: 320x640 1 Child, 1 Therapist, 11.2ms\n",
            "Speed: 2.7ms preprocess, 11.2ms inference, 1.7ms postprocess per image at shape (1, 3, 320, 640)\n",
            "\n",
            "0: 320x640 1 Child, 1 Therapist, 15.4ms\n",
            "Speed: 2.5ms preprocess, 15.4ms inference, 1.6ms postprocess per image at shape (1, 3, 320, 640)\n",
            "\n",
            "0: 320x640 1 Child, 1 Therapist, 12.6ms\n",
            "Speed: 2.3ms preprocess, 12.6ms inference, 2.3ms postprocess per image at shape (1, 3, 320, 640)\n",
            "\n",
            "0: 320x640 1 Child, 1 Therapist, 19.7ms\n",
            "Speed: 4.7ms preprocess, 19.7ms inference, 2.2ms postprocess per image at shape (1, 3, 320, 640)\n",
            "\n",
            "0: 320x640 1 Child, 1 Therapist, 12.4ms\n",
            "Speed: 2.5ms preprocess, 12.4ms inference, 2.4ms postprocess per image at shape (1, 3, 320, 640)\n",
            "\n",
            "0: 320x640 1 Child, 1 Therapist, 18.9ms\n",
            "Speed: 2.8ms preprocess, 18.9ms inference, 1.9ms postprocess per image at shape (1, 3, 320, 640)\n",
            "\n",
            "0: 320x640 1 Child, 1 Therapist, 14.8ms\n",
            "Speed: 2.5ms preprocess, 14.8ms inference, 1.6ms postprocess per image at shape (1, 3, 320, 640)\n",
            "\n",
            "0: 320x640 1 Child, 1 Therapist, 19.3ms\n",
            "Speed: 3.1ms preprocess, 19.3ms inference, 1.5ms postprocess per image at shape (1, 3, 320, 640)\n",
            "\n",
            "0: 320x640 1 Child, 1 Therapist, 15.2ms\n",
            "Speed: 3.8ms preprocess, 15.2ms inference, 2.3ms postprocess per image at shape (1, 3, 320, 640)\n",
            "\n",
            "0: 320x640 1 Child, 1 Therapist, 14.5ms\n",
            "Speed: 2.2ms preprocess, 14.5ms inference, 1.8ms postprocess per image at shape (1, 3, 320, 640)\n",
            "\n",
            "0: 320x640 1 Child, 1 Therapist, 19.6ms\n",
            "Speed: 3.8ms preprocess, 19.6ms inference, 1.7ms postprocess per image at shape (1, 3, 320, 640)\n",
            "\n",
            "0: 320x640 1 Child, 1 Therapist, 12.6ms\n",
            "Speed: 2.8ms preprocess, 12.6ms inference, 1.9ms postprocess per image at shape (1, 3, 320, 640)\n",
            "\n",
            "0: 320x640 1 Child, 1 Therapist, 12.3ms\n",
            "Speed: 2.4ms preprocess, 12.3ms inference, 2.5ms postprocess per image at shape (1, 3, 320, 640)\n",
            "\n",
            "0: 320x640 1 Child, 1 Therapist, 9.7ms\n",
            "Speed: 2.4ms preprocess, 9.7ms inference, 2.4ms postprocess per image at shape (1, 3, 320, 640)\n",
            "\n",
            "0: 320x640 1 Child, 1 Therapist, 15.3ms\n",
            "Speed: 2.2ms preprocess, 15.3ms inference, 1.8ms postprocess per image at shape (1, 3, 320, 640)\n",
            "\n",
            "0: 320x640 1 Child, 1 Therapist, 11.5ms\n",
            "Speed: 2.4ms preprocess, 11.5ms inference, 2.3ms postprocess per image at shape (1, 3, 320, 640)\n",
            "\n",
            "0: 320x640 1 Child, 1 Therapist, 10.5ms\n",
            "Speed: 2.1ms preprocess, 10.5ms inference, 1.9ms postprocess per image at shape (1, 3, 320, 640)\n",
            "\n",
            "0: 320x640 1 Child, 1 Therapist, 11.5ms\n",
            "Speed: 2.6ms preprocess, 11.5ms inference, 1.9ms postprocess per image at shape (1, 3, 320, 640)\n",
            "\n",
            "0: 320x640 1 Child, 1 Therapist, 15.2ms\n",
            "Speed: 2.9ms preprocess, 15.2ms inference, 1.4ms postprocess per image at shape (1, 3, 320, 640)\n",
            "\n",
            "0: 320x640 1 Child, 1 Therapist, 9.5ms\n",
            "Speed: 2.4ms preprocess, 9.5ms inference, 1.5ms postprocess per image at shape (1, 3, 320, 640)\n",
            "\n",
            "0: 320x640 1 Child, 1 Therapist, 9.2ms\n",
            "Speed: 2.6ms preprocess, 9.2ms inference, 1.5ms postprocess per image at shape (1, 3, 320, 640)\n",
            "\n",
            "0: 320x640 1 Child, 1 Therapist, 15.0ms\n",
            "Speed: 2.3ms preprocess, 15.0ms inference, 2.1ms postprocess per image at shape (1, 3, 320, 640)\n",
            "\n",
            "0: 320x640 1 Child, 1 Therapist, 11.3ms\n",
            "Speed: 2.3ms preprocess, 11.3ms inference, 2.2ms postprocess per image at shape (1, 3, 320, 640)\n",
            "\n",
            "0: 320x640 1 Child, 1 Therapist, 10.3ms\n",
            "Speed: 2.3ms preprocess, 10.3ms inference, 1.9ms postprocess per image at shape (1, 3, 320, 640)\n",
            "\n",
            "0: 320x640 1 Child, 1 Therapist, 10.2ms\n",
            "Speed: 2.4ms preprocess, 10.2ms inference, 1.7ms postprocess per image at shape (1, 3, 320, 640)\n",
            "\n",
            "0: 320x640 1 Child, 1 Therapist, 10.1ms\n",
            "Speed: 2.6ms preprocess, 10.1ms inference, 1.4ms postprocess per image at shape (1, 3, 320, 640)\n",
            "\n",
            "0: 320x640 1 Child, 1 Therapist, 13.8ms\n",
            "Speed: 2.4ms preprocess, 13.8ms inference, 2.3ms postprocess per image at shape (1, 3, 320, 640)\n",
            "\n",
            "0: 320x640 1 Child, 1 Therapist, 12.4ms\n",
            "Speed: 2.9ms preprocess, 12.4ms inference, 7.1ms postprocess per image at shape (1, 3, 320, 640)\n",
            "\n",
            "0: 320x640 1 Child, 1 Therapist, 12.0ms\n",
            "Speed: 2.5ms preprocess, 12.0ms inference, 1.8ms postprocess per image at shape (1, 3, 320, 640)\n",
            "\n",
            "0: 320x640 1 Child, 1 Therapist, 11.9ms\n",
            "Speed: 3.4ms preprocess, 11.9ms inference, 2.1ms postprocess per image at shape (1, 3, 320, 640)\n",
            "\n",
            "0: 320x640 1 Child, 1 Therapist, 11.7ms\n",
            "Speed: 7.7ms preprocess, 11.7ms inference, 1.7ms postprocess per image at shape (1, 3, 320, 640)\n",
            "\n",
            "0: 320x640 1 Child, 1 Therapist, 11.0ms\n",
            "Speed: 3.0ms preprocess, 11.0ms inference, 1.7ms postprocess per image at shape (1, 3, 320, 640)\n",
            "\n",
            "0: 320x640 1 Child, 1 Therapist, 8.5ms\n",
            "Speed: 2.3ms preprocess, 8.5ms inference, 1.6ms postprocess per image at shape (1, 3, 320, 640)\n",
            "\n",
            "0: 320x640 1 Child, 1 Therapist, 13.9ms\n",
            "Speed: 2.2ms preprocess, 13.9ms inference, 1.6ms postprocess per image at shape (1, 3, 320, 640)\n",
            "\n",
            "0: 320x640 1 Child, 1 Therapist, 12.8ms\n",
            "Speed: 2.4ms preprocess, 12.8ms inference, 1.6ms postprocess per image at shape (1, 3, 320, 640)\n",
            "\n",
            "0: 320x640 1 Child, 1 Therapist, 8.7ms\n",
            "Speed: 2.3ms preprocess, 8.7ms inference, 1.6ms postprocess per image at shape (1, 3, 320, 640)\n",
            "\n",
            "0: 320x640 1 Child, 1 Therapist, 8.1ms\n",
            "Speed: 2.1ms preprocess, 8.1ms inference, 1.5ms postprocess per image at shape (1, 3, 320, 640)\n",
            "\n",
            "0: 320x640 1 Child, 1 Therapist, 8.7ms\n",
            "Speed: 2.4ms preprocess, 8.7ms inference, 1.7ms postprocess per image at shape (1, 3, 320, 640)\n",
            "\n",
            "0: 320x640 1 Child, 1 Therapist, 9.1ms\n",
            "Speed: 2.2ms preprocess, 9.1ms inference, 1.5ms postprocess per image at shape (1, 3, 320, 640)\n",
            "\n",
            "0: 320x640 1 Child, 1 Therapist, 10.2ms\n",
            "Speed: 2.3ms preprocess, 10.2ms inference, 1.5ms postprocess per image at shape (1, 3, 320, 640)\n",
            "\n",
            "0: 320x640 1 Child, 1 Therapist, 12.0ms\n",
            "Speed: 2.4ms preprocess, 12.0ms inference, 1.9ms postprocess per image at shape (1, 3, 320, 640)\n",
            "\n",
            "0: 320x640 1 Child, 1 Therapist, 9.1ms\n",
            "Speed: 3.2ms preprocess, 9.1ms inference, 1.4ms postprocess per image at shape (1, 3, 320, 640)\n",
            "\n",
            "0: 320x640 1 Child, 1 Therapist, 9.2ms\n",
            "Speed: 2.3ms preprocess, 9.2ms inference, 1.6ms postprocess per image at shape (1, 3, 320, 640)\n",
            "\n",
            "0: 320x640 1 Child, 1 Therapist, 10.7ms\n",
            "Speed: 2.2ms preprocess, 10.7ms inference, 1.6ms postprocess per image at shape (1, 3, 320, 640)\n",
            "\n",
            "0: 320x640 1 Child, 1 Therapist, 9.0ms\n",
            "Speed: 3.2ms preprocess, 9.0ms inference, 1.7ms postprocess per image at shape (1, 3, 320, 640)\n",
            "\n",
            "0: 320x640 1 Child, 1 Therapist, 9.6ms\n",
            "Speed: 2.3ms preprocess, 9.6ms inference, 1.5ms postprocess per image at shape (1, 3, 320, 640)\n",
            "\n",
            "0: 320x640 1 Child, 1 Therapist, 11.6ms\n",
            "Speed: 2.2ms preprocess, 11.6ms inference, 1.5ms postprocess per image at shape (1, 3, 320, 640)\n",
            "\n",
            "0: 320x640 1 Child, 1 Therapist, 9.9ms\n",
            "Speed: 2.2ms preprocess, 9.9ms inference, 1.4ms postprocess per image at shape (1, 3, 320, 640)\n",
            "\n",
            "0: 320x640 1 Child, 1 Therapist, 9.0ms\n",
            "Speed: 2.4ms preprocess, 9.0ms inference, 1.8ms postprocess per image at shape (1, 3, 320, 640)\n",
            "\n",
            "0: 320x640 1 Child, 1 Therapist, 12.8ms\n",
            "Speed: 2.3ms preprocess, 12.8ms inference, 4.6ms postprocess per image at shape (1, 3, 320, 640)\n",
            "\n",
            "0: 320x640 1 Child, 1 Therapist, 9.3ms\n",
            "Speed: 2.4ms preprocess, 9.3ms inference, 1.5ms postprocess per image at shape (1, 3, 320, 640)\n",
            "\n",
            "0: 320x640 1 Child, 1 Therapist, 8.8ms\n",
            "Speed: 2.6ms preprocess, 8.8ms inference, 1.5ms postprocess per image at shape (1, 3, 320, 640)\n",
            "\n",
            "0: 320x640 1 Child, 1 Therapist, 8.8ms\n",
            "Speed: 2.5ms preprocess, 8.8ms inference, 1.6ms postprocess per image at shape (1, 3, 320, 640)\n",
            "\n",
            "0: 320x640 1 Child, 1 Therapist, 9.1ms\n",
            "Speed: 2.6ms preprocess, 9.1ms inference, 1.4ms postprocess per image at shape (1, 3, 320, 640)\n",
            "\n",
            "0: 320x640 1 Child, 1 Therapist, 9.9ms\n",
            "Speed: 2.6ms preprocess, 9.9ms inference, 1.4ms postprocess per image at shape (1, 3, 320, 640)\n",
            "\n",
            "0: 320x640 1 Child, 1 Therapist, 7.9ms\n",
            "Speed: 3.1ms preprocess, 7.9ms inference, 1.5ms postprocess per image at shape (1, 3, 320, 640)\n",
            "\n",
            "0: 320x640 1 Child, 1 Therapist, 9.0ms\n",
            "Speed: 2.5ms preprocess, 9.0ms inference, 1.5ms postprocess per image at shape (1, 3, 320, 640)\n",
            "\n",
            "0: 320x640 1 Child, 1 Therapist, 8.4ms\n",
            "Speed: 2.6ms preprocess, 8.4ms inference, 1.6ms postprocess per image at shape (1, 3, 320, 640)\n",
            "\n",
            "0: 320x640 1 Child, 1 Therapist, 11.9ms\n",
            "Speed: 2.4ms preprocess, 11.9ms inference, 2.4ms postprocess per image at shape (1, 3, 320, 640)\n",
            "\n",
            "0: 320x640 1 Child, 1 Therapist, 13.6ms\n",
            "Speed: 2.7ms preprocess, 13.6ms inference, 2.3ms postprocess per image at shape (1, 3, 320, 640)\n",
            "\n",
            "0: 320x640 1 Child, 1 Therapist, 10.1ms\n",
            "Speed: 2.4ms preprocess, 10.1ms inference, 1.5ms postprocess per image at shape (1, 3, 320, 640)\n",
            "\n",
            "0: 320x640 1 Child, 1 Therapist, 10.5ms\n",
            "Speed: 2.1ms preprocess, 10.5ms inference, 1.8ms postprocess per image at shape (1, 3, 320, 640)\n",
            "\n",
            "0: 320x640 1 Child, 1 Therapist, 10.6ms\n",
            "Speed: 2.5ms preprocess, 10.6ms inference, 1.7ms postprocess per image at shape (1, 3, 320, 640)\n",
            "\n",
            "0: 320x640 1 Child, 1 Therapist, 13.6ms\n",
            "Speed: 2.7ms preprocess, 13.6ms inference, 2.4ms postprocess per image at shape (1, 3, 320, 640)\n",
            "\n",
            "0: 320x640 1 Child, 1 Therapist, 11.6ms\n",
            "Speed: 2.4ms preprocess, 11.6ms inference, 2.0ms postprocess per image at shape (1, 3, 320, 640)\n",
            "\n",
            "0: 320x640 1 Child, 1 Therapist, 11.2ms\n",
            "Speed: 2.6ms preprocess, 11.2ms inference, 1.9ms postprocess per image at shape (1, 3, 320, 640)\n",
            "\n",
            "0: 320x640 1 Child, 1 Therapist, 11.8ms\n",
            "Speed: 2.4ms preprocess, 11.8ms inference, 1.8ms postprocess per image at shape (1, 3, 320, 640)\n",
            "\n",
            "0: 320x640 1 Child, 1 Therapist, 16.7ms\n",
            "Speed: 2.3ms preprocess, 16.7ms inference, 1.8ms postprocess per image at shape (1, 3, 320, 640)\n",
            "\n",
            "0: 320x640 1 Child, 1 Therapist, 17.2ms\n",
            "Speed: 2.3ms preprocess, 17.2ms inference, 2.2ms postprocess per image at shape (1, 3, 320, 640)\n",
            "\n",
            "0: 320x640 1 Child, 1 Therapist, 16.2ms\n",
            "Speed: 4.0ms preprocess, 16.2ms inference, 1.9ms postprocess per image at shape (1, 3, 320, 640)\n",
            "\n",
            "0: 320x640 1 Child, 1 Therapist, 12.2ms\n",
            "Speed: 2.9ms preprocess, 12.2ms inference, 1.8ms postprocess per image at shape (1, 3, 320, 640)\n",
            "\n",
            "0: 320x640 1 Child, 1 Therapist, 11.7ms\n",
            "Speed: 2.8ms preprocess, 11.7ms inference, 1.5ms postprocess per image at shape (1, 3, 320, 640)\n",
            "\n",
            "0: 320x640 1 Child, 1 Therapist, 10.6ms\n",
            "Speed: 2.5ms preprocess, 10.6ms inference, 1.8ms postprocess per image at shape (1, 3, 320, 640)\n",
            "\n",
            "0: 320x640 1 Child, 1 Therapist, 11.9ms\n",
            "Speed: 2.7ms preprocess, 11.9ms inference, 5.1ms postprocess per image at shape (1, 3, 320, 640)\n",
            "\n",
            "0: 320x640 1 Child, 1 Therapist, 11.6ms\n",
            "Speed: 2.5ms preprocess, 11.6ms inference, 1.8ms postprocess per image at shape (1, 3, 320, 640)\n",
            "\n",
            "0: 320x640 1 Child, 1 Therapist, 10.2ms\n",
            "Speed: 2.5ms preprocess, 10.2ms inference, 1.5ms postprocess per image at shape (1, 3, 320, 640)\n",
            "\n",
            "0: 320x640 1 Child, 1 Therapist, 8.6ms\n",
            "Speed: 2.3ms preprocess, 8.6ms inference, 1.7ms postprocess per image at shape (1, 3, 320, 640)\n",
            "\n",
            "0: 320x640 1 Child, 1 Therapist, 9.3ms\n",
            "Speed: 2.3ms preprocess, 9.3ms inference, 1.5ms postprocess per image at shape (1, 3, 320, 640)\n",
            "\n",
            "0: 320x640 1 Child, 1 Therapist, 11.3ms\n",
            "Speed: 2.2ms preprocess, 11.3ms inference, 1.5ms postprocess per image at shape (1, 3, 320, 640)\n",
            "\n",
            "0: 320x640 1 Child, 1 Therapist, 8.8ms\n",
            "Speed: 4.3ms preprocess, 8.8ms inference, 1.4ms postprocess per image at shape (1, 3, 320, 640)\n",
            "\n",
            "0: 320x640 1 Child, 1 Therapist, 9.0ms\n",
            "Speed: 2.2ms preprocess, 9.0ms inference, 1.5ms postprocess per image at shape (1, 3, 320, 640)\n",
            "\n",
            "0: 320x640 1 Child, 1 Therapist, 8.8ms\n",
            "Speed: 2.3ms preprocess, 8.8ms inference, 1.3ms postprocess per image at shape (1, 3, 320, 640)\n",
            "\n",
            "0: 320x640 1 Child, 1 Therapist, 7.8ms\n",
            "Speed: 2.2ms preprocess, 7.8ms inference, 1.5ms postprocess per image at shape (1, 3, 320, 640)\n",
            "\n",
            "0: 320x640 1 Child, 1 Therapist, 8.8ms\n",
            "Speed: 2.1ms preprocess, 8.8ms inference, 1.4ms postprocess per image at shape (1, 3, 320, 640)\n",
            "\n",
            "0: 320x640 1 Child, 1 Therapist, 8.7ms\n",
            "Speed: 2.2ms preprocess, 8.7ms inference, 1.5ms postprocess per image at shape (1, 3, 320, 640)\n",
            "\n",
            "0: 320x640 1 Child, 1 Therapist, 8.8ms\n",
            "Speed: 2.2ms preprocess, 8.8ms inference, 1.5ms postprocess per image at shape (1, 3, 320, 640)\n",
            "\n",
            "0: 320x640 1 Child, 1 Therapist, 7.8ms\n",
            "Speed: 2.0ms preprocess, 7.8ms inference, 1.4ms postprocess per image at shape (1, 3, 320, 640)\n",
            "\n",
            "0: 320x640 1 Child, 1 Therapist, 10.0ms\n",
            "Speed: 2.1ms preprocess, 10.0ms inference, 1.5ms postprocess per image at shape (1, 3, 320, 640)\n",
            "\n",
            "0: 320x640 1 Child, 1 Therapist, 9.0ms\n",
            "Speed: 2.5ms preprocess, 9.0ms inference, 1.9ms postprocess per image at shape (1, 3, 320, 640)\n",
            "\n",
            "0: 320x640 1 Child, 1 Therapist, 9.8ms\n",
            "Speed: 2.3ms preprocess, 9.8ms inference, 1.9ms postprocess per image at shape (1, 3, 320, 640)\n",
            "\n",
            "0: 320x640 1 Child, 1 Therapist, 11.7ms\n",
            "Speed: 2.4ms preprocess, 11.7ms inference, 1.9ms postprocess per image at shape (1, 3, 320, 640)\n",
            "\n",
            "0: 320x640 1 Child, 1 Therapist, 13.8ms\n",
            "Speed: 2.3ms preprocess, 13.8ms inference, 1.8ms postprocess per image at shape (1, 3, 320, 640)\n",
            "\n",
            "0: 320x640 1 Child, 1 Therapist, 12.2ms\n",
            "Speed: 2.3ms preprocess, 12.2ms inference, 1.8ms postprocess per image at shape (1, 3, 320, 640)\n",
            "\n",
            "0: 320x640 1 Child, 1 Therapist, 11.6ms\n",
            "Speed: 2.5ms preprocess, 11.6ms inference, 1.8ms postprocess per image at shape (1, 3, 320, 640)\n",
            "\n",
            "0: 320x640 1 Child, 1 Therapist, 10.7ms\n",
            "Speed: 2.3ms preprocess, 10.7ms inference, 2.4ms postprocess per image at shape (1, 3, 320, 640)\n",
            "\n",
            "0: 320x640 1 Child, 1 Therapist, 9.8ms\n",
            "Speed: 2.9ms preprocess, 9.8ms inference, 2.3ms postprocess per image at shape (1, 3, 320, 640)\n",
            "\n",
            "0: 320x640 1 Child, 1 Therapist, 11.9ms\n",
            "Speed: 2.1ms preprocess, 11.9ms inference, 1.5ms postprocess per image at shape (1, 3, 320, 640)\n",
            "\n",
            "0: 320x640 1 Child, 1 Therapist, 16.9ms\n",
            "Speed: 2.5ms preprocess, 16.9ms inference, 2.7ms postprocess per image at shape (1, 3, 320, 640)\n",
            "\n",
            "0: 320x640 1 Child, 1 Therapist, 13.7ms\n",
            "Speed: 2.4ms preprocess, 13.7ms inference, 2.3ms postprocess per image at shape (1, 3, 320, 640)\n",
            "\n",
            "0: 320x640 1 Child, 1 Therapist, 12.0ms\n",
            "Speed: 2.9ms preprocess, 12.0ms inference, 1.7ms postprocess per image at shape (1, 3, 320, 640)\n",
            "\n",
            "0: 320x640 1 Child, 1 Therapist, 11.8ms\n",
            "Speed: 2.7ms preprocess, 11.8ms inference, 5.0ms postprocess per image at shape (1, 3, 320, 640)\n",
            "\n",
            "0: 320x640 1 Child, 1 Therapist, 12.8ms\n",
            "Speed: 3.3ms preprocess, 12.8ms inference, 1.4ms postprocess per image at shape (1, 3, 320, 640)\n",
            "\n",
            "0: 320x640 1 Child, 1 Therapist, 9.4ms\n",
            "Speed: 2.6ms preprocess, 9.4ms inference, 1.5ms postprocess per image at shape (1, 3, 320, 640)\n",
            "\n",
            "0: 320x640 1 Child, 1 Therapist, 9.0ms\n",
            "Speed: 2.6ms preprocess, 9.0ms inference, 1.5ms postprocess per image at shape (1, 3, 320, 640)\n",
            "\n",
            "0: 320x640 1 Child, 1 Therapist, 9.2ms\n",
            "Speed: 2.1ms preprocess, 9.2ms inference, 1.6ms postprocess per image at shape (1, 3, 320, 640)\n",
            "\n",
            "0: 320x640 1 Child, 1 Therapist, 9.2ms\n",
            "Speed: 2.7ms preprocess, 9.2ms inference, 4.3ms postprocess per image at shape (1, 3, 320, 640)\n",
            "\n",
            "0: 320x640 1 Child, 1 Therapist, 8.8ms\n",
            "Speed: 2.4ms preprocess, 8.8ms inference, 1.9ms postprocess per image at shape (1, 3, 320, 640)\n",
            "\n",
            "0: 320x640 1 Child, 1 Therapist, 9.3ms\n",
            "Speed: 2.3ms preprocess, 9.3ms inference, 1.7ms postprocess per image at shape (1, 3, 320, 640)\n",
            "\n",
            "0: 320x640 1 Child, 1 Therapist, 8.7ms\n",
            "Speed: 4.9ms preprocess, 8.7ms inference, 1.6ms postprocess per image at shape (1, 3, 320, 640)\n",
            "\n",
            "0: 320x640 1 Child, 1 Therapist, 8.6ms\n",
            "Speed: 2.4ms preprocess, 8.6ms inference, 2.0ms postprocess per image at shape (1, 3, 320, 640)\n",
            "\n",
            "0: 320x640 1 Child, 1 Therapist, 9.0ms\n",
            "Speed: 2.6ms preprocess, 9.0ms inference, 1.5ms postprocess per image at shape (1, 3, 320, 640)\n",
            "\n",
            "0: 320x640 1 Child, 1 Therapist, 7.7ms\n",
            "Speed: 2.8ms preprocess, 7.7ms inference, 1.5ms postprocess per image at shape (1, 3, 320, 640)\n",
            "\n",
            "0: 320x640 1 Child, 1 Therapist, 8.7ms\n",
            "Speed: 2.5ms preprocess, 8.7ms inference, 1.4ms postprocess per image at shape (1, 3, 320, 640)\n",
            "\n",
            "0: 320x640 1 Child, 1 Therapist, 9.4ms\n",
            "Speed: 2.4ms preprocess, 9.4ms inference, 1.4ms postprocess per image at shape (1, 3, 320, 640)\n",
            "\n",
            "0: 320x640 1 Child, 1 Therapist, 9.0ms\n",
            "Speed: 2.6ms preprocess, 9.0ms inference, 1.5ms postprocess per image at shape (1, 3, 320, 640)\n",
            "\n",
            "0: 320x640 1 Child, 1 Therapist, 8.0ms\n",
            "Speed: 2.7ms preprocess, 8.0ms inference, 1.4ms postprocess per image at shape (1, 3, 320, 640)\n",
            "\n",
            "0: 320x640 1 Child, 1 Therapist, 9.5ms\n",
            "Speed: 2.2ms preprocess, 9.5ms inference, 1.5ms postprocess per image at shape (1, 3, 320, 640)\n",
            "\n",
            "0: 320x640 1 Child, 1 Therapist, 8.9ms\n",
            "Speed: 2.5ms preprocess, 8.9ms inference, 1.8ms postprocess per image at shape (1, 3, 320, 640)\n",
            "\n",
            "0: 320x640 1 Child, 1 Therapist, 9.2ms\n",
            "Speed: 2.5ms preprocess, 9.2ms inference, 1.4ms postprocess per image at shape (1, 3, 320, 640)\n",
            "\n",
            "0: 320x640 1 Child, 1 Therapist, 11.5ms\n",
            "Speed: 2.5ms preprocess, 11.5ms inference, 1.7ms postprocess per image at shape (1, 3, 320, 640)\n",
            "\n",
            "0: 320x640 1 Child, 1 Therapist, 9.9ms\n",
            "Speed: 2.3ms preprocess, 9.9ms inference, 3.3ms postprocess per image at shape (1, 3, 320, 640)\n",
            "\n",
            "0: 320x640 1 Child, 1 Therapist, 9.6ms\n",
            "Speed: 2.5ms preprocess, 9.6ms inference, 1.6ms postprocess per image at shape (1, 3, 320, 640)\n",
            "\n",
            "0: 320x640 1 Child, 1 Therapist, 10.4ms\n",
            "Speed: 2.2ms preprocess, 10.4ms inference, 2.1ms postprocess per image at shape (1, 3, 320, 640)\n",
            "\n",
            "0: 320x640 1 Child, 1 Therapist, 15.9ms\n",
            "Speed: 2.4ms preprocess, 15.9ms inference, 1.8ms postprocess per image at shape (1, 3, 320, 640)\n",
            "\n",
            "0: 320x640 1 Child, 1 Therapist, 14.9ms\n",
            "Speed: 2.2ms preprocess, 14.9ms inference, 3.3ms postprocess per image at shape (1, 3, 320, 640)\n",
            "\n",
            "0: 320x640 1 Child, 1 Therapist, 10.7ms\n",
            "Speed: 2.5ms preprocess, 10.7ms inference, 1.7ms postprocess per image at shape (1, 3, 320, 640)\n",
            "\n",
            "0: 320x640 1 Child, 1 Therapist, 10.9ms\n",
            "Speed: 3.7ms preprocess, 10.9ms inference, 1.5ms postprocess per image at shape (1, 3, 320, 640)\n",
            "\n",
            "0: 320x640 1 Child, 1 Therapist, 14.0ms\n",
            "Speed: 5.3ms preprocess, 14.0ms inference, 1.8ms postprocess per image at shape (1, 3, 320, 640)\n",
            "\n",
            "0: 320x640 1 Child, 1 Therapist, 12.1ms\n",
            "Speed: 2.2ms preprocess, 12.1ms inference, 2.6ms postprocess per image at shape (1, 3, 320, 640)\n",
            "\n",
            "0: 320x640 1 Child, 1 Therapist, 12.1ms\n",
            "Speed: 3.0ms preprocess, 12.1ms inference, 1.9ms postprocess per image at shape (1, 3, 320, 640)\n",
            "\n",
            "0: 320x640 1 Child, 1 Therapist, 11.9ms\n",
            "Speed: 3.0ms preprocess, 11.9ms inference, 1.8ms postprocess per image at shape (1, 3, 320, 640)\n",
            "\n",
            "0: 320x640 1 Child, 1 Therapist, 9.7ms\n",
            "Speed: 2.4ms preprocess, 9.7ms inference, 1.5ms postprocess per image at shape (1, 3, 320, 640)\n",
            "\n",
            "0: 320x640 1 Child, 1 Therapist, 14.6ms\n",
            "Speed: 2.7ms preprocess, 14.6ms inference, 2.1ms postprocess per image at shape (1, 3, 320, 640)\n",
            "\n",
            "0: 320x640 1 Child, 1 Therapist, 10.3ms\n",
            "Speed: 2.5ms preprocess, 10.3ms inference, 1.6ms postprocess per image at shape (1, 3, 320, 640)\n",
            "\n",
            "0: 320x640 1 Child, 1 Therapist, 12.7ms\n",
            "Speed: 2.4ms preprocess, 12.7ms inference, 2.4ms postprocess per image at shape (1, 3, 320, 640)\n",
            "\n",
            "0: 320x640 1 Child, 1 Therapist, 13.3ms\n",
            "Speed: 3.6ms preprocess, 13.3ms inference, 2.2ms postprocess per image at shape (1, 3, 320, 640)\n",
            "\n",
            "0: 320x640 1 Child, 1 Therapist, 15.0ms\n",
            "Speed: 2.3ms preprocess, 15.0ms inference, 1.9ms postprocess per image at shape (1, 3, 320, 640)\n",
            "\n",
            "0: 320x640 1 Child, 1 Therapist, 12.4ms\n",
            "Speed: 2.6ms preprocess, 12.4ms inference, 2.1ms postprocess per image at shape (1, 3, 320, 640)\n",
            "\n",
            "0: 320x640 1 Child, 1 Therapist, 12.0ms\n",
            "Speed: 2.9ms preprocess, 12.0ms inference, 1.8ms postprocess per image at shape (1, 3, 320, 640)\n",
            "\n",
            "0: 320x640 1 Child, 1 Therapist, 11.2ms\n",
            "Speed: 2.2ms preprocess, 11.2ms inference, 1.6ms postprocess per image at shape (1, 3, 320, 640)\n",
            "\n",
            "0: 320x640 1 Child, 1 Therapist, 9.7ms\n",
            "Speed: 2.1ms preprocess, 9.7ms inference, 2.4ms postprocess per image at shape (1, 3, 320, 640)\n",
            "\n",
            "0: 320x640 1 Child, 1 Therapist, 10.7ms\n",
            "Speed: 2.7ms preprocess, 10.7ms inference, 1.8ms postprocess per image at shape (1, 3, 320, 640)\n",
            "\n",
            "0: 320x640 1 Child, 1 Therapist, 9.0ms\n",
            "Speed: 2.3ms preprocess, 9.0ms inference, 1.9ms postprocess per image at shape (1, 3, 320, 640)\n",
            "\n",
            "0: 320x640 1 Child, 1 Therapist, 8.7ms\n",
            "Speed: 3.1ms preprocess, 8.7ms inference, 1.5ms postprocess per image at shape (1, 3, 320, 640)\n",
            "\n",
            "0: 320x640 1 Child, 1 Therapist, 9.0ms\n",
            "Speed: 3.6ms preprocess, 9.0ms inference, 1.7ms postprocess per image at shape (1, 3, 320, 640)\n",
            "\n",
            "0: 320x640 1 Child, 1 Therapist, 9.9ms\n",
            "Speed: 2.4ms preprocess, 9.9ms inference, 1.4ms postprocess per image at shape (1, 3, 320, 640)\n",
            "\n",
            "0: 320x640 1 Child, 1 Therapist, 8.7ms\n",
            "Speed: 3.2ms preprocess, 8.7ms inference, 1.5ms postprocess per image at shape (1, 3, 320, 640)\n",
            "\n",
            "0: 320x640 1 Child, 1 Therapist, 8.8ms\n",
            "Speed: 2.3ms preprocess, 8.8ms inference, 1.6ms postprocess per image at shape (1, 3, 320, 640)\n",
            "\n",
            "0: 320x640 1 Child, 1 Therapist, 11.2ms\n",
            "Speed: 2.3ms preprocess, 11.2ms inference, 1.6ms postprocess per image at shape (1, 3, 320, 640)\n",
            "\n",
            "0: 320x640 1 Child, 1 Therapist, 9.8ms\n",
            "Speed: 2.4ms preprocess, 9.8ms inference, 2.3ms postprocess per image at shape (1, 3, 320, 640)\n",
            "\n",
            "0: 320x640 1 Child, 1 Therapist, 10.9ms\n",
            "Speed: 2.2ms preprocess, 10.9ms inference, 1.8ms postprocess per image at shape (1, 3, 320, 640)\n",
            "\n",
            "0: 320x640 1 Child, 1 Therapist, 13.5ms\n",
            "Speed: 2.3ms preprocess, 13.5ms inference, 2.8ms postprocess per image at shape (1, 3, 320, 640)\n",
            "\n",
            "0: 320x640 1 Child, 1 Therapist, 15.6ms\n",
            "Speed: 4.2ms preprocess, 15.6ms inference, 3.6ms postprocess per image at shape (1, 3, 320, 640)\n",
            "\n",
            "0: 320x640 1 Child, 12.7ms\n",
            "Speed: 2.4ms preprocess, 12.7ms inference, 1.7ms postprocess per image at shape (1, 3, 320, 640)\n",
            "\n",
            "0: 320x640 1 Child, 12.6ms\n",
            "Speed: 2.8ms preprocess, 12.6ms inference, 2.1ms postprocess per image at shape (1, 3, 320, 640)\n",
            "\n",
            "0: 320x640 1 Child, 1 Therapist, 12.0ms\n",
            "Speed: 2.8ms preprocess, 12.0ms inference, 1.9ms postprocess per image at shape (1, 3, 320, 640)\n",
            "\n",
            "0: 320x640 1 Child, 1 Therapist, 13.7ms\n",
            "Speed: 2.4ms preprocess, 13.7ms inference, 1.5ms postprocess per image at shape (1, 3, 320, 640)\n",
            "\n",
            "0: 320x640 1 Child, 13.9ms\n",
            "Speed: 2.4ms preprocess, 13.9ms inference, 1.6ms postprocess per image at shape (1, 3, 320, 640)\n",
            "\n",
            "0: 320x640 1 Child, 1 Therapist, 10.8ms\n",
            "Speed: 2.3ms preprocess, 10.8ms inference, 1.6ms postprocess per image at shape (1, 3, 320, 640)\n",
            "\n",
            "0: 320x640 1 Child, 10.1ms\n",
            "Speed: 2.4ms preprocess, 10.1ms inference, 1.7ms postprocess per image at shape (1, 3, 320, 640)\n",
            "\n",
            "0: 320x640 1 Child, 10.0ms\n",
            "Speed: 2.3ms preprocess, 10.0ms inference, 1.7ms postprocess per image at shape (1, 3, 320, 640)\n",
            "\n",
            "0: 320x640 1 Child, 12.2ms\n",
            "Speed: 2.3ms preprocess, 12.2ms inference, 1.6ms postprocess per image at shape (1, 3, 320, 640)\n",
            "\n",
            "0: 320x640 1 Child, 15.9ms\n",
            "Speed: 2.3ms preprocess, 15.9ms inference, 1.7ms postprocess per image at shape (1, 3, 320, 640)\n",
            "\n",
            "0: 320x640 1 Child, 14.6ms\n",
            "Speed: 2.3ms preprocess, 14.6ms inference, 1.8ms postprocess per image at shape (1, 3, 320, 640)\n",
            "\n",
            "0: 320x640 1 Child, 10.4ms\n",
            "Speed: 2.3ms preprocess, 10.4ms inference, 2.0ms postprocess per image at shape (1, 3, 320, 640)\n",
            "\n",
            "0: 320x640 1 Child, 10.2ms\n",
            "Speed: 2.4ms preprocess, 10.2ms inference, 1.9ms postprocess per image at shape (1, 3, 320, 640)\n",
            "\n",
            "0: 320x640 1 Child, 1 Therapist, 13.6ms\n",
            "Speed: 2.7ms preprocess, 13.6ms inference, 1.5ms postprocess per image at shape (1, 3, 320, 640)\n",
            "\n",
            "0: 320x640 1 Child, 9.4ms\n",
            "Speed: 4.0ms preprocess, 9.4ms inference, 2.4ms postprocess per image at shape (1, 3, 320, 640)\n",
            "\n",
            "0: 320x640 1 Child, 1 Therapist, 9.5ms\n",
            "Speed: 2.3ms preprocess, 9.5ms inference, 1.7ms postprocess per image at shape (1, 3, 320, 640)\n",
            "\n",
            "0: 320x640 1 Child, 10.9ms\n",
            "Speed: 2.2ms preprocess, 10.9ms inference, 1.7ms postprocess per image at shape (1, 3, 320, 640)\n",
            "\n",
            "0: 320x640 1 Child, 9.8ms\n",
            "Speed: 2.3ms preprocess, 9.8ms inference, 1.5ms postprocess per image at shape (1, 3, 320, 640)\n",
            "\n",
            "0: 320x640 1 Child, 8.1ms\n",
            "Speed: 2.1ms preprocess, 8.1ms inference, 1.5ms postprocess per image at shape (1, 3, 320, 640)\n",
            "\n",
            "0: 320x640 1 Child, 8.8ms\n",
            "Speed: 2.2ms preprocess, 8.8ms inference, 1.5ms postprocess per image at shape (1, 3, 320, 640)\n",
            "\n",
            "0: 320x640 1 Child, 9.8ms\n",
            "Speed: 2.3ms preprocess, 9.8ms inference, 1.4ms postprocess per image at shape (1, 3, 320, 640)\n",
            "\n",
            "0: 320x640 1 Child, 13.4ms\n",
            "Speed: 2.2ms preprocess, 13.4ms inference, 5.8ms postprocess per image at shape (1, 3, 320, 640)\n",
            "\n",
            "0: 320x640 1 Child, 10.7ms\n",
            "Speed: 2.5ms preprocess, 10.7ms inference, 1.6ms postprocess per image at shape (1, 3, 320, 640)\n",
            "\n",
            "0: 320x640 1 Child, 1 Therapist, 9.2ms\n",
            "Speed: 2.7ms preprocess, 9.2ms inference, 1.5ms postprocess per image at shape (1, 3, 320, 640)\n",
            "\n",
            "0: 320x640 1 Child, 1 Therapist, 14.5ms\n",
            "Speed: 2.7ms preprocess, 14.5ms inference, 1.5ms postprocess per image at shape (1, 3, 320, 640)\n",
            "\n",
            "0: 320x640 1 Child, 1 Therapist, 9.7ms\n",
            "Speed: 2.2ms preprocess, 9.7ms inference, 1.7ms postprocess per image at shape (1, 3, 320, 640)\n",
            "\n",
            "0: 320x640 1 Child, 1 Therapist, 12.5ms\n",
            "Speed: 2.2ms preprocess, 12.5ms inference, 2.1ms postprocess per image at shape (1, 3, 320, 640)\n",
            "\n",
            "0: 320x640 1 Child, 1 Therapist, 16.9ms\n",
            "Speed: 2.8ms preprocess, 16.9ms inference, 1.8ms postprocess per image at shape (1, 3, 320, 640)\n",
            "\n",
            "0: 320x640 1 Child, 1 Therapist, 13.7ms\n",
            "Speed: 2.3ms preprocess, 13.7ms inference, 1.5ms postprocess per image at shape (1, 3, 320, 640)\n",
            "\n",
            "0: 320x640 1 Child, 1 Therapist, 14.2ms\n",
            "Speed: 2.2ms preprocess, 14.2ms inference, 2.6ms postprocess per image at shape (1, 3, 320, 640)\n",
            "\n",
            "0: 320x640 1 Child, 1 Therapist, 20.1ms\n",
            "Speed: 2.5ms preprocess, 20.1ms inference, 1.5ms postprocess per image at shape (1, 3, 320, 640)\n",
            "\n",
            "0: 320x640 1 Child, 1 Therapist, 16.4ms\n",
            "Speed: 3.6ms preprocess, 16.4ms inference, 2.0ms postprocess per image at shape (1, 3, 320, 640)\n",
            "\n",
            "0: 320x640 1 Child, 1 Therapist, 16.0ms\n",
            "Speed: 4.3ms preprocess, 16.0ms inference, 1.6ms postprocess per image at shape (1, 3, 320, 640)\n",
            "\n",
            "0: 320x640 1 Child, 1 Therapist, 13.7ms\n",
            "Speed: 2.2ms preprocess, 13.7ms inference, 7.4ms postprocess per image at shape (1, 3, 320, 640)\n",
            "\n",
            "0: 320x640 1 Child, 1 Therapist, 10.8ms\n",
            "Speed: 2.4ms preprocess, 10.8ms inference, 1.6ms postprocess per image at shape (1, 3, 320, 640)\n",
            "\n",
            "0: 320x640 1 Child, 1 Therapist, 9.6ms\n",
            "Speed: 2.5ms preprocess, 9.6ms inference, 1.5ms postprocess per image at shape (1, 3, 320, 640)\n",
            "\n",
            "0: 320x640 1 Child, 1 Therapist, 12.8ms\n",
            "Speed: 2.2ms preprocess, 12.8ms inference, 2.9ms postprocess per image at shape (1, 3, 320, 640)\n",
            "\n",
            "0: 320x640 1 Child, 1 Therapist, 16.2ms\n",
            "Speed: 3.4ms preprocess, 16.2ms inference, 2.8ms postprocess per image at shape (1, 3, 320, 640)\n",
            "\n",
            "0: 320x640 1 Child, 1 Therapist, 15.4ms\n",
            "Speed: 4.3ms preprocess, 15.4ms inference, 2.8ms postprocess per image at shape (1, 3, 320, 640)\n",
            "\n",
            "0: 320x640 1 Child, 1 Therapist, 11.4ms\n",
            "Speed: 4.6ms preprocess, 11.4ms inference, 1.7ms postprocess per image at shape (1, 3, 320, 640)\n",
            "\n",
            "0: 320x640 1 Child, 1 Therapist, 11.2ms\n",
            "Speed: 2.4ms preprocess, 11.2ms inference, 2.6ms postprocess per image at shape (1, 3, 320, 640)\n",
            "\n",
            "0: 320x640 1 Child, 1 Therapist, 17.6ms\n",
            "Speed: 2.6ms preprocess, 17.6ms inference, 1.8ms postprocess per image at shape (1, 3, 320, 640)\n",
            "\n",
            "0: 320x640 1 Child, 1 Therapist, 9.7ms\n",
            "Speed: 2.6ms preprocess, 9.7ms inference, 3.0ms postprocess per image at shape (1, 3, 320, 640)\n",
            "\n",
            "0: 320x640 1 Child, 1 Therapist, 13.0ms\n",
            "Speed: 2.4ms preprocess, 13.0ms inference, 1.8ms postprocess per image at shape (1, 3, 320, 640)\n",
            "\n",
            "0: 320x640 1 Child, 1 Therapist, 10.5ms\n",
            "Speed: 2.3ms preprocess, 10.5ms inference, 6.5ms postprocess per image at shape (1, 3, 320, 640)\n",
            "\n",
            "0: 320x640 1 Child, 1 Therapist, 9.2ms\n",
            "Speed: 2.4ms preprocess, 9.2ms inference, 1.8ms postprocess per image at shape (1, 3, 320, 640)\n",
            "\n",
            "0: 320x640 1 Child, 1 Therapist, 9.3ms\n",
            "Speed: 2.2ms preprocess, 9.3ms inference, 1.4ms postprocess per image at shape (1, 3, 320, 640)\n",
            "\n",
            "0: 320x640 1 Child, 1 Therapist, 9.7ms\n",
            "Speed: 2.2ms preprocess, 9.7ms inference, 6.5ms postprocess per image at shape (1, 3, 320, 640)\n",
            "\n",
            "0: 320x640 1 Child, 1 Therapist, 8.4ms\n",
            "Speed: 2.2ms preprocess, 8.4ms inference, 1.6ms postprocess per image at shape (1, 3, 320, 640)\n",
            "\n",
            "0: 320x640 1 Child, 1 Therapist, 8.0ms\n",
            "Speed: 2.3ms preprocess, 8.0ms inference, 1.5ms postprocess per image at shape (1, 3, 320, 640)\n",
            "\n",
            "0: 320x640 1 Child, 1 Therapist, 8.4ms\n",
            "Speed: 2.2ms preprocess, 8.4ms inference, 1.7ms postprocess per image at shape (1, 3, 320, 640)\n",
            "\n",
            "0: 320x640 1 Child, 1 Therapist, 15.8ms\n",
            "Speed: 2.4ms preprocess, 15.8ms inference, 2.6ms postprocess per image at shape (1, 3, 320, 640)\n",
            "\n",
            "0: 320x640 1 Child, 1 Therapist, 17.0ms\n",
            "Speed: 3.5ms preprocess, 17.0ms inference, 3.7ms postprocess per image at shape (1, 3, 320, 640)\n",
            "\n",
            "0: 320x640 1 Child, 1 Therapist, 15.3ms\n",
            "Speed: 4.4ms preprocess, 15.3ms inference, 2.6ms postprocess per image at shape (1, 3, 320, 640)\n",
            "\n",
            "0: 320x640 1 Child, 1 Therapist, 17.2ms\n",
            "Speed: 3.7ms preprocess, 17.2ms inference, 1.5ms postprocess per image at shape (1, 3, 320, 640)\n",
            "\n",
            "0: 320x640 1 Child, 1 Therapist, 11.8ms\n",
            "Speed: 2.5ms preprocess, 11.8ms inference, 1.7ms postprocess per image at shape (1, 3, 320, 640)\n",
            "\n",
            "0: 320x640 1 Child, 1 Therapist, 9.1ms\n",
            "Speed: 2.2ms preprocess, 9.1ms inference, 1.4ms postprocess per image at shape (1, 3, 320, 640)\n",
            "\n",
            "0: 320x640 1 Child, 1 Therapist, 7.8ms\n",
            "Speed: 2.1ms preprocess, 7.8ms inference, 1.4ms postprocess per image at shape (1, 3, 320, 640)\n",
            "\n",
            "0: 320x640 1 Child, 1 Therapist, 8.1ms\n",
            "Speed: 2.2ms preprocess, 8.1ms inference, 1.4ms postprocess per image at shape (1, 3, 320, 640)\n",
            "\n",
            "0: 320x640 1 Child, 1 Therapist, 8.6ms\n",
            "Speed: 2.2ms preprocess, 8.6ms inference, 1.5ms postprocess per image at shape (1, 3, 320, 640)\n",
            "\n",
            "0: 320x640 1 Child, 1 Therapist, 8.4ms\n",
            "Speed: 2.3ms preprocess, 8.4ms inference, 1.6ms postprocess per image at shape (1, 3, 320, 640)\n",
            "\n",
            "0: 320x640 1 Child, 1 Therapist, 8.7ms\n",
            "Speed: 2.2ms preprocess, 8.7ms inference, 1.5ms postprocess per image at shape (1, 3, 320, 640)\n",
            "\n",
            "0: 320x640 1 Child, 1 Therapist, 8.6ms\n",
            "Speed: 2.2ms preprocess, 8.6ms inference, 1.5ms postprocess per image at shape (1, 3, 320, 640)\n",
            "\n",
            "0: 320x640 1 Child, 1 Therapist, 8.7ms\n",
            "Speed: 2.1ms preprocess, 8.7ms inference, 1.5ms postprocess per image at shape (1, 3, 320, 640)\n",
            "\n",
            "0: 320x640 1 Child, 1 Therapist, 9.1ms\n",
            "Speed: 2.4ms preprocess, 9.1ms inference, 1.5ms postprocess per image at shape (1, 3, 320, 640)\n",
            "\n",
            "0: 320x640 1 Child, 1 Therapist, 9.0ms\n",
            "Speed: 2.2ms preprocess, 9.0ms inference, 1.5ms postprocess per image at shape (1, 3, 320, 640)\n",
            "\n",
            "0: 320x640 1 Child, 1 Therapist, 8.3ms\n",
            "Speed: 2.2ms preprocess, 8.3ms inference, 1.5ms postprocess per image at shape (1, 3, 320, 640)\n",
            "\n",
            "0: 320x640 1 Child, 1 Therapist, 8.4ms\n",
            "Speed: 2.3ms preprocess, 8.4ms inference, 1.6ms postprocess per image at shape (1, 3, 320, 640)\n",
            "\n",
            "0: 320x640 1 Child, 1 Therapist, 8.9ms\n",
            "Speed: 2.2ms preprocess, 8.9ms inference, 3.6ms postprocess per image at shape (1, 3, 320, 640)\n",
            "\n",
            "0: 320x640 1 Child, 1 Therapist, 10.6ms\n",
            "Speed: 2.8ms preprocess, 10.6ms inference, 1.9ms postprocess per image at shape (1, 3, 320, 640)\n",
            "\n",
            "0: 320x640 1 Child, 1 Therapist, 14.0ms\n",
            "Speed: 3.1ms preprocess, 14.0ms inference, 2.0ms postprocess per image at shape (1, 3, 320, 640)\n",
            "\n",
            "0: 320x640 1 Child, 1 Therapist, 14.9ms\n",
            "Speed: 2.8ms preprocess, 14.9ms inference, 2.0ms postprocess per image at shape (1, 3, 320, 640)\n",
            "\n",
            "0: 320x640 1 Child, 1 Therapist, 10.9ms\n",
            "Speed: 2.9ms preprocess, 10.9ms inference, 1.9ms postprocess per image at shape (1, 3, 320, 640)\n",
            "\n",
            "0: 320x640 1 Child, 1 Therapist, 8.8ms\n",
            "Speed: 2.2ms preprocess, 8.8ms inference, 1.6ms postprocess per image at shape (1, 3, 320, 640)\n",
            "\n",
            "0: 320x640 1 Child, 1 Therapist, 9.0ms\n",
            "Speed: 2.4ms preprocess, 9.0ms inference, 1.5ms postprocess per image at shape (1, 3, 320, 640)\n",
            "\n",
            "0: 320x640 1 Child, 1 Therapist, 9.4ms\n",
            "Speed: 2.3ms preprocess, 9.4ms inference, 1.7ms postprocess per image at shape (1, 3, 320, 640)\n",
            "\n",
            "0: 320x640 1 Child, 1 Therapist, 9.0ms\n",
            "Speed: 2.3ms preprocess, 9.0ms inference, 1.8ms postprocess per image at shape (1, 3, 320, 640)\n",
            "\n",
            "0: 320x640 1 Child, 1 Therapist, 8.3ms\n",
            "Speed: 2.2ms preprocess, 8.3ms inference, 1.7ms postprocess per image at shape (1, 3, 320, 640)\n",
            "\n",
            "0: 320x640 1 Child, 1 Therapist, 12.1ms\n",
            "Speed: 2.3ms preprocess, 12.1ms inference, 1.8ms postprocess per image at shape (1, 3, 320, 640)\n",
            "\n",
            "0: 320x640 1 Child, 1 Therapist, 8.6ms\n",
            "Speed: 2.3ms preprocess, 8.6ms inference, 1.8ms postprocess per image at shape (1, 3, 320, 640)\n",
            "\n",
            "0: 320x640 1 Child, 1 Therapist, 9.0ms\n",
            "Speed: 2.4ms preprocess, 9.0ms inference, 1.5ms postprocess per image at shape (1, 3, 320, 640)\n",
            "\n",
            "0: 320x640 1 Child, 1 Therapist, 8.5ms\n",
            "Speed: 2.1ms preprocess, 8.5ms inference, 1.5ms postprocess per image at shape (1, 3, 320, 640)\n",
            "\n",
            "0: 320x640 1 Child, 1 Therapist, 8.5ms\n",
            "Speed: 2.2ms preprocess, 8.5ms inference, 1.4ms postprocess per image at shape (1, 3, 320, 640)\n",
            "\n",
            "0: 320x640 1 Child, 1 Therapist, 12.5ms\n",
            "Speed: 2.8ms preprocess, 12.5ms inference, 1.9ms postprocess per image at shape (1, 3, 320, 640)\n",
            "\n",
            "0: 320x640 1 Child, 1 Therapist, 10.3ms\n",
            "Speed: 2.2ms preprocess, 10.3ms inference, 5.1ms postprocess per image at shape (1, 3, 320, 640)\n",
            "\n",
            "0: 320x640 1 Child, 1 Therapist, 11.3ms\n",
            "Speed: 2.7ms preprocess, 11.3ms inference, 1.7ms postprocess per image at shape (1, 3, 320, 640)\n",
            "\n",
            "0: 320x640 1 Child, 1 Therapist, 13.2ms\n",
            "Speed: 2.3ms preprocess, 13.2ms inference, 1.5ms postprocess per image at shape (1, 3, 320, 640)\n",
            "\n",
            "0: 320x640 1 Child, 1 Therapist, 10.9ms\n",
            "Speed: 2.7ms preprocess, 10.9ms inference, 2.5ms postprocess per image at shape (1, 3, 320, 640)\n",
            "\n",
            "0: 320x640 1 Child, 1 Therapist, 12.0ms\n",
            "Speed: 2.5ms preprocess, 12.0ms inference, 1.7ms postprocess per image at shape (1, 3, 320, 640)\n",
            "\n",
            "0: 320x640 1 Child, 1 Therapist, 13.3ms\n",
            "Speed: 2.3ms preprocess, 13.3ms inference, 2.5ms postprocess per image at shape (1, 3, 320, 640)\n",
            "\n",
            "0: 320x640 1 Child, 1 Therapist, 13.6ms\n",
            "Speed: 2.4ms preprocess, 13.6ms inference, 1.7ms postprocess per image at shape (1, 3, 320, 640)\n",
            "\n",
            "0: 320x640 1 Child, 1 Therapist, 11.6ms\n",
            "Speed: 2.6ms preprocess, 11.6ms inference, 1.8ms postprocess per image at shape (1, 3, 320, 640)\n",
            "\n",
            "0: 320x640 1 Child, 1 Therapist, 11.6ms\n",
            "Speed: 2.7ms preprocess, 11.6ms inference, 2.1ms postprocess per image at shape (1, 3, 320, 640)\n",
            "\n",
            "0: 320x640 1 Child, 1 Therapist, 13.8ms\n",
            "Speed: 2.5ms preprocess, 13.8ms inference, 2.7ms postprocess per image at shape (1, 3, 320, 640)\n",
            "\n",
            "0: 320x640 1 Child, 1 Therapist, 14.8ms\n",
            "Speed: 2.8ms preprocess, 14.8ms inference, 2.3ms postprocess per image at shape (1, 3, 320, 640)\n",
            "\n",
            "0: 320x640 1 Child, 1 Therapist, 11.4ms\n",
            "Speed: 2.8ms preprocess, 11.4ms inference, 2.1ms postprocess per image at shape (1, 3, 320, 640)\n",
            "\n",
            "0: 320x640 1 Child, 1 Therapist, 11.7ms\n",
            "Speed: 2.5ms preprocess, 11.7ms inference, 1.7ms postprocess per image at shape (1, 3, 320, 640)\n",
            "\n",
            "0: 320x640 1 Child, 1 Therapist, 15.7ms\n",
            "Speed: 2.4ms preprocess, 15.7ms inference, 1.6ms postprocess per image at shape (1, 3, 320, 640)\n",
            "\n",
            "0: 320x640 1 Child, 1 Therapist, 14.0ms\n",
            "Speed: 5.3ms preprocess, 14.0ms inference, 1.5ms postprocess per image at shape (1, 3, 320, 640)\n",
            "\n",
            "0: 320x640 1 Child, 1 Therapist, 11.0ms\n",
            "Speed: 3.0ms preprocess, 11.0ms inference, 1.7ms postprocess per image at shape (1, 3, 320, 640)\n",
            "\n",
            "0: 320x640 1 Child, 1 Therapist, 13.0ms\n",
            "Speed: 4.4ms preprocess, 13.0ms inference, 1.9ms postprocess per image at shape (1, 3, 320, 640)\n",
            "\n",
            "0: 320x640 1 Child, 1 Therapist, 20.3ms\n",
            "Speed: 2.4ms preprocess, 20.3ms inference, 3.2ms postprocess per image at shape (1, 3, 320, 640)\n",
            "\n",
            "0: 320x640 1 Child, 1 Therapist, 18.5ms\n",
            "Speed: 2.3ms preprocess, 18.5ms inference, 3.8ms postprocess per image at shape (1, 3, 320, 640)\n",
            "\n",
            "0: 320x640 1 Child, 1 Therapist, 12.0ms\n",
            "Speed: 5.3ms preprocess, 12.0ms inference, 1.7ms postprocess per image at shape (1, 3, 320, 640)\n",
            "\n",
            "0: 320x640 1 Child, 1 Therapist, 13.9ms\n",
            "Speed: 2.5ms preprocess, 13.9ms inference, 2.4ms postprocess per image at shape (1, 3, 320, 640)\n",
            "\n",
            "0: 320x640 1 Child, 1 Therapist, 9.5ms\n",
            "Speed: 2.5ms preprocess, 9.5ms inference, 1.7ms postprocess per image at shape (1, 3, 320, 640)\n",
            "\n",
            "0: 320x640 1 Child, 1 Therapist, 11.0ms\n",
            "Speed: 2.1ms preprocess, 11.0ms inference, 1.6ms postprocess per image at shape (1, 3, 320, 640)\n",
            "\n",
            "0: 320x640 1 Child, 1 Therapist, 9.8ms\n",
            "Speed: 2.5ms preprocess, 9.8ms inference, 1.5ms postprocess per image at shape (1, 3, 320, 640)\n",
            "\n",
            "0: 320x640 1 Child, 1 Therapist, 8.1ms\n",
            "Speed: 2.1ms preprocess, 8.1ms inference, 1.5ms postprocess per image at shape (1, 3, 320, 640)\n",
            "\n",
            "0: 320x640 1 Child, 1 Therapist, 10.2ms\n",
            "Speed: 2.5ms preprocess, 10.2ms inference, 1.8ms postprocess per image at shape (1, 3, 320, 640)\n",
            "\n",
            "0: 320x640 1 Child, 1 Therapist, 13.3ms\n",
            "Speed: 2.4ms preprocess, 13.3ms inference, 1.9ms postprocess per image at shape (1, 3, 320, 640)\n",
            "\n",
            "0: 320x640 1 Child, 1 Therapist, 15.6ms\n",
            "Speed: 2.2ms preprocess, 15.6ms inference, 3.7ms postprocess per image at shape (1, 3, 320, 640)\n",
            "\n",
            "0: 320x640 1 Child, 1 Therapist, 10.2ms\n",
            "Speed: 2.3ms preprocess, 10.2ms inference, 1.5ms postprocess per image at shape (1, 3, 320, 640)\n",
            "\n",
            "0: 320x640 1 Child, 1 Therapist, 16.3ms\n",
            "Speed: 2.5ms preprocess, 16.3ms inference, 2.6ms postprocess per image at shape (1, 3, 320, 640)\n",
            "\n",
            "0: 320x640 1 Child, 1 Therapist, 11.8ms\n",
            "Speed: 2.3ms preprocess, 11.8ms inference, 1.7ms postprocess per image at shape (1, 3, 320, 640)\n",
            "\n",
            "0: 320x640 1 Child, 1 Therapist, 9.9ms\n",
            "Speed: 2.3ms preprocess, 9.9ms inference, 1.4ms postprocess per image at shape (1, 3, 320, 640)\n",
            "\n",
            "0: 320x640 1 Child, 1 Therapist, 12.4ms\n",
            "Speed: 2.2ms preprocess, 12.4ms inference, 1.8ms postprocess per image at shape (1, 3, 320, 640)\n",
            "\n",
            "0: 320x640 1 Child, 1 Therapist, 10.7ms\n",
            "Speed: 2.3ms preprocess, 10.7ms inference, 2.6ms postprocess per image at shape (1, 3, 320, 640)\n",
            "\n",
            "0: 320x640 1 Child, 1 Therapist, 13.7ms\n",
            "Speed: 2.3ms preprocess, 13.7ms inference, 1.6ms postprocess per image at shape (1, 3, 320, 640)\n",
            "\n",
            "0: 320x640 1 Child, 1 Therapist, 12.2ms\n",
            "Speed: 2.4ms preprocess, 12.2ms inference, 1.5ms postprocess per image at shape (1, 3, 320, 640)\n",
            "\n",
            "0: 320x640 1 Child, 1 Therapist, 10.8ms\n",
            "Speed: 2.4ms preprocess, 10.8ms inference, 1.5ms postprocess per image at shape (1, 3, 320, 640)\n",
            "\n",
            "0: 320x640 1 Child, 1 Therapist, 11.3ms\n",
            "Speed: 2.3ms preprocess, 11.3ms inference, 1.7ms postprocess per image at shape (1, 3, 320, 640)\n",
            "\n",
            "0: 320x640 1 Child, 1 Therapist, 9.8ms\n",
            "Speed: 3.8ms preprocess, 9.8ms inference, 1.9ms postprocess per image at shape (1, 3, 320, 640)\n",
            "\n",
            "0: 320x640 1 Child, 1 Therapist, 10.1ms\n",
            "Speed: 2.3ms preprocess, 10.1ms inference, 1.4ms postprocess per image at shape (1, 3, 320, 640)\n",
            "\n",
            "0: 320x640 1 Child, 1 Therapist, 9.4ms\n",
            "Speed: 2.3ms preprocess, 9.4ms inference, 1.6ms postprocess per image at shape (1, 3, 320, 640)\n",
            "\n",
            "0: 320x640 1 Child, 1 Therapist, 9.7ms\n",
            "Speed: 2.2ms preprocess, 9.7ms inference, 1.6ms postprocess per image at shape (1, 3, 320, 640)\n",
            "\n",
            "0: 320x640 1 Child, 1 Therapist, 13.1ms\n",
            "Speed: 2.2ms preprocess, 13.1ms inference, 2.7ms postprocess per image at shape (1, 3, 320, 640)\n",
            "\n",
            "0: 320x640 1 Child, 1 Therapist, 12.0ms\n",
            "Speed: 2.5ms preprocess, 12.0ms inference, 1.8ms postprocess per image at shape (1, 3, 320, 640)\n",
            "\n",
            "0: 320x640 1 Child, 1 Therapist, 10.6ms\n",
            "Speed: 2.3ms preprocess, 10.6ms inference, 1.6ms postprocess per image at shape (1, 3, 320, 640)\n",
            "\n",
            "0: 320x640 1 Child, 1 Therapist, 8.2ms\n",
            "Speed: 2.2ms preprocess, 8.2ms inference, 1.6ms postprocess per image at shape (1, 3, 320, 640)\n",
            "\n",
            "0: 320x640 1 Child, 1 Therapist, 8.4ms\n",
            "Speed: 2.3ms preprocess, 8.4ms inference, 1.5ms postprocess per image at shape (1, 3, 320, 640)\n",
            "\n",
            "0: 320x640 1 Child, 1 Therapist, 8.9ms\n",
            "Speed: 2.3ms preprocess, 8.9ms inference, 1.5ms postprocess per image at shape (1, 3, 320, 640)\n",
            "\n",
            "0: 320x640 1 Child, 1 Therapist, 8.6ms\n",
            "Speed: 2.3ms preprocess, 8.6ms inference, 1.6ms postprocess per image at shape (1, 3, 320, 640)\n",
            "\n",
            "0: 320x640 1 Child, 1 Therapist, 10.8ms\n",
            "Speed: 2.4ms preprocess, 10.8ms inference, 1.5ms postprocess per image at shape (1, 3, 320, 640)\n",
            "\n",
            "0: 320x640 1 Child, 1 Therapist, 11.1ms\n",
            "Speed: 6.1ms preprocess, 11.1ms inference, 1.5ms postprocess per image at shape (1, 3, 320, 640)\n",
            "\n",
            "0: 320x640 1 Child, 1 Therapist, 8.7ms\n",
            "Speed: 2.4ms preprocess, 8.7ms inference, 1.6ms postprocess per image at shape (1, 3, 320, 640)\n",
            "\n",
            "0: 320x640 1 Child, 1 Therapist, 8.3ms\n",
            "Speed: 2.3ms preprocess, 8.3ms inference, 1.6ms postprocess per image at shape (1, 3, 320, 640)\n",
            "\n",
            "0: 320x640 1 Child, 1 Therapist, 9.1ms\n",
            "Speed: 2.4ms preprocess, 9.1ms inference, 1.5ms postprocess per image at shape (1, 3, 320, 640)\n",
            "\n",
            "0: 320x640 1 Child, 1 Therapist, 8.7ms\n",
            "Speed: 2.4ms preprocess, 8.7ms inference, 1.5ms postprocess per image at shape (1, 3, 320, 640)\n",
            "\n",
            "0: 320x640 1 Child, 1 Therapist, 7.8ms\n",
            "Speed: 2.1ms preprocess, 7.8ms inference, 1.4ms postprocess per image at shape (1, 3, 320, 640)\n",
            "\n",
            "0: 320x640 1 Child, 1 Therapist, 8.4ms\n",
            "Speed: 2.2ms preprocess, 8.4ms inference, 1.6ms postprocess per image at shape (1, 3, 320, 640)\n",
            "\n",
            "0: 320x640 1 Child, 1 Therapist, 9.4ms\n",
            "Speed: 2.3ms preprocess, 9.4ms inference, 1.4ms postprocess per image at shape (1, 3, 320, 640)\n",
            "\n",
            "0: 320x640 1 Child, 1 Therapist, 12.4ms\n",
            "Speed: 3.2ms preprocess, 12.4ms inference, 1.8ms postprocess per image at shape (1, 3, 320, 640)\n",
            "\n",
            "0: 320x640 1 Child, 1 Therapist, 17.1ms\n",
            "Speed: 2.4ms preprocess, 17.1ms inference, 1.8ms postprocess per image at shape (1, 3, 320, 640)\n",
            "\n",
            "0: 320x640 1 Child, 1 Therapist, 13.9ms\n",
            "Speed: 2.3ms preprocess, 13.9ms inference, 1.7ms postprocess per image at shape (1, 3, 320, 640)\n",
            "\n",
            "0: 320x640 1 Child, 1 Therapist, 19.6ms\n",
            "Speed: 2.3ms preprocess, 19.6ms inference, 1.8ms postprocess per image at shape (1, 3, 320, 640)\n",
            "\n",
            "0: 320x640 1 Child, 1 Therapist, 15.5ms\n",
            "Speed: 6.6ms preprocess, 15.5ms inference, 5.8ms postprocess per image at shape (1, 3, 320, 640)\n",
            "\n",
            "0: 320x640 1 Child, 1 Therapist, 14.8ms\n",
            "Speed: 2.2ms preprocess, 14.8ms inference, 1.7ms postprocess per image at shape (1, 3, 320, 640)\n",
            "\n",
            "0: 320x640 1 Child, 1 Therapist, 18.1ms\n",
            "Speed: 4.4ms preprocess, 18.1ms inference, 2.0ms postprocess per image at shape (1, 3, 320, 640)\n",
            "\n",
            "0: 320x640 1 Child, 1 Therapist, 16.2ms\n",
            "Speed: 2.3ms preprocess, 16.2ms inference, 3.9ms postprocess per image at shape (1, 3, 320, 640)\n",
            "\n",
            "0: 320x640 1 Child, 1 Therapist, 17.0ms\n",
            "Speed: 3.4ms preprocess, 17.0ms inference, 1.7ms postprocess per image at shape (1, 3, 320, 640)\n",
            "\n",
            "0: 320x640 1 Child, 1 Therapist, 13.5ms\n",
            "Speed: 2.0ms preprocess, 13.5ms inference, 6.7ms postprocess per image at shape (1, 3, 320, 640)\n",
            "\n",
            "0: 320x640 1 Child, 1 Therapist, 13.0ms\n",
            "Speed: 2.3ms preprocess, 13.0ms inference, 1.8ms postprocess per image at shape (1, 3, 320, 640)\n",
            "\n",
            "0: 320x640 1 Child, 1 Therapist, 16.6ms\n",
            "Speed: 2.3ms preprocess, 16.6ms inference, 5.6ms postprocess per image at shape (1, 3, 320, 640)\n",
            "\n",
            "0: 320x640 1 Child, 1 Therapist, 11.4ms\n",
            "Speed: 2.4ms preprocess, 11.4ms inference, 4.3ms postprocess per image at shape (1, 3, 320, 640)\n",
            "\n",
            "0: 320x640 1 Child, 1 Therapist, 11.3ms\n",
            "Speed: 2.2ms preprocess, 11.3ms inference, 1.6ms postprocess per image at shape (1, 3, 320, 640)\n",
            "\n",
            "0: 320x640 1 Child, 1 Therapist, 10.0ms\n",
            "Speed: 2.2ms preprocess, 10.0ms inference, 1.4ms postprocess per image at shape (1, 3, 320, 640)\n",
            "\n",
            "0: 320x640 1 Child, 1 Therapist, 12.4ms\n",
            "Speed: 2.2ms preprocess, 12.4ms inference, 1.4ms postprocess per image at shape (1, 3, 320, 640)\n",
            "\n",
            "0: 320x640 1 Child, 1 Therapist, 13.1ms\n",
            "Speed: 2.5ms preprocess, 13.1ms inference, 1.5ms postprocess per image at shape (1, 3, 320, 640)\n",
            "\n",
            "0: 320x640 1 Child, 1 Therapist, 13.3ms\n",
            "Speed: 2.2ms preprocess, 13.3ms inference, 1.6ms postprocess per image at shape (1, 3, 320, 640)\n",
            "\n",
            "0: 320x640 1 Child, 1 Therapist, 8.2ms\n",
            "Speed: 2.5ms preprocess, 8.2ms inference, 4.7ms postprocess per image at shape (1, 3, 320, 640)\n",
            "\n",
            "0: 320x640 1 Child, 1 Therapist, 9.6ms\n",
            "Speed: 2.2ms preprocess, 9.6ms inference, 1.4ms postprocess per image at shape (1, 3, 320, 640)\n",
            "\n",
            "0: 320x640 1 Child, 1 Therapist, 7.6ms\n",
            "Speed: 2.2ms preprocess, 7.6ms inference, 1.7ms postprocess per image at shape (1, 3, 320, 640)\n",
            "\n",
            "0: 320x640 1 Child, 1 Therapist, 10.6ms\n",
            "Speed: 3.0ms preprocess, 10.6ms inference, 1.4ms postprocess per image at shape (1, 3, 320, 640)\n",
            "\n",
            "0: 320x640 1 Child, 1 Therapist, 13.2ms\n",
            "Speed: 2.2ms preprocess, 13.2ms inference, 1.4ms postprocess per image at shape (1, 3, 320, 640)\n",
            "\n",
            "0: 320x640 1 Child, 1 Therapist, 12.3ms\n",
            "Speed: 2.4ms preprocess, 12.3ms inference, 6.5ms postprocess per image at shape (1, 3, 320, 640)\n",
            "\n",
            "0: 320x640 1 Child, 1 Therapist, 14.1ms\n",
            "Speed: 2.2ms preprocess, 14.1ms inference, 3.3ms postprocess per image at shape (1, 3, 320, 640)\n",
            "\n",
            "0: 320x640 1 Child, 1 Therapist, 13.0ms\n",
            "Speed: 2.2ms preprocess, 13.0ms inference, 3.7ms postprocess per image at shape (1, 3, 320, 640)\n",
            "\n",
            "0: 320x640 1 Child, 1 Therapist, 14.1ms\n",
            "Speed: 6.2ms preprocess, 14.1ms inference, 1.7ms postprocess per image at shape (1, 3, 320, 640)\n",
            "\n",
            "0: 320x640 1 Child, 1 Therapist, 16.3ms\n",
            "Speed: 3.3ms preprocess, 16.3ms inference, 1.8ms postprocess per image at shape (1, 3, 320, 640)\n",
            "\n",
            "0: 320x640 1 Child, 1 Therapist, 17.7ms\n",
            "Speed: 2.3ms preprocess, 17.7ms inference, 1.5ms postprocess per image at shape (1, 3, 320, 640)\n",
            "\n",
            "0: 320x640 1 Child, 1 Therapist, 9.0ms\n",
            "Speed: 4.2ms preprocess, 9.0ms inference, 1.5ms postprocess per image at shape (1, 3, 320, 640)\n",
            "\n",
            "0: 320x640 1 Child, 1 Therapist, 16.6ms\n",
            "Speed: 3.9ms preprocess, 16.6ms inference, 1.7ms postprocess per image at shape (1, 3, 320, 640)\n",
            "\n",
            "0: 320x640 1 Child, 1 Therapist, 14.5ms\n",
            "Speed: 4.3ms preprocess, 14.5ms inference, 1.7ms postprocess per image at shape (1, 3, 320, 640)\n",
            "\n",
            "0: 320x640 1 Child, 1 Therapist, 16.8ms\n",
            "Speed: 2.4ms preprocess, 16.8ms inference, 1.7ms postprocess per image at shape (1, 3, 320, 640)\n",
            "\n",
            "0: 320x640 1 Child, 1 Therapist, 12.6ms\n",
            "Speed: 2.3ms preprocess, 12.6ms inference, 1.5ms postprocess per image at shape (1, 3, 320, 640)\n",
            "\n",
            "0: 320x640 1 Child, 1 Therapist, 10.0ms\n",
            "Speed: 3.2ms preprocess, 10.0ms inference, 1.5ms postprocess per image at shape (1, 3, 320, 640)\n",
            "\n",
            "0: 320x640 1 Child, 1 Therapist, 9.6ms\n",
            "Speed: 2.3ms preprocess, 9.6ms inference, 1.5ms postprocess per image at shape (1, 3, 320, 640)\n",
            "\n",
            "0: 320x640 1 Child, 1 Therapist, 12.6ms\n",
            "Speed: 2.5ms preprocess, 12.6ms inference, 7.2ms postprocess per image at shape (1, 3, 320, 640)\n",
            "\n",
            "0: 320x640 1 Child, 1 Therapist, 14.2ms\n",
            "Speed: 2.2ms preprocess, 14.2ms inference, 1.4ms postprocess per image at shape (1, 3, 320, 640)\n",
            "\n",
            "0: 320x640 1 Child, 1 Therapist, 7.9ms\n",
            "Speed: 3.2ms preprocess, 7.9ms inference, 1.4ms postprocess per image at shape (1, 3, 320, 640)\n",
            "\n",
            "0: 320x640 1 Child, 1 Therapist, 13.2ms\n",
            "Speed: 2.3ms preprocess, 13.2ms inference, 1.6ms postprocess per image at shape (1, 3, 320, 640)\n",
            "\n",
            "0: 320x640 1 Child, 1 Therapist, 15.3ms\n",
            "Speed: 2.3ms preprocess, 15.3ms inference, 1.6ms postprocess per image at shape (1, 3, 320, 640)\n",
            "\n",
            "0: 320x640 1 Child, 1 Therapist, 13.2ms\n",
            "Speed: 4.8ms preprocess, 13.2ms inference, 1.5ms postprocess per image at shape (1, 3, 320, 640)\n",
            "\n",
            "0: 320x640 1 Child, 1 Therapist, 9.3ms\n",
            "Speed: 4.5ms preprocess, 9.3ms inference, 3.6ms postprocess per image at shape (1, 3, 320, 640)\n",
            "\n",
            "0: 320x640 1 Child, 1 Therapist, 13.0ms\n",
            "Speed: 2.2ms preprocess, 13.0ms inference, 1.5ms postprocess per image at shape (1, 3, 320, 640)\n",
            "\n",
            "0: 320x640 1 Child, 1 Therapist, 12.7ms\n",
            "Speed: 2.5ms preprocess, 12.7ms inference, 1.5ms postprocess per image at shape (1, 3, 320, 640)\n",
            "\n",
            "0: 320x640 1 Child, 1 Therapist, 13.8ms\n",
            "Speed: 2.7ms preprocess, 13.8ms inference, 1.5ms postprocess per image at shape (1, 3, 320, 640)\n",
            "\n",
            "0: 320x640 1 Child, 1 Therapist, 13.0ms\n",
            "Speed: 2.2ms preprocess, 13.0ms inference, 4.9ms postprocess per image at shape (1, 3, 320, 640)\n",
            "\n",
            "0: 320x640 1 Child, 1 Therapist, 13.6ms\n",
            "Speed: 2.3ms preprocess, 13.6ms inference, 4.7ms postprocess per image at shape (1, 3, 320, 640)\n",
            "\n",
            "0: 320x640 1 Child, 1 Therapist, 13.5ms\n",
            "Speed: 2.6ms preprocess, 13.5ms inference, 1.7ms postprocess per image at shape (1, 3, 320, 640)\n",
            "\n",
            "0: 320x640 1 Child, 1 Therapist, 10.2ms\n",
            "Speed: 2.2ms preprocess, 10.2ms inference, 4.7ms postprocess per image at shape (1, 3, 320, 640)\n",
            "\n",
            "0: 320x640 1 Child, 1 Therapist, 13.2ms\n",
            "Speed: 4.7ms preprocess, 13.2ms inference, 2.9ms postprocess per image at shape (1, 3, 320, 640)\n",
            "\n",
            "0: 320x640 1 Child, 1 Therapist, 17.2ms\n",
            "Speed: 3.4ms preprocess, 17.2ms inference, 3.8ms postprocess per image at shape (1, 3, 320, 640)\n",
            "\n",
            "0: 320x640 1 Child, 1 Therapist, 16.8ms\n",
            "Speed: 2.3ms preprocess, 16.8ms inference, 1.6ms postprocess per image at shape (1, 3, 320, 640)\n",
            "\n",
            "0: 320x640 1 Child, 1 Therapist, 14.8ms\n",
            "Speed: 3.4ms preprocess, 14.8ms inference, 1.8ms postprocess per image at shape (1, 3, 320, 640)\n",
            "\n",
            "0: 320x640 1 Child, 1 Therapist, 16.0ms\n",
            "Speed: 2.3ms preprocess, 16.0ms inference, 3.1ms postprocess per image at shape (1, 3, 320, 640)\n",
            "\n",
            "0: 320x640 1 Child, 1 Therapist, 18.6ms\n",
            "Speed: 2.9ms preprocess, 18.6ms inference, 3.2ms postprocess per image at shape (1, 3, 320, 640)\n",
            "\n",
            "0: 320x640 1 Child, 1 Therapist, 13.3ms\n",
            "Speed: 4.2ms preprocess, 13.3ms inference, 3.6ms postprocess per image at shape (1, 3, 320, 640)\n",
            "\n",
            "0: 320x640 1 Child, 1 Therapist, 18.1ms\n",
            "Speed: 2.3ms preprocess, 18.1ms inference, 2.3ms postprocess per image at shape (1, 3, 320, 640)\n",
            "\n",
            "0: 320x640 1 Child, 1 Therapist, 16.7ms\n",
            "Speed: 2.8ms preprocess, 16.7ms inference, 1.6ms postprocess per image at shape (1, 3, 320, 640)\n",
            "\n",
            "0: 320x640 1 Child, 1 Therapist, 14.6ms\n",
            "Speed: 2.3ms preprocess, 14.6ms inference, 1.9ms postprocess per image at shape (1, 3, 320, 640)\n",
            "\n",
            "0: 320x640 1 Child, 1 Therapist, 11.9ms\n",
            "Speed: 2.2ms preprocess, 11.9ms inference, 1.8ms postprocess per image at shape (1, 3, 320, 640)\n",
            "\n",
            "0: 320x640 1 Child, 1 Therapist, 10.5ms\n",
            "Speed: 2.3ms preprocess, 10.5ms inference, 1.5ms postprocess per image at shape (1, 3, 320, 640)\n",
            "\n",
            "0: 320x640 1 Child, 1 Therapist, 12.0ms\n",
            "Speed: 2.2ms preprocess, 12.0ms inference, 1.5ms postprocess per image at shape (1, 3, 320, 640)\n",
            "\n",
            "0: 320x640 1 Child, 1 Therapist, 12.3ms\n",
            "Speed: 4.5ms preprocess, 12.3ms inference, 1.5ms postprocess per image at shape (1, 3, 320, 640)\n",
            "\n",
            "0: 320x640 1 Child, 1 Therapist, 9.0ms\n",
            "Speed: 2.3ms preprocess, 9.0ms inference, 1.4ms postprocess per image at shape (1, 3, 320, 640)\n",
            "\n",
            "0: 320x640 1 Child, 1 Therapist, 12.6ms\n",
            "Speed: 2.2ms preprocess, 12.6ms inference, 1.5ms postprocess per image at shape (1, 3, 320, 640)\n",
            "\n",
            "0: 320x640 1 Child, 1 Therapist, 11.6ms\n",
            "Speed: 5.2ms preprocess, 11.6ms inference, 1.8ms postprocess per image at shape (1, 3, 320, 640)\n",
            "\n",
            "0: 320x640 1 Child, 1 Therapist, 10.6ms\n",
            "Speed: 2.3ms preprocess, 10.6ms inference, 1.5ms postprocess per image at shape (1, 3, 320, 640)\n",
            "\n",
            "0: 320x640 1 Child, 1 Therapist, 9.1ms\n",
            "Speed: 2.3ms preprocess, 9.1ms inference, 1.9ms postprocess per image at shape (1, 3, 320, 640)\n",
            "\n",
            "0: 320x640 1 Child, 1 Therapist, 9.6ms\n",
            "Speed: 2.5ms preprocess, 9.6ms inference, 1.7ms postprocess per image at shape (1, 3, 320, 640)\n",
            "\n",
            "0: 320x640 1 Child, 1 Therapist, 8.4ms\n",
            "Speed: 2.4ms preprocess, 8.4ms inference, 1.5ms postprocess per image at shape (1, 3, 320, 640)\n",
            "\n",
            "0: 320x640 1 Child, 1 Therapist, 10.3ms\n",
            "Speed: 2.4ms preprocess, 10.3ms inference, 1.6ms postprocess per image at shape (1, 3, 320, 640)\n",
            "\n",
            "0: 320x640 1 Child, 1 Therapist, 9.8ms\n",
            "Speed: 2.3ms preprocess, 9.8ms inference, 1.6ms postprocess per image at shape (1, 3, 320, 640)\n",
            "\n",
            "0: 320x640 1 Child, 1 Therapist, 9.1ms\n",
            "Speed: 2.5ms preprocess, 9.1ms inference, 1.8ms postprocess per image at shape (1, 3, 320, 640)\n",
            "\n",
            "0: 320x640 1 Child, 1 Therapist, 14.3ms\n",
            "Speed: 2.2ms preprocess, 14.3ms inference, 1.5ms postprocess per image at shape (1, 3, 320, 640)\n",
            "\n",
            "0: 320x640 1 Child, 1 Therapist, 10.2ms\n",
            "Speed: 2.2ms preprocess, 10.2ms inference, 1.8ms postprocess per image at shape (1, 3, 320, 640)\n",
            "\n",
            "0: 320x640 1 Child, 1 Therapist, 14.1ms\n",
            "Speed: 2.3ms preprocess, 14.1ms inference, 2.3ms postprocess per image at shape (1, 3, 320, 640)\n",
            "\n",
            "0: 320x640 1 Child, 1 Therapist, 9.4ms\n",
            "Speed: 2.5ms preprocess, 9.4ms inference, 1.6ms postprocess per image at shape (1, 3, 320, 640)\n",
            "\n",
            "0: 320x640 1 Child, 1 Therapist, 14.4ms\n",
            "Speed: 2.4ms preprocess, 14.4ms inference, 3.7ms postprocess per image at shape (1, 3, 320, 640)\n",
            "\n",
            "0: 320x640 1 Child, 1 Therapist, 16.4ms\n",
            "Speed: 4.3ms preprocess, 16.4ms inference, 1.8ms postprocess per image at shape (1, 3, 320, 640)\n",
            "\n",
            "0: 320x640 1 Child, 1 Therapist, 16.5ms\n",
            "Speed: 4.3ms preprocess, 16.5ms inference, 2.6ms postprocess per image at shape (1, 3, 320, 640)\n",
            "\n",
            "0: 320x640 1 Child, 1 Therapist, 13.5ms\n",
            "Speed: 4.2ms preprocess, 13.5ms inference, 1.6ms postprocess per image at shape (1, 3, 320, 640)\n",
            "\n",
            "0: 320x640 1 Child, 1 Therapist, 12.7ms\n",
            "Speed: 5.4ms preprocess, 12.7ms inference, 1.7ms postprocess per image at shape (1, 3, 320, 640)\n",
            "\n",
            "0: 320x640 1 Child, 1 Therapist, 15.7ms\n",
            "Speed: 4.2ms preprocess, 15.7ms inference, 3.8ms postprocess per image at shape (1, 3, 320, 640)\n",
            "\n",
            "0: 320x640 1 Child, 1 Therapist, 16.5ms\n",
            "Speed: 2.7ms preprocess, 16.5ms inference, 1.9ms postprocess per image at shape (1, 3, 320, 640)\n",
            "\n",
            "0: 320x640 1 Child, 1 Therapist, 13.2ms\n",
            "Speed: 2.3ms preprocess, 13.2ms inference, 1.7ms postprocess per image at shape (1, 3, 320, 640)\n",
            "\n",
            "0: 320x640 1 Child, 1 Therapist, 14.7ms\n",
            "Speed: 2.3ms preprocess, 14.7ms inference, 1.6ms postprocess per image at shape (1, 3, 320, 640)\n",
            "\n",
            "0: 320x640 1 Child, 1 Therapist, 13.3ms\n",
            "Speed: 2.2ms preprocess, 13.3ms inference, 1.5ms postprocess per image at shape (1, 3, 320, 640)\n",
            "\n",
            "0: 320x640 1 Child, 1 Therapist, 10.0ms\n",
            "Speed: 2.4ms preprocess, 10.0ms inference, 1.5ms postprocess per image at shape (1, 3, 320, 640)\n",
            "\n",
            "0: 320x640 1 Child, 1 Therapist, 9.1ms\n",
            "Speed: 2.9ms preprocess, 9.1ms inference, 1.4ms postprocess per image at shape (1, 3, 320, 640)\n",
            "\n",
            "0: 320x640 1 Child, 1 Therapist, 8.8ms\n",
            "Speed: 3.1ms preprocess, 8.8ms inference, 1.8ms postprocess per image at shape (1, 3, 320, 640)\n",
            "\n",
            "0: 320x640 1 Child, 1 Therapist, 9.3ms\n",
            "Speed: 3.1ms preprocess, 9.3ms inference, 1.4ms postprocess per image at shape (1, 3, 320, 640)\n",
            "\n",
            "0: 320x640 1 Child, 1 Therapist, 10.6ms\n",
            "Speed: 2.3ms preprocess, 10.6ms inference, 1.5ms postprocess per image at shape (1, 3, 320, 640)\n",
            "\n",
            "0: 320x640 1 Child, 1 Therapist, 8.8ms\n",
            "Speed: 3.2ms preprocess, 8.8ms inference, 1.6ms postprocess per image at shape (1, 3, 320, 640)\n",
            "\n",
            "0: 320x640 1 Child, 1 Therapist, 9.1ms\n",
            "Speed: 2.1ms preprocess, 9.1ms inference, 1.6ms postprocess per image at shape (1, 3, 320, 640)\n",
            "\n",
            "0: 320x640 1 Child, 1 Therapist, 9.5ms\n",
            "Speed: 2.3ms preprocess, 9.5ms inference, 1.7ms postprocess per image at shape (1, 3, 320, 640)\n",
            "\n",
            "0: 320x640 1 Child, 1 Therapist, 8.8ms\n",
            "Speed: 2.2ms preprocess, 8.8ms inference, 1.4ms postprocess per image at shape (1, 3, 320, 640)\n",
            "\n",
            "0: 320x640 1 Child, 1 Therapist, 9.1ms\n",
            "Speed: 2.2ms preprocess, 9.1ms inference, 1.5ms postprocess per image at shape (1, 3, 320, 640)\n",
            "\n",
            "0: 320x640 1 Child, 1 Therapist, 9.1ms\n",
            "Speed: 2.2ms preprocess, 9.1ms inference, 1.6ms postprocess per image at shape (1, 3, 320, 640)\n",
            "\n",
            "0: 320x640 1 Child, 1 Therapist, 8.6ms\n",
            "Speed: 2.1ms preprocess, 8.6ms inference, 1.4ms postprocess per image at shape (1, 3, 320, 640)\n",
            "\n",
            "0: 320x640 1 Child, 1 Therapist, 8.9ms\n",
            "Speed: 2.3ms preprocess, 8.9ms inference, 1.5ms postprocess per image at shape (1, 3, 320, 640)\n",
            "\n",
            "0: 320x640 1 Child, 1 Therapist, 9.8ms\n",
            "Speed: 2.2ms preprocess, 9.8ms inference, 1.6ms postprocess per image at shape (1, 3, 320, 640)\n",
            "\n",
            "0: 320x640 1 Child, 1 Therapist, 9.1ms\n",
            "Speed: 2.4ms preprocess, 9.1ms inference, 1.6ms postprocess per image at shape (1, 3, 320, 640)\n",
            "\n",
            "0: 320x640 1 Child, 1 Therapist, 9.8ms\n",
            "Speed: 2.2ms preprocess, 9.8ms inference, 1.6ms postprocess per image at shape (1, 3, 320, 640)\n",
            "\n",
            "0: 320x640 1 Child, 1 Therapist, 9.1ms\n",
            "Speed: 2.2ms preprocess, 9.1ms inference, 1.6ms postprocess per image at shape (1, 3, 320, 640)\n",
            "\n",
            "0: 320x640 1 Child, 1 Therapist, 11.6ms\n",
            "Speed: 2.1ms preprocess, 11.6ms inference, 1.5ms postprocess per image at shape (1, 3, 320, 640)\n",
            "\n",
            "0: 320x640 1 Child, 1 Therapist, 8.7ms\n",
            "Speed: 2.3ms preprocess, 8.7ms inference, 1.4ms postprocess per image at shape (1, 3, 320, 640)\n",
            "\n",
            "0: 320x640 1 Child, 1 Therapist, 9.7ms\n",
            "Speed: 2.2ms preprocess, 9.7ms inference, 1.5ms postprocess per image at shape (1, 3, 320, 640)\n",
            "\n",
            "0: 320x640 1 Child, 1 Therapist, 10.6ms\n",
            "Speed: 2.3ms preprocess, 10.6ms inference, 1.8ms postprocess per image at shape (1, 3, 320, 640)\n",
            "\n",
            "0: 320x640 1 Child, 1 Therapist, 10.4ms\n",
            "Speed: 2.2ms preprocess, 10.4ms inference, 1.6ms postprocess per image at shape (1, 3, 320, 640)\n",
            "\n",
            "0: 320x640 1 Child, 1 Therapist, 18.3ms\n",
            "Speed: 2.4ms preprocess, 18.3ms inference, 1.8ms postprocess per image at shape (1, 3, 320, 640)\n",
            "\n",
            "0: 320x640 1 Child, 1 Therapist, 14.4ms\n",
            "Speed: 2.3ms preprocess, 14.4ms inference, 3.8ms postprocess per image at shape (1, 3, 320, 640)\n",
            "\n",
            "0: 320x640 1 Child, 1 Therapist, 17.0ms\n",
            "Speed: 4.4ms preprocess, 17.0ms inference, 1.8ms postprocess per image at shape (1, 3, 320, 640)\n",
            "\n",
            "0: 320x640 1 Child, 1 Therapist, 17.2ms\n",
            "Speed: 2.2ms preprocess, 17.2ms inference, 1.6ms postprocess per image at shape (1, 3, 320, 640)\n",
            "\n",
            "0: 320x640 1 Child, 1 Therapist, 14.2ms\n",
            "Speed: 4.3ms preprocess, 14.2ms inference, 1.8ms postprocess per image at shape (1, 3, 320, 640)\n",
            "\n",
            "0: 320x640 1 Child, 1 Therapist, 15.0ms\n",
            "Speed: 2.2ms preprocess, 15.0ms inference, 1.6ms postprocess per image at shape (1, 3, 320, 640)\n",
            "\n",
            "0: 320x640 1 Child, 1 Therapist, 12.2ms\n",
            "Speed: 2.3ms preprocess, 12.2ms inference, 4.8ms postprocess per image at shape (1, 3, 320, 640)\n",
            "\n",
            "0: 320x640 1 Child, 1 Therapist, 12.3ms\n",
            "Speed: 5.2ms preprocess, 12.3ms inference, 1.6ms postprocess per image at shape (1, 3, 320, 640)\n",
            "\n",
            "0: 320x640 1 Child, 1 Therapist, 11.7ms\n",
            "Speed: 5.2ms preprocess, 11.7ms inference, 1.6ms postprocess per image at shape (1, 3, 320, 640)\n",
            "\n",
            "0: 320x640 1 Child, 1 Therapist, 9.2ms\n",
            "Speed: 2.9ms preprocess, 9.2ms inference, 1.6ms postprocess per image at shape (1, 3, 320, 640)\n",
            "\n",
            "0: 320x640 1 Child, 1 Therapist, 11.3ms\n",
            "Speed: 2.4ms preprocess, 11.3ms inference, 1.6ms postprocess per image at shape (1, 3, 320, 640)\n",
            "\n",
            "0: 320x640 1 Child, 1 Therapist, 8.4ms\n",
            "Speed: 5.3ms preprocess, 8.4ms inference, 4.7ms postprocess per image at shape (1, 3, 320, 640)\n",
            "\n",
            "0: 320x640 1 Child, 1 Therapist, 11.2ms\n",
            "Speed: 2.3ms preprocess, 11.2ms inference, 1.5ms postprocess per image at shape (1, 3, 320, 640)\n",
            "\n",
            "0: 320x640 1 Child, 1 Therapist, 9.7ms\n",
            "Speed: 2.2ms preprocess, 9.7ms inference, 1.5ms postprocess per image at shape (1, 3, 320, 640)\n",
            "\n",
            "0: 320x640 1 Child, 1 Therapist, 10.3ms\n",
            "Speed: 2.5ms preprocess, 10.3ms inference, 1.6ms postprocess per image at shape (1, 3, 320, 640)\n",
            "\n",
            "0: 320x640 1 Child, 1 Therapist, 9.4ms\n",
            "Speed: 3.0ms preprocess, 9.4ms inference, 1.5ms postprocess per image at shape (1, 3, 320, 640)\n",
            "\n",
            "0: 320x640 1 Child, 1 Therapist, 13.1ms\n",
            "Speed: 2.3ms preprocess, 13.1ms inference, 1.9ms postprocess per image at shape (1, 3, 320, 640)\n",
            "\n",
            "0: 320x640 1 Child, 1 Therapist, 9.2ms\n",
            "Speed: 2.3ms preprocess, 9.2ms inference, 1.8ms postprocess per image at shape (1, 3, 320, 640)\n",
            "\n",
            "0: 320x640 1 Child, 1 Therapist, 10.4ms\n",
            "Speed: 2.3ms preprocess, 10.4ms inference, 1.5ms postprocess per image at shape (1, 3, 320, 640)\n",
            "\n",
            "0: 320x640 1 Child, 1 Therapist, 9.8ms\n",
            "Speed: 2.2ms preprocess, 9.8ms inference, 1.5ms postprocess per image at shape (1, 3, 320, 640)\n",
            "\n",
            "0: 320x640 1 Child, 1 Therapist, 9.5ms\n",
            "Speed: 2.2ms preprocess, 9.5ms inference, 1.5ms postprocess per image at shape (1, 3, 320, 640)\n",
            "\n",
            "0: 320x640 1 Child, 1 Therapist, 9.6ms\n",
            "Speed: 2.8ms preprocess, 9.6ms inference, 1.6ms postprocess per image at shape (1, 3, 320, 640)\n",
            "\n",
            "0: 320x640 1 Child, 1 Therapist, 10.1ms\n",
            "Speed: 2.3ms preprocess, 10.1ms inference, 1.5ms postprocess per image at shape (1, 3, 320, 640)\n",
            "\n",
            "0: 320x640 1 Child, 1 Therapist, 9.8ms\n",
            "Speed: 2.3ms preprocess, 9.8ms inference, 1.6ms postprocess per image at shape (1, 3, 320, 640)\n",
            "\n",
            "0: 320x640 1 Child, 1 Therapist, 9.6ms\n",
            "Speed: 2.2ms preprocess, 9.6ms inference, 1.6ms postprocess per image at shape (1, 3, 320, 640)\n",
            "\n",
            "0: 320x640 1 Child, 1 Therapist, 9.1ms\n",
            "Speed: 3.0ms preprocess, 9.1ms inference, 1.5ms postprocess per image at shape (1, 3, 320, 640)\n",
            "\n",
            "0: 320x640 1 Child, 1 Therapist, 8.3ms\n",
            "Speed: 3.0ms preprocess, 8.3ms inference, 1.5ms postprocess per image at shape (1, 3, 320, 640)\n",
            "\n",
            "0: 320x640 1 Child, 1 Therapist, 10.2ms\n",
            "Speed: 2.2ms preprocess, 10.2ms inference, 1.8ms postprocess per image at shape (1, 3, 320, 640)\n",
            "\n",
            "0: 320x640 1 Child, 1 Therapist, 10.4ms\n",
            "Speed: 3.2ms preprocess, 10.4ms inference, 1.8ms postprocess per image at shape (1, 3, 320, 640)\n",
            "\n",
            "0: 320x640 1 Child, 1 Therapist, 14.0ms\n",
            "Speed: 4.2ms preprocess, 14.0ms inference, 1.6ms postprocess per image at shape (1, 3, 320, 640)\n",
            "\n",
            "0: 320x640 1 Child, 1 Therapist, 14.3ms\n",
            "Speed: 4.2ms preprocess, 14.3ms inference, 1.5ms postprocess per image at shape (1, 3, 320, 640)\n",
            "\n",
            "0: 320x640 1 Child, 1 Therapist, 12.3ms\n",
            "Speed: 5.5ms preprocess, 12.3ms inference, 1.7ms postprocess per image at shape (1, 3, 320, 640)\n",
            "\n",
            "0: 320x640 1 Child, 1 Therapist, 17.2ms\n",
            "Speed: 2.2ms preprocess, 17.2ms inference, 3.8ms postprocess per image at shape (1, 3, 320, 640)\n",
            "\n",
            "0: 320x640 1 Child, 1 Therapist, 12.0ms\n",
            "Speed: 2.6ms preprocess, 12.0ms inference, 1.9ms postprocess per image at shape (1, 3, 320, 640)\n",
            "\n",
            "0: 320x640 1 Child, 1 Therapist, 14.0ms\n",
            "Speed: 2.4ms preprocess, 14.0ms inference, 1.9ms postprocess per image at shape (1, 3, 320, 640)\n",
            "\n",
            "0: 320x640 1 Child, 1 Therapist, 17.7ms\n",
            "Speed: 2.6ms preprocess, 17.7ms inference, 2.7ms postprocess per image at shape (1, 3, 320, 640)\n",
            "\n",
            "0: 320x640 1 Child, 1 Therapist, 13.3ms\n",
            "Speed: 2.3ms preprocess, 13.3ms inference, 1.9ms postprocess per image at shape (1, 3, 320, 640)\n",
            "\n",
            "0: 320x640 1 Child, 1 Therapist, 12.6ms\n",
            "Speed: 2.2ms preprocess, 12.6ms inference, 3.8ms postprocess per image at shape (1, 3, 320, 640)\n",
            "\n",
            "0: 320x640 1 Child, 1 Therapist, 11.7ms\n",
            "Speed: 2.2ms preprocess, 11.7ms inference, 1.8ms postprocess per image at shape (1, 3, 320, 640)\n",
            "\n",
            "0: 320x640 1 Child, 1 Therapist, 15.8ms\n",
            "Speed: 2.3ms preprocess, 15.8ms inference, 1.4ms postprocess per image at shape (1, 3, 320, 640)\n",
            "\n",
            "0: 320x640 1 Child, 1 Therapist, 10.9ms\n",
            "Speed: 2.2ms preprocess, 10.9ms inference, 1.5ms postprocess per image at shape (1, 3, 320, 640)\n",
            "\n",
            "0: 320x640 1 Child, 1 Therapist, 9.6ms\n",
            "Speed: 2.3ms preprocess, 9.6ms inference, 1.6ms postprocess per image at shape (1, 3, 320, 640)\n",
            "\n",
            "0: 320x640 1 Child, 1 Therapist, 9.8ms\n",
            "Speed: 2.2ms preprocess, 9.8ms inference, 1.6ms postprocess per image at shape (1, 3, 320, 640)\n",
            "\n",
            "0: 320x640 1 Child, 1 Therapist, 12.5ms\n",
            "Speed: 2.2ms preprocess, 12.5ms inference, 3.2ms postprocess per image at shape (1, 3, 320, 640)\n",
            "\n",
            "0: 320x640 1 Child, 1 Therapist, 11.4ms\n",
            "Speed: 2.3ms preprocess, 11.4ms inference, 1.6ms postprocess per image at shape (1, 3, 320, 640)\n",
            "\n",
            "0: 320x640 1 Child, 1 Therapist, 14.4ms\n",
            "Speed: 2.3ms preprocess, 14.4ms inference, 1.6ms postprocess per image at shape (1, 3, 320, 640)\n",
            "\n",
            "0: 320x640 1 Child, 1 Therapist, 13.6ms\n",
            "Speed: 2.2ms preprocess, 13.6ms inference, 1.7ms postprocess per image at shape (1, 3, 320, 640)\n",
            "\n",
            "0: 320x640 1 Child, 1 Therapist, 11.4ms\n",
            "Speed: 2.1ms preprocess, 11.4ms inference, 1.6ms postprocess per image at shape (1, 3, 320, 640)\n",
            "\n",
            "0: 320x640 1 Child, 1 Therapist, 10.4ms\n",
            "Speed: 2.3ms preprocess, 10.4ms inference, 1.6ms postprocess per image at shape (1, 3, 320, 640)\n",
            "\n",
            "0: 320x640 1 Child, 1 Therapist, 10.9ms\n",
            "Speed: 2.2ms preprocess, 10.9ms inference, 1.6ms postprocess per image at shape (1, 3, 320, 640)\n",
            "\n",
            "0: 320x640 1 Child, 1 Therapist, 13.3ms\n",
            "Speed: 2.3ms preprocess, 13.3ms inference, 1.8ms postprocess per image at shape (1, 3, 320, 640)\n",
            "\n",
            "0: 320x640 1 Child, 1 Therapist, 13.8ms\n",
            "Speed: 2.3ms preprocess, 13.8ms inference, 1.6ms postprocess per image at shape (1, 3, 320, 640)\n",
            "\n",
            "0: 320x640 1 Child, 1 Therapist, 14.2ms\n",
            "Speed: 2.4ms preprocess, 14.2ms inference, 1.4ms postprocess per image at shape (1, 3, 320, 640)\n",
            "\n",
            "0: 320x640 1 Child, 1 Therapist, 14.9ms\n",
            "Speed: 2.2ms preprocess, 14.9ms inference, 1.7ms postprocess per image at shape (1, 3, 320, 640)\n",
            "\n",
            "0: 320x640 1 Child, 1 Therapist, 13.7ms\n",
            "Speed: 2.2ms preprocess, 13.7ms inference, 1.5ms postprocess per image at shape (1, 3, 320, 640)\n",
            "\n",
            "0: 320x640 1 Child, 1 Therapist, 12.7ms\n",
            "Speed: 2.2ms preprocess, 12.7ms inference, 1.6ms postprocess per image at shape (1, 3, 320, 640)\n",
            "\n",
            "0: 320x640 1 Child, 1 Therapist, 14.7ms\n",
            "Speed: 2.3ms preprocess, 14.7ms inference, 1.6ms postprocess per image at shape (1, 3, 320, 640)\n",
            "\n",
            "0: 320x640 1 Child, 1 Therapist, 11.5ms\n",
            "Speed: 3.0ms preprocess, 11.5ms inference, 1.7ms postprocess per image at shape (1, 3, 320, 640)\n",
            "\n",
            "0: 320x640 1 Child, 1 Therapist, 11.2ms\n",
            "Speed: 3.4ms preprocess, 11.2ms inference, 1.6ms postprocess per image at shape (1, 3, 320, 640)\n",
            "\n",
            "0: 320x640 1 Child, 1 Therapist, 21.3ms\n",
            "Speed: 3.3ms preprocess, 21.3ms inference, 1.7ms postprocess per image at shape (1, 3, 320, 640)\n",
            "\n",
            "0: 320x640 1 Child, 1 Therapist, 14.5ms\n",
            "Speed: 2.2ms preprocess, 14.5ms inference, 7.5ms postprocess per image at shape (1, 3, 320, 640)\n",
            "\n",
            "0: 320x640 1 Child, 1 Therapist, 10.4ms\n",
            "Speed: 2.3ms preprocess, 10.4ms inference, 2.7ms postprocess per image at shape (1, 3, 320, 640)\n",
            "\n",
            "0: 320x640 1 Child, 1 Therapist, 13.0ms\n",
            "Speed: 3.0ms preprocess, 13.0ms inference, 2.1ms postprocess per image at shape (1, 3, 320, 640)\n",
            "\n",
            "0: 320x640 1 Child, 1 Therapist, 14.4ms\n",
            "Speed: 2.5ms preprocess, 14.4ms inference, 4.1ms postprocess per image at shape (1, 3, 320, 640)\n",
            "\n",
            "0: 320x640 1 Child, 1 Therapist, 11.6ms\n",
            "Speed: 7.1ms preprocess, 11.6ms inference, 1.6ms postprocess per image at shape (1, 3, 320, 640)\n",
            "\n",
            "0: 320x640 1 Child, 1 Therapist, 17.3ms\n",
            "Speed: 2.1ms preprocess, 17.3ms inference, 1.5ms postprocess per image at shape (1, 3, 320, 640)\n",
            "\n",
            "0: 320x640 1 Child, 1 Therapist, 9.9ms\n",
            "Speed: 2.3ms preprocess, 9.9ms inference, 1.7ms postprocess per image at shape (1, 3, 320, 640)\n",
            "\n",
            "0: 320x640 1 Child, 1 Therapist, 9.2ms\n",
            "Speed: 2.6ms preprocess, 9.2ms inference, 2.0ms postprocess per image at shape (1, 3, 320, 640)\n",
            "\n",
            "0: 320x640 1 Child, 1 Therapist, 9.3ms\n",
            "Speed: 2.3ms preprocess, 9.3ms inference, 1.4ms postprocess per image at shape (1, 3, 320, 640)\n",
            "\n",
            "0: 320x640 1 Child, 1 Therapist, 10.9ms\n",
            "Speed: 2.2ms preprocess, 10.9ms inference, 1.6ms postprocess per image at shape (1, 3, 320, 640)\n",
            "\n",
            "0: 320x640 1 Child, 1 Therapist, 9.9ms\n",
            "Speed: 2.2ms preprocess, 9.9ms inference, 1.5ms postprocess per image at shape (1, 3, 320, 640)\n",
            "\n",
            "0: 320x640 1 Child, 1 Therapist, 10.4ms\n",
            "Speed: 2.2ms preprocess, 10.4ms inference, 1.7ms postprocess per image at shape (1, 3, 320, 640)\n",
            "\n",
            "0: 320x640 1 Child, 1 Therapist, 9.1ms\n",
            "Speed: 2.4ms preprocess, 9.1ms inference, 1.7ms postprocess per image at shape (1, 3, 320, 640)\n",
            "\n",
            "0: 320x640 1 Child, 1 Therapist, 9.1ms\n",
            "Speed: 2.3ms preprocess, 9.1ms inference, 1.5ms postprocess per image at shape (1, 3, 320, 640)\n",
            "\n",
            "0: 320x640 1 Child, 1 Therapist, 8.8ms\n",
            "Speed: 2.4ms preprocess, 8.8ms inference, 1.5ms postprocess per image at shape (1, 3, 320, 640)\n",
            "\n",
            "0: 320x640 1 Child, 1 Therapist, 9.1ms\n",
            "Speed: 2.4ms preprocess, 9.1ms inference, 1.5ms postprocess per image at shape (1, 3, 320, 640)\n",
            "\n",
            "0: 320x640 1 Child, 1 Therapist, 11.4ms\n",
            "Speed: 2.5ms preprocess, 11.4ms inference, 1.4ms postprocess per image at shape (1, 3, 320, 640)\n",
            "\n",
            "0: 320x640 1 Child, 1 Therapist, 9.0ms\n",
            "Speed: 2.2ms preprocess, 9.0ms inference, 1.5ms postprocess per image at shape (1, 3, 320, 640)\n",
            "\n",
            "0: 320x640 1 Child, 1 Therapist, 9.6ms\n",
            "Speed: 2.4ms preprocess, 9.6ms inference, 1.7ms postprocess per image at shape (1, 3, 320, 640)\n",
            "\n",
            "0: 320x640 1 Child, 1 Therapist, 8.8ms\n",
            "Speed: 2.3ms preprocess, 8.8ms inference, 1.7ms postprocess per image at shape (1, 3, 320, 640)\n",
            "\n",
            "0: 320x640 1 Child, 1 Therapist, 8.8ms\n",
            "Speed: 2.5ms preprocess, 8.8ms inference, 1.8ms postprocess per image at shape (1, 3, 320, 640)\n",
            "\n",
            "0: 320x640 1 Child, 1 Therapist, 9.2ms\n",
            "Speed: 2.5ms preprocess, 9.2ms inference, 1.8ms postprocess per image at shape (1, 3, 320, 640)\n",
            "\n",
            "0: 320x640 1 Child, 1 Therapist, 9.3ms\n",
            "Speed: 2.5ms preprocess, 9.3ms inference, 1.5ms postprocess per image at shape (1, 3, 320, 640)\n",
            "\n",
            "0: 320x640 1 Child, 1 Therapist, 8.6ms\n",
            "Speed: 2.4ms preprocess, 8.6ms inference, 1.5ms postprocess per image at shape (1, 3, 320, 640)\n",
            "\n",
            "0: 320x640 1 Child, 1 Therapist, 8.3ms\n",
            "Speed: 2.5ms preprocess, 8.3ms inference, 1.6ms postprocess per image at shape (1, 3, 320, 640)\n",
            "\n",
            "0: 320x640 1 Child, 1 Therapist, 10.9ms\n",
            "Speed: 2.2ms preprocess, 10.9ms inference, 1.5ms postprocess per image at shape (1, 3, 320, 640)\n",
            "\n",
            "0: 320x640 1 Child, 1 Therapist, 9.1ms\n",
            "Speed: 4.3ms preprocess, 9.1ms inference, 3.5ms postprocess per image at shape (1, 3, 320, 640)\n",
            "\n",
            "0: 320x640 1 Child, 1 Therapist, 9.4ms\n",
            "Speed: 2.3ms preprocess, 9.4ms inference, 1.6ms postprocess per image at shape (1, 3, 320, 640)\n",
            "\n",
            "0: 320x640 1 Child, 1 Therapist, 11.5ms\n",
            "Speed: 2.1ms preprocess, 11.5ms inference, 2.3ms postprocess per image at shape (1, 3, 320, 640)\n",
            "\n",
            "0: 320x640 1 Child, 1 Therapist, 12.5ms\n",
            "Speed: 2.4ms preprocess, 12.5ms inference, 1.7ms postprocess per image at shape (1, 3, 320, 640)\n",
            "\n",
            "0: 320x640 1 Child, 1 Therapist, 16.3ms\n",
            "Speed: 2.2ms preprocess, 16.3ms inference, 1.6ms postprocess per image at shape (1, 3, 320, 640)\n",
            "\n",
            "0: 320x640 1 Child, 1 Therapist, 12.8ms\n",
            "Speed: 3.6ms preprocess, 12.8ms inference, 1.5ms postprocess per image at shape (1, 3, 320, 640)\n",
            "\n",
            "0: 320x640 1 Child, 1 Therapist, 19.0ms\n",
            "Speed: 2.2ms preprocess, 19.0ms inference, 1.9ms postprocess per image at shape (1, 3, 320, 640)\n",
            "\n",
            "0: 320x640 1 Child, 1 Therapist, 19.4ms\n",
            "Speed: 2.2ms preprocess, 19.4ms inference, 4.0ms postprocess per image at shape (1, 3, 320, 640)\n",
            "\n",
            "0: 320x640 1 Child, 1 Therapist, 19.4ms\n",
            "Speed: 2.2ms preprocess, 19.4ms inference, 1.9ms postprocess per image at shape (1, 3, 320, 640)\n",
            "\n",
            "0: 320x640 1 Child, 1 Therapist, 16.4ms\n",
            "Speed: 4.6ms preprocess, 16.4ms inference, 3.5ms postprocess per image at shape (1, 3, 320, 640)\n",
            "\n",
            "0: 320x640 1 Child, 1 Therapist, 17.1ms\n",
            "Speed: 3.5ms preprocess, 17.1ms inference, 3.7ms postprocess per image at shape (1, 3, 320, 640)\n",
            "\n",
            "0: 320x640 1 Child, 1 Therapist, 14.9ms\n",
            "Speed: 2.3ms preprocess, 14.9ms inference, 4.5ms postprocess per image at shape (1, 3, 320, 640)\n",
            "\n",
            "0: 320x640 1 Child, 1 Therapist, 12.2ms\n",
            "Speed: 5.3ms preprocess, 12.2ms inference, 1.5ms postprocess per image at shape (1, 3, 320, 640)\n",
            "\n",
            "0: 320x640 1 Child, 1 Therapist, 15.6ms\n",
            "Speed: 2.3ms preprocess, 15.6ms inference, 1.5ms postprocess per image at shape (1, 3, 320, 640)\n",
            "\n",
            "0: 320x640 1 Child, 1 Therapist, 10.3ms\n",
            "Speed: 2.1ms preprocess, 10.3ms inference, 1.7ms postprocess per image at shape (1, 3, 320, 640)\n",
            "\n",
            "0: 320x640 1 Child, 1 Therapist, 12.5ms\n",
            "Speed: 3.6ms preprocess, 12.5ms inference, 1.6ms postprocess per image at shape (1, 3, 320, 640)\n",
            "\n",
            "0: 320x640 1 Child, 1 Therapist, 9.6ms\n",
            "Speed: 2.1ms preprocess, 9.6ms inference, 1.8ms postprocess per image at shape (1, 3, 320, 640)\n",
            "\n",
            "0: 320x640 1 Child, 1 Therapist, 9.5ms\n",
            "Speed: 2.2ms preprocess, 9.5ms inference, 1.8ms postprocess per image at shape (1, 3, 320, 640)\n",
            "\n",
            "0: 320x640 1 Child, 1 Therapist, 9.8ms\n",
            "Speed: 2.2ms preprocess, 9.8ms inference, 1.9ms postprocess per image at shape (1, 3, 320, 640)\n",
            "\n",
            "0: 320x640 1 Child, 1 Therapist, 9.6ms\n",
            "Speed: 2.2ms preprocess, 9.6ms inference, 1.6ms postprocess per image at shape (1, 3, 320, 640)\n",
            "\n",
            "0: 320x640 1 Child, 1 Therapist, 12.5ms\n",
            "Speed: 2.9ms preprocess, 12.5ms inference, 1.4ms postprocess per image at shape (1, 3, 320, 640)\n",
            "\n",
            "0: 320x640 1 Child, 1 Therapist, 10.1ms\n",
            "Speed: 2.2ms preprocess, 10.1ms inference, 1.5ms postprocess per image at shape (1, 3, 320, 640)\n",
            "\n",
            "0: 320x640 1 Child, 1 Therapist, 9.0ms\n",
            "Speed: 2.2ms preprocess, 9.0ms inference, 1.4ms postprocess per image at shape (1, 3, 320, 640)\n",
            "\n",
            "0: 320x640 1 Child, 1 Therapist, 8.8ms\n",
            "Speed: 2.1ms preprocess, 8.8ms inference, 1.6ms postprocess per image at shape (1, 3, 320, 640)\n",
            "\n",
            "0: 320x640 1 Child, 1 Therapist, 12.2ms\n",
            "Speed: 2.4ms preprocess, 12.2ms inference, 1.5ms postprocess per image at shape (1, 3, 320, 640)\n",
            "\n",
            "0: 320x640 1 Child, 1 Therapist, 9.4ms\n",
            "Speed: 2.3ms preprocess, 9.4ms inference, 1.6ms postprocess per image at shape (1, 3, 320, 640)\n",
            "\n",
            "0: 320x640 1 Child, 1 Therapist, 8.6ms\n",
            "Speed: 2.5ms preprocess, 8.6ms inference, 1.7ms postprocess per image at shape (1, 3, 320, 640)\n",
            "\n",
            "0: 320x640 1 Child, 1 Therapist, 9.1ms\n",
            "Speed: 2.3ms preprocess, 9.1ms inference, 1.6ms postprocess per image at shape (1, 3, 320, 640)\n",
            "\n",
            "0: 320x640 1 Child, 1 Therapist, 9.7ms\n",
            "Speed: 2.2ms preprocess, 9.7ms inference, 1.5ms postprocess per image at shape (1, 3, 320, 640)\n",
            "\n",
            "0: 320x640 1 Child, 1 Therapist, 10.5ms\n",
            "Speed: 2.4ms preprocess, 10.5ms inference, 1.7ms postprocess per image at shape (1, 3, 320, 640)\n",
            "\n",
            "0: 320x640 1 Child, 1 Therapist, 9.4ms\n",
            "Speed: 2.3ms preprocess, 9.4ms inference, 1.7ms postprocess per image at shape (1, 3, 320, 640)\n",
            "\n",
            "0: 320x640 1 Child, 1 Therapist, 10.9ms\n",
            "Speed: 2.2ms preprocess, 10.9ms inference, 1.8ms postprocess per image at shape (1, 3, 320, 640)\n",
            "\n",
            "0: 320x640 1 Child, 1 Therapist, 11.4ms\n",
            "Speed: 2.4ms preprocess, 11.4ms inference, 2.1ms postprocess per image at shape (1, 3, 320, 640)\n",
            "\n",
            "0: 320x640 1 Child, 1 Therapist, 12.8ms\n",
            "Speed: 2.2ms preprocess, 12.8ms inference, 3.7ms postprocess per image at shape (1, 3, 320, 640)\n",
            "\n",
            "0: 320x640 1 Child, 1 Therapist, 15.2ms\n",
            "Speed: 2.2ms preprocess, 15.2ms inference, 3.6ms postprocess per image at shape (1, 3, 320, 640)\n",
            "\n",
            "0: 320x640 1 Child, 1 Therapist, 11.7ms\n",
            "Speed: 2.4ms preprocess, 11.7ms inference, 1.5ms postprocess per image at shape (1, 3, 320, 640)\n",
            "\n",
            "0: 320x640 1 Child, 1 Therapist, 15.6ms\n",
            "Speed: 2.3ms preprocess, 15.6ms inference, 3.7ms postprocess per image at shape (1, 3, 320, 640)\n",
            "\n",
            "0: 320x640 1 Child, 1 Therapist, 15.7ms\n",
            "Speed: 2.3ms preprocess, 15.7ms inference, 1.6ms postprocess per image at shape (1, 3, 320, 640)\n",
            "\n",
            "0: 320x640 1 Child, 1 Therapist, 13.4ms\n",
            "Speed: 2.3ms preprocess, 13.4ms inference, 1.6ms postprocess per image at shape (1, 3, 320, 640)\n",
            "\n",
            "0: 320x640 1 Child, 1 Therapist, 14.2ms\n",
            "Speed: 2.3ms preprocess, 14.2ms inference, 1.6ms postprocess per image at shape (1, 3, 320, 640)\n",
            "\n",
            "0: 320x640 1 Child, 1 Therapist, 12.8ms\n",
            "Speed: 2.3ms preprocess, 12.8ms inference, 1.6ms postprocess per image at shape (1, 3, 320, 640)\n",
            "\n",
            "0: 320x640 1 Child, 1 Therapist, 12.7ms\n",
            "Speed: 2.2ms preprocess, 12.7ms inference, 6.7ms postprocess per image at shape (1, 3, 320, 640)\n",
            "\n",
            "0: 320x640 1 Child, 1 Therapist, 13.2ms\n",
            "Speed: 2.3ms preprocess, 13.2ms inference, 2.2ms postprocess per image at shape (1, 3, 320, 640)\n",
            "\n",
            "0: 320x640 1 Child, 1 Therapist, 14.5ms\n",
            "Speed: 2.2ms preprocess, 14.5ms inference, 1.6ms postprocess per image at shape (1, 3, 320, 640)\n",
            "\n",
            "0: 320x640 1 Child, 1 Therapist, 10.6ms\n",
            "Speed: 2.9ms preprocess, 10.6ms inference, 1.6ms postprocess per image at shape (1, 3, 320, 640)\n",
            "\n",
            "0: 320x640 1 Child, 1 Therapist, 16.1ms\n",
            "Speed: 2.3ms preprocess, 16.1ms inference, 2.9ms postprocess per image at shape (1, 3, 320, 640)\n",
            "\n",
            "0: 320x640 1 Child, 1 Therapist, 15.7ms\n",
            "Speed: 2.4ms preprocess, 15.7ms inference, 1.8ms postprocess per image at shape (1, 3, 320, 640)\n",
            "\n",
            "0: 320x640 1 Child, 1 Therapist, 18.8ms\n",
            "Speed: 4.1ms preprocess, 18.8ms inference, 6.4ms postprocess per image at shape (1, 3, 320, 640)\n",
            "\n",
            "0: 320x640 1 Child, 1 Therapist, 19.4ms\n",
            "Speed: 2.3ms preprocess, 19.4ms inference, 1.9ms postprocess per image at shape (1, 3, 320, 640)\n",
            "\n",
            "0: 320x640 1 Child, 1 Therapist, 15.2ms\n",
            "Speed: 2.3ms preprocess, 15.2ms inference, 1.7ms postprocess per image at shape (1, 3, 320, 640)\n",
            "\n",
            "0: 320x640 1 Child, 1 Therapist, 9.2ms\n",
            "Speed: 2.4ms preprocess, 9.2ms inference, 1.5ms postprocess per image at shape (1, 3, 320, 640)\n",
            "\n",
            "0: 320x640 1 Child, 1 Therapist, 10.5ms\n",
            "Speed: 2.4ms preprocess, 10.5ms inference, 1.7ms postprocess per image at shape (1, 3, 320, 640)\n",
            "\n",
            "0: 320x640 1 Child, 1 Therapist, 9.5ms\n",
            "Speed: 2.3ms preprocess, 9.5ms inference, 3.5ms postprocess per image at shape (1, 3, 320, 640)\n",
            "\n",
            "0: 320x640 1 Child, 1 Therapist, 9.2ms\n",
            "Speed: 2.3ms preprocess, 9.2ms inference, 1.6ms postprocess per image at shape (1, 3, 320, 640)\n",
            "\n",
            "0: 320x640 1 Child, 1 Therapist, 9.6ms\n",
            "Speed: 3.0ms preprocess, 9.6ms inference, 1.6ms postprocess per image at shape (1, 3, 320, 640)\n",
            "\n",
            "0: 320x640 1 Child, 1 Therapist, 9.9ms\n",
            "Speed: 2.3ms preprocess, 9.9ms inference, 1.6ms postprocess per image at shape (1, 3, 320, 640)\n",
            "\n",
            "0: 320x640 1 Child, 1 Therapist, 9.9ms\n",
            "Speed: 2.2ms preprocess, 9.9ms inference, 1.5ms postprocess per image at shape (1, 3, 320, 640)\n",
            "\n",
            "0: 320x640 1 Child, 1 Therapist, 9.8ms\n",
            "Speed: 2.3ms preprocess, 9.8ms inference, 1.5ms postprocess per image at shape (1, 3, 320, 640)\n",
            "\n",
            "0: 320x640 1 Child, 1 Therapist, 10.8ms\n",
            "Speed: 3.0ms preprocess, 10.8ms inference, 1.9ms postprocess per image at shape (1, 3, 320, 640)\n",
            "\n",
            "0: 320x640 1 Child, 1 Therapist, 14.5ms\n",
            "Speed: 2.3ms preprocess, 14.5ms inference, 1.7ms postprocess per image at shape (1, 3, 320, 640)\n",
            "\n",
            "0: 320x640 1 Child, 1 Therapist, 12.5ms\n",
            "Speed: 5.3ms preprocess, 12.5ms inference, 1.6ms postprocess per image at shape (1, 3, 320, 640)\n",
            "\n",
            "0: 320x640 1 Child, 1 Therapist, 15.5ms\n",
            "Speed: 4.4ms preprocess, 15.5ms inference, 1.5ms postprocess per image at shape (1, 3, 320, 640)\n",
            "\n",
            "0: 320x640 1 Child, 1 Therapist, 10.0ms\n",
            "Speed: 2.3ms preprocess, 10.0ms inference, 2.0ms postprocess per image at shape (1, 3, 320, 640)\n",
            "\n",
            "0: 320x640 1 Child, 1 Therapist, 12.4ms\n",
            "Speed: 2.3ms preprocess, 12.4ms inference, 1.5ms postprocess per image at shape (1, 3, 320, 640)\n",
            "\n",
            "0: 320x640 1 Child, 1 Therapist, 9.0ms\n",
            "Speed: 2.2ms preprocess, 9.0ms inference, 1.6ms postprocess per image at shape (1, 3, 320, 640)\n",
            "\n",
            "0: 320x640 1 Child, 1 Therapist, 13.2ms\n",
            "Speed: 2.2ms preprocess, 13.2ms inference, 1.6ms postprocess per image at shape (1, 3, 320, 640)\n",
            "\n",
            "0: 320x640 1 Child, 1 Therapist, 10.1ms\n",
            "Speed: 2.7ms preprocess, 10.1ms inference, 1.6ms postprocess per image at shape (1, 3, 320, 640)\n",
            "\n",
            "0: 320x640 1 Child, 1 Therapist, 11.9ms\n",
            "Speed: 2.9ms preprocess, 11.9ms inference, 1.6ms postprocess per image at shape (1, 3, 320, 640)\n",
            "\n",
            "0: 320x640 1 Child, 1 Therapist, 10.5ms\n",
            "Speed: 2.7ms preprocess, 10.5ms inference, 1.5ms postprocess per image at shape (1, 3, 320, 640)\n",
            "\n",
            "0: 320x640 1 Child, 1 Therapist, 10.9ms\n",
            "Speed: 2.5ms preprocess, 10.9ms inference, 1.4ms postprocess per image at shape (1, 3, 320, 640)\n",
            "\n",
            "0: 320x640 1 Child, 1 Therapist, 12.1ms\n",
            "Speed: 2.1ms preprocess, 12.1ms inference, 1.7ms postprocess per image at shape (1, 3, 320, 640)\n",
            "\n",
            "0: 320x640 1 Child, 1 Therapist, 11.5ms\n",
            "Speed: 2.8ms preprocess, 11.5ms inference, 2.3ms postprocess per image at shape (1, 3, 320, 640)\n",
            "\n",
            "0: 320x640 1 Child, 1 Therapist, 10.5ms\n",
            "Speed: 6.0ms preprocess, 10.5ms inference, 1.7ms postprocess per image at shape (1, 3, 320, 640)\n",
            "\n",
            "0: 320x640 1 Child, 1 Therapist, 8.9ms\n",
            "Speed: 2.2ms preprocess, 8.9ms inference, 4.0ms postprocess per image at shape (1, 3, 320, 640)\n",
            "\n",
            "0: 320x640 1 Child, 1 Therapist, 10.0ms\n",
            "Speed: 2.3ms preprocess, 10.0ms inference, 3.5ms postprocess per image at shape (1, 3, 320, 640)\n",
            "\n",
            "0: 320x640 1 Child, 1 Therapist, 12.9ms\n",
            "Speed: 3.8ms preprocess, 12.9ms inference, 1.9ms postprocess per image at shape (1, 3, 320, 640)\n",
            "\n",
            "0: 320x640 1 Child, 1 Therapist, 12.8ms\n",
            "Speed: 3.8ms preprocess, 12.8ms inference, 1.5ms postprocess per image at shape (1, 3, 320, 640)\n",
            "\n",
            "0: 320x640 1 Child, 1 Therapist, 13.0ms\n",
            "Speed: 2.3ms preprocess, 13.0ms inference, 1.4ms postprocess per image at shape (1, 3, 320, 640)\n",
            "\n",
            "0: 320x640 1 Child, 1 Therapist, 15.1ms\n",
            "Speed: 2.2ms preprocess, 15.1ms inference, 1.6ms postprocess per image at shape (1, 3, 320, 640)\n",
            "\n",
            "0: 320x640 1 Child, 1 Therapist, 11.4ms\n",
            "Speed: 2.3ms preprocess, 11.4ms inference, 2.6ms postprocess per image at shape (1, 3, 320, 640)\n",
            "\n",
            "0: 320x640 1 Child, 1 Therapist, 9.6ms\n",
            "Speed: 2.2ms preprocess, 9.6ms inference, 5.5ms postprocess per image at shape (1, 3, 320, 640)\n",
            "\n",
            "0: 320x640 1 Child, 1 Therapist, 9.8ms\n",
            "Speed: 2.3ms preprocess, 9.8ms inference, 2.5ms postprocess per image at shape (1, 3, 320, 640)\n",
            "\n",
            "0: 320x640 1 Child, 1 Therapist, 9.3ms\n",
            "Speed: 2.1ms preprocess, 9.3ms inference, 1.8ms postprocess per image at shape (1, 3, 320, 640)\n",
            "\n",
            "0: 320x640 1 Child, 1 Therapist, 9.1ms\n",
            "Speed: 2.2ms preprocess, 9.1ms inference, 1.9ms postprocess per image at shape (1, 3, 320, 640)\n",
            "\n",
            "0: 320x640 1 Child, 1 Therapist, 8.3ms\n",
            "Speed: 2.2ms preprocess, 8.3ms inference, 1.5ms postprocess per image at shape (1, 3, 320, 640)\n",
            "\n",
            "0: 320x640 1 Child, 1 Therapist, 8.6ms\n",
            "Speed: 2.1ms preprocess, 8.6ms inference, 1.4ms postprocess per image at shape (1, 3, 320, 640)\n",
            "\n",
            "0: 320x640 1 Child, 1 Therapist, 8.1ms\n",
            "Speed: 2.1ms preprocess, 8.1ms inference, 1.4ms postprocess per image at shape (1, 3, 320, 640)\n",
            "\n",
            "0: 320x640 1 Child, 1 Therapist, 8.0ms\n",
            "Speed: 2.1ms preprocess, 8.0ms inference, 1.5ms postprocess per image at shape (1, 3, 320, 640)\n",
            "\n",
            "0: 320x640 1 Child, 1 Therapist, 9.5ms\n",
            "Speed: 2.1ms preprocess, 9.5ms inference, 1.5ms postprocess per image at shape (1, 3, 320, 640)\n",
            "\n",
            "0: 320x640 1 Child, 1 Therapist, 22.3ms\n",
            "Speed: 2.2ms preprocess, 22.3ms inference, 3.9ms postprocess per image at shape (1, 3, 320, 640)\n",
            "\n",
            "0: 320x640 1 Child, 1 Therapist, 18.0ms\n",
            "Speed: 6.4ms preprocess, 18.0ms inference, 1.7ms postprocess per image at shape (1, 3, 320, 640)\n",
            "\n",
            "0: 320x640 1 Child, 1 Therapist, 17.9ms\n",
            "Speed: 2.2ms preprocess, 17.9ms inference, 1.7ms postprocess per image at shape (1, 3, 320, 640)\n",
            "\n",
            "0: 320x640 1 Child, 1 Therapist, 17.3ms\n",
            "Speed: 3.1ms preprocess, 17.3ms inference, 1.6ms postprocess per image at shape (1, 3, 320, 640)\n",
            "\n",
            "0: 320x640 1 Child, 1 Therapist, 16.3ms\n",
            "Speed: 3.1ms preprocess, 16.3ms inference, 3.4ms postprocess per image at shape (1, 3, 320, 640)\n",
            "\n",
            "0: 320x640 1 Child, 1 Therapist, 11.5ms\n",
            "Speed: 2.4ms preprocess, 11.5ms inference, 3.2ms postprocess per image at shape (1, 3, 320, 640)\n",
            "\n",
            "0: 320x640 1 Child, 1 Therapist, 12.5ms\n",
            "Speed: 2.2ms preprocess, 12.5ms inference, 1.6ms postprocess per image at shape (1, 3, 320, 640)\n",
            "\n",
            "0: 320x640 1 Child, 1 Therapist, 8.9ms\n",
            "Speed: 3.3ms preprocess, 8.9ms inference, 1.4ms postprocess per image at shape (1, 3, 320, 640)\n",
            "\n",
            "0: 320x640 1 Child, 1 Therapist, 13.3ms\n",
            "Speed: 2.7ms preprocess, 13.3ms inference, 1.5ms postprocess per image at shape (1, 3, 320, 640)\n",
            "\n",
            "0: 320x640 1 Child, 1 Therapist, 10.3ms\n",
            "Speed: 2.4ms preprocess, 10.3ms inference, 1.5ms postprocess per image at shape (1, 3, 320, 640)\n",
            "\n",
            "0: 320x640 1 Child, 1 Therapist, 9.2ms\n",
            "Speed: 3.1ms preprocess, 9.2ms inference, 1.6ms postprocess per image at shape (1, 3, 320, 640)\n",
            "\n",
            "0: 320x640 1 Child, 1 Therapist, 8.8ms\n",
            "Speed: 2.6ms preprocess, 8.8ms inference, 1.5ms postprocess per image at shape (1, 3, 320, 640)\n",
            "\n",
            "0: 320x640 1 Child, 1 Therapist, 9.8ms\n",
            "Speed: 2.2ms preprocess, 9.8ms inference, 1.6ms postprocess per image at shape (1, 3, 320, 640)\n",
            "\n",
            "0: 320x640 1 Child, 1 Therapist, 9.5ms\n",
            "Speed: 2.6ms preprocess, 9.5ms inference, 1.7ms postprocess per image at shape (1, 3, 320, 640)\n",
            "\n",
            "0: 320x640 1 Child, 1 Therapist, 9.2ms\n",
            "Speed: 2.5ms preprocess, 9.2ms inference, 3.4ms postprocess per image at shape (1, 3, 320, 640)\n",
            "\n",
            "0: 320x640 1 Child, 1 Therapist, 12.4ms\n",
            "Speed: 2.4ms preprocess, 12.4ms inference, 1.5ms postprocess per image at shape (1, 3, 320, 640)\n",
            "\n",
            "0: 320x640 1 Child, 1 Therapist, 9.9ms\n",
            "Speed: 2.4ms preprocess, 9.9ms inference, 2.0ms postprocess per image at shape (1, 3, 320, 640)\n",
            "\n",
            "0: 320x640 1 Child, 1 Therapist, 8.5ms\n",
            "Speed: 2.3ms preprocess, 8.5ms inference, 1.5ms postprocess per image at shape (1, 3, 320, 640)\n",
            "\n",
            "0: 320x640 1 Child, 1 Therapist, 9.3ms\n",
            "Speed: 3.6ms preprocess, 9.3ms inference, 1.5ms postprocess per image at shape (1, 3, 320, 640)\n",
            "\n",
            "0: 320x640 1 Child, 1 Therapist, 9.8ms\n",
            "Speed: 3.4ms preprocess, 9.8ms inference, 1.8ms postprocess per image at shape (1, 3, 320, 640)\n",
            "\n",
            "0: 320x640 1 Child, 1 Therapist, 9.1ms\n",
            "Speed: 2.2ms preprocess, 9.1ms inference, 1.5ms postprocess per image at shape (1, 3, 320, 640)\n",
            "\n",
            "0: 320x640 1 Child, 1 Therapist, 8.2ms\n",
            "Speed: 3.5ms preprocess, 8.2ms inference, 1.4ms postprocess per image at shape (1, 3, 320, 640)\n",
            "\n",
            "0: 320x640 1 Child, 1 Therapist, 8.9ms\n",
            "Speed: 2.4ms preprocess, 8.9ms inference, 1.6ms postprocess per image at shape (1, 3, 320, 640)\n",
            "\n",
            "0: 320x640 1 Child, 1 Therapist, 9.8ms\n",
            "Speed: 2.4ms preprocess, 9.8ms inference, 1.7ms postprocess per image at shape (1, 3, 320, 640)\n",
            "\n",
            "0: 320x640 1 Child, 1 Therapist, 13.5ms\n",
            "Speed: 2.3ms preprocess, 13.5ms inference, 2.6ms postprocess per image at shape (1, 3, 320, 640)\n",
            "\n",
            "0: 320x640 1 Child, 1 Therapist, 10.4ms\n",
            "Speed: 2.3ms preprocess, 10.4ms inference, 1.4ms postprocess per image at shape (1, 3, 320, 640)\n",
            "\n",
            "0: 320x640 1 Child, 1 Therapist, 9.3ms\n",
            "Speed: 3.2ms preprocess, 9.3ms inference, 1.7ms postprocess per image at shape (1, 3, 320, 640)\n",
            "\n",
            "0: 320x640 1 Child, 1 Therapist, 12.4ms\n",
            "Speed: 2.8ms preprocess, 12.4ms inference, 1.5ms postprocess per image at shape (1, 3, 320, 640)\n",
            "\n",
            "0: 320x640 1 Child, 1 Therapist, 8.3ms\n",
            "Speed: 2.9ms preprocess, 8.3ms inference, 2.6ms postprocess per image at shape (1, 3, 320, 640)\n",
            "\n",
            "0: 320x640 1 Child, 1 Therapist, 17.3ms\n",
            "Speed: 2.4ms preprocess, 17.3ms inference, 1.5ms postprocess per image at shape (1, 3, 320, 640)\n",
            "\n",
            "0: 320x640 1 Child, 1 Therapist, 16.7ms\n",
            "Speed: 2.9ms preprocess, 16.7ms inference, 4.7ms postprocess per image at shape (1, 3, 320, 640)\n",
            "\n",
            "0: 320x640 1 Child, 1 Therapist, 17.5ms\n",
            "Speed: 2.2ms preprocess, 17.5ms inference, 1.7ms postprocess per image at shape (1, 3, 320, 640)\n",
            "\n",
            "0: 320x640 1 Child, 1 Therapist, 10.8ms\n",
            "Speed: 2.5ms preprocess, 10.8ms inference, 1.4ms postprocess per image at shape (1, 3, 320, 640)\n",
            "\n",
            "0: 320x640 1 Child, 1 Therapist, 11.3ms\n",
            "Speed: 3.0ms preprocess, 11.3ms inference, 1.9ms postprocess per image at shape (1, 3, 320, 640)\n",
            "\n",
            "0: 320x640 1 Child, 1 Therapist, 7.9ms\n",
            "Speed: 2.0ms preprocess, 7.9ms inference, 1.4ms postprocess per image at shape (1, 3, 320, 640)\n",
            "\n",
            "0: 320x640 1 Child, 1 Therapist, 12.5ms\n",
            "Speed: 2.5ms preprocess, 12.5ms inference, 2.3ms postprocess per image at shape (1, 3, 320, 640)\n",
            "\n",
            "0: 320x640 1 Child, 1 Therapist, 10.5ms\n",
            "Speed: 3.2ms preprocess, 10.5ms inference, 1.7ms postprocess per image at shape (1, 3, 320, 640)\n",
            "\n",
            "0: 320x640 1 Child, 1 Therapist, 11.1ms\n",
            "Speed: 3.2ms preprocess, 11.1ms inference, 1.7ms postprocess per image at shape (1, 3, 320, 640)\n",
            "\n",
            "0: 320x640 1 Child, 1 Therapist, 11.2ms\n",
            "Speed: 3.1ms preprocess, 11.2ms inference, 1.6ms postprocess per image at shape (1, 3, 320, 640)\n",
            "\n",
            "0: 320x640 1 Child, 1 Therapist, 10.8ms\n",
            "Speed: 2.2ms preprocess, 10.8ms inference, 1.8ms postprocess per image at shape (1, 3, 320, 640)\n",
            "\n",
            "0: 320x640 1 Child, 1 Therapist, 10.5ms\n",
            "Speed: 2.3ms preprocess, 10.5ms inference, 1.8ms postprocess per image at shape (1, 3, 320, 640)\n",
            "\n",
            "0: 320x640 1 Child, 1 Therapist, 12.4ms\n",
            "Speed: 2.3ms preprocess, 12.4ms inference, 1.8ms postprocess per image at shape (1, 3, 320, 640)\n",
            "\n",
            "0: 320x640 1 Child, 1 Therapist, 9.5ms\n",
            "Speed: 2.3ms preprocess, 9.5ms inference, 1.5ms postprocess per image at shape (1, 3, 320, 640)\n",
            "\n",
            "0: 320x640 1 Child, 1 Therapist, 10.5ms\n",
            "Speed: 2.3ms preprocess, 10.5ms inference, 1.9ms postprocess per image at shape (1, 3, 320, 640)\n",
            "\n",
            "0: 320x640 1 Child, 1 Therapist, 12.1ms\n",
            "Speed: 2.4ms preprocess, 12.1ms inference, 1.8ms postprocess per image at shape (1, 3, 320, 640)\n",
            "\n",
            "0: 320x640 1 Child, 1 Therapist, 10.0ms\n",
            "Speed: 2.3ms preprocess, 10.0ms inference, 2.6ms postprocess per image at shape (1, 3, 320, 640)\n",
            "\n",
            "0: 320x640 1 Child, 1 Therapist, 18.4ms\n",
            "Speed: 2.4ms preprocess, 18.4ms inference, 3.3ms postprocess per image at shape (1, 3, 320, 640)\n",
            "\n",
            "0: 320x640 1 Child, 1 Therapist, 15.0ms\n",
            "Speed: 5.0ms preprocess, 15.0ms inference, 2.6ms postprocess per image at shape (1, 3, 320, 640)\n",
            "\n",
            "0: 320x640 1 Child, 1 Therapist, 10.8ms\n",
            "Speed: 2.3ms preprocess, 10.8ms inference, 1.6ms postprocess per image at shape (1, 3, 320, 640)\n",
            "\n",
            "0: 320x640 1 Child, 1 Therapist, 9.9ms\n",
            "Speed: 2.3ms preprocess, 9.9ms inference, 2.0ms postprocess per image at shape (1, 3, 320, 640)\n",
            "\n",
            "0: 320x640 1 Child, 1 Therapist, 17.4ms\n",
            "Speed: 7.0ms preprocess, 17.4ms inference, 1.7ms postprocess per image at shape (1, 3, 320, 640)\n",
            "\n",
            "0: 320x640 1 Child, 1 Therapist, 10.1ms\n",
            "Speed: 4.4ms preprocess, 10.1ms inference, 1.5ms postprocess per image at shape (1, 3, 320, 640)\n",
            "\n",
            "0: 320x640 1 Child, 1 Therapist, 9.2ms\n",
            "Speed: 2.4ms preprocess, 9.2ms inference, 1.6ms postprocess per image at shape (1, 3, 320, 640)\n",
            "\n",
            "0: 320x640 1 Child, 1 Therapist, 8.4ms\n",
            "Speed: 2.4ms preprocess, 8.4ms inference, 1.3ms postprocess per image at shape (1, 3, 320, 640)\n",
            "\n",
            "0: 320x640 1 Child, 1 Therapist, 8.8ms\n",
            "Speed: 2.2ms preprocess, 8.8ms inference, 1.6ms postprocess per image at shape (1, 3, 320, 640)\n",
            "\n",
            "0: 320x640 1 Child, 1 Therapist, 11.0ms\n",
            "Speed: 2.2ms preprocess, 11.0ms inference, 1.5ms postprocess per image at shape (1, 3, 320, 640)\n",
            "\n",
            "0: 320x640 1 Child, 1 Therapist, 8.4ms\n",
            "Speed: 2.2ms preprocess, 8.4ms inference, 2.7ms postprocess per image at shape (1, 3, 320, 640)\n",
            "\n",
            "0: 320x640 1 Child, 1 Therapist, 12.2ms\n",
            "Speed: 2.2ms preprocess, 12.2ms inference, 2.5ms postprocess per image at shape (1, 3, 320, 640)\n",
            "\n",
            "0: 320x640 1 Child, 1 Therapist, 9.2ms\n",
            "Speed: 2.5ms preprocess, 9.2ms inference, 1.6ms postprocess per image at shape (1, 3, 320, 640)\n",
            "\n",
            "0: 320x640 1 Child, 1 Therapist, 11.2ms\n",
            "Speed: 2.3ms preprocess, 11.2ms inference, 2.9ms postprocess per image at shape (1, 3, 320, 640)\n",
            "\n",
            "0: 320x640 1 Child, 1 Therapist, 17.6ms\n",
            "Speed: 3.7ms preprocess, 17.6ms inference, 2.3ms postprocess per image at shape (1, 3, 320, 640)\n",
            "\n",
            "0: 320x640 1 Child, 1 Therapist, 16.4ms\n",
            "Speed: 3.1ms preprocess, 16.4ms inference, 1.5ms postprocess per image at shape (1, 3, 320, 640)\n",
            "\n",
            "0: 320x640 1 Child, 1 Therapist, 11.4ms\n",
            "Speed: 2.8ms preprocess, 11.4ms inference, 1.5ms postprocess per image at shape (1, 3, 320, 640)\n",
            "\n",
            "0: 320x640 1 Child, 1 Therapist, 8.7ms\n",
            "Speed: 2.3ms preprocess, 8.7ms inference, 1.5ms postprocess per image at shape (1, 3, 320, 640)\n",
            "\n",
            "0: 320x640 1 Child, 1 Therapist, 9.5ms\n",
            "Speed: 2.3ms preprocess, 9.5ms inference, 1.5ms postprocess per image at shape (1, 3, 320, 640)\n",
            "\n",
            "0: 320x640 1 Child, 1 Therapist, 7.9ms\n",
            "Speed: 2.4ms preprocess, 7.9ms inference, 1.5ms postprocess per image at shape (1, 3, 320, 640)\n",
            "\n",
            "0: 320x640 1 Child, 1 Therapist, 8.8ms\n",
            "Speed: 2.4ms preprocess, 8.8ms inference, 1.5ms postprocess per image at shape (1, 3, 320, 640)\n",
            "\n",
            "0: 320x640 1 Child, 1 Therapist, 9.4ms\n",
            "Speed: 2.4ms preprocess, 9.4ms inference, 1.7ms postprocess per image at shape (1, 3, 320, 640)\n",
            "\n",
            "0: 320x640 1 Child, 1 Therapist, 8.9ms\n",
            "Speed: 2.5ms preprocess, 8.9ms inference, 1.5ms postprocess per image at shape (1, 3, 320, 640)\n",
            "\n",
            "0: 320x640 1 Child, 1 Therapist, 8.8ms\n",
            "Speed: 2.4ms preprocess, 8.8ms inference, 1.6ms postprocess per image at shape (1, 3, 320, 640)\n",
            "\n",
            "0: 320x640 1 Child, 1 Therapist, 10.4ms\n",
            "Speed: 2.3ms preprocess, 10.4ms inference, 1.8ms postprocess per image at shape (1, 3, 320, 640)\n",
            "\n",
            "0: 320x640 1 Child, 1 Therapist, 9.6ms\n",
            "Speed: 2.5ms preprocess, 9.6ms inference, 1.6ms postprocess per image at shape (1, 3, 320, 640)\n",
            "\n",
            "0: 320x640 1 Child, 1 Therapist, 14.0ms\n",
            "Speed: 2.3ms preprocess, 14.0ms inference, 1.8ms postprocess per image at shape (1, 3, 320, 640)\n",
            "\n",
            "0: 320x640 1 Child, 1 Therapist, 9.1ms\n",
            "Speed: 3.3ms preprocess, 9.1ms inference, 1.4ms postprocess per image at shape (1, 3, 320, 640)\n",
            "\n",
            "0: 320x640 1 Child, 1 Therapist, 8.9ms\n",
            "Speed: 2.4ms preprocess, 8.9ms inference, 1.8ms postprocess per image at shape (1, 3, 320, 640)\n",
            "\n",
            "0: 320x640 1 Child, 1 Therapist, 8.2ms\n",
            "Speed: 2.9ms preprocess, 8.2ms inference, 1.5ms postprocess per image at shape (1, 3, 320, 640)\n",
            "\n",
            "0: 320x640 1 Child, 1 Therapist, 8.3ms\n",
            "Speed: 3.1ms preprocess, 8.3ms inference, 1.5ms postprocess per image at shape (1, 3, 320, 640)\n",
            "\n",
            "0: 320x640 1 Child, 1 Therapist, 11.5ms\n",
            "Speed: 5.2ms preprocess, 11.5ms inference, 1.8ms postprocess per image at shape (1, 3, 320, 640)\n",
            "\n",
            "0: 320x640 1 Child, 1 Therapist, 12.3ms\n",
            "Speed: 4.4ms preprocess, 12.3ms inference, 1.7ms postprocess per image at shape (1, 3, 320, 640)\n",
            "\n",
            "0: 320x640 1 Child, 1 Therapist, 9.3ms\n",
            "Speed: 2.2ms preprocess, 9.3ms inference, 1.5ms postprocess per image at shape (1, 3, 320, 640)\n",
            "\n",
            "0: 320x640 1 Child, 1 Therapist, 9.0ms\n",
            "Speed: 5.7ms preprocess, 9.0ms inference, 1.5ms postprocess per image at shape (1, 3, 320, 640)\n",
            "\n",
            "0: 320x640 1 Child, 1 Therapist, 9.1ms\n",
            "Speed: 2.4ms preprocess, 9.1ms inference, 1.7ms postprocess per image at shape (1, 3, 320, 640)\n",
            "\n",
            "0: 320x640 1 Child, 1 Therapist, 10.3ms\n",
            "Speed: 2.3ms preprocess, 10.3ms inference, 1.5ms postprocess per image at shape (1, 3, 320, 640)\n",
            "\n",
            "0: 320x640 1 Child, 1 Therapist, 9.1ms\n",
            "Speed: 2.4ms preprocess, 9.1ms inference, 1.6ms postprocess per image at shape (1, 3, 320, 640)\n",
            "\n",
            "0: 320x640 1 Child, 1 Therapist, 8.3ms\n",
            "Speed: 2.5ms preprocess, 8.3ms inference, 1.6ms postprocess per image at shape (1, 3, 320, 640)\n",
            "\n",
            "0: 320x640 1 Child, 1 Therapist, 8.9ms\n",
            "Speed: 2.2ms preprocess, 8.9ms inference, 1.8ms postprocess per image at shape (1, 3, 320, 640)\n",
            "\n",
            "0: 320x640 1 Child, 1 Therapist, 9.3ms\n",
            "Speed: 2.3ms preprocess, 9.3ms inference, 1.6ms postprocess per image at shape (1, 3, 320, 640)\n",
            "\n",
            "0: 320x640 1 Child, 1 Therapist, 12.5ms\n",
            "Speed: 2.2ms preprocess, 12.5ms inference, 2.0ms postprocess per image at shape (1, 3, 320, 640)\n",
            "\n",
            "0: 320x640 1 Child, 1 Therapist, 11.3ms\n",
            "Speed: 2.7ms preprocess, 11.3ms inference, 1.8ms postprocess per image at shape (1, 3, 320, 640)\n",
            "\n",
            "0: 320x640 1 Child, 1 Therapist, 12.1ms\n",
            "Speed: 2.5ms preprocess, 12.1ms inference, 1.8ms postprocess per image at shape (1, 3, 320, 640)\n",
            "\n",
            "0: 320x640 1 Child, 1 Therapist, 14.7ms\n",
            "Speed: 3.1ms preprocess, 14.7ms inference, 2.4ms postprocess per image at shape (1, 3, 320, 640)\n",
            "\n",
            "0: 320x640 1 Child, 1 Therapist, 18.5ms\n",
            "Speed: 2.3ms preprocess, 18.5ms inference, 1.7ms postprocess per image at shape (1, 3, 320, 640)\n",
            "\n",
            "0: 320x640 1 Child, 1 Therapist, 12.5ms\n",
            "Speed: 2.8ms preprocess, 12.5ms inference, 1.8ms postprocess per image at shape (1, 3, 320, 640)\n",
            "\n",
            "0: 320x640 1 Child, 1 Therapist, 11.6ms\n",
            "Speed: 2.5ms preprocess, 11.6ms inference, 2.1ms postprocess per image at shape (1, 3, 320, 640)\n",
            "\n",
            "0: 320x640 1 Child, 1 Therapist, 10.5ms\n",
            "Speed: 2.4ms preprocess, 10.5ms inference, 1.5ms postprocess per image at shape (1, 3, 320, 640)\n",
            "\n",
            "0: 320x640 1 Child, 1 Therapist, 9.8ms\n",
            "Speed: 2.1ms preprocess, 9.8ms inference, 2.0ms postprocess per image at shape (1, 3, 320, 640)\n",
            "\n",
            "0: 320x640 1 Child, 1 Therapist, 16.0ms\n",
            "Speed: 2.3ms preprocess, 16.0ms inference, 7.4ms postprocess per image at shape (1, 3, 320, 640)\n",
            "\n",
            "0: 320x640 1 Child, 1 Therapist, 12.9ms\n",
            "Speed: 2.5ms preprocess, 12.9ms inference, 1.5ms postprocess per image at shape (1, 3, 320, 640)\n",
            "\n",
            "0: 320x640 1 Child, 1 Therapist, 11.9ms\n",
            "Speed: 2.5ms preprocess, 11.9ms inference, 1.9ms postprocess per image at shape (1, 3, 320, 640)\n",
            "\n",
            "0: 320x640 1 Child, 1 Therapist, 16.5ms\n",
            "Speed: 2.4ms preprocess, 16.5ms inference, 2.5ms postprocess per image at shape (1, 3, 320, 640)\n",
            "\n",
            "0: 320x640 1 Child, 1 Therapist, 12.7ms\n",
            "Speed: 2.2ms preprocess, 12.7ms inference, 1.8ms postprocess per image at shape (1, 3, 320, 640)\n",
            "\n",
            "0: 320x640 1 Child, 1 Therapist, 10.9ms\n",
            "Speed: 3.7ms preprocess, 10.9ms inference, 1.7ms postprocess per image at shape (1, 3, 320, 640)\n",
            "\n",
            "0: 320x640 1 Child, 1 Therapist, 13.5ms\n",
            "Speed: 2.5ms preprocess, 13.5ms inference, 1.7ms postprocess per image at shape (1, 3, 320, 640)\n",
            "\n",
            "0: 320x640 1 Child, 1 Therapist, 12.1ms\n",
            "Speed: 2.5ms preprocess, 12.1ms inference, 1.9ms postprocess per image at shape (1, 3, 320, 640)\n",
            "\n",
            "0: 320x640 1 Child, 1 Therapist, 15.6ms\n",
            "Speed: 2.7ms preprocess, 15.6ms inference, 1.9ms postprocess per image at shape (1, 3, 320, 640)\n",
            "\n",
            "0: 320x640 1 Child, 1 Therapist, 12.6ms\n",
            "Speed: 2.8ms preprocess, 12.6ms inference, 1.9ms postprocess per image at shape (1, 3, 320, 640)\n",
            "\n",
            "0: 320x640 1 Child, 1 Therapist, 9.5ms\n",
            "Speed: 2.2ms preprocess, 9.5ms inference, 1.9ms postprocess per image at shape (1, 3, 320, 640)\n",
            "\n",
            "0: 320x640 1 Child, 1 Therapist, 12.9ms\n",
            "Speed: 2.6ms preprocess, 12.9ms inference, 1.7ms postprocess per image at shape (1, 3, 320, 640)\n",
            "\n",
            "0: 320x640 1 Child, 1 Therapist, 12.5ms\n",
            "Speed: 2.9ms preprocess, 12.5ms inference, 1.5ms postprocess per image at shape (1, 3, 320, 640)\n",
            "\n",
            "0: 320x640 1 Child, 1 Therapist, 12.8ms\n",
            "Speed: 2.4ms preprocess, 12.8ms inference, 1.5ms postprocess per image at shape (1, 3, 320, 640)\n",
            "\n",
            "0: 320x640 1 Child, 1 Therapist, 12.0ms\n",
            "Speed: 5.2ms preprocess, 12.0ms inference, 2.1ms postprocess per image at shape (1, 3, 320, 640)\n",
            "\n",
            "0: 320x640 1 Child, 1 Therapist, 9.5ms\n",
            "Speed: 2.6ms preprocess, 9.5ms inference, 1.5ms postprocess per image at shape (1, 3, 320, 640)\n",
            "\n",
            "0: 320x640 1 Child, 1 Therapist, 8.0ms\n",
            "Speed: 2.1ms preprocess, 8.0ms inference, 1.6ms postprocess per image at shape (1, 3, 320, 640)\n",
            "\n",
            "0: 320x640 1 Child, 1 Therapist, 8.4ms\n",
            "Speed: 2.4ms preprocess, 8.4ms inference, 1.4ms postprocess per image at shape (1, 3, 320, 640)\n",
            "\n",
            "0: 320x640 1 Child, 1 Therapist, 7.7ms\n",
            "Speed: 2.7ms preprocess, 7.7ms inference, 1.5ms postprocess per image at shape (1, 3, 320, 640)\n",
            "\n",
            "0: 320x640 1 Child, 1 Therapist, 10.8ms\n",
            "Speed: 2.5ms preprocess, 10.8ms inference, 1.7ms postprocess per image at shape (1, 3, 320, 640)\n",
            "\n",
            "0: 320x640 1 Child, 1 Therapist, 17.5ms\n",
            "Speed: 2.5ms preprocess, 17.5ms inference, 2.1ms postprocess per image at shape (1, 3, 320, 640)\n",
            "\n",
            "0: 320x640 1 Child, 1 Therapist, 18.0ms\n",
            "Speed: 4.0ms preprocess, 18.0ms inference, 2.6ms postprocess per image at shape (1, 3, 320, 640)\n",
            "\n",
            "0: 320x640 1 Child, 1 Therapist, 9.3ms\n",
            "Speed: 2.3ms preprocess, 9.3ms inference, 1.4ms postprocess per image at shape (1, 3, 320, 640)\n",
            "\n",
            "0: 320x640 1 Child, 1 Therapist, 8.3ms\n",
            "Speed: 2.6ms preprocess, 8.3ms inference, 1.8ms postprocess per image at shape (1, 3, 320, 640)\n",
            "\n",
            "0: 320x640 1 Child, 1 Therapist, 8.5ms\n",
            "Speed: 2.8ms preprocess, 8.5ms inference, 1.5ms postprocess per image at shape (1, 3, 320, 640)\n",
            "\n",
            "0: 320x640 1 Child, 1 Therapist, 8.9ms\n",
            "Speed: 2.1ms preprocess, 8.9ms inference, 1.8ms postprocess per image at shape (1, 3, 320, 640)\n",
            "\n",
            "0: 320x640 1 Child, 1 Therapist, 9.0ms\n",
            "Speed: 2.3ms preprocess, 9.0ms inference, 1.6ms postprocess per image at shape (1, 3, 320, 640)\n",
            "\n",
            "0: 320x640 1 Child, 1 Therapist, 9.5ms\n",
            "Speed: 2.3ms preprocess, 9.5ms inference, 1.5ms postprocess per image at shape (1, 3, 320, 640)\n",
            "\n",
            "0: 320x640 1 Child, 8.3ms\n",
            "Speed: 2.3ms preprocess, 8.3ms inference, 1.5ms postprocess per image at shape (1, 3, 320, 640)\n",
            "\n",
            "0: 320x640 1 Child, 11.7ms\n",
            "Speed: 2.2ms preprocess, 11.7ms inference, 1.6ms postprocess per image at shape (1, 3, 320, 640)\n",
            "\n",
            "0: 320x640 1 Child, 9.5ms\n",
            "Speed: 2.3ms preprocess, 9.5ms inference, 1.7ms postprocess per image at shape (1, 3, 320, 640)\n",
            "\n",
            "0: 320x640 1 Child, 1 Therapist, 8.8ms\n",
            "Speed: 2.3ms preprocess, 8.8ms inference, 1.7ms postprocess per image at shape (1, 3, 320, 640)\n",
            "\n",
            "0: 320x640 1 Child, 1 Therapist, 10.2ms\n",
            "Speed: 2.2ms preprocess, 10.2ms inference, 1.9ms postprocess per image at shape (1, 3, 320, 640)\n",
            "\n",
            "0: 320x640 1 Child, 1 Therapist, 9.1ms\n",
            "Speed: 2.1ms preprocess, 9.1ms inference, 1.4ms postprocess per image at shape (1, 3, 320, 640)\n",
            "\n",
            "0: 320x640 1 Child, 1 Therapist, 8.6ms\n",
            "Speed: 2.2ms preprocess, 8.6ms inference, 1.7ms postprocess per image at shape (1, 3, 320, 640)\n",
            "\n",
            "0: 320x640 1 Child, 1 Therapist, 8.7ms\n",
            "Speed: 2.2ms preprocess, 8.7ms inference, 1.5ms postprocess per image at shape (1, 3, 320, 640)\n",
            "\n",
            "0: 320x640 1 Child, 1 Therapist, 8.6ms\n",
            "Speed: 3.9ms preprocess, 8.6ms inference, 1.6ms postprocess per image at shape (1, 3, 320, 640)\n",
            "\n",
            "0: 320x640 1 Child, 1 Therapist, 12.8ms\n",
            "Speed: 2.3ms preprocess, 12.8ms inference, 1.7ms postprocess per image at shape (1, 3, 320, 640)\n",
            "\n",
            "0: 320x640 1 Child, 1 Therapist, 9.6ms\n",
            "Speed: 2.5ms preprocess, 9.6ms inference, 1.5ms postprocess per image at shape (1, 3, 320, 640)\n",
            "\n",
            "0: 320x640 1 Child, 1 Therapist, 9.7ms\n",
            "Speed: 2.2ms preprocess, 9.7ms inference, 1.5ms postprocess per image at shape (1, 3, 320, 640)\n",
            "\n",
            "0: 320x640 1 Child, 1 Therapist, 8.2ms\n",
            "Speed: 2.6ms preprocess, 8.2ms inference, 1.4ms postprocess per image at shape (1, 3, 320, 640)\n",
            "\n",
            "0: 320x640 1 Child, 2 Therapists, 9.3ms\n",
            "Speed: 2.3ms preprocess, 9.3ms inference, 1.4ms postprocess per image at shape (1, 3, 320, 640)\n",
            "\n",
            "0: 320x640 1 Child, 2 Therapists, 11.2ms\n",
            "Speed: 2.4ms preprocess, 11.2ms inference, 2.3ms postprocess per image at shape (1, 3, 320, 640)\n",
            "\n",
            "0: 320x640 1 Child, 1 Therapist, 9.7ms\n",
            "Speed: 2.4ms preprocess, 9.7ms inference, 1.6ms postprocess per image at shape (1, 3, 320, 640)\n",
            "\n",
            "0: 320x640 1 Child, 1 Therapist, 9.8ms\n",
            "Speed: 2.1ms preprocess, 9.8ms inference, 1.6ms postprocess per image at shape (1, 3, 320, 640)\n",
            "\n",
            "0: 320x640 1 Child, 1 Therapist, 9.4ms\n",
            "Speed: 5.4ms preprocess, 9.4ms inference, 4.8ms postprocess per image at shape (1, 3, 320, 640)\n",
            "\n",
            "0: 320x640 1 Child, 1 Therapist, 9.8ms\n",
            "Speed: 4.5ms preprocess, 9.8ms inference, 1.8ms postprocess per image at shape (1, 3, 320, 640)\n",
            "\n",
            "0: 320x640 2 Childs, 1 Therapist, 7.8ms\n",
            "Speed: 2.3ms preprocess, 7.8ms inference, 1.4ms postprocess per image at shape (1, 3, 320, 640)\n",
            "\n",
            "0: 320x640 1 Child, 1 Therapist, 8.5ms\n",
            "Speed: 2.1ms preprocess, 8.5ms inference, 1.4ms postprocess per image at shape (1, 3, 320, 640)\n",
            "\n",
            "0: 320x640 1 Child, 1 Therapist, 9.0ms\n",
            "Speed: 2.2ms preprocess, 9.0ms inference, 1.6ms postprocess per image at shape (1, 3, 320, 640)\n",
            "\n",
            "0: 320x640 1 Child, 1 Therapist, 9.7ms\n",
            "Speed: 2.4ms preprocess, 9.7ms inference, 1.9ms postprocess per image at shape (1, 3, 320, 640)\n",
            "\n",
            "0: 320x640 1 Child, 1 Therapist, 11.9ms\n",
            "Speed: 2.4ms preprocess, 11.9ms inference, 1.7ms postprocess per image at shape (1, 3, 320, 640)\n",
            "\n",
            "0: 320x640 1 Child, 1 Therapist, 11.6ms\n",
            "Speed: 2.5ms preprocess, 11.6ms inference, 1.9ms postprocess per image at shape (1, 3, 320, 640)\n",
            "\n",
            "0: 320x640 1 Child, 1 Therapist, 11.2ms\n",
            "Speed: 2.5ms preprocess, 11.2ms inference, 1.8ms postprocess per image at shape (1, 3, 320, 640)\n",
            "\n",
            "0: 320x640 1 Child, 1 Therapist, 10.4ms\n",
            "Speed: 2.4ms preprocess, 10.4ms inference, 1.5ms postprocess per image at shape (1, 3, 320, 640)\n",
            "\n",
            "0: 320x640 1 Child, 1 Therapist, 12.4ms\n",
            "Speed: 2.5ms preprocess, 12.4ms inference, 2.0ms postprocess per image at shape (1, 3, 320, 640)\n",
            "\n",
            "0: 320x640 1 Child, 1 Therapist, 11.5ms\n",
            "Speed: 2.4ms preprocess, 11.5ms inference, 1.9ms postprocess per image at shape (1, 3, 320, 640)\n",
            "\n",
            "0: 320x640 1 Child, 1 Therapist, 11.5ms\n",
            "Speed: 2.4ms preprocess, 11.5ms inference, 1.4ms postprocess per image at shape (1, 3, 320, 640)\n",
            "\n",
            "0: 320x640 1 Child, 1 Therapist, 13.0ms\n",
            "Speed: 2.2ms preprocess, 13.0ms inference, 1.5ms postprocess per image at shape (1, 3, 320, 640)\n",
            "\n",
            "0: 320x640 1 Child, 1 Therapist, 13.2ms\n",
            "Speed: 2.5ms preprocess, 13.2ms inference, 2.1ms postprocess per image at shape (1, 3, 320, 640)\n",
            "\n",
            "0: 320x640 1 Child, 1 Therapist, 15.6ms\n",
            "Speed: 2.5ms preprocess, 15.6ms inference, 1.8ms postprocess per image at shape (1, 3, 320, 640)\n",
            "\n",
            "0: 320x640 1 Child, 1 Therapist, 11.6ms\n",
            "Speed: 2.4ms preprocess, 11.6ms inference, 2.0ms postprocess per image at shape (1, 3, 320, 640)\n",
            "\n",
            "0: 320x640 1 Child, 1 Therapist, 11.4ms\n",
            "Speed: 2.4ms preprocess, 11.4ms inference, 1.9ms postprocess per image at shape (1, 3, 320, 640)\n",
            "\n",
            "0: 320x640 1 Child, 1 Therapist, 10.6ms\n",
            "Speed: 2.5ms preprocess, 10.6ms inference, 2.4ms postprocess per image at shape (1, 3, 320, 640)\n",
            "\n",
            "0: 320x640 1 Child, 1 Therapist, 12.9ms\n",
            "Speed: 2.6ms preprocess, 12.9ms inference, 2.2ms postprocess per image at shape (1, 3, 320, 640)\n",
            "\n",
            "0: 320x640 1 Child, 1 Therapist, 11.7ms\n",
            "Speed: 2.5ms preprocess, 11.7ms inference, 1.6ms postprocess per image at shape (1, 3, 320, 640)\n",
            "\n",
            "0: 320x640 1 Child, 1 Therapist, 14.9ms\n",
            "Speed: 2.2ms preprocess, 14.9ms inference, 1.9ms postprocess per image at shape (1, 3, 320, 640)\n",
            "\n",
            "0: 320x640 1 Child, 1 Therapist, 11.8ms\n",
            "Speed: 2.4ms preprocess, 11.8ms inference, 2.2ms postprocess per image at shape (1, 3, 320, 640)\n",
            "\n",
            "0: 320x640 1 Child, 1 Therapist, 12.3ms\n",
            "Speed: 2.7ms preprocess, 12.3ms inference, 1.9ms postprocess per image at shape (1, 3, 320, 640)\n",
            "\n",
            "0: 320x640 1 Child, 1 Therapist, 15.9ms\n",
            "Speed: 4.0ms preprocess, 15.9ms inference, 2.3ms postprocess per image at shape (1, 3, 320, 640)\n",
            "\n",
            "0: 320x640 1 Child, 1 Therapist, 12.8ms\n",
            "Speed: 3.3ms preprocess, 12.8ms inference, 1.5ms postprocess per image at shape (1, 3, 320, 640)\n",
            "\n",
            "0: 320x640 1 Child, 1 Therapist, 10.4ms\n",
            "Speed: 2.4ms preprocess, 10.4ms inference, 1.6ms postprocess per image at shape (1, 3, 320, 640)\n",
            "\n",
            "0: 320x640 1 Child, 1 Therapist, 10.0ms\n",
            "Speed: 2.3ms preprocess, 10.0ms inference, 1.9ms postprocess per image at shape (1, 3, 320, 640)\n",
            "\n",
            "0: 320x640 1 Child, 1 Therapist, 8.8ms\n",
            "Speed: 2.5ms preprocess, 8.8ms inference, 1.5ms postprocess per image at shape (1, 3, 320, 640)\n",
            "\n",
            "0: 320x640 1 Child, 1 Therapist, 9.0ms\n",
            "Speed: 2.1ms preprocess, 9.0ms inference, 1.6ms postprocess per image at shape (1, 3, 320, 640)\n",
            "\n",
            "0: 320x640 1 Child, 1 Therapist, 16.4ms\n",
            "Speed: 2.3ms preprocess, 16.4ms inference, 1.8ms postprocess per image at shape (1, 3, 320, 640)\n",
            "\n",
            "0: 320x640 1 Child, 1 Therapist, 11.9ms\n",
            "Speed: 2.4ms preprocess, 11.9ms inference, 1.6ms postprocess per image at shape (1, 3, 320, 640)\n",
            "\n",
            "0: 320x640 1 Child, 1 Therapist, 9.2ms\n",
            "Speed: 2.3ms preprocess, 9.2ms inference, 1.7ms postprocess per image at shape (1, 3, 320, 640)\n",
            "\n",
            "0: 320x640 1 Child, 1 Therapist, 9.4ms\n",
            "Speed: 2.1ms preprocess, 9.4ms inference, 1.5ms postprocess per image at shape (1, 3, 320, 640)\n",
            "\n",
            "0: 320x640 1 Child, 1 Therapist, 10.5ms\n",
            "Speed: 2.2ms preprocess, 10.5ms inference, 1.9ms postprocess per image at shape (1, 3, 320, 640)\n",
            "\n",
            "0: 320x640 1 Child, 1 Therapist, 10.6ms\n",
            "Speed: 3.0ms preprocess, 10.6ms inference, 2.0ms postprocess per image at shape (1, 3, 320, 640)\n",
            "\n",
            "0: 320x640 1 Child, 1 Therapist, 19.6ms\n",
            "Speed: 2.8ms preprocess, 19.6ms inference, 1.5ms postprocess per image at shape (1, 3, 320, 640)\n",
            "\n",
            "0: 320x640 1 Child, 1 Therapist, 13.8ms\n",
            "Speed: 4.5ms preprocess, 13.8ms inference, 2.0ms postprocess per image at shape (1, 3, 320, 640)\n",
            "\n",
            "0: 320x640 1 Child, 1 Therapist, 11.1ms\n",
            "Speed: 2.5ms preprocess, 11.1ms inference, 2.0ms postprocess per image at shape (1, 3, 320, 640)\n",
            "\n",
            "0: 320x640 1 Child, 1 Therapist, 17.7ms\n",
            "Speed: 3.1ms preprocess, 17.7ms inference, 1.6ms postprocess per image at shape (1, 3, 320, 640)\n",
            "\n",
            "0: 320x640 1 Child, 1 Therapist, 8.8ms\n",
            "Speed: 2.3ms preprocess, 8.8ms inference, 2.2ms postprocess per image at shape (1, 3, 320, 640)\n",
            "\n",
            "0: 320x640 1 Child, 1 Therapist, 7.8ms\n",
            "Speed: 2.7ms preprocess, 7.8ms inference, 1.5ms postprocess per image at shape (1, 3, 320, 640)\n",
            "\n",
            "0: 320x640 1 Child, 1 Therapist, 9.9ms\n",
            "Speed: 2.3ms preprocess, 9.9ms inference, 1.4ms postprocess per image at shape (1, 3, 320, 640)\n",
            "\n",
            "0: 320x640 1 Child, 1 Therapist, 9.1ms\n",
            "Speed: 2.9ms preprocess, 9.1ms inference, 1.5ms postprocess per image at shape (1, 3, 320, 640)\n",
            "\n",
            "0: 320x640 1 Child, 1 Therapist, 9.1ms\n",
            "Speed: 2.6ms preprocess, 9.1ms inference, 1.4ms postprocess per image at shape (1, 3, 320, 640)\n",
            "\n",
            "0: 320x640 1 Child, 1 Therapist, 8.5ms\n",
            "Speed: 2.1ms preprocess, 8.5ms inference, 2.2ms postprocess per image at shape (1, 3, 320, 640)\n",
            "\n",
            "0: 320x640 1 Child, 1 Therapist, 9.0ms\n",
            "Speed: 3.0ms preprocess, 9.0ms inference, 1.5ms postprocess per image at shape (1, 3, 320, 640)\n",
            "\n",
            "0: 320x640 1 Child, 1 Therapist, 10.3ms\n",
            "Speed: 2.5ms preprocess, 10.3ms inference, 1.5ms postprocess per image at shape (1, 3, 320, 640)\n",
            "\n",
            "0: 320x640 1 Child, 1 Therapist, 8.5ms\n",
            "Speed: 3.3ms preprocess, 8.5ms inference, 1.6ms postprocess per image at shape (1, 3, 320, 640)\n",
            "\n",
            "0: 320x640 1 Child, 1 Therapist, 8.6ms\n",
            "Speed: 3.7ms preprocess, 8.6ms inference, 1.5ms postprocess per image at shape (1, 3, 320, 640)\n",
            "\n",
            "0: 320x640 1 Child, 1 Therapist, 11.3ms\n",
            "Speed: 3.7ms preprocess, 11.3ms inference, 1.5ms postprocess per image at shape (1, 3, 320, 640)\n",
            "\n",
            "0: 320x640 1 Child, 1 Therapist, 10.6ms\n",
            "Speed: 3.6ms preprocess, 10.6ms inference, 2.0ms postprocess per image at shape (1, 3, 320, 640)\n",
            "\n",
            "0: 320x640 1 Child, 1 Therapist, 10.3ms\n",
            "Speed: 2.5ms preprocess, 10.3ms inference, 1.7ms postprocess per image at shape (1, 3, 320, 640)\n",
            "\n",
            "0: 320x640 1 Child, 1 Therapist, 9.7ms\n",
            "Speed: 3.6ms preprocess, 9.7ms inference, 1.6ms postprocess per image at shape (1, 3, 320, 640)\n",
            "\n",
            "0: 320x640 1 Child, 1 Therapist, 9.3ms\n",
            "Speed: 3.2ms preprocess, 9.3ms inference, 1.5ms postprocess per image at shape (1, 3, 320, 640)\n",
            "\n",
            "0: 320x640 1 Child, 1 Therapist, 12.2ms\n",
            "Speed: 3.2ms preprocess, 12.2ms inference, 1.5ms postprocess per image at shape (1, 3, 320, 640)\n",
            "\n",
            "0: 320x640 1 Child, 1 Therapist, 8.1ms\n",
            "Speed: 2.6ms preprocess, 8.1ms inference, 1.5ms postprocess per image at shape (1, 3, 320, 640)\n",
            "\n",
            "0: 320x640 1 Child, 1 Therapist, 11.3ms\n",
            "Speed: 2.4ms preprocess, 11.3ms inference, 2.5ms postprocess per image at shape (1, 3, 320, 640)\n",
            "\n",
            "0: 320x640 1 Child, 1 Therapist, 9.4ms\n",
            "Speed: 2.4ms preprocess, 9.4ms inference, 1.6ms postprocess per image at shape (1, 3, 320, 640)\n",
            "\n",
            "0: 320x640 1 Child, 1 Therapist, 14.6ms\n",
            "Speed: 3.5ms preprocess, 14.6ms inference, 1.8ms postprocess per image at shape (1, 3, 320, 640)\n",
            "\n",
            "0: 320x640 1 Child, 1 Therapist, 8.9ms\n",
            "Speed: 3.2ms preprocess, 8.9ms inference, 1.5ms postprocess per image at shape (1, 3, 320, 640)\n",
            "\n",
            "0: 320x640 1 Child, 1 Therapist, 9.1ms\n",
            "Speed: 3.3ms preprocess, 9.1ms inference, 1.5ms postprocess per image at shape (1, 3, 320, 640)\n",
            "\n",
            "0: 320x640 1 Child, 1 Therapist, 10.3ms\n",
            "Speed: 2.2ms preprocess, 10.3ms inference, 1.7ms postprocess per image at shape (1, 3, 320, 640)\n",
            "\n",
            "0: 320x640 1 Child, 1 Therapist, 9.3ms\n",
            "Speed: 3.2ms preprocess, 9.3ms inference, 2.0ms postprocess per image at shape (1, 3, 320, 640)\n",
            "\n",
            "0: 320x640 1 Child, 1 Therapist, 10.8ms\n",
            "Speed: 2.3ms preprocess, 10.8ms inference, 1.9ms postprocess per image at shape (1, 3, 320, 640)\n",
            "\n",
            "0: 320x640 1 Child, 1 Therapist, 11.0ms\n",
            "Speed: 3.3ms preprocess, 11.0ms inference, 2.3ms postprocess per image at shape (1, 3, 320, 640)\n",
            "\n",
            "0: 320x640 1 Child, 1 Therapist, 11.5ms\n",
            "Speed: 2.5ms preprocess, 11.5ms inference, 1.8ms postprocess per image at shape (1, 3, 320, 640)\n",
            "\n",
            "0: 320x640 1 Child, 1 Therapist, 12.6ms\n",
            "Speed: 2.4ms preprocess, 12.6ms inference, 2.1ms postprocess per image at shape (1, 3, 320, 640)\n",
            "\n",
            "0: 320x640 1 Child, 1 Therapist, 21.9ms\n",
            "Speed: 4.8ms preprocess, 21.9ms inference, 1.7ms postprocess per image at shape (1, 3, 320, 640)\n",
            "\n",
            "0: 320x640 1 Child, 1 Therapist, 13.0ms\n",
            "Speed: 2.4ms preprocess, 13.0ms inference, 2.4ms postprocess per image at shape (1, 3, 320, 640)\n",
            "\n",
            "0: 320x640 1 Child, 1 Therapist, 15.5ms\n",
            "Speed: 3.5ms preprocess, 15.5ms inference, 2.3ms postprocess per image at shape (1, 3, 320, 640)\n",
            "\n",
            "0: 320x640 1 Child, 1 Therapist, 11.9ms\n",
            "Speed: 2.3ms preprocess, 11.9ms inference, 1.6ms postprocess per image at shape (1, 3, 320, 640)\n",
            "\n",
            "0: 320x640 1 Child, 1 Therapist, 15.8ms\n",
            "Speed: 2.6ms preprocess, 15.8ms inference, 3.7ms postprocess per image at shape (1, 3, 320, 640)\n",
            "\n",
            "0: 320x640 1 Child, 1 Therapist, 11.4ms\n",
            "Speed: 2.2ms preprocess, 11.4ms inference, 1.6ms postprocess per image at shape (1, 3, 320, 640)\n",
            "\n",
            "0: 320x640 1 Child, 1 Therapist, 14.9ms\n",
            "Speed: 2.3ms preprocess, 14.9ms inference, 1.5ms postprocess per image at shape (1, 3, 320, 640)\n",
            "\n",
            "0: 320x640 1 Child, 1 Therapist, 13.1ms\n",
            "Speed: 2.3ms preprocess, 13.1ms inference, 3.4ms postprocess per image at shape (1, 3, 320, 640)\n",
            "\n",
            "0: 320x640 1 Child, 1 Therapist, 14.8ms\n",
            "Speed: 2.2ms preprocess, 14.8ms inference, 1.9ms postprocess per image at shape (1, 3, 320, 640)\n",
            "\n",
            "0: 320x640 1 Child, 1 Therapist, 11.7ms\n",
            "Speed: 2.4ms preprocess, 11.7ms inference, 1.8ms postprocess per image at shape (1, 3, 320, 640)\n",
            "\n",
            "0: 320x640 1 Child, 1 Therapist, 13.0ms\n",
            "Speed: 2.6ms preprocess, 13.0ms inference, 1.7ms postprocess per image at shape (1, 3, 320, 640)\n",
            "\n",
            "0: 320x640 1 Child, 1 Therapist, 10.9ms\n",
            "Speed: 2.5ms preprocess, 10.9ms inference, 1.8ms postprocess per image at shape (1, 3, 320, 640)\n",
            "\n",
            "0: 320x640 1 Child, 1 Therapist, 12.1ms\n",
            "Speed: 2.4ms preprocess, 12.1ms inference, 1.8ms postprocess per image at shape (1, 3, 320, 640)\n",
            "\n",
            "0: 320x640 1 Child, 1 Therapist, 11.0ms\n",
            "Speed: 2.3ms preprocess, 11.0ms inference, 1.6ms postprocess per image at shape (1, 3, 320, 640)\n",
            "\n",
            "0: 320x640 1 Child, 1 Therapist, 14.6ms\n",
            "Speed: 3.2ms preprocess, 14.6ms inference, 2.4ms postprocess per image at shape (1, 3, 320, 640)\n",
            "\n",
            "0: 320x640 1 Child, 1 Therapist, 9.4ms\n",
            "Speed: 2.2ms preprocess, 9.4ms inference, 1.4ms postprocess per image at shape (1, 3, 320, 640)\n",
            "\n",
            "0: 320x640 1 Child, 1 Therapist, 8.7ms\n",
            "Speed: 2.3ms preprocess, 8.7ms inference, 1.4ms postprocess per image at shape (1, 3, 320, 640)\n",
            "\n",
            "0: 320x640 1 Child, 1 Therapist, 9.3ms\n",
            "Speed: 2.3ms preprocess, 9.3ms inference, 1.3ms postprocess per image at shape (1, 3, 320, 640)\n",
            "\n",
            "0: 320x640 1 Child, 1 Therapist, 10.2ms\n",
            "Speed: 2.5ms preprocess, 10.2ms inference, 2.5ms postprocess per image at shape (1, 3, 320, 640)\n",
            "\n",
            "0: 320x640 1 Child, 1 Therapist, 8.7ms\n",
            "Speed: 2.5ms preprocess, 8.7ms inference, 1.4ms postprocess per image at shape (1, 3, 320, 640)\n",
            "\n",
            "0: 320x640 1 Child, 1 Therapist, 10.3ms\n",
            "Speed: 2.3ms preprocess, 10.3ms inference, 1.5ms postprocess per image at shape (1, 3, 320, 640)\n",
            "\n",
            "0: 320x640 1 Child, 1 Therapist, 8.9ms\n",
            "Speed: 2.7ms preprocess, 8.9ms inference, 1.4ms postprocess per image at shape (1, 3, 320, 640)\n",
            "\n",
            "0: 320x640 1 Child, 1 Therapist, 10.5ms\n",
            "Speed: 2.1ms preprocess, 10.5ms inference, 1.5ms postprocess per image at shape (1, 3, 320, 640)\n",
            "\n",
            "0: 320x640 1 Child, 1 Therapist, 10.0ms\n",
            "Speed: 3.5ms preprocess, 10.0ms inference, 1.4ms postprocess per image at shape (1, 3, 320, 640)\n",
            "\n",
            "0: 320x640 1 Child, 1 Therapist, 10.1ms\n",
            "Speed: 2.2ms preprocess, 10.1ms inference, 1.6ms postprocess per image at shape (1, 3, 320, 640)\n",
            "\n",
            "0: 320x640 1 Child, 1 Therapist, 12.7ms\n",
            "Speed: 2.3ms preprocess, 12.7ms inference, 2.2ms postprocess per image at shape (1, 3, 320, 640)\n",
            "\n",
            "0: 320x640 1 Child, 1 Therapist, 11.8ms\n",
            "Speed: 2.5ms preprocess, 11.8ms inference, 2.1ms postprocess per image at shape (1, 3, 320, 640)\n",
            "\n",
            "0: 320x640 1 Child, 1 Therapist, 8.6ms\n",
            "Speed: 2.1ms preprocess, 8.6ms inference, 1.4ms postprocess per image at shape (1, 3, 320, 640)\n",
            "\n",
            "0: 320x640 1 Child, 1 Therapist, 11.3ms\n",
            "Speed: 2.3ms preprocess, 11.3ms inference, 2.1ms postprocess per image at shape (1, 3, 320, 640)\n",
            "\n",
            "0: 320x640 1 Child, 1 Therapist, 12.1ms\n",
            "Speed: 2.4ms preprocess, 12.1ms inference, 1.8ms postprocess per image at shape (1, 3, 320, 640)\n",
            "\n",
            "0: 320x640 1 Child, 1 Therapist, 12.2ms\n",
            "Speed: 2.4ms preprocess, 12.2ms inference, 1.9ms postprocess per image at shape (1, 3, 320, 640)\n",
            "\n",
            "0: 320x640 1 Child, 1 Therapist, 11.5ms\n",
            "Speed: 2.5ms preprocess, 11.5ms inference, 2.1ms postprocess per image at shape (1, 3, 320, 640)\n",
            "\n",
            "0: 320x640 1 Child, 1 Therapist, 12.8ms\n",
            "Speed: 2.5ms preprocess, 12.8ms inference, 1.4ms postprocess per image at shape (1, 3, 320, 640)\n",
            "\n",
            "0: 320x640 1 Child, 1 Therapist, 8.3ms\n",
            "Speed: 5.4ms preprocess, 8.3ms inference, 4.3ms postprocess per image at shape (1, 3, 320, 640)\n",
            "\n",
            "0: 320x640 1 Child, 1 Therapist, 8.5ms\n",
            "Speed: 2.3ms preprocess, 8.5ms inference, 1.6ms postprocess per image at shape (1, 3, 320, 640)\n",
            "\n",
            "0: 320x640 1 Child, 1 Therapist, 9.1ms\n",
            "Speed: 2.2ms preprocess, 9.1ms inference, 1.7ms postprocess per image at shape (1, 3, 320, 640)\n",
            "\n",
            "0: 320x640 1 Child, 1 Therapist, 11.8ms\n",
            "Speed: 2.1ms preprocess, 11.8ms inference, 1.5ms postprocess per image at shape (1, 3, 320, 640)\n",
            "\n",
            "0: 320x640 1 Child, 1 Therapist, 10.4ms\n",
            "Speed: 2.2ms preprocess, 10.4ms inference, 1.5ms postprocess per image at shape (1, 3, 320, 640)\n",
            "\n",
            "0: 320x640 1 Child, 1 Therapist, 9.5ms\n",
            "Speed: 4.0ms preprocess, 9.5ms inference, 1.7ms postprocess per image at shape (1, 3, 320, 640)\n",
            "\n",
            "0: 320x640 1 Child, 1 Therapist, 10.1ms\n",
            "Speed: 2.2ms preprocess, 10.1ms inference, 1.6ms postprocess per image at shape (1, 3, 320, 640)\n",
            "\n",
            "0: 320x640 1 Child, 1 Therapist, 8.8ms\n",
            "Speed: 2.2ms preprocess, 8.8ms inference, 1.6ms postprocess per image at shape (1, 3, 320, 640)\n",
            "\n",
            "0: 320x640 1 Child, 1 Therapist, 12.9ms\n",
            "Speed: 2.8ms preprocess, 12.9ms inference, 1.5ms postprocess per image at shape (1, 3, 320, 640)\n",
            "\n",
            "0: 320x640 1 Child, 1 Therapist, 9.3ms\n",
            "Speed: 3.6ms preprocess, 9.3ms inference, 2.0ms postprocess per image at shape (1, 3, 320, 640)\n",
            "\n",
            "0: 320x640 1 Child, 1 Therapist, 8.8ms\n",
            "Speed: 2.2ms preprocess, 8.8ms inference, 1.5ms postprocess per image at shape (1, 3, 320, 640)\n",
            "\n",
            "0: 320x640 1 Child, 1 Therapist, 9.2ms\n",
            "Speed: 3.6ms preprocess, 9.2ms inference, 1.4ms postprocess per image at shape (1, 3, 320, 640)\n",
            "\n",
            "0: 320x640 1 Child, 1 Therapist, 11.5ms\n",
            "Speed: 2.4ms preprocess, 11.5ms inference, 1.6ms postprocess per image at shape (1, 3, 320, 640)\n",
            "\n",
            "0: 320x640 1 Child, 1 Therapist, 12.3ms\n",
            "Speed: 3.7ms preprocess, 12.3ms inference, 1.5ms postprocess per image at shape (1, 3, 320, 640)\n",
            "\n",
            "0: 320x640 1 Child, 1 Therapist, 8.4ms\n",
            "Speed: 2.3ms preprocess, 8.4ms inference, 1.6ms postprocess per image at shape (1, 3, 320, 640)\n",
            "\n",
            "0: 320x640 1 Child, 1 Therapist, 10.3ms\n",
            "Speed: 2.4ms preprocess, 10.3ms inference, 1.8ms postprocess per image at shape (1, 3, 320, 640)\n",
            "\n",
            "0: 320x640 1 Child, 1 Therapist, 11.3ms\n",
            "Speed: 3.0ms preprocess, 11.3ms inference, 1.5ms postprocess per image at shape (1, 3, 320, 640)\n",
            "\n",
            "0: 320x640 1 Child, 1 Therapist, 8.2ms\n",
            "Speed: 2.2ms preprocess, 8.2ms inference, 1.4ms postprocess per image at shape (1, 3, 320, 640)\n",
            "\n",
            "0: 320x640 1 Child, 1 Therapist, 9.0ms\n",
            "Speed: 2.8ms preprocess, 9.0ms inference, 1.6ms postprocess per image at shape (1, 3, 320, 640)\n",
            "\n",
            "0: 320x640 1 Child, 1 Therapist, 9.3ms\n",
            "Speed: 2.2ms preprocess, 9.3ms inference, 1.6ms postprocess per image at shape (1, 3, 320, 640)\n",
            "\n",
            "0: 320x640 1 Child, 1 Therapist, 9.7ms\n",
            "Speed: 2.3ms preprocess, 9.7ms inference, 1.5ms postprocess per image at shape (1, 3, 320, 640)\n",
            "\n",
            "0: 320x640 1 Child, 1 Therapist, 8.0ms\n",
            "Speed: 2.1ms preprocess, 8.0ms inference, 1.4ms postprocess per image at shape (1, 3, 320, 640)\n",
            "\n",
            "0: 320x640 1 Child, 1 Therapist, 8.7ms\n",
            "Speed: 2.3ms preprocess, 8.7ms inference, 1.4ms postprocess per image at shape (1, 3, 320, 640)\n",
            "\n",
            "0: 320x640 1 Child, 1 Therapist, 12.2ms\n",
            "Speed: 2.4ms preprocess, 12.2ms inference, 1.8ms postprocess per image at shape (1, 3, 320, 640)\n",
            "\n",
            "0: 320x640 1 Child, 1 Therapist, 13.2ms\n",
            "Speed: 3.5ms preprocess, 13.2ms inference, 1.9ms postprocess per image at shape (1, 3, 320, 640)\n",
            "\n",
            "0: 320x640 1 Child, 1 Therapist, 13.4ms\n",
            "Speed: 2.4ms preprocess, 13.4ms inference, 2.0ms postprocess per image at shape (1, 3, 320, 640)\n",
            "\n",
            "0: 320x640 1 Child, 1 Therapist, 11.9ms\n",
            "Speed: 2.4ms preprocess, 11.9ms inference, 2.8ms postprocess per image at shape (1, 3, 320, 640)\n",
            "\n",
            "0: 320x640 1 Child, 1 Therapist, 13.7ms\n",
            "Speed: 2.4ms preprocess, 13.7ms inference, 1.5ms postprocess per image at shape (1, 3, 320, 640)\n",
            "\n",
            "0: 320x640 1 Child, 1 Therapist, 12.4ms\n",
            "Speed: 2.2ms preprocess, 12.4ms inference, 2.8ms postprocess per image at shape (1, 3, 320, 640)\n",
            "\n",
            "0: 320x640 1 Child, 1 Therapist, 11.2ms\n",
            "Speed: 2.5ms preprocess, 11.2ms inference, 1.5ms postprocess per image at shape (1, 3, 320, 640)\n",
            "\n",
            "0: 320x640 1 Child, 1 Therapist, 11.6ms\n",
            "Speed: 2.3ms preprocess, 11.6ms inference, 1.9ms postprocess per image at shape (1, 3, 320, 640)\n",
            "\n",
            "0: 320x640 1 Child, 1 Therapist, 11.8ms\n",
            "Speed: 2.4ms preprocess, 11.8ms inference, 2.1ms postprocess per image at shape (1, 3, 320, 640)\n",
            "\n",
            "0: 320x640 1 Child, 1 Therapist, 10.4ms\n",
            "Speed: 2.4ms preprocess, 10.4ms inference, 1.9ms postprocess per image at shape (1, 3, 320, 640)\n",
            "\n",
            "0: 320x640 1 Child, 1 Therapist, 11.2ms\n",
            "Speed: 2.4ms preprocess, 11.2ms inference, 1.8ms postprocess per image at shape (1, 3, 320, 640)\n",
            "\n",
            "0: 320x640 1 Child, 1 Therapist, 10.9ms\n",
            "Speed: 2.4ms preprocess, 10.9ms inference, 1.9ms postprocess per image at shape (1, 3, 320, 640)\n",
            "\n",
            "0: 320x640 1 Child, 1 Therapist, 11.3ms\n",
            "Speed: 2.6ms preprocess, 11.3ms inference, 1.8ms postprocess per image at shape (1, 3, 320, 640)\n",
            "\n",
            "0: 320x640 1 Child, 1 Therapist, 11.9ms\n",
            "Speed: 2.4ms preprocess, 11.9ms inference, 1.6ms postprocess per image at shape (1, 3, 320, 640)\n",
            "\n",
            "0: 320x640 1 Child, 1 Therapist, 16.5ms\n",
            "Speed: 3.9ms preprocess, 16.5ms inference, 2.1ms postprocess per image at shape (1, 3, 320, 640)\n",
            "\n",
            "0: 320x640 1 Child, 1 Therapist, 10.9ms\n",
            "Speed: 2.3ms preprocess, 10.9ms inference, 1.8ms postprocess per image at shape (1, 3, 320, 640)\n",
            "\n",
            "0: 320x640 1 Child, 1 Therapist, 7.9ms\n",
            "Speed: 2.2ms preprocess, 7.9ms inference, 1.4ms postprocess per image at shape (1, 3, 320, 640)\n",
            "\n",
            "0: 320x640 1 Child, 1 Therapist, 8.8ms\n",
            "Speed: 2.2ms preprocess, 8.8ms inference, 1.4ms postprocess per image at shape (1, 3, 320, 640)\n",
            "\n",
            "0: 320x640 1 Child, 1 Therapist, 8.7ms\n",
            "Speed: 2.2ms preprocess, 8.7ms inference, 1.5ms postprocess per image at shape (1, 3, 320, 640)\n",
            "\n",
            "0: 320x640 1 Child, 1 Therapist, 9.0ms\n",
            "Speed: 2.3ms preprocess, 9.0ms inference, 1.4ms postprocess per image at shape (1, 3, 320, 640)\n",
            "\n",
            "0: 320x640 1 Child, 1 Therapist, 9.5ms\n",
            "Speed: 2.3ms preprocess, 9.5ms inference, 1.5ms postprocess per image at shape (1, 3, 320, 640)\n",
            "\n",
            "0: 320x640 1 Child, 1 Therapist, 8.1ms\n",
            "Speed: 3.2ms preprocess, 8.1ms inference, 1.4ms postprocess per image at shape (1, 3, 320, 640)\n",
            "\n",
            "0: 320x640 1 Child, 1 Therapist, 9.0ms\n",
            "Speed: 2.4ms preprocess, 9.0ms inference, 1.5ms postprocess per image at shape (1, 3, 320, 640)\n",
            "\n",
            "0: 320x640 1 Child, 1 Therapist, 11.4ms\n",
            "Speed: 2.4ms preprocess, 11.4ms inference, 1.6ms postprocess per image at shape (1, 3, 320, 640)\n",
            "\n",
            "0: 320x640 1 Child, 1 Therapist, 9.2ms\n",
            "Speed: 3.2ms preprocess, 9.2ms inference, 1.5ms postprocess per image at shape (1, 3, 320, 640)\n",
            "\n",
            "0: 320x640 1 Child, 1 Therapist, 11.3ms\n",
            "Speed: 2.3ms preprocess, 11.3ms inference, 1.6ms postprocess per image at shape (1, 3, 320, 640)\n",
            "\n",
            "0: 320x640 1 Child, 1 Therapist, 15.1ms\n",
            "Speed: 3.5ms preprocess, 15.1ms inference, 2.1ms postprocess per image at shape (1, 3, 320, 640)\n",
            "\n",
            "0: 320x640 1 Child, 1 Therapist, 9.3ms\n",
            "Speed: 3.3ms preprocess, 9.3ms inference, 1.6ms postprocess per image at shape (1, 3, 320, 640)\n",
            "\n",
            "0: 320x640 1 Child, 1 Therapist, 13.0ms\n",
            "Speed: 2.2ms preprocess, 13.0ms inference, 1.6ms postprocess per image at shape (1, 3, 320, 640)\n",
            "\n",
            "0: 320x640 1 Child, 1 Therapist, 9.1ms\n",
            "Speed: 3.5ms preprocess, 9.1ms inference, 1.7ms postprocess per image at shape (1, 3, 320, 640)\n",
            "\n",
            "0: 320x640 1 Child, 1 Therapist, 10.6ms\n",
            "Speed: 4.1ms preprocess, 10.6ms inference, 1.6ms postprocess per image at shape (1, 3, 320, 640)\n",
            "\n",
            "0: 320x640 1 Child, 1 Therapist, 10.5ms\n",
            "Speed: 3.2ms preprocess, 10.5ms inference, 4.7ms postprocess per image at shape (1, 3, 320, 640)\n",
            "\n",
            "0: 320x640 1 Child, 1 Therapist, 14.5ms\n",
            "Speed: 7.2ms preprocess, 14.5ms inference, 6.9ms postprocess per image at shape (1, 3, 320, 640)\n",
            "\n",
            "0: 320x640 1 Child, 1 Therapist, 29.5ms\n",
            "Speed: 3.8ms preprocess, 29.5ms inference, 3.0ms postprocess per image at shape (1, 3, 320, 640)\n",
            "\n",
            "0: 320x640 1 Child, 1 Therapist, 18.0ms\n",
            "Speed: 5.4ms preprocess, 18.0ms inference, 1.8ms postprocess per image at shape (1, 3, 320, 640)\n",
            "\n",
            "0: 320x640 1 Child, 1 Therapist, 18.8ms\n",
            "Speed: 2.3ms preprocess, 18.8ms inference, 1.9ms postprocess per image at shape (1, 3, 320, 640)\n",
            "\n",
            "0: 320x640 1 Child, 1 Therapist, 18.3ms\n",
            "Speed: 6.4ms preprocess, 18.3ms inference, 1.5ms postprocess per image at shape (1, 3, 320, 640)\n",
            "\n",
            "0: 320x640 1 Child, 1 Therapist, 15.3ms\n",
            "Speed: 2.2ms preprocess, 15.3ms inference, 1.9ms postprocess per image at shape (1, 3, 320, 640)\n",
            "\n",
            "0: 320x640 1 Child, 1 Therapist, 9.2ms\n",
            "Speed: 3.4ms preprocess, 9.2ms inference, 1.6ms postprocess per image at shape (1, 3, 320, 640)\n",
            "\n",
            "0: 320x640 1 Child, 1 Therapist, 8.8ms\n",
            "Speed: 2.4ms preprocess, 8.8ms inference, 1.6ms postprocess per image at shape (1, 3, 320, 640)\n",
            "\n",
            "0: 320x640 1 Child, 1 Therapist, 9.2ms\n",
            "Speed: 2.3ms preprocess, 9.2ms inference, 1.8ms postprocess per image at shape (1, 3, 320, 640)\n",
            "\n",
            "0: 320x640 1 Child, 1 Therapist, 11.3ms\n",
            "Speed: 3.0ms preprocess, 11.3ms inference, 1.9ms postprocess per image at shape (1, 3, 320, 640)\n",
            "\n",
            "0: 320x640 1 Child, 1 Therapist, 14.5ms\n",
            "Speed: 2.3ms preprocess, 14.5ms inference, 1.7ms postprocess per image at shape (1, 3, 320, 640)\n",
            "\n",
            "0: 320x640 1 Child, 1 Therapist, 12.2ms\n",
            "Speed: 2.2ms preprocess, 12.2ms inference, 2.7ms postprocess per image at shape (1, 3, 320, 640)\n",
            "\n",
            "0: 320x640 1 Child, 1 Therapist, 9.0ms\n",
            "Speed: 2.4ms preprocess, 9.0ms inference, 1.7ms postprocess per image at shape (1, 3, 320, 640)\n",
            "\n",
            "0: 320x640 1 Child, 1 Therapist, 9.7ms\n",
            "Speed: 2.4ms preprocess, 9.7ms inference, 1.5ms postprocess per image at shape (1, 3, 320, 640)\n",
            "\n",
            "0: 320x640 1 Child, 1 Therapist, 10.1ms\n",
            "Speed: 2.4ms preprocess, 10.1ms inference, 1.6ms postprocess per image at shape (1, 3, 320, 640)\n",
            "\n",
            "0: 320x640 1 Child, 1 Therapist, 10.3ms\n",
            "Speed: 2.3ms preprocess, 10.3ms inference, 1.5ms postprocess per image at shape (1, 3, 320, 640)\n",
            "\n",
            "0: 320x640 1 Child, 1 Therapist, 8.6ms\n",
            "Speed: 2.9ms preprocess, 8.6ms inference, 2.8ms postprocess per image at shape (1, 3, 320, 640)\n",
            "\n",
            "0: 320x640 1 Child, 1 Therapist, 8.7ms\n",
            "Speed: 3.1ms preprocess, 8.7ms inference, 1.5ms postprocess per image at shape (1, 3, 320, 640)\n",
            "\n",
            "0: 320x640 1 Child, 1 Therapist, 9.9ms\n",
            "Speed: 2.1ms preprocess, 9.9ms inference, 1.4ms postprocess per image at shape (1, 3, 320, 640)\n",
            "\n",
            "0: 320x640 1 Child, 1 Therapist, 9.5ms\n",
            "Speed: 2.2ms preprocess, 9.5ms inference, 1.4ms postprocess per image at shape (1, 3, 320, 640)\n",
            "\n",
            "0: 320x640 1 Child, 1 Therapist, 9.2ms\n",
            "Speed: 2.3ms preprocess, 9.2ms inference, 1.5ms postprocess per image at shape (1, 3, 320, 640)\n",
            "\n",
            "0: 320x640 1 Child, 1 Therapist, 8.5ms\n",
            "Speed: 3.0ms preprocess, 8.5ms inference, 1.5ms postprocess per image at shape (1, 3, 320, 640)\n",
            "\n",
            "0: 320x640 1 Child, 1 Therapist, 8.9ms\n",
            "Speed: 2.3ms preprocess, 8.9ms inference, 1.7ms postprocess per image at shape (1, 3, 320, 640)\n",
            "\n",
            "0: 320x640 1 Child, 1 Therapist, 11.2ms\n",
            "Speed: 2.2ms preprocess, 11.2ms inference, 2.7ms postprocess per image at shape (1, 3, 320, 640)\n",
            "\n",
            "0: 320x640 1 Child, 1 Therapist, 14.6ms\n",
            "Speed: 2.5ms preprocess, 14.6ms inference, 1.8ms postprocess per image at shape (1, 3, 320, 640)\n",
            "\n",
            "0: 320x640 1 Child, 1 Therapist, 12.9ms\n",
            "Speed: 2.4ms preprocess, 12.9ms inference, 1.5ms postprocess per image at shape (1, 3, 320, 640)\n",
            "\n",
            "0: 320x640 1 Child, 1 Therapist, 14.4ms\n",
            "Speed: 2.4ms preprocess, 14.4ms inference, 5.0ms postprocess per image at shape (1, 3, 320, 640)\n",
            "\n",
            "0: 320x640 1 Child, 1 Therapist, 17.2ms\n",
            "Speed: 2.3ms preprocess, 17.2ms inference, 1.6ms postprocess per image at shape (1, 3, 320, 640)\n",
            "\n",
            "0: 320x640 1 Child, 1 Therapist, 13.7ms\n",
            "Speed: 2.2ms preprocess, 13.7ms inference, 3.6ms postprocess per image at shape (1, 3, 320, 640)\n",
            "\n",
            "0: 320x640 1 Child, 1 Therapist, 18.3ms\n",
            "Speed: 2.6ms preprocess, 18.3ms inference, 1.6ms postprocess per image at shape (1, 3, 320, 640)\n",
            "\n",
            "0: 320x640 1 Child, 1 Therapist, 16.8ms\n",
            "Speed: 2.3ms preprocess, 16.8ms inference, 1.7ms postprocess per image at shape (1, 3, 320, 640)\n",
            "\n",
            "0: 320x640 1 Child, 1 Therapist, 17.3ms\n",
            "Speed: 2.2ms preprocess, 17.3ms inference, 1.5ms postprocess per image at shape (1, 3, 320, 640)\n",
            "\n",
            "0: 320x640 1 Child, 1 Therapist, 15.2ms\n",
            "Speed: 2.2ms preprocess, 15.2ms inference, 3.7ms postprocess per image at shape (1, 3, 320, 640)\n",
            "\n",
            "0: 320x640 1 Child, 1 Therapist, 19.2ms\n",
            "Speed: 2.2ms preprocess, 19.2ms inference, 1.5ms postprocess per image at shape (1, 3, 320, 640)\n",
            "\n",
            "0: 320x640 1 Child, 1 Therapist, 13.5ms\n",
            "Speed: 3.6ms preprocess, 13.5ms inference, 6.7ms postprocess per image at shape (1, 3, 320, 640)\n",
            "\n",
            "0: 320x640 1 Child, 1 Therapist, 14.0ms\n",
            "Speed: 2.2ms preprocess, 14.0ms inference, 1.6ms postprocess per image at shape (1, 3, 320, 640)\n",
            "\n",
            "0: 320x640 1 Child, 1 Therapist, 15.8ms\n",
            "Speed: 2.3ms preprocess, 15.8ms inference, 3.7ms postprocess per image at shape (1, 3, 320, 640)\n",
            "\n",
            "0: 320x640 1 Child, 1 Therapist, 15.9ms\n",
            "Speed: 2.3ms preprocess, 15.9ms inference, 1.7ms postprocess per image at shape (1, 3, 320, 640)\n",
            "\n",
            "0: 320x640 1 Child, 1 Therapist, 19.4ms\n",
            "Speed: 2.4ms preprocess, 19.4ms inference, 1.6ms postprocess per image at shape (1, 3, 320, 640)\n",
            "\n",
            "0: 320x640 1 Child, 1 Therapist, 13.9ms\n",
            "Speed: 2.1ms preprocess, 13.9ms inference, 1.5ms postprocess per image at shape (1, 3, 320, 640)\n",
            "\n",
            "0: 320x640 1 Child, 1 Therapist, 11.2ms\n",
            "Speed: 2.3ms preprocess, 11.2ms inference, 1.5ms postprocess per image at shape (1, 3, 320, 640)\n",
            "\n",
            "0: 320x640 1 Child, 1 Therapist, 11.2ms\n",
            "Speed: 2.3ms preprocess, 11.2ms inference, 1.4ms postprocess per image at shape (1, 3, 320, 640)\n",
            "\n",
            "0: 320x640 1 Child, 1 Therapist, 13.3ms\n",
            "Speed: 2.4ms preprocess, 13.3ms inference, 1.6ms postprocess per image at shape (1, 3, 320, 640)\n",
            "\n",
            "0: 320x640 1 Child, 1 Therapist, 9.6ms\n",
            "Speed: 2.3ms preprocess, 9.6ms inference, 1.5ms postprocess per image at shape (1, 3, 320, 640)\n",
            "\n",
            "0: 320x640 1 Child, 1 Therapist, 12.4ms\n",
            "Speed: 2.3ms preprocess, 12.4ms inference, 1.6ms postprocess per image at shape (1, 3, 320, 640)\n",
            "\n",
            "0: 320x640 1 Child, 1 Therapist, 9.0ms\n",
            "Speed: 2.2ms preprocess, 9.0ms inference, 1.5ms postprocess per image at shape (1, 3, 320, 640)\n",
            "\n",
            "0: 320x640 1 Child, 1 Therapist, 7.7ms\n",
            "Speed: 2.1ms preprocess, 7.7ms inference, 1.4ms postprocess per image at shape (1, 3, 320, 640)\n",
            "\n",
            "0: 320x640 1 Child, 1 Therapist, 8.4ms\n",
            "Speed: 2.2ms preprocess, 8.4ms inference, 1.4ms postprocess per image at shape (1, 3, 320, 640)\n",
            "\n",
            "0: 320x640 1 Child, 1 Therapist, 8.3ms\n",
            "Speed: 2.2ms preprocess, 8.3ms inference, 1.4ms postprocess per image at shape (1, 3, 320, 640)\n",
            "\n",
            "0: 320x640 1 Child, 1 Therapist, 10.4ms\n",
            "Speed: 2.2ms preprocess, 10.4ms inference, 1.4ms postprocess per image at shape (1, 3, 320, 640)\n",
            "\n",
            "0: 320x640 1 Child, 1 Therapist, 8.4ms\n",
            "Speed: 2.4ms preprocess, 8.4ms inference, 1.4ms postprocess per image at shape (1, 3, 320, 640)\n",
            "\n",
            "0: 320x640 1 Child, 1 Therapist, 8.9ms\n",
            "Speed: 2.3ms preprocess, 8.9ms inference, 1.4ms postprocess per image at shape (1, 3, 320, 640)\n",
            "\n",
            "0: 320x640 1 Child, 1 Therapist, 8.5ms\n",
            "Speed: 2.3ms preprocess, 8.5ms inference, 1.6ms postprocess per image at shape (1, 3, 320, 640)\n",
            "\n",
            "0: 320x640 1 Child, 1 Therapist, 8.8ms\n",
            "Speed: 2.4ms preprocess, 8.8ms inference, 1.4ms postprocess per image at shape (1, 3, 320, 640)\n",
            "\n",
            "0: 320x640 1 Child, 1 Therapist, 8.8ms\n",
            "Speed: 2.3ms preprocess, 8.8ms inference, 1.5ms postprocess per image at shape (1, 3, 320, 640)\n",
            "\n",
            "0: 320x640 1 Child, 1 Therapist, 10.3ms\n",
            "Speed: 2.2ms preprocess, 10.3ms inference, 1.6ms postprocess per image at shape (1, 3, 320, 640)\n",
            "\n",
            "0: 320x640 1 Child, 1 Therapist, 13.8ms\n",
            "Speed: 2.2ms preprocess, 13.8ms inference, 1.5ms postprocess per image at shape (1, 3, 320, 640)\n",
            "\n",
            "0: 320x640 1 Child, 1 Therapist, 10.9ms\n",
            "Speed: 2.4ms preprocess, 10.9ms inference, 1.6ms postprocess per image at shape (1, 3, 320, 640)\n",
            "\n",
            "0: 320x640 1 Child, 1 Therapist, 13.2ms\n",
            "Speed: 2.2ms preprocess, 13.2ms inference, 3.7ms postprocess per image at shape (1, 3, 320, 640)\n",
            "\n",
            "0: 320x640 1 Child, 1 Therapist, 15.6ms\n",
            "Speed: 4.4ms preprocess, 15.6ms inference, 1.7ms postprocess per image at shape (1, 3, 320, 640)\n",
            "\n",
            "0: 320x640 1 Child, 1 Therapist, 9.7ms\n",
            "Speed: 4.2ms preprocess, 9.7ms inference, 1.4ms postprocess per image at shape (1, 3, 320, 640)\n",
            "\n",
            "0: 320x640 1 Child, 1 Therapist, 10.3ms\n",
            "Speed: 3.4ms preprocess, 10.3ms inference, 1.6ms postprocess per image at shape (1, 3, 320, 640)\n",
            "\n",
            "0: 320x640 1 Child, 1 Therapist, 14.1ms\n",
            "Speed: 2.3ms preprocess, 14.1ms inference, 1.8ms postprocess per image at shape (1, 3, 320, 640)\n",
            "\n",
            "0: 320x640 1 Child, 1 Therapist, 14.1ms\n",
            "Speed: 2.4ms preprocess, 14.1ms inference, 3.6ms postprocess per image at shape (1, 3, 320, 640)\n",
            "\n",
            "0: 320x640 1 Child, 1 Therapist, 12.6ms\n",
            "Speed: 2.5ms preprocess, 12.6ms inference, 1.8ms postprocess per image at shape (1, 3, 320, 640)\n",
            "\n",
            "0: 320x640 1 Child, 1 Therapist, 11.0ms\n",
            "Speed: 2.2ms preprocess, 11.0ms inference, 1.4ms postprocess per image at shape (1, 3, 320, 640)\n",
            "\n",
            "0: 320x640 1 Child, 1 Therapist, 9.5ms\n",
            "Speed: 2.2ms preprocess, 9.5ms inference, 5.4ms postprocess per image at shape (1, 3, 320, 640)\n",
            "\n",
            "0: 320x640 1 Child, 1 Therapist, 10.8ms\n",
            "Speed: 2.3ms preprocess, 10.8ms inference, 3.1ms postprocess per image at shape (1, 3, 320, 640)\n",
            "\n",
            "0: 320x640 1 Child, 1 Therapist, 8.4ms\n",
            "Speed: 2.3ms preprocess, 8.4ms inference, 1.5ms postprocess per image at shape (1, 3, 320, 640)\n",
            "\n",
            "0: 320x640 1 Child, 1 Therapist, 8.8ms\n",
            "Speed: 2.3ms preprocess, 8.8ms inference, 1.9ms postprocess per image at shape (1, 3, 320, 640)\n",
            "\n",
            "0: 320x640 1 Child, 1 Therapist, 15.9ms\n",
            "Speed: 2.3ms preprocess, 15.9ms inference, 1.5ms postprocess per image at shape (1, 3, 320, 640)\n",
            "\n",
            "0: 320x640 1 Child, 1 Therapist, 14.8ms\n",
            "Speed: 2.8ms preprocess, 14.8ms inference, 1.5ms postprocess per image at shape (1, 3, 320, 640)\n",
            "\n",
            "0: 320x640 1 Child, 1 Therapist, 11.6ms\n",
            "Speed: 2.2ms preprocess, 11.6ms inference, 4.8ms postprocess per image at shape (1, 3, 320, 640)\n",
            "\n",
            "0: 320x640 1 Child, 1 Therapist, 12.8ms\n",
            "Speed: 2.5ms preprocess, 12.8ms inference, 1.5ms postprocess per image at shape (1, 3, 320, 640)\n",
            "\n",
            "0: 320x640 1 Child, 1 Therapist, 10.9ms\n",
            "Speed: 2.2ms preprocess, 10.9ms inference, 5.7ms postprocess per image at shape (1, 3, 320, 640)\n",
            "\n",
            "0: 320x640 1 Child, 1 Therapist, 15.0ms\n",
            "Speed: 2.5ms preprocess, 15.0ms inference, 1.7ms postprocess per image at shape (1, 3, 320, 640)\n",
            "\n",
            "0: 320x640 1 Child, 1 Therapist, 12.6ms\n",
            "Speed: 2.3ms preprocess, 12.6ms inference, 2.8ms postprocess per image at shape (1, 3, 320, 640)\n",
            "\n",
            "0: 320x640 1 Child, 1 Therapist, 9.0ms\n",
            "Speed: 2.4ms preprocess, 9.0ms inference, 1.7ms postprocess per image at shape (1, 3, 320, 640)\n",
            "\n",
            "0: 320x640 1 Child, 1 Therapist, 12.4ms\n",
            "Speed: 3.0ms preprocess, 12.4ms inference, 1.6ms postprocess per image at shape (1, 3, 320, 640)\n",
            "\n",
            "0: 320x640 1 Child, 1 Therapist, 12.0ms\n",
            "Speed: 2.4ms preprocess, 12.0ms inference, 2.3ms postprocess per image at shape (1, 3, 320, 640)\n",
            "\n",
            "0: 320x640 1 Child, 1 Therapist, 8.1ms\n",
            "Speed: 4.9ms preprocess, 8.1ms inference, 1.6ms postprocess per image at shape (1, 3, 320, 640)\n",
            "\n",
            "0: 320x640 1 Child, 1 Therapist, 11.5ms\n",
            "Speed: 2.2ms preprocess, 11.5ms inference, 1.6ms postprocess per image at shape (1, 3, 320, 640)\n",
            "\n",
            "0: 320x640 1 Child, 1 Therapist, 12.7ms\n",
            "Speed: 5.9ms preprocess, 12.7ms inference, 1.9ms postprocess per image at shape (1, 3, 320, 640)\n",
            "\n",
            "0: 320x640 1 Child, 1 Therapist, 12.7ms\n",
            "Speed: 2.6ms preprocess, 12.7ms inference, 1.6ms postprocess per image at shape (1, 3, 320, 640)\n",
            "\n",
            "0: 320x640 1 Child, 1 Therapist, 14.5ms\n",
            "Speed: 4.3ms preprocess, 14.5ms inference, 2.7ms postprocess per image at shape (1, 3, 320, 640)\n",
            "\n",
            "0: 320x640 1 Child, 1 Therapist, 13.9ms\n",
            "Speed: 2.3ms preprocess, 13.9ms inference, 2.3ms postprocess per image at shape (1, 3, 320, 640)\n",
            "\n",
            "0: 320x640 1 Child, 1 Therapist, 15.0ms\n",
            "Speed: 2.8ms preprocess, 15.0ms inference, 1.7ms postprocess per image at shape (1, 3, 320, 640)\n",
            "\n",
            "0: 320x640 1 Child, 1 Therapist, 9.5ms\n",
            "Speed: 2.2ms preprocess, 9.5ms inference, 1.4ms postprocess per image at shape (1, 3, 320, 640)\n",
            "\n",
            "0: 320x640 1 Child, 1 Therapist, 11.0ms\n",
            "Speed: 2.6ms preprocess, 11.0ms inference, 1.8ms postprocess per image at shape (1, 3, 320, 640)\n",
            "\n",
            "0: 320x640 1 Child, 1 Therapist, 11.4ms\n",
            "Speed: 2.2ms preprocess, 11.4ms inference, 1.7ms postprocess per image at shape (1, 3, 320, 640)\n",
            "\n",
            "0: 320x640 1 Child, 1 Therapist, 11.3ms\n",
            "Speed: 2.3ms preprocess, 11.3ms inference, 1.7ms postprocess per image at shape (1, 3, 320, 640)\n",
            "\n",
            "0: 320x640 1 Child, 1 Therapist, 12.1ms\n",
            "Speed: 3.9ms preprocess, 12.1ms inference, 2.0ms postprocess per image at shape (1, 3, 320, 640)\n",
            "\n",
            "0: 320x640 1 Child, 1 Therapist, 11.5ms\n",
            "Speed: 4.1ms preprocess, 11.5ms inference, 1.7ms postprocess per image at shape (1, 3, 320, 640)\n",
            "\n",
            "0: 320x640 1 Child, 1 Therapist, 11.5ms\n",
            "Speed: 2.2ms preprocess, 11.5ms inference, 1.7ms postprocess per image at shape (1, 3, 320, 640)\n",
            "\n",
            "0: 320x640 1 Child, 1 Therapist, 8.9ms\n",
            "Speed: 2.3ms preprocess, 8.9ms inference, 1.5ms postprocess per image at shape (1, 3, 320, 640)\n",
            "\n",
            "0: 320x640 1 Child, 1 Therapist, 7.8ms\n",
            "Speed: 2.3ms preprocess, 7.8ms inference, 1.8ms postprocess per image at shape (1, 3, 320, 640)\n",
            "\n",
            "0: 320x640 1 Child, 1 Therapist, 8.5ms\n",
            "Speed: 2.1ms preprocess, 8.5ms inference, 1.4ms postprocess per image at shape (1, 3, 320, 640)\n",
            "\n",
            "0: 320x640 1 Child, 1 Therapist, 11.8ms\n",
            "Speed: 2.2ms preprocess, 11.8ms inference, 1.5ms postprocess per image at shape (1, 3, 320, 640)\n",
            "\n",
            "0: 320x640 1 Child, 1 Therapist, 9.6ms\n",
            "Speed: 2.4ms preprocess, 9.6ms inference, 1.5ms postprocess per image at shape (1, 3, 320, 640)\n",
            "\n",
            "0: 320x640 1 Child, 1 Therapist, 14.2ms\n",
            "Speed: 2.5ms preprocess, 14.2ms inference, 1.4ms postprocess per image at shape (1, 3, 320, 640)\n",
            "\n",
            "0: 320x640 1 Child, 1 Therapist, 14.5ms\n",
            "Speed: 3.7ms preprocess, 14.5ms inference, 1.8ms postprocess per image at shape (1, 3, 320, 640)\n",
            "\n",
            "0: 320x640 1 Child, 1 Therapist, 13.3ms\n",
            "Speed: 2.3ms preprocess, 13.3ms inference, 1.7ms postprocess per image at shape (1, 3, 320, 640)\n",
            "\n",
            "0: 320x640 1 Child, 1 Therapist, 15.2ms\n",
            "Speed: 2.3ms preprocess, 15.2ms inference, 1.9ms postprocess per image at shape (1, 3, 320, 640)\n",
            "\n",
            "0: 320x640 1 Child, 1 Therapist, 17.9ms\n",
            "Speed: 2.4ms preprocess, 17.9ms inference, 1.6ms postprocess per image at shape (1, 3, 320, 640)\n",
            "\n",
            "0: 320x640 1 Child, 1 Therapist, 13.8ms\n",
            "Speed: 2.4ms preprocess, 13.8ms inference, 2.1ms postprocess per image at shape (1, 3, 320, 640)\n",
            "\n",
            "0: 320x640 1 Child, 1 Therapist, 9.4ms\n",
            "Speed: 3.4ms preprocess, 9.4ms inference, 1.5ms postprocess per image at shape (1, 3, 320, 640)\n",
            "\n",
            "0: 320x640 1 Child, 1 Therapist, 9.7ms\n",
            "Speed: 2.3ms preprocess, 9.7ms inference, 1.4ms postprocess per image at shape (1, 3, 320, 640)\n",
            "\n",
            "0: 320x640 1 Child, 1 Therapist, 13.2ms\n",
            "Speed: 2.3ms preprocess, 13.2ms inference, 2.1ms postprocess per image at shape (1, 3, 320, 640)\n",
            "\n",
            "0: 320x640 1 Child, 1 Therapist, 12.2ms\n",
            "Speed: 2.3ms preprocess, 12.2ms inference, 1.5ms postprocess per image at shape (1, 3, 320, 640)\n",
            "\n",
            "0: 320x640 1 Child, 1 Therapist, 9.5ms\n",
            "Speed: 2.4ms preprocess, 9.5ms inference, 1.6ms postprocess per image at shape (1, 3, 320, 640)\n",
            "\n",
            "0: 320x640 1 Child, 1 Therapist, 10.2ms\n",
            "Speed: 2.5ms preprocess, 10.2ms inference, 1.5ms postprocess per image at shape (1, 3, 320, 640)\n",
            "\n",
            "0: 320x640 1 Child, 1 Therapist, 14.4ms\n",
            "Speed: 3.1ms preprocess, 14.4ms inference, 1.5ms postprocess per image at shape (1, 3, 320, 640)\n",
            "\n",
            "0: 320x640 1 Child, 1 Therapist, 16.0ms\n",
            "Speed: 2.3ms preprocess, 16.0ms inference, 1.7ms postprocess per image at shape (1, 3, 320, 640)\n",
            "\n",
            "0: 320x640 1 Child, 1 Therapist, 16.6ms\n",
            "Speed: 7.1ms preprocess, 16.6ms inference, 1.6ms postprocess per image at shape (1, 3, 320, 640)\n",
            "\n",
            "0: 320x640 1 Child, 1 Therapist, 18.4ms\n",
            "Speed: 3.4ms preprocess, 18.4ms inference, 2.5ms postprocess per image at shape (1, 3, 320, 640)\n",
            "\n",
            "0: 320x640 1 Child, 1 Therapist, 12.7ms\n",
            "Speed: 2.3ms preprocess, 12.7ms inference, 3.2ms postprocess per image at shape (1, 3, 320, 640)\n",
            "\n",
            "0: 320x640 1 Child, 1 Therapist, 11.9ms\n",
            "Speed: 2.2ms preprocess, 11.9ms inference, 1.4ms postprocess per image at shape (1, 3, 320, 640)\n",
            "\n",
            "0: 320x640 1 Child, 1 Therapist, 9.1ms\n",
            "Speed: 2.1ms preprocess, 9.1ms inference, 1.6ms postprocess per image at shape (1, 3, 320, 640)\n",
            "\n",
            "0: 320x640 1 Child, 1 Therapist, 14.9ms\n",
            "Speed: 2.2ms preprocess, 14.9ms inference, 2.7ms postprocess per image at shape (1, 3, 320, 640)\n",
            "\n",
            "0: 320x640 1 Child, 1 Therapist, 11.3ms\n",
            "Speed: 2.5ms preprocess, 11.3ms inference, 1.8ms postprocess per image at shape (1, 3, 320, 640)\n",
            "\n",
            "0: 320x640 1 Child, 1 Therapist, 11.8ms\n",
            "Speed: 2.8ms preprocess, 11.8ms inference, 1.8ms postprocess per image at shape (1, 3, 320, 640)\n",
            "\n",
            "0: 320x640 1 Child, 1 Therapist, 16.0ms\n",
            "Speed: 2.2ms preprocess, 16.0ms inference, 1.9ms postprocess per image at shape (1, 3, 320, 640)\n",
            "\n",
            "0: 320x640 1 Child, 1 Therapist, 8.8ms\n",
            "Speed: 2.4ms preprocess, 8.8ms inference, 6.7ms postprocess per image at shape (1, 3, 320, 640)\n",
            "\n",
            "0: 320x640 1 Child, 1 Therapist, 11.7ms\n",
            "Speed: 2.3ms preprocess, 11.7ms inference, 1.6ms postprocess per image at shape (1, 3, 320, 640)\n",
            "\n",
            "0: 320x640 1 Child, 1 Therapist, 14.7ms\n",
            "Speed: 2.3ms preprocess, 14.7ms inference, 1.6ms postprocess per image at shape (1, 3, 320, 640)\n",
            "\n",
            "0: 320x640 1 Child, 1 Therapist, 13.5ms\n",
            "Speed: 2.3ms preprocess, 13.5ms inference, 1.6ms postprocess per image at shape (1, 3, 320, 640)\n",
            "\n",
            "0: 320x640 1 Child, 1 Therapist, 11.4ms\n",
            "Speed: 2.2ms preprocess, 11.4ms inference, 1.6ms postprocess per image at shape (1, 3, 320, 640)\n",
            "\n",
            "0: 320x640 1 Child, 1 Therapist, 12.1ms\n",
            "Speed: 2.2ms preprocess, 12.1ms inference, 1.6ms postprocess per image at shape (1, 3, 320, 640)\n",
            "\n",
            "0: 320x640 1 Child, 1 Therapist, 12.1ms\n",
            "Speed: 2.5ms preprocess, 12.1ms inference, 1.7ms postprocess per image at shape (1, 3, 320, 640)\n",
            "\n",
            "0: 320x640 1 Child, 1 Therapist, 11.4ms\n",
            "Speed: 2.2ms preprocess, 11.4ms inference, 1.6ms postprocess per image at shape (1, 3, 320, 640)\n",
            "\n",
            "0: 320x640 1 Child, 1 Therapist, 11.9ms\n",
            "Speed: 2.2ms preprocess, 11.9ms inference, 1.6ms postprocess per image at shape (1, 3, 320, 640)\n",
            "\n",
            "0: 320x640 1 Child, 1 Therapist, 12.6ms\n",
            "Speed: 2.3ms preprocess, 12.6ms inference, 1.6ms postprocess per image at shape (1, 3, 320, 640)\n",
            "\n",
            "0: 320x640 1 Child, 1 Therapist, 11.6ms\n",
            "Speed: 2.2ms preprocess, 11.6ms inference, 3.6ms postprocess per image at shape (1, 3, 320, 640)\n",
            "\n",
            "0: 320x640 1 Child, 1 Therapist, 13.1ms\n",
            "Speed: 2.2ms preprocess, 13.1ms inference, 1.6ms postprocess per image at shape (1, 3, 320, 640)\n",
            "\n",
            "0: 320x640 1 Child, 1 Therapist, 10.3ms\n",
            "Speed: 4.7ms preprocess, 10.3ms inference, 1.5ms postprocess per image at shape (1, 3, 320, 640)\n",
            "\n",
            "0: 320x640 1 Child, 1 Therapist, 10.3ms\n",
            "Speed: 2.1ms preprocess, 10.3ms inference, 1.5ms postprocess per image at shape (1, 3, 320, 640)\n",
            "\n",
            "0: 320x640 1 Child, 1 Therapist, 11.1ms\n",
            "Speed: 2.1ms preprocess, 11.1ms inference, 1.6ms postprocess per image at shape (1, 3, 320, 640)\n",
            "\n",
            "0: 320x640 1 Child, 1 Therapist, 11.1ms\n",
            "Speed: 2.2ms preprocess, 11.1ms inference, 1.6ms postprocess per image at shape (1, 3, 320, 640)\n",
            "\n",
            "0: 320x640 1 Child, 1 Therapist, 11.6ms\n",
            "Speed: 2.3ms preprocess, 11.6ms inference, 1.5ms postprocess per image at shape (1, 3, 320, 640)\n",
            "\n",
            "0: 320x640 1 Child, 1 Therapist, 12.0ms\n",
            "Speed: 2.3ms preprocess, 12.0ms inference, 6.6ms postprocess per image at shape (1, 3, 320, 640)\n",
            "\n",
            "0: 320x640 1 Child, 1 Therapist, 16.8ms\n",
            "Speed: 2.3ms preprocess, 16.8ms inference, 1.8ms postprocess per image at shape (1, 3, 320, 640)\n",
            "\n",
            "0: 320x640 1 Child, 1 Therapist, 12.4ms\n",
            "Speed: 2.2ms preprocess, 12.4ms inference, 1.9ms postprocess per image at shape (1, 3, 320, 640)\n",
            "\n",
            "0: 320x640 1 Child, 1 Therapist, 12.5ms\n",
            "Speed: 2.7ms preprocess, 12.5ms inference, 1.7ms postprocess per image at shape (1, 3, 320, 640)\n",
            "\n",
            "0: 320x640 1 Child, 1 Therapist, 11.4ms\n",
            "Speed: 2.3ms preprocess, 11.4ms inference, 1.8ms postprocess per image at shape (1, 3, 320, 640)\n",
            "\n",
            "0: 320x640 1 Child, 1 Therapist, 11.7ms\n",
            "Speed: 2.3ms preprocess, 11.7ms inference, 1.8ms postprocess per image at shape (1, 3, 320, 640)\n",
            "\n",
            "0: 320x640 1 Child, 1 Therapist, 11.0ms\n",
            "Speed: 2.3ms preprocess, 11.0ms inference, 1.9ms postprocess per image at shape (1, 3, 320, 640)\n",
            "\n",
            "0: 320x640 1 Child, 1 Therapist, 12.2ms\n",
            "Speed: 4.4ms preprocess, 12.2ms inference, 1.7ms postprocess per image at shape (1, 3, 320, 640)\n",
            "\n",
            "0: 320x640 1 Child, 1 Therapist, 8.9ms\n",
            "Speed: 2.1ms preprocess, 8.9ms inference, 3.8ms postprocess per image at shape (1, 3, 320, 640)\n",
            "\n",
            "0: 320x640 1 Child, 1 Therapist, 13.0ms\n",
            "Speed: 2.1ms preprocess, 13.0ms inference, 1.6ms postprocess per image at shape (1, 3, 320, 640)\n",
            "\n",
            "0: 320x640 1 Child, 1 Therapist, 11.8ms\n",
            "Speed: 2.3ms preprocess, 11.8ms inference, 2.3ms postprocess per image at shape (1, 3, 320, 640)\n",
            "\n",
            "0: 320x640 1 Child, 1 Therapist, 13.2ms\n",
            "Speed: 2.3ms preprocess, 13.2ms inference, 1.7ms postprocess per image at shape (1, 3, 320, 640)\n",
            "\n",
            "0: 320x640 1 Child, 1 Therapist, 14.8ms\n",
            "Speed: 2.3ms preprocess, 14.8ms inference, 1.5ms postprocess per image at shape (1, 3, 320, 640)\n",
            "\n",
            "0: 320x640 1 Child, 1 Therapist, 11.3ms\n",
            "Speed: 2.2ms preprocess, 11.3ms inference, 1.6ms postprocess per image at shape (1, 3, 320, 640)\n",
            "\n",
            "0: 320x640 1 Child, 1 Therapist, 11.3ms\n",
            "Speed: 2.2ms preprocess, 11.3ms inference, 1.6ms postprocess per image at shape (1, 3, 320, 640)\n",
            "\n",
            "0: 320x640 1 Child, 1 Therapist, 9.4ms\n",
            "Speed: 2.2ms preprocess, 9.4ms inference, 1.7ms postprocess per image at shape (1, 3, 320, 640)\n",
            "\n",
            "0: 320x640 1 Child, 1 Therapist, 11.9ms\n",
            "Speed: 2.3ms preprocess, 11.9ms inference, 1.8ms postprocess per image at shape (1, 3, 320, 640)\n",
            "\n",
            "0: 320x640 1 Child, 1 Therapist, 11.0ms\n",
            "Speed: 2.8ms preprocess, 11.0ms inference, 1.6ms postprocess per image at shape (1, 3, 320, 640)\n",
            "\n",
            "0: 320x640 1 Child, 1 Therapist, 10.8ms\n",
            "Speed: 2.1ms preprocess, 10.8ms inference, 1.5ms postprocess per image at shape (1, 3, 320, 640)\n",
            "\n",
            "0: 320x640 1 Child, 1 Therapist, 9.5ms\n",
            "Speed: 2.3ms preprocess, 9.5ms inference, 1.5ms postprocess per image at shape (1, 3, 320, 640)\n",
            "\n",
            "0: 320x640 1 Child, 1 Therapist, 11.0ms\n",
            "Speed: 2.3ms preprocess, 11.0ms inference, 1.5ms postprocess per image at shape (1, 3, 320, 640)\n",
            "\n",
            "0: 320x640 1 Child, 1 Therapist, 9.3ms\n",
            "Speed: 2.1ms preprocess, 9.3ms inference, 1.4ms postprocess per image at shape (1, 3, 320, 640)\n",
            "\n",
            "0: 320x640 1 Child, 1 Therapist, 9.0ms\n",
            "Speed: 2.2ms preprocess, 9.0ms inference, 1.6ms postprocess per image at shape (1, 3, 320, 640)\n",
            "\n",
            "0: 320x640 1 Child, 1 Therapist, 9.1ms\n",
            "Speed: 2.2ms preprocess, 9.1ms inference, 1.5ms postprocess per image at shape (1, 3, 320, 640)\n",
            "\n",
            "0: 320x640 1 Child, 1 Therapist, 11.2ms\n",
            "Speed: 2.1ms preprocess, 11.2ms inference, 1.4ms postprocess per image at shape (1, 3, 320, 640)\n",
            "\n",
            "0: 320x640 1 Child, 1 Therapist, 9.6ms\n",
            "Speed: 2.2ms preprocess, 9.6ms inference, 1.5ms postprocess per image at shape (1, 3, 320, 640)\n",
            "\n",
            "0: 320x640 1 Child, 1 Therapist, 19.5ms\n",
            "Speed: 2.1ms preprocess, 19.5ms inference, 1.6ms postprocess per image at shape (1, 3, 320, 640)\n",
            "\n",
            "0: 320x640 1 Child, 1 Therapist, 9.4ms\n",
            "Speed: 2.1ms preprocess, 9.4ms inference, 1.8ms postprocess per image at shape (1, 3, 320, 640)\n",
            "\n",
            "0: 320x640 1 Child, 1 Therapist, 9.2ms\n",
            "Speed: 2.1ms preprocess, 9.2ms inference, 1.6ms postprocess per image at shape (1, 3, 320, 640)\n",
            "\n",
            "0: 320x640 1 Child, 1 Therapist, 8.4ms\n",
            "Speed: 2.2ms preprocess, 8.4ms inference, 1.8ms postprocess per image at shape (1, 3, 320, 640)\n",
            "\n",
            "0: 320x640 1 Child, 1 Therapist, 8.6ms\n",
            "Speed: 2.1ms preprocess, 8.6ms inference, 1.5ms postprocess per image at shape (1, 3, 320, 640)\n",
            "\n",
            "0: 320x640 1 Child, 1 Therapist, 9.9ms\n",
            "Speed: 2.2ms preprocess, 9.9ms inference, 1.6ms postprocess per image at shape (1, 3, 320, 640)\n",
            "\n",
            "0: 320x640 1 Child, 1 Therapist, 12.0ms\n",
            "Speed: 5.4ms preprocess, 12.0ms inference, 1.7ms postprocess per image at shape (1, 3, 320, 640)\n",
            "\n",
            "0: 320x640 1 Child, 1 Therapist, 12.1ms\n",
            "Speed: 2.4ms preprocess, 12.1ms inference, 1.8ms postprocess per image at shape (1, 3, 320, 640)\n",
            "\n",
            "0: 320x640 1 Child, 1 Therapist, 11.3ms\n",
            "Speed: 2.3ms preprocess, 11.3ms inference, 1.7ms postprocess per image at shape (1, 3, 320, 640)\n",
            "\n",
            "0: 320x640 1 Child, 1 Therapist, 13.7ms\n",
            "Speed: 2.3ms preprocess, 13.7ms inference, 2.2ms postprocess per image at shape (1, 3, 320, 640)\n",
            "\n",
            "0: 320x640 1 Child, 1 Therapist, 14.5ms\n",
            "Speed: 2.7ms preprocess, 14.5ms inference, 1.6ms postprocess per image at shape (1, 3, 320, 640)\n",
            "\n",
            "0: 320x640 1 Child, 1 Therapist, 11.8ms\n",
            "Speed: 2.4ms preprocess, 11.8ms inference, 1.7ms postprocess per image at shape (1, 3, 320, 640)\n",
            "\n",
            "0: 320x640 1 Child, 1 Therapist, 12.9ms\n",
            "Speed: 2.3ms preprocess, 12.9ms inference, 1.8ms postprocess per image at shape (1, 3, 320, 640)\n",
            "\n",
            "0: 320x640 1 Child, 1 Therapist, 10.9ms\n",
            "Speed: 4.3ms preprocess, 10.9ms inference, 1.7ms postprocess per image at shape (1, 3, 320, 640)\n",
            "\n",
            "0: 320x640 1 Child, 1 Therapist, 10.7ms\n",
            "Speed: 2.4ms preprocess, 10.7ms inference, 1.4ms postprocess per image at shape (1, 3, 320, 640)\n",
            "\n",
            "0: 320x640 1 Child, 1 Therapist, 8.8ms\n",
            "Speed: 2.2ms preprocess, 8.8ms inference, 1.5ms postprocess per image at shape (1, 3, 320, 640)\n",
            "\n",
            "0: 320x640 1 Child, 1 Therapist, 8.7ms\n",
            "Speed: 2.3ms preprocess, 8.7ms inference, 1.5ms postprocess per image at shape (1, 3, 320, 640)\n",
            "\n",
            "0: 320x640 1 Child, 1 Therapist, 9.6ms\n",
            "Speed: 2.2ms preprocess, 9.6ms inference, 1.5ms postprocess per image at shape (1, 3, 320, 640)\n",
            "\n",
            "0: 320x640 1 Child, 1 Therapist, 9.1ms\n",
            "Speed: 2.2ms preprocess, 9.1ms inference, 1.5ms postprocess per image at shape (1, 3, 320, 640)\n",
            "\n",
            "0: 320x640 1 Child, 1 Therapist, 10.9ms\n",
            "Speed: 2.1ms preprocess, 10.9ms inference, 1.5ms postprocess per image at shape (1, 3, 320, 640)\n",
            "\n",
            "0: 320x640 1 Child, 1 Therapist, 10.9ms\n",
            "Speed: 2.2ms preprocess, 10.9ms inference, 1.5ms postprocess per image at shape (1, 3, 320, 640)\n",
            "\n",
            "0: 320x640 1 Child, 1 Therapist, 11.3ms\n",
            "Speed: 2.2ms preprocess, 11.3ms inference, 1.8ms postprocess per image at shape (1, 3, 320, 640)\n",
            "\n",
            "0: 320x640 1 Child, 1 Therapist, 13.3ms\n",
            "Speed: 2.1ms preprocess, 13.3ms inference, 1.4ms postprocess per image at shape (1, 3, 320, 640)\n",
            "\n",
            "0: 320x640 1 Child, 1 Therapist, 12.5ms\n",
            "Speed: 2.5ms preprocess, 12.5ms inference, 1.6ms postprocess per image at shape (1, 3, 320, 640)\n",
            "\n",
            "0: 320x640 1 Child, 1 Therapist, 11.5ms\n",
            "Speed: 2.3ms preprocess, 11.5ms inference, 1.7ms postprocess per image at shape (1, 3, 320, 640)\n",
            "\n",
            "0: 320x640 1 Child, 1 Therapist, 10.4ms\n",
            "Speed: 2.2ms preprocess, 10.4ms inference, 1.5ms postprocess per image at shape (1, 3, 320, 640)\n",
            "\n",
            "0: 320x640 1 Child, 1 Therapist, 13.0ms\n",
            "Speed: 2.2ms preprocess, 13.0ms inference, 2.1ms postprocess per image at shape (1, 3, 320, 640)\n",
            "\n",
            "0: 320x640 1 Child, 1 Therapist, 12.8ms\n",
            "Speed: 2.3ms preprocess, 12.8ms inference, 1.5ms postprocess per image at shape (1, 3, 320, 640)\n",
            "\n",
            "0: 320x640 1 Child, 1 Therapist, 9.9ms\n",
            "Speed: 2.3ms preprocess, 9.9ms inference, 1.5ms postprocess per image at shape (1, 3, 320, 640)\n",
            "\n",
            "0: 320x640 1 Child, 1 Therapist, 8.8ms\n",
            "Speed: 2.4ms preprocess, 8.8ms inference, 1.6ms postprocess per image at shape (1, 3, 320, 640)\n",
            "\n",
            "0: 320x640 1 Child, 1 Therapist, 14.2ms\n",
            "Speed: 2.3ms preprocess, 14.2ms inference, 1.5ms postprocess per image at shape (1, 3, 320, 640)\n",
            "\n",
            "0: 320x640 1 Child, 1 Therapist, 9.1ms\n",
            "Speed: 2.3ms preprocess, 9.1ms inference, 1.6ms postprocess per image at shape (1, 3, 320, 640)\n",
            "\n",
            "0: 320x640 1 Child, 1 Therapist, 9.2ms\n",
            "Speed: 2.1ms preprocess, 9.2ms inference, 1.6ms postprocess per image at shape (1, 3, 320, 640)\n",
            "\n",
            "0: 320x640 1 Child, 1 Therapist, 9.0ms\n",
            "Speed: 2.4ms preprocess, 9.0ms inference, 1.7ms postprocess per image at shape (1, 3, 320, 640)\n",
            "\n",
            "0: 320x640 1 Child, 1 Therapist, 9.6ms\n",
            "Speed: 2.2ms preprocess, 9.6ms inference, 1.7ms postprocess per image at shape (1, 3, 320, 640)\n",
            "\n",
            "0: 320x640 1 Child, 1 Therapist, 9.4ms\n",
            "Speed: 2.3ms preprocess, 9.4ms inference, 1.6ms postprocess per image at shape (1, 3, 320, 640)\n",
            "\n",
            "0: 320x640 1 Child, 1 Therapist, 10.0ms\n",
            "Speed: 2.4ms preprocess, 10.0ms inference, 1.6ms postprocess per image at shape (1, 3, 320, 640)\n",
            "\n",
            "0: 320x640 1 Child, 1 Therapist, 10.9ms\n",
            "Speed: 2.2ms preprocess, 10.9ms inference, 1.4ms postprocess per image at shape (1, 3, 320, 640)\n",
            "\n",
            "0: 320x640 1 Child, 1 Therapist, 13.5ms\n",
            "Speed: 3.2ms preprocess, 13.5ms inference, 4.6ms postprocess per image at shape (1, 3, 320, 640)\n",
            "\n",
            "0: 320x640 1 Child, 1 Therapist, 9.8ms\n",
            "Speed: 2.1ms preprocess, 9.8ms inference, 1.8ms postprocess per image at shape (1, 3, 320, 640)\n",
            "\n",
            "0: 320x640 1 Child, 1 Therapist, 10.7ms\n",
            "Speed: 2.3ms preprocess, 10.7ms inference, 4.7ms postprocess per image at shape (1, 3, 320, 640)\n",
            "\n",
            "0: 320x640 1 Child, 1 Therapist, 14.3ms\n",
            "Speed: 2.2ms preprocess, 14.3ms inference, 1.6ms postprocess per image at shape (1, 3, 320, 640)\n",
            "\n",
            "0: 320x640 1 Child, 1 Therapist, 14.6ms\n",
            "Speed: 3.4ms preprocess, 14.6ms inference, 3.8ms postprocess per image at shape (1, 3, 320, 640)\n",
            "\n",
            "0: 320x640 1 Child, 1 Therapist, 14.3ms\n",
            "Speed: 4.9ms preprocess, 14.3ms inference, 1.6ms postprocess per image at shape (1, 3, 320, 640)\n",
            "\n",
            "0: 320x640 1 Child, 1 Therapist, 13.9ms\n",
            "Speed: 3.9ms preprocess, 13.9ms inference, 3.8ms postprocess per image at shape (1, 3, 320, 640)\n",
            "\n",
            "0: 320x640 1 Child, 1 Therapist, 19.4ms\n",
            "Speed: 2.2ms preprocess, 19.4ms inference, 1.7ms postprocess per image at shape (1, 3, 320, 640)\n",
            "\n",
            "0: 320x640 1 Child, 1 Therapist, 19.9ms\n",
            "Speed: 3.9ms preprocess, 19.9ms inference, 4.7ms postprocess per image at shape (1, 3, 320, 640)\n",
            "\n",
            "0: 320x640 1 Child, 1 Therapist, 15.1ms\n",
            "Speed: 2.3ms preprocess, 15.1ms inference, 5.0ms postprocess per image at shape (1, 3, 320, 640)\n",
            "\n",
            "0: 320x640 1 Child, 1 Therapist, 9.5ms\n",
            "Speed: 2.3ms preprocess, 9.5ms inference, 1.6ms postprocess per image at shape (1, 3, 320, 640)\n",
            "\n",
            "0: 320x640 1 Child, 1 Therapist, 13.5ms\n",
            "Speed: 2.4ms preprocess, 13.5ms inference, 1.5ms postprocess per image at shape (1, 3, 320, 640)\n",
            "\n",
            "0: 320x640 1 Child, 1 Therapist, 11.0ms\n",
            "Speed: 2.1ms preprocess, 11.0ms inference, 1.5ms postprocess per image at shape (1, 3, 320, 640)\n",
            "\n",
            "0: 320x640 1 Child, 1 Therapist, 10.3ms\n",
            "Speed: 2.3ms preprocess, 10.3ms inference, 1.6ms postprocess per image at shape (1, 3, 320, 640)\n",
            "\n",
            "0: 320x640 1 Child, 1 Therapist, 9.5ms\n",
            "Speed: 2.2ms preprocess, 9.5ms inference, 1.5ms postprocess per image at shape (1, 3, 320, 640)\n",
            "\n",
            "0: 320x640 1 Child, 1 Therapist, 9.9ms\n",
            "Speed: 2.3ms preprocess, 9.9ms inference, 1.5ms postprocess per image at shape (1, 3, 320, 640)\n",
            "\n",
            "0: 320x640 1 Child, 1 Therapist, 9.3ms\n",
            "Speed: 2.2ms preprocess, 9.3ms inference, 1.6ms postprocess per image at shape (1, 3, 320, 640)\n",
            "\n",
            "0: 320x640 1 Child, 1 Therapist, 9.4ms\n",
            "Speed: 2.2ms preprocess, 9.4ms inference, 1.5ms postprocess per image at shape (1, 3, 320, 640)\n",
            "\n",
            "0: 320x640 (no detections), 8.8ms\n",
            "Speed: 2.2ms preprocess, 8.8ms inference, 0.6ms postprocess per image at shape (1, 3, 320, 640)\n",
            "\n",
            "0: 320x640 (no detections), 13.1ms\n",
            "Speed: 2.4ms preprocess, 13.1ms inference, 0.7ms postprocess per image at shape (1, 3, 320, 640)\n",
            "\n",
            "0: 320x640 (no detections), 10.7ms\n",
            "Speed: 5.4ms preprocess, 10.7ms inference, 0.6ms postprocess per image at shape (1, 3, 320, 640)\n",
            "\n",
            "0: 320x640 (no detections), 14.3ms\n",
            "Speed: 2.2ms preprocess, 14.3ms inference, 0.8ms postprocess per image at shape (1, 3, 320, 640)\n",
            "\n",
            "0: 320x640 (no detections), 10.8ms\n",
            "Speed: 2.3ms preprocess, 10.8ms inference, 0.6ms postprocess per image at shape (1, 3, 320, 640)\n",
            "\n",
            "0: 320x640 (no detections), 8.7ms\n",
            "Speed: 2.1ms preprocess, 8.7ms inference, 0.6ms postprocess per image at shape (1, 3, 320, 640)\n",
            "\n",
            "0: 320x640 (no detections), 9.0ms\n",
            "Speed: 2.1ms preprocess, 9.0ms inference, 0.6ms postprocess per image at shape (1, 3, 320, 640)\n",
            "\n",
            "0: 320x640 (no detections), 9.4ms\n",
            "Speed: 2.3ms preprocess, 9.4ms inference, 0.7ms postprocess per image at shape (1, 3, 320, 640)\n",
            "\n",
            "0: 320x640 (no detections), 8.3ms\n",
            "Speed: 2.3ms preprocess, 8.3ms inference, 0.7ms postprocess per image at shape (1, 3, 320, 640)\n",
            "\n",
            "0: 320x640 (no detections), 8.8ms\n",
            "Speed: 2.2ms preprocess, 8.8ms inference, 0.6ms postprocess per image at shape (1, 3, 320, 640)\n",
            "\n",
            "0: 320x640 (no detections), 8.8ms\n",
            "Speed: 2.2ms preprocess, 8.8ms inference, 0.6ms postprocess per image at shape (1, 3, 320, 640)\n",
            "\n",
            "0: 320x640 (no detections), 9.0ms\n",
            "Speed: 2.3ms preprocess, 9.0ms inference, 0.7ms postprocess per image at shape (1, 3, 320, 640)\n",
            "\n",
            "0: 320x640 (no detections), 10.5ms\n",
            "Speed: 2.2ms preprocess, 10.5ms inference, 0.7ms postprocess per image at shape (1, 3, 320, 640)\n",
            "\n",
            "0: 320x640 (no detections), 10.8ms\n",
            "Speed: 2.3ms preprocess, 10.8ms inference, 0.7ms postprocess per image at shape (1, 3, 320, 640)\n",
            "\n",
            "0: 320x640 (no detections), 14.7ms\n",
            "Speed: 7.3ms preprocess, 14.7ms inference, 0.8ms postprocess per image at shape (1, 3, 320, 640)\n",
            "\n",
            "0: 320x640 (no detections), 12.9ms\n",
            "Speed: 2.4ms preprocess, 12.9ms inference, 0.7ms postprocess per image at shape (1, 3, 320, 640)\n",
            "\n",
            "0: 320x640 (no detections), 10.1ms\n",
            "Speed: 2.7ms preprocess, 10.1ms inference, 0.7ms postprocess per image at shape (1, 3, 320, 640)\n",
            "\n",
            "0: 320x640 (no detections), 11.1ms\n",
            "Speed: 2.3ms preprocess, 11.1ms inference, 0.6ms postprocess per image at shape (1, 3, 320, 640)\n",
            "\n",
            "0: 320x640 (no detections), 17.8ms\n",
            "Speed: 2.1ms preprocess, 17.8ms inference, 0.6ms postprocess per image at shape (1, 3, 320, 640)\n",
            "\n",
            "0: 320x640 (no detections), 12.9ms\n",
            "Speed: 2.3ms preprocess, 12.9ms inference, 0.6ms postprocess per image at shape (1, 3, 320, 640)\n",
            "\n",
            "0: 320x640 (no detections), 11.8ms\n",
            "Speed: 3.4ms preprocess, 11.8ms inference, 0.7ms postprocess per image at shape (1, 3, 320, 640)\n",
            "\n",
            "0: 320x640 (no detections), 12.6ms\n",
            "Speed: 2.6ms preprocess, 12.6ms inference, 1.3ms postprocess per image at shape (1, 3, 320, 640)\n",
            "\n",
            "0: 320x640 (no detections), 10.9ms\n",
            "Speed: 3.0ms preprocess, 10.9ms inference, 0.7ms postprocess per image at shape (1, 3, 320, 640)\n",
            "\n",
            "0: 320x640 (no detections), 15.7ms\n",
            "Speed: 3.6ms preprocess, 15.7ms inference, 0.8ms postprocess per image at shape (1, 3, 320, 640)\n",
            "\n",
            "0: 320x640 (no detections), 13.0ms\n",
            "Speed: 2.3ms preprocess, 13.0ms inference, 4.9ms postprocess per image at shape (1, 3, 320, 640)\n",
            "\n",
            "0: 320x640 (no detections), 18.2ms\n",
            "Speed: 2.3ms preprocess, 18.2ms inference, 0.7ms postprocess per image at shape (1, 3, 320, 640)\n",
            "\n",
            "0: 320x640 (no detections), 12.6ms\n",
            "Speed: 5.2ms preprocess, 12.6ms inference, 2.8ms postprocess per image at shape (1, 3, 320, 640)\n",
            "\n",
            "0: 320x640 (no detections), 14.9ms\n",
            "Speed: 3.3ms preprocess, 14.9ms inference, 0.7ms postprocess per image at shape (1, 3, 320, 640)\n",
            "\n",
            "0: 320x640 (no detections), 18.9ms\n",
            "Speed: 4.2ms preprocess, 18.9ms inference, 2.8ms postprocess per image at shape (1, 3, 320, 640)\n",
            "\n",
            "0: 320x640 (no detections), 13.7ms\n",
            "Speed: 2.2ms preprocess, 13.7ms inference, 0.6ms postprocess per image at shape (1, 3, 320, 640)\n",
            "\n",
            "0: 320x640 (no detections), 11.5ms\n",
            "Speed: 2.2ms preprocess, 11.5ms inference, 0.7ms postprocess per image at shape (1, 3, 320, 640)\n",
            "\n",
            "0: 320x640 (no detections), 12.2ms\n",
            "Speed: 2.3ms preprocess, 12.2ms inference, 0.8ms postprocess per image at shape (1, 3, 320, 640)\n",
            "\n",
            "0: 320x640 (no detections), 9.4ms\n",
            "Speed: 4.5ms preprocess, 9.4ms inference, 0.7ms postprocess per image at shape (1, 3, 320, 640)\n",
            "\n",
            "0: 320x640 (no detections), 11.8ms\n",
            "Speed: 2.2ms preprocess, 11.8ms inference, 0.7ms postprocess per image at shape (1, 3, 320, 640)\n",
            "\n",
            "0: 320x640 (no detections), 11.3ms\n",
            "Speed: 2.2ms preprocess, 11.3ms inference, 0.7ms postprocess per image at shape (1, 3, 320, 640)\n",
            "\n",
            "0: 320x640 (no detections), 13.1ms\n",
            "Speed: 2.2ms preprocess, 13.1ms inference, 0.8ms postprocess per image at shape (1, 3, 320, 640)\n",
            "\n",
            "0: 320x640 (no detections), 12.2ms\n",
            "Speed: 2.4ms preprocess, 12.2ms inference, 0.7ms postprocess per image at shape (1, 3, 320, 640)\n",
            "\n",
            "0: 320x640 (no detections), 9.5ms\n",
            "Speed: 2.3ms preprocess, 9.5ms inference, 0.8ms postprocess per image at shape (1, 3, 320, 640)\n",
            "\n",
            "0: 320x640 (no detections), 11.1ms\n",
            "Speed: 2.4ms preprocess, 11.1ms inference, 0.7ms postprocess per image at shape (1, 3, 320, 640)\n",
            "\n",
            "0: 320x640 (no detections), 9.7ms\n",
            "Speed: 4.3ms preprocess, 9.7ms inference, 0.7ms postprocess per image at shape (1, 3, 320, 640)\n",
            "\n",
            "0: 320x640 (no detections), 11.5ms\n",
            "Speed: 2.2ms preprocess, 11.5ms inference, 0.6ms postprocess per image at shape (1, 3, 320, 640)\n",
            "\n",
            "0: 320x640 (no detections), 11.5ms\n",
            "Speed: 2.3ms preprocess, 11.5ms inference, 0.6ms postprocess per image at shape (1, 3, 320, 640)\n",
            "\n",
            "0: 320x640 (no detections), 8.7ms\n",
            "Speed: 2.2ms preprocess, 8.7ms inference, 0.6ms postprocess per image at shape (1, 3, 320, 640)\n",
            "\n",
            "0: 320x640 (no detections), 10.6ms\n",
            "Speed: 2.3ms preprocess, 10.6ms inference, 0.7ms postprocess per image at shape (1, 3, 320, 640)\n",
            "\n",
            "0: 320x640 (no detections), 13.3ms\n",
            "Speed: 2.1ms preprocess, 13.3ms inference, 1.4ms postprocess per image at shape (1, 3, 320, 640)\n",
            "\n",
            "0: 320x640 (no detections), 11.1ms\n",
            "Speed: 2.3ms preprocess, 11.1ms inference, 0.8ms postprocess per image at shape (1, 3, 320, 640)\n",
            "\n",
            "0: 320x640 (no detections), 13.5ms\n",
            "Speed: 3.3ms preprocess, 13.5ms inference, 0.8ms postprocess per image at shape (1, 3, 320, 640)\n",
            "\n",
            "0: 320x640 (no detections), 20.5ms\n",
            "Speed: 3.3ms preprocess, 20.5ms inference, 0.7ms postprocess per image at shape (1, 3, 320, 640)\n",
            "\n",
            "0: 320x640 (no detections), 14.5ms\n",
            "Speed: 4.4ms preprocess, 14.5ms inference, 0.7ms postprocess per image at shape (1, 3, 320, 640)\n",
            "\n",
            "0: 320x640 (no detections), 11.2ms\n",
            "Speed: 3.3ms preprocess, 11.2ms inference, 0.6ms postprocess per image at shape (1, 3, 320, 640)\n",
            "\n",
            "0: 320x640 (no detections), 17.5ms\n",
            "Speed: 2.3ms preprocess, 17.5ms inference, 0.7ms postprocess per image at shape (1, 3, 320, 640)\n",
            "\n",
            "0: 320x640 (no detections), 14.3ms\n",
            "Speed: 2.2ms preprocess, 14.3ms inference, 0.8ms postprocess per image at shape (1, 3, 320, 640)\n",
            "\n",
            "0: 320x640 (no detections), 9.2ms\n",
            "Speed: 2.3ms preprocess, 9.2ms inference, 4.7ms postprocess per image at shape (1, 3, 320, 640)\n",
            "\n",
            "0: 320x640 (no detections), 13.3ms\n",
            "Speed: 2.3ms preprocess, 13.3ms inference, 0.8ms postprocess per image at shape (1, 3, 320, 640)\n",
            "\n",
            "0: 320x640 (no detections), 14.9ms\n",
            "Speed: 2.3ms preprocess, 14.9ms inference, 0.8ms postprocess per image at shape (1, 3, 320, 640)\n",
            "\n",
            "0: 320x640 (no detections), 13.2ms\n",
            "Speed: 2.4ms preprocess, 13.2ms inference, 0.8ms postprocess per image at shape (1, 3, 320, 640)\n",
            "\n",
            "0: 320x640 (no detections), 12.1ms\n",
            "Speed: 2.2ms preprocess, 12.1ms inference, 0.6ms postprocess per image at shape (1, 3, 320, 640)\n",
            "\n",
            "0: 320x640 (no detections), 13.9ms\n",
            "Speed: 2.2ms preprocess, 13.9ms inference, 0.6ms postprocess per image at shape (1, 3, 320, 640)\n",
            "\n",
            "0: 320x640 (no detections), 12.9ms\n",
            "Speed: 2.3ms preprocess, 12.9ms inference, 0.7ms postprocess per image at shape (1, 3, 320, 640)\n",
            "\n",
            "0: 320x640 (no detections), 12.9ms\n",
            "Speed: 2.2ms preprocess, 12.9ms inference, 1.2ms postprocess per image at shape (1, 3, 320, 640)\n",
            "\n",
            "0: 320x640 (no detections), 11.7ms\n",
            "Speed: 2.2ms preprocess, 11.7ms inference, 0.6ms postprocess per image at shape (1, 3, 320, 640)\n",
            "\n",
            "0: 320x640 (no detections), 13.6ms\n",
            "Speed: 2.2ms preprocess, 13.6ms inference, 3.4ms postprocess per image at shape (1, 3, 320, 640)\n",
            "\n",
            "0: 320x640 (no detections), 11.0ms\n",
            "Speed: 2.2ms preprocess, 11.0ms inference, 0.6ms postprocess per image at shape (1, 3, 320, 640)\n",
            "\n",
            "0: 320x640 (no detections), 13.2ms\n",
            "Speed: 2.3ms preprocess, 13.2ms inference, 0.7ms postprocess per image at shape (1, 3, 320, 640)\n",
            "\n",
            "0: 320x640 (no detections), 13.1ms\n",
            "Speed: 2.3ms preprocess, 13.1ms inference, 0.6ms postprocess per image at shape (1, 3, 320, 640)\n",
            "\n",
            "0: 320x640 (no detections), 11.8ms\n",
            "Speed: 4.6ms preprocess, 11.8ms inference, 0.7ms postprocess per image at shape (1, 3, 320, 640)\n",
            "\n",
            "0: 320x640 (no detections), 12.5ms\n",
            "Speed: 2.1ms preprocess, 12.5ms inference, 0.7ms postprocess per image at shape (1, 3, 320, 640)\n",
            "\n",
            "0: 320x640 (no detections), 14.1ms\n",
            "Speed: 2.4ms preprocess, 14.1ms inference, 0.7ms postprocess per image at shape (1, 3, 320, 640)\n",
            "\n",
            "0: 320x640 (no detections), 11.8ms\n",
            "Speed: 2.4ms preprocess, 11.8ms inference, 0.8ms postprocess per image at shape (1, 3, 320, 640)\n",
            "\n",
            "0: 320x640 (no detections), 15.5ms\n",
            "Speed: 2.5ms preprocess, 15.5ms inference, 1.7ms postprocess per image at shape (1, 3, 320, 640)\n",
            "\n",
            "0: 320x640 (no detections), 15.0ms\n",
            "Speed: 2.5ms preprocess, 15.0ms inference, 0.8ms postprocess per image at shape (1, 3, 320, 640)\n",
            "\n",
            "0: 320x640 (no detections), 10.6ms\n",
            "Speed: 2.6ms preprocess, 10.6ms inference, 0.7ms postprocess per image at shape (1, 3, 320, 640)\n",
            "\n",
            "0: 320x640 (no detections), 13.1ms\n",
            "Speed: 5.9ms preprocess, 13.1ms inference, 0.8ms postprocess per image at shape (1, 3, 320, 640)\n",
            "\n",
            "0: 320x640 (no detections), 16.2ms\n",
            "Speed: 2.6ms preprocess, 16.2ms inference, 0.8ms postprocess per image at shape (1, 3, 320, 640)\n",
            "\n",
            "0: 320x640 (no detections), 12.5ms\n",
            "Speed: 3.1ms preprocess, 12.5ms inference, 1.7ms postprocess per image at shape (1, 3, 320, 640)\n",
            "\n",
            "0: 320x640 (no detections), 10.6ms\n",
            "Speed: 2.9ms preprocess, 10.6ms inference, 0.6ms postprocess per image at shape (1, 3, 320, 640)\n",
            "\n",
            "0: 320x640 (no detections), 11.9ms\n",
            "Speed: 2.4ms preprocess, 11.9ms inference, 0.8ms postprocess per image at shape (1, 3, 320, 640)\n",
            "\n",
            "0: 320x640 (no detections), 14.7ms\n",
            "Speed: 2.4ms preprocess, 14.7ms inference, 0.7ms postprocess per image at shape (1, 3, 320, 640)\n",
            "\n",
            "0: 320x640 (no detections), 21.8ms\n",
            "Speed: 2.3ms preprocess, 21.8ms inference, 1.1ms postprocess per image at shape (1, 3, 320, 640)\n",
            "\n",
            "0: 320x640 (no detections), 19.4ms\n",
            "Speed: 2.4ms preprocess, 19.4ms inference, 0.7ms postprocess per image at shape (1, 3, 320, 640)\n",
            "\n",
            "0: 320x640 (no detections), 19.5ms\n",
            "Speed: 3.6ms preprocess, 19.5ms inference, 0.8ms postprocess per image at shape (1, 3, 320, 640)\n",
            "\n",
            "0: 320x640 (no detections), 19.7ms\n",
            "Speed: 3.0ms preprocess, 19.7ms inference, 0.8ms postprocess per image at shape (1, 3, 320, 640)\n",
            "\n",
            "0: 320x640 (no detections), 16.4ms\n",
            "Speed: 8.3ms preprocess, 16.4ms inference, 0.8ms postprocess per image at shape (1, 3, 320, 640)\n",
            "\n",
            "0: 320x640 (no detections), 19.0ms\n",
            "Speed: 5.5ms preprocess, 19.0ms inference, 0.8ms postprocess per image at shape (1, 3, 320, 640)\n",
            "\n",
            "0: 320x640 (no detections), 18.3ms\n",
            "Speed: 2.5ms preprocess, 18.3ms inference, 0.7ms postprocess per image at shape (1, 3, 320, 640)\n",
            "\n",
            "0: 320x640 (no detections), 13.6ms\n",
            "Speed: 2.4ms preprocess, 13.6ms inference, 4.3ms postprocess per image at shape (1, 3, 320, 640)\n",
            "\n",
            "0: 320x640 (no detections), 11.8ms\n",
            "Speed: 2.4ms preprocess, 11.8ms inference, 0.7ms postprocess per image at shape (1, 3, 320, 640)\n",
            "\n",
            "0: 320x640 (no detections), 10.6ms\n",
            "Speed: 2.4ms preprocess, 10.6ms inference, 0.7ms postprocess per image at shape (1, 3, 320, 640)\n",
            "\n",
            "0: 320x640 (no detections), 13.9ms\n",
            "Speed: 2.3ms preprocess, 13.9ms inference, 0.9ms postprocess per image at shape (1, 3, 320, 640)\n",
            "\n",
            "0: 320x640 (no detections), 14.4ms\n",
            "Speed: 2.4ms preprocess, 14.4ms inference, 0.8ms postprocess per image at shape (1, 3, 320, 640)\n",
            "\n",
            "0: 320x640 (no detections), 13.3ms\n",
            "Speed: 3.0ms preprocess, 13.3ms inference, 0.7ms postprocess per image at shape (1, 3, 320, 640)\n",
            "\n",
            "0: 320x640 (no detections), 12.3ms\n",
            "Speed: 3.2ms preprocess, 12.3ms inference, 0.6ms postprocess per image at shape (1, 3, 320, 640)\n",
            "\n",
            "0: 320x640 (no detections), 15.0ms\n",
            "Speed: 2.3ms preprocess, 15.0ms inference, 0.7ms postprocess per image at shape (1, 3, 320, 640)\n",
            "\n",
            "0: 320x640 (no detections), 12.8ms\n",
            "Speed: 6.9ms preprocess, 12.8ms inference, 0.8ms postprocess per image at shape (1, 3, 320, 640)\n",
            "\n",
            "0: 320x640 (no detections), 13.0ms\n",
            "Speed: 6.3ms preprocess, 13.0ms inference, 0.7ms postprocess per image at shape (1, 3, 320, 640)\n",
            "\n",
            "0: 320x640 (no detections), 13.4ms\n",
            "Speed: 2.1ms preprocess, 13.4ms inference, 0.7ms postprocess per image at shape (1, 3, 320, 640)\n",
            "\n",
            "0: 320x640 (no detections), 12.5ms\n",
            "Speed: 2.3ms preprocess, 12.5ms inference, 0.7ms postprocess per image at shape (1, 3, 320, 640)\n",
            "\n",
            "0: 320x640 (no detections), 11.5ms\n",
            "Speed: 4.5ms preprocess, 11.5ms inference, 1.0ms postprocess per image at shape (1, 3, 320, 640)\n",
            "\n",
            "0: 320x640 (no detections), 10.9ms\n",
            "Speed: 2.5ms preprocess, 10.9ms inference, 0.6ms postprocess per image at shape (1, 3, 320, 640)\n",
            "\n",
            "0: 320x640 (no detections), 12.9ms\n",
            "Speed: 2.2ms preprocess, 12.9ms inference, 0.8ms postprocess per image at shape (1, 3, 320, 640)\n",
            "\n",
            "0: 320x640 (no detections), 10.6ms\n",
            "Speed: 2.4ms preprocess, 10.6ms inference, 1.3ms postprocess per image at shape (1, 3, 320, 640)\n",
            "\n",
            "0: 320x640 (no detections), 15.5ms\n",
            "Speed: 7.2ms preprocess, 15.5ms inference, 0.8ms postprocess per image at shape (1, 3, 320, 640)\n",
            "\n",
            "0: 320x640 (no detections), 11.5ms\n",
            "Speed: 2.4ms preprocess, 11.5ms inference, 0.8ms postprocess per image at shape (1, 3, 320, 640)\n",
            "\n",
            "0: 320x640 (no detections), 11.8ms\n",
            "Speed: 2.6ms preprocess, 11.8ms inference, 0.8ms postprocess per image at shape (1, 3, 320, 640)\n",
            "\n",
            "0: 320x640 (no detections), 14.7ms\n",
            "Speed: 2.3ms preprocess, 14.7ms inference, 0.8ms postprocess per image at shape (1, 3, 320, 640)\n",
            "\n",
            "0: 320x640 (no detections), 9.6ms\n",
            "Speed: 2.4ms preprocess, 9.6ms inference, 0.8ms postprocess per image at shape (1, 3, 320, 640)\n",
            "\n",
            "0: 320x640 (no detections), 10.6ms\n",
            "Speed: 2.5ms preprocess, 10.6ms inference, 0.8ms postprocess per image at shape (1, 3, 320, 640)\n",
            "\n",
            "0: 320x640 (no detections), 11.1ms\n",
            "Speed: 4.1ms preprocess, 11.1ms inference, 0.8ms postprocess per image at shape (1, 3, 320, 640)\n",
            "\n",
            "0: 320x640 (no detections), 9.1ms\n",
            "Speed: 2.8ms preprocess, 9.1ms inference, 0.7ms postprocess per image at shape (1, 3, 320, 640)\n",
            "\n",
            "0: 320x640 (no detections), 18.9ms\n",
            "Speed: 2.3ms preprocess, 18.9ms inference, 0.9ms postprocess per image at shape (1, 3, 320, 640)\n",
            "\n",
            "0: 320x640 (no detections), 9.8ms\n",
            "Speed: 2.4ms preprocess, 9.8ms inference, 0.8ms postprocess per image at shape (1, 3, 320, 640)\n",
            "\n",
            "0: 320x640 (no detections), 12.1ms\n",
            "Speed: 2.4ms preprocess, 12.1ms inference, 0.8ms postprocess per image at shape (1, 3, 320, 640)\n",
            "\n",
            "0: 320x640 (no detections), 11.7ms\n",
            "Speed: 2.5ms preprocess, 11.7ms inference, 0.9ms postprocess per image at shape (1, 3, 320, 640)\n",
            "\n",
            "0: 320x640 (no detections), 11.6ms\n",
            "Speed: 2.5ms preprocess, 11.6ms inference, 0.9ms postprocess per image at shape (1, 3, 320, 640)\n",
            "\n",
            "0: 320x640 (no detections), 18.9ms\n",
            "Speed: 4.5ms preprocess, 18.9ms inference, 0.7ms postprocess per image at shape (1, 3, 320, 640)\n",
            "\n",
            "0: 320x640 (no detections), 16.0ms\n",
            "Speed: 3.8ms preprocess, 16.0ms inference, 3.5ms postprocess per image at shape (1, 3, 320, 640)\n",
            "\n",
            "0: 320x640 (no detections), 9.1ms\n",
            "Speed: 2.4ms preprocess, 9.1ms inference, 0.8ms postprocess per image at shape (1, 3, 320, 640)\n",
            "\n",
            "0: 320x640 (no detections), 9.3ms\n",
            "Speed: 2.3ms preprocess, 9.3ms inference, 0.7ms postprocess per image at shape (1, 3, 320, 640)\n",
            "\n",
            "0: 320x640 (no detections), 9.1ms\n",
            "Speed: 2.3ms preprocess, 9.1ms inference, 0.6ms postprocess per image at shape (1, 3, 320, 640)\n",
            "\n",
            "0: 320x640 (no detections), 11.0ms\n",
            "Speed: 2.4ms preprocess, 11.0ms inference, 0.7ms postprocess per image at shape (1, 3, 320, 640)\n",
            "\n",
            "0: 320x640 (no detections), 8.4ms\n",
            "Speed: 2.3ms preprocess, 8.4ms inference, 0.7ms postprocess per image at shape (1, 3, 320, 640)\n",
            "\n",
            "0: 320x640 (no detections), 8.3ms\n",
            "Speed: 2.2ms preprocess, 8.3ms inference, 0.7ms postprocess per image at shape (1, 3, 320, 640)\n",
            "\n",
            "0: 320x640 (no detections), 8.4ms\n",
            "Speed: 2.2ms preprocess, 8.4ms inference, 0.8ms postprocess per image at shape (1, 3, 320, 640)\n",
            "\n",
            "0: 320x640 (no detections), 8.8ms\n",
            "Speed: 2.2ms preprocess, 8.8ms inference, 0.7ms postprocess per image at shape (1, 3, 320, 640)\n",
            "\n",
            "0: 320x640 (no detections), 8.7ms\n",
            "Speed: 2.4ms preprocess, 8.7ms inference, 0.7ms postprocess per image at shape (1, 3, 320, 640)\n",
            "\n",
            "0: 320x640 (no detections), 8.3ms\n",
            "Speed: 2.2ms preprocess, 8.3ms inference, 0.6ms postprocess per image at shape (1, 3, 320, 640)\n",
            "\n",
            "0: 320x640 (no detections), 8.4ms\n",
            "Speed: 2.2ms preprocess, 8.4ms inference, 0.6ms postprocess per image at shape (1, 3, 320, 640)\n",
            "\n",
            "0: 320x640 (no detections), 11.7ms\n",
            "Speed: 3.5ms preprocess, 11.7ms inference, 0.8ms postprocess per image at shape (1, 3, 320, 640)\n",
            "\n",
            "0: 320x640 (no detections), 10.7ms\n",
            "Speed: 2.3ms preprocess, 10.7ms inference, 0.7ms postprocess per image at shape (1, 3, 320, 640)\n",
            "\n",
            "0: 320x640 (no detections), 8.8ms\n",
            "Speed: 2.3ms preprocess, 8.8ms inference, 0.6ms postprocess per image at shape (1, 3, 320, 640)\n",
            "\n",
            "0: 320x640 (no detections), 8.9ms\n",
            "Speed: 2.2ms preprocess, 8.9ms inference, 0.6ms postprocess per image at shape (1, 3, 320, 640)\n",
            "\n",
            "0: 320x640 (no detections), 17.2ms\n",
            "Speed: 2.2ms preprocess, 17.2ms inference, 0.7ms postprocess per image at shape (1, 3, 320, 640)\n",
            "\n",
            "0: 320x640 (no detections), 8.2ms\n",
            "Speed: 2.4ms preprocess, 8.2ms inference, 0.8ms postprocess per image at shape (1, 3, 320, 640)\n",
            "\n",
            "0: 320x640 (no detections), 9.4ms\n",
            "Speed: 2.4ms preprocess, 9.4ms inference, 0.7ms postprocess per image at shape (1, 3, 320, 640)\n",
            "\n",
            "0: 320x640 (no detections), 9.5ms\n",
            "Speed: 2.9ms preprocess, 9.5ms inference, 0.6ms postprocess per image at shape (1, 3, 320, 640)\n",
            "\n",
            "0: 320x640 (no detections), 9.9ms\n",
            "Speed: 2.8ms preprocess, 9.9ms inference, 0.6ms postprocess per image at shape (1, 3, 320, 640)\n",
            "\n",
            "0: 320x640 (no detections), 8.2ms\n",
            "Speed: 2.8ms preprocess, 8.2ms inference, 0.6ms postprocess per image at shape (1, 3, 320, 640)\n",
            "\n",
            "0: 320x640 (no detections), 9.8ms\n",
            "Speed: 3.3ms preprocess, 9.8ms inference, 0.7ms postprocess per image at shape (1, 3, 320, 640)\n",
            "\n",
            "0: 320x640 (no detections), 16.3ms\n",
            "Speed: 2.6ms preprocess, 16.3ms inference, 0.7ms postprocess per image at shape (1, 3, 320, 640)\n",
            "\n",
            "0: 320x640 (no detections), 19.3ms\n",
            "Speed: 2.3ms preprocess, 19.3ms inference, 0.7ms postprocess per image at shape (1, 3, 320, 640)\n",
            "\n",
            "0: 320x640 (no detections), 10.9ms\n",
            "Speed: 2.3ms preprocess, 10.9ms inference, 0.9ms postprocess per image at shape (1, 3, 320, 640)\n",
            "\n",
            "0: 320x640 (no detections), 11.2ms\n",
            "Speed: 3.3ms preprocess, 11.2ms inference, 0.7ms postprocess per image at shape (1, 3, 320, 640)\n",
            "\n",
            "0: 320x640 (no detections), 13.2ms\n",
            "Speed: 2.3ms preprocess, 13.2ms inference, 4.1ms postprocess per image at shape (1, 3, 320, 640)\n",
            "\n",
            "0: 320x640 (no detections), 16.7ms\n",
            "Speed: 2.2ms preprocess, 16.7ms inference, 0.8ms postprocess per image at shape (1, 3, 320, 640)\n",
            "\n",
            "0: 320x640 (no detections), 12.0ms\n",
            "Speed: 2.2ms preprocess, 12.0ms inference, 0.7ms postprocess per image at shape (1, 3, 320, 640)\n",
            "\n",
            "0: 320x640 (no detections), 16.8ms\n",
            "Speed: 2.4ms preprocess, 16.8ms inference, 0.7ms postprocess per image at shape (1, 3, 320, 640)\n",
            "\n",
            "0: 320x640 (no detections), 13.1ms\n",
            "Speed: 2.0ms preprocess, 13.1ms inference, 1.5ms postprocess per image at shape (1, 3, 320, 640)\n",
            "\n",
            "0: 320x640 (no detections), 10.3ms\n",
            "Speed: 2.3ms preprocess, 10.3ms inference, 1.0ms postprocess per image at shape (1, 3, 320, 640)\n",
            "\n",
            "0: 320x640 (no detections), 10.7ms\n",
            "Speed: 2.4ms preprocess, 10.7ms inference, 0.8ms postprocess per image at shape (1, 3, 320, 640)\n",
            "\n",
            "0: 320x640 (no detections), 12.3ms\n",
            "Speed: 3.3ms preprocess, 12.3ms inference, 0.8ms postprocess per image at shape (1, 3, 320, 640)\n",
            "\n",
            "0: 320x640 (no detections), 11.8ms\n",
            "Speed: 3.4ms preprocess, 11.8ms inference, 0.6ms postprocess per image at shape (1, 3, 320, 640)\n",
            "\n",
            "0: 320x640 (no detections), 11.2ms\n",
            "Speed: 2.3ms preprocess, 11.2ms inference, 0.8ms postprocess per image at shape (1, 3, 320, 640)\n",
            "\n",
            "0: 320x640 (no detections), 10.6ms\n",
            "Speed: 3.5ms preprocess, 10.6ms inference, 0.7ms postprocess per image at shape (1, 3, 320, 640)\n",
            "\n",
            "0: 320x640 (no detections), 15.9ms\n",
            "Speed: 3.3ms preprocess, 15.9ms inference, 1.3ms postprocess per image at shape (1, 3, 320, 640)\n",
            "\n",
            "0: 320x640 (no detections), 8.9ms\n",
            "Speed: 3.5ms preprocess, 8.9ms inference, 0.7ms postprocess per image at shape (1, 3, 320, 640)\n",
            "\n",
            "0: 320x640 (no detections), 12.4ms\n",
            "Speed: 2.5ms preprocess, 12.4ms inference, 0.8ms postprocess per image at shape (1, 3, 320, 640)\n",
            "\n",
            "0: 320x640 (no detections), 10.0ms\n",
            "Speed: 3.0ms preprocess, 10.0ms inference, 0.7ms postprocess per image at shape (1, 3, 320, 640)\n",
            "\n",
            "0: 320x640 (no detections), 9.8ms\n",
            "Speed: 2.4ms preprocess, 9.8ms inference, 0.6ms postprocess per image at shape (1, 3, 320, 640)\n",
            "\n",
            "0: 320x640 (no detections), 9.2ms\n",
            "Speed: 2.2ms preprocess, 9.2ms inference, 0.7ms postprocess per image at shape (1, 3, 320, 640)\n",
            "\n",
            "0: 320x640 (no detections), 9.0ms\n",
            "Speed: 2.2ms preprocess, 9.0ms inference, 0.7ms postprocess per image at shape (1, 3, 320, 640)\n",
            "\n",
            "0: 320x640 (no detections), 11.7ms\n",
            "Speed: 2.1ms preprocess, 11.7ms inference, 0.6ms postprocess per image at shape (1, 3, 320, 640)\n",
            "\n",
            "0: 320x640 (no detections), 8.8ms\n",
            "Speed: 2.2ms preprocess, 8.8ms inference, 0.8ms postprocess per image at shape (1, 3, 320, 640)\n",
            "\n",
            "0: 320x640 (no detections), 9.4ms\n",
            "Speed: 2.3ms preprocess, 9.4ms inference, 0.6ms postprocess per image at shape (1, 3, 320, 640)\n",
            "\n",
            "0: 320x640 (no detections), 9.0ms\n",
            "Speed: 2.2ms preprocess, 9.0ms inference, 0.7ms postprocess per image at shape (1, 3, 320, 640)\n",
            "\n",
            "0: 320x640 (no detections), 8.1ms\n",
            "Speed: 2.2ms preprocess, 8.1ms inference, 0.6ms postprocess per image at shape (1, 3, 320, 640)\n",
            "\n",
            "0: 320x640 (no detections), 9.6ms\n",
            "Speed: 2.9ms preprocess, 9.6ms inference, 0.7ms postprocess per image at shape (1, 3, 320, 640)\n",
            "\n",
            "0: 320x640 (no detections), 10.8ms\n",
            "Speed: 2.3ms preprocess, 10.8ms inference, 0.6ms postprocess per image at shape (1, 3, 320, 640)\n",
            "\n",
            "0: 320x640 (no detections), 9.3ms\n",
            "Speed: 3.8ms preprocess, 9.3ms inference, 0.7ms postprocess per image at shape (1, 3, 320, 640)\n",
            "\n",
            "0: 320x640 (no detections), 9.3ms\n",
            "Speed: 2.1ms preprocess, 9.3ms inference, 0.7ms postprocess per image at shape (1, 3, 320, 640)\n",
            "\n",
            "0: 320x640 (no detections), 9.7ms\n",
            "Speed: 2.3ms preprocess, 9.7ms inference, 0.6ms postprocess per image at shape (1, 3, 320, 640)\n",
            "\n",
            "0: 320x640 (no detections), 9.9ms\n",
            "Speed: 2.6ms preprocess, 9.9ms inference, 0.7ms postprocess per image at shape (1, 3, 320, 640)\n",
            "\n",
            "0: 320x640 (no detections), 11.9ms\n",
            "Speed: 2.4ms preprocess, 11.9ms inference, 0.8ms postprocess per image at shape (1, 3, 320, 640)\n",
            "\n",
            "0: 320x640 (no detections), 11.7ms\n",
            "Speed: 2.5ms preprocess, 11.7ms inference, 0.8ms postprocess per image at shape (1, 3, 320, 640)\n",
            "\n",
            "0: 320x640 (no detections), 13.3ms\n",
            "Speed: 2.1ms preprocess, 13.3ms inference, 0.8ms postprocess per image at shape (1, 3, 320, 640)\n",
            "\n",
            "0: 320x640 (no detections), 12.8ms\n",
            "Speed: 2.2ms preprocess, 12.8ms inference, 0.9ms postprocess per image at shape (1, 3, 320, 640)\n",
            "\n",
            "0: 320x640 (no detections), 14.8ms\n",
            "Speed: 3.5ms preprocess, 14.8ms inference, 0.9ms postprocess per image at shape (1, 3, 320, 640)\n",
            "\n",
            "0: 320x640 (no detections), 12.0ms\n",
            "Speed: 2.4ms preprocess, 12.0ms inference, 0.8ms postprocess per image at shape (1, 3, 320, 640)\n",
            "\n",
            "0: 320x640 (no detections), 11.9ms\n",
            "Speed: 3.3ms preprocess, 11.9ms inference, 0.7ms postprocess per image at shape (1, 3, 320, 640)\n",
            "\n",
            "0: 320x640 (no detections), 11.3ms\n",
            "Speed: 3.3ms preprocess, 11.3ms inference, 0.7ms postprocess per image at shape (1, 3, 320, 640)\n",
            "\n",
            "0: 320x640 (no detections), 12.3ms\n",
            "Speed: 3.9ms preprocess, 12.3ms inference, 0.7ms postprocess per image at shape (1, 3, 320, 640)\n",
            "\n",
            "0: 320x640 (no detections), 14.3ms\n",
            "Speed: 4.5ms preprocess, 14.3ms inference, 0.9ms postprocess per image at shape (1, 3, 320, 640)\n",
            "\n",
            "0: 320x640 (no detections), 13.1ms\n",
            "Speed: 2.1ms preprocess, 13.1ms inference, 0.8ms postprocess per image at shape (1, 3, 320, 640)\n",
            "\n",
            "0: 320x640 (no detections), 11.8ms\n",
            "Speed: 4.3ms preprocess, 11.8ms inference, 1.0ms postprocess per image at shape (1, 3, 320, 640)\n",
            "\n",
            "0: 320x640 (no detections), 9.3ms\n",
            "Speed: 2.6ms preprocess, 9.3ms inference, 0.6ms postprocess per image at shape (1, 3, 320, 640)\n",
            "\n",
            "0: 320x640 (no detections), 12.5ms\n",
            "Speed: 2.6ms preprocess, 12.5ms inference, 0.6ms postprocess per image at shape (1, 3, 320, 640)\n",
            "\n",
            "0: 320x640 (no detections), 8.1ms\n",
            "Speed: 2.5ms preprocess, 8.1ms inference, 0.7ms postprocess per image at shape (1, 3, 320, 640)\n",
            "\n",
            "0: 320x640 (no detections), 8.8ms\n",
            "Speed: 2.4ms preprocess, 8.8ms inference, 0.7ms postprocess per image at shape (1, 3, 320, 640)\n",
            "\n",
            "0: 320x640 (no detections), 8.4ms\n",
            "Speed: 2.4ms preprocess, 8.4ms inference, 0.6ms postprocess per image at shape (1, 3, 320, 640)\n",
            "\n",
            "0: 320x640 (no detections), 9.5ms\n",
            "Speed: 2.8ms preprocess, 9.5ms inference, 0.7ms postprocess per image at shape (1, 3, 320, 640)\n",
            "\n",
            "0: 320x640 (no detections), 10.3ms\n",
            "Speed: 4.4ms preprocess, 10.3ms inference, 1.0ms postprocess per image at shape (1, 3, 320, 640)\n",
            "\n",
            "0: 320x640 (no detections), 8.7ms\n",
            "Speed: 2.3ms preprocess, 8.7ms inference, 0.6ms postprocess per image at shape (1, 3, 320, 640)\n",
            "\n",
            "0: 320x640 (no detections), 8.2ms\n",
            "Speed: 2.5ms preprocess, 8.2ms inference, 0.7ms postprocess per image at shape (1, 3, 320, 640)\n",
            "\n",
            "0: 320x640 (no detections), 8.4ms\n",
            "Speed: 2.5ms preprocess, 8.4ms inference, 0.6ms postprocess per image at shape (1, 3, 320, 640)\n",
            "\n",
            "0: 320x640 (no detections), 7.8ms\n",
            "Speed: 2.6ms preprocess, 7.8ms inference, 0.6ms postprocess per image at shape (1, 3, 320, 640)\n",
            "\n",
            "0: 320x640 (no detections), 9.0ms\n",
            "Speed: 2.5ms preprocess, 9.0ms inference, 0.6ms postprocess per image at shape (1, 3, 320, 640)\n",
            "\n",
            "0: 320x640 (no detections), 9.6ms\n",
            "Speed: 2.3ms preprocess, 9.6ms inference, 1.1ms postprocess per image at shape (1, 3, 320, 640)\n",
            "\n",
            "0: 320x640 (no detections), 9.0ms\n",
            "Speed: 2.3ms preprocess, 9.0ms inference, 0.7ms postprocess per image at shape (1, 3, 320, 640)\n"
          ]
        }
      ]
    },
    {
      "cell_type": "markdown",
      "source": [
        "Done!"
      ],
      "metadata": {
        "id": "HxuNoLL0WNNd"
      }
    }
  ]
}